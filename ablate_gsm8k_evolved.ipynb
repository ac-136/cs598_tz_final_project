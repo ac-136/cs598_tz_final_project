{
 "cells": [
  {
   "cell_type": "code",
   "execution_count": null,
   "metadata": {},
   "outputs": [
    {
     "name": "stdout",
     "output_type": "stream",
     "text": [
      "[{'problem': 'Madison Lamont sold 686 dresses to her friends in April at a car boot sale in Owyhee County, Idaho. In May, they sold 343 dresses. How many dresses did Madison Lamont sell altogether in April and May?', 'result': '1029.0', 'template_id': 0, 'problem_id': 521}, {'problem': 'Julian Brice earns $63 per hour for working at a hunting supplies store in San Miguel County, New Mexico. Yesterday, Julian Brice worked for 8 hours. How much did Julian Brice earn?', 'result': '504', 'template_id': 1, 'problem_id': 521}, {'problem': 'Doug Cuenca is saving money for a new lens filters which costs $54400. Doug Cuenca has only 50% of the money needed. Their parents decided to give them $1340 for that purpose, and their grandparents twice as much as their parents. How much more money does Doug Cuenca need to buy the lens filters?', 'result': '23180.0', 'template_id': 2, 'problem_id': 521}, {'problem': 'Zack Glen has a collection of 125 mixers at a hobbyist workshop store in Union County, South Carolina. Yesterday, Zack Glen arranged 7 mixers and today, they arranged twice as many mixers as yesterday. If Zack Glen wants to arrange half of the remaining mixers tomorrow, how many mixers should they arrange?', 'result': '52', 'template_id': 3, 'problem_id': 521}, {'problem': 'Malcolm Polo writes a 10-page letter to 3 different friends 4 times a week. How many pages does Malcolm Polo write a year?', 'result': '6240', 'template_id': 4, 'problem_id': 521}, {'problem': 'German Oshea has a collection of world maps at a_museum_gift_store in Putnam_County,_New_York. They have 50 of them in red, and there are 10% more of those in blue. There are only 80% as many green world maps as there are red and blue world maps. How many world maps does German Oshea have in total?', 'result': '189.0', 'template_id': 5, 'problem_id': 521}, {'problem': 'Chrissy Steward is wondering how much camping tents they can consume in one day. They buy 9 large camping tents and 4 small camping tents. A large camping tents has 12 pieces and a small camping tents has 6 pieces. If they consume it all, how many pieces of camping tents do they consume that day at an educational toys store in Trimble County, Kentucky?', 'result': '132', 'template_id': 6, 'problem_id': 521}, {'problem': \"Colby Wideman is preparing a gift box at a spa retail area in Wabash County, Indiana. They start by adding 61 pounds of shoes to the box. Then, they add enough handmade soaps to make the total weight 3 times the initial weight. Next, they add another 61 pounds of shoes. Finally, they add enough running shoes to double the box's weight. What is the final weight of the gift box in pounds?\", 'result': '488', 'template_id': 7, 'problem_id': 521}, {'problem': 'Kiran Medina went to a beachside kiosk with a budget of $969 and bought several items including graphic novels. They have $301 left from their budget. How much did Kiran Medina pay for the graphic novels?', 'result': '0', 'template_id': 8, 'problem_id': 521}, {'problem': 'Lauren Cason earns $36 per hour working at a hunting supplies store in Hendricks County, Indiana. If they work more than 8 hours per shift, they receive a bonus which is the hourly wage plus half the hourly wage. If they work 9 hours every day for 4 days, how much money do they make?', 'result': '1368.0', 'template_id': 9, 'problem_id': 521}]\n",
      "10\n",
      "{'problem': 'Madison Lamont sold 686 dresses to her friends in April at a car boot sale in Owyhee County, Idaho. In May, they sold 343 dresses. How many dresses did Madison Lamont sell altogether in April and May?', 'result': '1029.0', 'template_id': 0, 'problem_id': 521}\n",
      "0\n"
     ]
    }
   ],
   "source": [
    "import os\n",
    "import json\n",
    "\n",
    "gsm_evolved = []\n",
    "with open(\"gsm_evolved_10.jsonl\", \"r\") as f:\n",
    "    for line in f:\n",
    "        gsm_evolved.append(json.loads(line.strip()))"
   ]
  },
  {
   "cell_type": "code",
   "execution_count": 5,
   "metadata": {},
   "outputs": [],
   "source": [
    "import jsonlines\n",
    "\n",
    "first_names = []\n",
    "with jsonlines.open('./data/top_first_names.jsonl') as reader:\n",
    "    for line in reader:\n",
    "        first_names.append(line['first_name'])\n",
    "\n",
    "last_names = []\n",
    "with jsonlines.open('./data/top_last_names.jsonl') as reader:\n",
    "    for line in reader:\n",
    "        last_names.append(line['last_name'])"
   ]
  },
  {
   "cell_type": "code",
   "execution_count": 11,
   "metadata": {},
   "outputs": [],
   "source": [
    "import random\n",
    "import re\n",
    "import os\n",
    "random.seed(72)\n",
    "\n",
    "NUM_PROBLEMS = 100\n",
    "\n",
    "for i in range(len(gsm_evolved)):\n",
    "    curr_prob = gsm_evolved[i][\"problem\"]\n",
    "    name = \" \".join(curr_prob.split()[:2])\n",
    "\n",
    "    os.makedirs('./gsm_evolved_ablations', exist_ok=True)\n",
    "    with open(f'./gsm_evolved_ablations/q{i}_evolved--NUM{NUM_PROBLEMS}.jsonl', 'w') as f:\n",
    "        for j in range(NUM_PROBLEMS):\n",
    "            new_name = random.choice(first_names) + ' ' + random.choice(last_names)\n",
    "            ablated_prob = re.sub(rf\"\\b{re.escape(name)}\\b\", new_name, curr_prob)\n",
    "            # Write problem to file\n",
    "            f.write(json.dumps({\"problem\": ablated_prob, \"result\": gsm_evolved[i][\"result\"], \"template_id\": gsm_evolved[i][\"template_id\"], \"problem_id\": gsm_evolved[i][\"problem_id\"]}) + '\\n')\n"
   ]
  }
 ],
 "metadata": {
  "kernelspec": {
   "display_name": "venv",
   "language": "python",
   "name": "python3"
  },
  "language_info": {
   "codemirror_mode": {
    "name": "ipython",
    "version": 3
   },
   "file_extension": ".py",
   "mimetype": "text/x-python",
   "name": "python",
   "nbconvert_exporter": "python",
   "pygments_lexer": "ipython3",
   "version": "3.9.13"
  }
 },
 "nbformat": 4,
 "nbformat_minor": 2
}
