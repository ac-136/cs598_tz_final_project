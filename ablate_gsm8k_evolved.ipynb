{
 "cells": [
  {
   "cell_type": "code",
   "execution_count": 1,
   "metadata": {},
   "outputs": [],
   "source": [
    "import os\n",
    "import json\n",
    "\n",
    "gsm_evolved = []\n",
    "with open(\"gsm_evolved/output/gsm_evolved_20.jsonl\", \"r\") as f:\n",
    "    for line in f:\n",
    "        gsm_evolved.append(json.loads(line.strip()))"
   ]
  },
  {
   "cell_type": "code",
   "execution_count": 2,
   "metadata": {},
   "outputs": [],
   "source": [
    "import jsonlines\n",
    "\n",
    "first_names = []\n",
    "with jsonlines.open('./data/top_first_names.jsonl') as reader:\n",
    "    for line in reader:\n",
    "        first_names.append(line['first_name'])\n",
    "\n",
    "last_names = []\n",
    "with jsonlines.open('./data/top_last_names.jsonl') as reader:\n",
    "    for line in reader:\n",
    "        last_names.append(line['last_name'])"
   ]
  },
  {
   "cell_type": "code",
   "execution_count": 3,
   "metadata": {},
   "outputs": [],
   "source": [
    "import random\n",
    "import re\n",
    "import os\n",
    "random.seed(72)\n",
    "\n",
    "NUM_PROBLEMS = 100\n",
    "\n",
    "for i in range(len(gsm_evolved)):\n",
    "    curr_prob = gsm_evolved[i][\"problem\"]\n",
    "    name = \" \".join(curr_prob.split()[:2])\n",
    "\n",
    "    os.makedirs('./gsm_evolved_ablations', exist_ok=True)\n",
    "    with open(f'./gsm_evolved_ablations/q{i}_evolved--NUM{NUM_PROBLEMS}.jsonl', 'w') as f:\n",
    "        for j in range(NUM_PROBLEMS):\n",
    "            new_name = random.choice(first_names) + ' ' + random.choice(last_names)\n",
    "            ablated_prob = re.sub(rf\"\\b{re.escape(name)}\\b\", new_name, curr_prob)\n",
    "            # Write problem to file\n",
    "            f.write(json.dumps({\"problem\": ablated_prob, \"result\": gsm_evolved[i][\"result\"], \"template_id\": gsm_evolved[i][\"template_name\"], \"problem_id\": j}) + '\\n')\n"
   ]
  }
 ],
 "metadata": {
  "kernelspec": {
   "display_name": "venv",
   "language": "python",
   "name": "python3"
  },
  "language_info": {
   "codemirror_mode": {
    "name": "ipython",
    "version": 3
   },
   "file_extension": ".py",
   "mimetype": "text/x-python",
   "name": "python",
   "nbconvert_exporter": "python",
   "pygments_lexer": "ipython3",
   "version": "3.9.13"
  }
 },
 "nbformat": 4,
 "nbformat_minor": 2
}
