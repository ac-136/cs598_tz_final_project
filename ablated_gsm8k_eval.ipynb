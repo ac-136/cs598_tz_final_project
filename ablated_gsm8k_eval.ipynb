{
 "cells": [
  {
   "cell_type": "markdown",
   "metadata": {},
   "source": [
    "Code from A3 problem1-prompt.ipynb and https://github.com/SewoongLee/reproduce-llama3-arithmetic/blob/main/llama3-tutorial-gsm8k.ipynb"
   ]
  },
  {
   "cell_type": "markdown",
   "metadata": {},
   "source": [
    "You need to set your OPENAI_API_KEY environment variable in .env"
   ]
  },
  {
   "cell_type": "code",
   "execution_count": 1,
   "metadata": {},
   "outputs": [
    {
     "name": "stdout",
     "output_type": "stream",
     "text": [
      "cannot find .env file\n"
     ]
    }
   ],
   "source": [
    "from openai import OpenAI\n",
    "from tqdm import tqdm\n",
    "import textwrap\n",
    "import dotenv\n",
    "import os\n",
    "%load_ext dotenv\n",
    "%dotenv\n",
    "\n",
    "client=OpenAI(api_key=os.environ.get(\"OPENAI_API_KEY\"))\n",
    "\n",
    "# we use gpt-4o-mini as default: current pricing is \n",
    "# $0.150 / 1M input tokens, $0.600 / 1M output tokens\n",
    "def generate_gpt_response(prompt,messages=[], model=\"gpt-3.5-turbo\", temperature=0.7):\n",
    "    messages.append({\"role\": \"user\", \"content\": prompt})\n",
    "            \n",
    "    response = client.chat.completions.create(\n",
    "        model=model,\n",
    "        messages=messages,\n",
    "        temperature = temperature\n",
    "    )\n",
    "    content=response.choices[0].message.content\n",
    "    messages.append({'role': 'assistant', 'content': content})\n",
    "    return messages\n",
    "\n",
    "\n",
    "def print_message(message, width=80):\n",
    "    text=message[\"role\"]+\": \" + message[\"content\"]\n",
    "    wrapped_text = textwrap.fill(text, width=width)\n",
    "    \n",
    "    for line in wrapped_text.split('\\n'):\n",
    "        print(f\" {line.ljust(width)} \")        \n",
    "    "
   ]
  },
  {
   "cell_type": "markdown",
   "metadata": {},
   "source": [
    "load ablated gsm8k json files"
   ]
  },
  {
   "cell_type": "code",
   "execution_count": null,
   "metadata": {},
   "outputs": [
    {
     "name": "stdout",
     "output_type": "stream",
     "text": [
      "['q0--NUM100.jsonl', 'q1--NUM100.jsonl', 'q2--NUM100.jsonl', 'q3--NUM100.jsonl', 'q4--NUM100.jsonl', 'q5--NUM100.jsonl', 'q6--NUM100.jsonl', 'q7--NUM100.jsonl', 'q8--NUM100.jsonl', 'q9--NUM100.jsonl', 'q11--NUM100.jsonl', 'q12--NUM100.jsonl', 'q13--NUM100.jsonl', 'q14--NUM100.jsonl', 'q15--NUM100.jsonl', 'q19--NUM100.jsonl', 'q20--NUM100.jsonl', 'q23--NUM100.jsonl', 'q24--NUM100.jsonl', 'q25--NUM100.jsonl']\n",
      "\n",
      "[{'problem': 'Kc Otis sold clips to 48 of their friends in April, and then they sold 50% as many clips in May.How many clips did Kc Otis sell altogether in April and May?', 'result': '72', 'template_name': 0, 'idx': 71}, {'problem': 'Josh Joaquin sold clips to 48 of their friends in April, and then they sold 50% as many clips in May.How many clips did Josh Joaquin sell altogether in April and May?', 'result': '72', 'template_name': 0, 'idx': 1}, {'problem': 'Cristina Boogie sold clips to 48 of their friends in April, and then they sold 50% as many clips in May.How many clips did Cristina Boogie sell altogether in April and May?', 'result': '72', 'template_name': 0, 'idx': 60}, {'problem': 'Monica Georges sold clips to 48 of their friends in April, and then they sold 50% as many clips in May.How many clips did Monica Georges sell altogether in April and May?', 'result': '72', 'template_name': 0, 'idx': 83}, {'problem': 'Ricky Hinojosa sold clips to 48 of their friends in April, and then they sold 50% as many clips in May.How many clips did Ricky Hinojosa sell altogether in April and May?', 'result': '72', 'template_name': 0, 'idx': 66}, {'problem': 'Ty Ru sold clips to 48 of their friends in April, and then they sold 50% as many clips in May.How many clips did Ty Ru sell altogether in April and May?', 'result': '72', 'template_name': 0, 'idx': 38}, {'problem': 'Selina Bean sold clips to 48 of their friends in April, and then they sold 50% as many clips in May.How many clips did Selina Bean sell altogether in April and May?', 'result': '72', 'template_name': 0, 'idx': 98}, {'problem': 'Paulette Cantero sold clips to 48 of their friends in April, and then they sold 50% as many clips in May.How many clips did Paulette Cantero sell altogether in April and May?', 'result': '72', 'template_name': 0, 'idx': 69}, {'problem': 'Chelsey Venkatesan sold clips to 48 of their friends in April, and then they sold 50% as many clips in May.How many clips did Chelsey Venkatesan sell altogether in April and May?', 'result': '72', 'template_name': 0, 'idx': 53}, {'problem': 'Gina Isidoro sold clips to 48 of their friends in April, and then they sold 50% as many clips in May.How many clips did Gina Isidoro sell altogether in April and May?', 'result': '72', 'template_name': 0, 'idx': 90}, {'problem': 'Mac Slattery sold clips to 48 of their friends in April, and then they sold 50% as many clips in May.How many clips did Mac Slattery sell altogether in April and May?', 'result': '72', 'template_name': 0, 'idx': 29}, {'problem': 'Salomon Darnell sold clips to 48 of their friends in April, and then they sold 50% as many clips in May.How many clips did Salomon Darnell sell altogether in April and May?', 'result': '72', 'template_name': 0, 'idx': 12}, {'problem': 'Elvis Oldham sold clips to 48 of their friends in April, and then they sold 50% as many clips in May.How many clips did Elvis Oldham sell altogether in April and May?', 'result': '72', 'template_name': 0, 'idx': 47}, {'problem': 'Douglas Newby sold clips to 48 of their friends in April, and then they sold 50% as many clips in May.How many clips did Douglas Newby sell altogether in April and May?', 'result': '72', 'template_name': 0, 'idx': 79}, {'problem': 'Simone Ruff sold clips to 48 of their friends in April, and then they sold 50% as many clips in May.How many clips did Simone Ruff sell altogether in April and May?', 'result': '72', 'template_name': 0, 'idx': 8}, {'problem': 'Olivia Khatri sold clips to 48 of their friends in April, and then they sold 50% as many clips in May.How many clips did Olivia Khatri sell altogether in April and May?', 'result': '72', 'template_name': 0, 'idx': 43}, {'problem': 'Jaqueline Barakat sold clips to 48 of their friends in April, and then they sold 50% as many clips in May.How many clips did Jaqueline Barakat sell altogether in April and May?', 'result': '72', 'template_name': 0, 'idx': 82}, {'problem': 'Greg Kellogg sold clips to 48 of their friends in April, and then they sold 50% as many clips in May.How many clips did Greg Kellogg sell altogether in April and May?', 'result': '72', 'template_name': 0, 'idx': 32}, {'problem': 'Emma Lieberman sold clips to 48 of their friends in April, and then they sold 50% as many clips in May.How many clips did Emma Lieberman sell altogether in April and May?', 'result': '72', 'template_name': 0, 'idx': 73}, {'problem': 'Grace Mims sold clips to 48 of their friends in April, and then they sold 50% as many clips in May.How many clips did Grace Mims sell altogether in April and May?', 'result': '72', 'template_name': 0, 'idx': 26}]\n",
      "\n",
      "[{'problem': 'Johnathan Guido earns $12 an hour for babysitting. Yesterday, they just did 50 minutes of babysitting. How much did Johnathan Guido earn?', 'result': '10', 'template_name': 1, 'idx': 2}, {'problem': 'Stuart Shehata earns $12 an hour for babysitting. Yesterday, they just did 50 minutes of babysitting. How much did Stuart Shehata earn?', 'result': '10', 'template_name': 1, 'idx': 97}, {'problem': 'Emma Lieberman earns $12 an hour for babysitting. Yesterday, they just did 50 minutes of babysitting. How much did Emma Lieberman earn?', 'result': '10', 'template_name': 1, 'idx': 73}, {'problem': 'Grace Mims earns $12 an hour for babysitting. Yesterday, they just did 50 minutes of babysitting. How much did Grace Mims earn?', 'result': '10', 'template_name': 1, 'idx': 26}, {'problem': 'Saad Schwartz earns $12 an hour for babysitting. Yesterday, they just did 50 minutes of babysitting. How much did Saad Schwartz earn?', 'result': '10', 'template_name': 1, 'idx': 6}, {'problem': 'Irma Li earns $12 an hour for babysitting. Yesterday, they just did 50 minutes of babysitting. How much did Irma Li earn?', 'result': '10', 'template_name': 1, 'idx': 74}, {'problem': 'Kc Otis earns $12 an hour for babysitting. Yesterday, they just did 50 minutes of babysitting. How much did Kc Otis earn?', 'result': '10', 'template_name': 1, 'idx': 71}, {'problem': 'Elliot Juares earns $12 an hour for babysitting. Yesterday, they just did 50 minutes of babysitting. How much did Elliot Juares earn?', 'result': '10', 'template_name': 1, 'idx': 17}, {'problem': 'Mo Lam earns $12 an hour for babysitting. Yesterday, they just did 50 minutes of babysitting. How much did Mo Lam earn?', 'result': '10', 'template_name': 1, 'idx': 49}, {'problem': 'Esmeralda Coulter earns $12 an hour for babysitting. Yesterday, they just did 50 minutes of babysitting. How much did Esmeralda Coulter earn?', 'result': '10', 'template_name': 1, 'idx': 87}, {'problem': 'Lorenzo Wynn earns $12 an hour for babysitting. Yesterday, they just did 50 minutes of babysitting. How much did Lorenzo Wynn earn?', 'result': '10', 'template_name': 1, 'idx': 3}, {'problem': 'Lizette Labra earns $12 an hour for babysitting. Yesterday, they just did 50 minutes of babysitting. How much did Lizette Labra earn?', 'result': '10', 'template_name': 1, 'idx': 19}, {'problem': 'Zoe Berger earns $12 an hour for babysitting. Yesterday, they just did 50 minutes of babysitting. How much did Zoe Berger earn?', 'result': '10', 'template_name': 1, 'idx': 31}, {'problem': 'Nora Cristobal earns $12 an hour for babysitting. Yesterday, they just did 50 minutes of babysitting. How much did Nora Cristobal earn?', 'result': '10', 'template_name': 1, 'idx': 23}, {'problem': 'Salomon Darnell earns $12 an hour for babysitting. Yesterday, they just did 50 minutes of babysitting. How much did Salomon Darnell earn?', 'result': '10', 'template_name': 1, 'idx': 12}, {'problem': 'Kenia Partridge earns $12 an hour for babysitting. Yesterday, they just did 50 minutes of babysitting. How much did Kenia Partridge earn?', 'result': '10', 'template_name': 1, 'idx': 78}, {'problem': 'Lilian Laroche earns $12 an hour for babysitting. Yesterday, they just did 50 minutes of babysitting. How much did Lilian Laroche earn?', 'result': '10', 'template_name': 1, 'idx': 25}, {'problem': 'Ceci Colson earns $12 an hour for babysitting. Yesterday, they just did 50 minutes of babysitting. How much did Ceci Colson earn?', 'result': '10', 'template_name': 1, 'idx': 27}, {'problem': 'Jhonny Larin earns $12 an hour for babysitting. Yesterday, they just did 50 minutes of babysitting. How much did Jhonny Larin earn?', 'result': '10', 'template_name': 1, 'idx': 56}, {'problem': 'Eden Sanchez earns $12 an hour for babysitting. Yesterday, they just did 50 minutes of babysitting. How much did Eden Sanchez earn?', 'result': '10', 'template_name': 1, 'idx': 91}]\n",
      "\n",
      "[{'problem': 'Mo Lam is saving money for a new wallet which costs $100. Mo Lam has only half of the money they need. Their parents decided to give them $15 for that purpose, and their grandparents twice as much as their parents. How much more money does Mo Lam need to buy the wallet?', 'result': '5.0', 'template_name': 2, 'idx': 49}, {'problem': 'Maddie Dalessandro is saving money for a new wallet which costs $100. Maddie Dalessandro has only half of the money they need. Their parents decided to give them $15 for that purpose, and their grandparents twice as much as their parents. How much more money does Maddie Dalessandro need to buy the wallet?', 'result': '5.0', 'template_name': 2, 'idx': 16}, {'problem': 'Elba De Guzman is saving money for a new wallet which costs $100. Elba De Guzman has only half of the money they need. Their parents decided to give them $15 for that purpose, and their grandparents twice as much as their parents. How much more money does Elba De Guzman need to buy the wallet?', 'result': '5.0', 'template_name': 2, 'idx': 85}, {'problem': 'Simone Ruff is saving money for a new wallet which costs $100. Simone Ruff has only half of the money they need. Their parents decided to give them $15 for that purpose, and their grandparents twice as much as their parents. How much more money does Simone Ruff need to buy the wallet?', 'result': '5.0', 'template_name': 2, 'idx': 8}, {'problem': 'Walter Virginia is saving money for a new wallet which costs $100. Walter Virginia has only half of the money they need. Their parents decided to give them $15 for that purpose, and their grandparents twice as much as their parents. How much more money does Walter Virginia need to buy the wallet?', 'result': '5.0', 'template_name': 2, 'idx': 99}, {'problem': 'Ceci Colson is saving money for a new wallet which costs $100. Ceci Colson has only half of the money they need. Their parents decided to give them $15 for that purpose, and their grandparents twice as much as their parents. How much more money does Ceci Colson need to buy the wallet?', 'result': '5.0', 'template_name': 2, 'idx': 27}, {'problem': 'Iliana Carpio is saving money for a new wallet which costs $100. Iliana Carpio has only half of the money they need. Their parents decided to give them $15 for that purpose, and their grandparents twice as much as their parents. How much more money does Iliana Carpio need to buy the wallet?', 'result': '5.0', 'template_name': 2, 'idx': 67}, {'problem': 'Millie Mull is saving money for a new wallet which costs $100. Millie Mull has only half of the money they need. Their parents decided to give them $15 for that purpose, and their grandparents twice as much as their parents. How much more money does Millie Mull need to buy the wallet?', 'result': '5.0', 'template_name': 2, 'idx': 86}, {'problem': 'Nora Cristobal is saving money for a new wallet which costs $100. Nora Cristobal has only half of the money they need. Their parents decided to give them $15 for that purpose, and their grandparents twice as much as their parents. How much more money does Nora Cristobal need to buy the wallet?', 'result': '5.0', 'template_name': 2, 'idx': 23}, {'problem': 'Alana Tan is saving money for a new wallet which costs $100. Alana Tan has only half of the money they need. Their parents decided to give them $15 for that purpose, and their grandparents twice as much as their parents. How much more money does Alana Tan need to buy the wallet?', 'result': '5.0', 'template_name': 2, 'idx': 24}, {'problem': 'Les De Hoyos is saving money for a new wallet which costs $100. Les De Hoyos has only half of the money they need. Their parents decided to give them $15 for that purpose, and their grandparents twice as much as their parents. How much more money does Les De Hoyos need to buy the wallet?', 'result': '5.0', 'template_name': 2, 'idx': 22}, {'problem': 'Elliot Juares is saving money for a new wallet which costs $100. Elliot Juares has only half of the money they need. Their parents decided to give them $15 for that purpose, and their grandparents twice as much as their parents. How much more money does Elliot Juares need to buy the wallet?', 'result': '5.0', 'template_name': 2, 'idx': 17}, {'problem': 'Jenna Gaines is saving money for a new wallet which costs $100. Jenna Gaines has only half of the money they need. Their parents decided to give them $15 for that purpose, and their grandparents twice as much as their parents. How much more money does Jenna Gaines need to buy the wallet?', 'result': '5.0', 'template_name': 2, 'idx': 70}, {'problem': 'Jt Gumbs is saving money for a new wallet which costs $100. Jt Gumbs has only half of the money they need. Their parents decided to give them $15 for that purpose, and their grandparents twice as much as their parents. How much more money does Jt Gumbs need to buy the wallet?', 'result': '5.0', 'template_name': 2, 'idx': 63}, {'problem': 'Nate Labrada is saving money for a new wallet which costs $100. Nate Labrada has only half of the money they need. Their parents decided to give them $15 for that purpose, and their grandparents twice as much as their parents. How much more money does Nate Labrada need to buy the wallet?', 'result': '5.0', 'template_name': 2, 'idx': 94}, {'problem': 'Homero Vargas is saving money for a new wallet which costs $100. Homero Vargas has only half of the money they need. Their parents decided to give them $15 for that purpose, and their grandparents twice as much as their parents. How much more money does Homero Vargas need to buy the wallet?', 'result': '5.0', 'template_name': 2, 'idx': 81}, {'problem': 'Rosi Darr is saving money for a new wallet which costs $100. Rosi Darr has only half of the money they need. Their parents decided to give them $15 for that purpose, and their grandparents twice as much as their parents. How much more money does Rosi Darr need to buy the wallet?', 'result': '5.0', 'template_name': 2, 'idx': 46}, {'problem': 'Rosy Plascencia is saving money for a new wallet which costs $100. Rosy Plascencia has only half of the money they need. Their parents decided to give them $15 for that purpose, and their grandparents twice as much as their parents. How much more money does Rosy Plascencia need to buy the wallet?', 'result': '5.0', 'template_name': 2, 'idx': 0}, {'problem': 'Victoria Tavares is saving money for a new wallet which costs $100. Victoria Tavares has only half of the money they need. Their parents decided to give them $15 for that purpose, and their grandparents twice as much as their parents. How much more money does Victoria Tavares need to buy the wallet?', 'result': '5.0', 'template_name': 2, 'idx': 84}, {'problem': 'Marisa Yearwood is saving money for a new wallet which costs $100. Marisa Yearwood has only half of the money they need. Their parents decided to give them $15 for that purpose, and their grandparents twice as much as their parents. How much more money does Marisa Yearwood need to buy the wallet?', 'result': '5.0', 'template_name': 2, 'idx': 4}]\n",
      "\n",
      "[{'problem': 'Irma Li is reading a 120-page book. Yesterday, they were able to read 12 pages and today, they read twice as many pages as yesterday. If they want to read half of the remaining pages tomorrow, how many pages should they read?', 'result': '42', 'template_name': 3, 'idx': 74}, {'problem': 'Elvis Oldham is reading a 120-page book. Yesterday, they were able to read 12 pages and today, they read twice as many pages as yesterday. If they want to read half of the remaining pages tomorrow, how many pages should they read?', 'result': '42', 'template_name': 3, 'idx': 47}, {'problem': 'Rosy Plascencia is reading a 120-page book. Yesterday, they were able to read 12 pages and today, they read twice as many pages as yesterday. If they want to read half of the remaining pages tomorrow, how many pages should they read?', 'result': '42', 'template_name': 3, 'idx': 0}, {'problem': 'Iris Krantz is reading a 120-page book. Yesterday, they were able to read 12 pages and today, they read twice as many pages as yesterday. If they want to read half of the remaining pages tomorrow, how many pages should they read?', 'result': '42', 'template_name': 3, 'idx': 72}, {'problem': 'Millie Mull is reading a 120-page book. Yesterday, they were able to read 12 pages and today, they read twice as many pages as yesterday. If they want to read half of the remaining pages tomorrow, how many pages should they read?', 'result': '42', 'template_name': 3, 'idx': 86}, {'problem': 'Iliana Carpio is reading a 120-page book. Yesterday, they were able to read 12 pages and today, they read twice as many pages as yesterday. If they want to read half of the remaining pages tomorrow, how many pages should they read?', 'result': '42', 'template_name': 3, 'idx': 67}, {'problem': 'Jenna Gaines is reading a 120-page book. Yesterday, they were able to read 12 pages and today, they read twice as many pages as yesterday. If they want to read half of the remaining pages tomorrow, how many pages should they read?', 'result': '42', 'template_name': 3, 'idx': 70}, {'problem': 'Salomon Darnell is reading a 120-page book. Yesterday, they were able to read 12 pages and today, they read twice as many pages as yesterday. If they want to read half of the remaining pages tomorrow, how many pages should they read?', 'result': '42', 'template_name': 3, 'idx': 12}, {'problem': 'Kenia Partridge is reading a 120-page book. Yesterday, they were able to read 12 pages and today, they read twice as many pages as yesterday. If they want to read half of the remaining pages tomorrow, how many pages should they read?', 'result': '42', 'template_name': 3, 'idx': 78}, {'problem': 'Jt Gumbs is reading a 120-page book. Yesterday, they were able to read 12 pages and today, they read twice as many pages as yesterday. If they want to read half of the remaining pages tomorrow, how many pages should they read?', 'result': '42', 'template_name': 3, 'idx': 63}, {'problem': 'Mo Lam is reading a 120-page book. Yesterday, they were able to read 12 pages and today, they read twice as many pages as yesterday. If they want to read half of the remaining pages tomorrow, how many pages should they read?', 'result': '42', 'template_name': 3, 'idx': 49}, {'problem': 'Rosi Darr is reading a 120-page book. Yesterday, they were able to read 12 pages and today, they read twice as many pages as yesterday. If they want to read half of the remaining pages tomorrow, how many pages should they read?', 'result': '42', 'template_name': 3, 'idx': 46}, {'problem': 'Cristina Boogie is reading a 120-page book. Yesterday, they were able to read 12 pages and today, they read twice as many pages as yesterday. If they want to read half of the remaining pages tomorrow, how many pages should they read?', 'result': '42', 'template_name': 3, 'idx': 60}, {'problem': 'Alana Tan is reading a 120-page book. Yesterday, they were able to read 12 pages and today, they read twice as many pages as yesterday. If they want to read half of the remaining pages tomorrow, how many pages should they read?', 'result': '42', 'template_name': 3, 'idx': 24}, {'problem': 'Megan Jester is reading a 120-page book. Yesterday, they were able to read 12 pages and today, they read twice as many pages as yesterday. If they want to read half of the remaining pages tomorrow, how many pages should they read?', 'result': '42', 'template_name': 3, 'idx': 65}, {'problem': 'Letty Damron is reading a 120-page book. Yesterday, they were able to read 12 pages and today, they read twice as many pages as yesterday. If they want to read half of the remaining pages tomorrow, how many pages should they read?', 'result': '42', 'template_name': 3, 'idx': 59}, {'problem': 'Esmeralda Coulter is reading a 120-page book. Yesterday, they were able to read 12 pages and today, they read twice as many pages as yesterday. If they want to read half of the remaining pages tomorrow, how many pages should they read?', 'result': '42', 'template_name': 3, 'idx': 87}, {'problem': 'Ernesto Lung is reading a 120-page book. Yesterday, they were able to read 12 pages and today, they read twice as many pages as yesterday. If they want to read half of the remaining pages tomorrow, how many pages should they read?', 'result': '42', 'template_name': 3, 'idx': 5}, {'problem': 'Ceci Colson is reading a 120-page book. Yesterday, they were able to read 12 pages and today, they read twice as many pages as yesterday. If they want to read half of the remaining pages tomorrow, how many pages should they read?', 'result': '42', 'template_name': 3, 'idx': 27}, {'problem': 'Nora Cristobal is reading a 120-page book. Yesterday, they were able to read 12 pages and today, they read twice as many pages as yesterday. If they want to read half of the remaining pages tomorrow, how many pages should they read?', 'result': '42', 'template_name': 3, 'idx': 23}]\n",
      "\n",
      "[{'problem': 'Olivia Khatri writes a 3-page letter to 2 different friends twice a week. How many pages does Olivia Khatri write in a year?', 'result': '624', 'template_name': 4, 'idx': 43}, {'problem': 'Janelle Eddy writes a 3-page letter to 2 different friends twice a week. How many pages does Janelle Eddy write in a year?', 'result': '624', 'template_name': 4, 'idx': 89}, {'problem': 'Letty Damron writes a 3-page letter to 2 different friends twice a week. How many pages does Letty Damron write in a year?', 'result': '624', 'template_name': 4, 'idx': 59}, {'problem': 'Colin Sung writes a 3-page letter to 2 different friends twice a week. How many pages does Colin Sung write in a year?', 'result': '624', 'template_name': 4, 'idx': 18}, {'problem': 'Josh Joaquin writes a 3-page letter to 2 different friends twice a week. How many pages does Josh Joaquin write in a year?', 'result': '624', 'template_name': 4, 'idx': 1}, {'problem': 'Alana Tan writes a 3-page letter to 2 different friends twice a week. How many pages does Alana Tan write in a year?', 'result': '624', 'template_name': 4, 'idx': 24}, {'problem': 'Ty Ru writes a 3-page letter to 2 different friends twice a week. How many pages does Ty Ru write in a year?', 'result': '624', 'template_name': 4, 'idx': 38}, {'problem': 'Irma Li writes a 3-page letter to 2 different friends twice a week. How many pages does Irma Li write in a year?', 'result': '624', 'template_name': 4, 'idx': 74}, {'problem': 'Greg Kellogg writes a 3-page letter to 2 different friends twice a week. How many pages does Greg Kellogg write in a year?', 'result': '624', 'template_name': 4, 'idx': 32}, {'problem': 'Maddie Dalessandro writes a 3-page letter to 2 different friends twice a week. How many pages does Maddie Dalessandro write in a year?', 'result': '624', 'template_name': 4, 'idx': 16}, {'problem': 'Lorenzo Wynn writes a 3-page letter to 2 different friends twice a week. How many pages does Lorenzo Wynn write in a year?', 'result': '624', 'template_name': 4, 'idx': 3}, {'problem': 'Hanna Cantor writes a 3-page letter to 2 different friends twice a week. How many pages does Hanna Cantor write in a year?', 'result': '624', 'template_name': 4, 'idx': 77}, {'problem': 'Baltazar Calel writes a 3-page letter to 2 different friends twice a week. How many pages does Baltazar Calel write in a year?', 'result': '624', 'template_name': 4, 'idx': 37}, {'problem': 'Megan Jester writes a 3-page letter to 2 different friends twice a week. How many pages does Megan Jester write in a year?', 'result': '624', 'template_name': 4, 'idx': 65}, {'problem': 'Luke Banegas writes a 3-page letter to 2 different friends twice a week. How many pages does Luke Banegas write in a year?', 'result': '624', 'template_name': 4, 'idx': 20}, {'problem': 'Selina Bean writes a 3-page letter to 2 different friends twice a week. How many pages does Selina Bean write in a year?', 'result': '624', 'template_name': 4, 'idx': 98}, {'problem': 'Sunny Mcginn writes a 3-page letter to 2 different friends twice a week. How many pages does Sunny Mcginn write in a year?', 'result': '624', 'template_name': 4, 'idx': 11}, {'problem': 'Saad Schwartz writes a 3-page letter to 2 different friends twice a week. How many pages does Saad Schwartz write in a year?', 'result': '624', 'template_name': 4, 'idx': 6}, {'problem': 'German Redondo writes a 3-page letter to 2 different friends twice a week. How many pages does German Redondo write in a year?', 'result': '624', 'template_name': 4, 'idx': 88}, {'problem': 'Irvin Gongora writes a 3-page letter to 2 different friends twice a week. How many pages does Irvin Gongora write in a year?', 'result': '624', 'template_name': 4, 'idx': 36}]\n",
      "\n",
      "[{'problem': 'Hanna Cantor has a garden with flowers. They planted plants of three different colors in it. 10 of them are yellow, and there are 80% more of those in purple. There are only 25% as many green flowers as there are yellow and purple flowers. How many flowers does Hanna Cantor have in their garden?', 'result': '35', 'template_name': 5, 'idx': 77}, {'problem': 'Serena Binder has a garden with flowers. They planted plants of three different colors in it. 10 of them are yellow, and there are 80% more of those in purple. There are only 25% as many green flowers as there are yellow and purple flowers. How many flowers does Serena Binder have in their garden?', 'result': '35', 'template_name': 5, 'idx': 50}, {'problem': 'Zoe Berger has a garden with flowers. They planted plants of three different colors in it. 10 of them are yellow, and there are 80% more of those in purple. There are only 25% as many green flowers as there are yellow and purple flowers. How many flowers does Zoe Berger have in their garden?', 'result': '35', 'template_name': 5, 'idx': 31}, {'problem': 'Eden Sanchez has a garden with flowers. They planted plants of three different colors in it. 10 of them are yellow, and there are 80% more of those in purple. There are only 25% as many green flowers as there are yellow and purple flowers. How many flowers does Eden Sanchez have in their garden?', 'result': '35', 'template_name': 5, 'idx': 91}, {'problem': 'Frank Morel has a garden with flowers. They planted plants of three different colors in it. 10 of them are yellow, and there are 80% more of those in purple. There are only 25% as many green flowers as there are yellow and purple flowers. How many flowers does Frank Morel have in their garden?', 'result': '35', 'template_name': 5, 'idx': 7}, {'problem': 'Megan Jester has a garden with flowers. They planted plants of three different colors in it. 10 of them are yellow, and there are 80% more of those in purple. There are only 25% as many green flowers as there are yellow and purple flowers. How many flowers does Megan Jester have in their garden?', 'result': '35', 'template_name': 5, 'idx': 65}, {'problem': 'Lou Arista has a garden with flowers. They planted plants of three different colors in it. 10 of them are yellow, and there are 80% more of those in purple. There are only 25% as many green flowers as there are yellow and purple flowers. How many flowers does Lou Arista have in their garden?', 'result': '35', 'template_name': 5, 'idx': 61}, {'problem': 'Homero Vargas has a garden with flowers. They planted plants of three different colors in it. 10 of them are yellow, and there are 80% more of those in purple. There are only 25% as many green flowers as there are yellow and purple flowers. How many flowers does Homero Vargas have in their garden?', 'result': '35', 'template_name': 5, 'idx': 81}, {'problem': 'Marilu Laing has a garden with flowers. They planted plants of three different colors in it. 10 of them are yellow, and there are 80% more of those in purple. There are only 25% as many green flowers as there are yellow and purple flowers. How many flowers does Marilu Laing have in their garden?', 'result': '35', 'template_name': 5, 'idx': 95}, {'problem': 'German Shafer has a garden with flowers. They planted plants of three different colors in it. 10 of them are yellow, and there are 80% more of those in purple. There are only 25% as many green flowers as there are yellow and purple flowers. How many flowers does German Shafer have in their garden?', 'result': '35', 'template_name': 5, 'idx': 68}, {'problem': 'Ty Ru has a garden with flowers. They planted plants of three different colors in it. 10 of them are yellow, and there are 80% more of those in purple. There are only 25% as many green flowers as there are yellow and purple flowers. How many flowers does Ty Ru have in their garden?', 'result': '35', 'template_name': 5, 'idx': 38}, {'problem': 'Kenia Partridge has a garden with flowers. They planted plants of three different colors in it. 10 of them are yellow, and there are 80% more of those in purple. There are only 25% as many green flowers as there are yellow and purple flowers. How many flowers does Kenia Partridge have in their garden?', 'result': '35', 'template_name': 5, 'idx': 78}, {'problem': 'Ceci Colson has a garden with flowers. They planted plants of three different colors in it. 10 of them are yellow, and there are 80% more of those in purple. There are only 25% as many green flowers as there are yellow and purple flowers. How many flowers does Ceci Colson have in their garden?', 'result': '35', 'template_name': 5, 'idx': 27}, {'problem': 'Monica Georges has a garden with flowers. They planted plants of three different colors in it. 10 of them are yellow, and there are 80% more of those in purple. There are only 25% as many green flowers as there are yellow and purple flowers. How many flowers does Monica Georges have in their garden?', 'result': '35', 'template_name': 5, 'idx': 83}, {'problem': 'German Redondo has a garden with flowers. They planted plants of three different colors in it. 10 of them are yellow, and there are 80% more of those in purple. There are only 25% as many green flowers as there are yellow and purple flowers. How many flowers does German Redondo have in their garden?', 'result': '35', 'template_name': 5, 'idx': 88}, {'problem': 'Elba De Guzman has a garden with flowers. They planted plants of three different colors in it. 10 of them are yellow, and there are 80% more of those in purple. There are only 25% as many green flowers as there are yellow and purple flowers. How many flowers does Elba De Guzman have in their garden?', 'result': '35', 'template_name': 5, 'idx': 85}, {'problem': 'Dennis Jeffrey has a garden with flowers. They planted plants of three different colors in it. 10 of them are yellow, and there are 80% more of those in purple. There are only 25% as many green flowers as there are yellow and purple flowers. How many flowers does Dennis Jeffrey have in their garden?', 'result': '35', 'template_name': 5, 'idx': 52}, {'problem': 'Elliot Juares has a garden with flowers. They planted plants of three different colors in it. 10 of them are yellow, and there are 80% more of those in purple. There are only 25% as many green flowers as there are yellow and purple flowers. How many flowers does Elliot Juares have in their garden?', 'result': '35', 'template_name': 5, 'idx': 17}, {'problem': 'Irvin Simms has a garden with flowers. They planted plants of three different colors in it. 10 of them are yellow, and there are 80% more of those in purple. There are only 25% as many green flowers as there are yellow and purple flowers. How many flowers does Irvin Simms have in their garden?', 'result': '35', 'template_name': 5, 'idx': 21}, {'problem': 'Douglas Newby has a garden with flowers. They planted plants of three different colors in it. 10 of them are yellow, and there are 80% more of those in purple. There are only 25% as many green flowers as there are yellow and purple flowers. How many flowers does Douglas Newby have in their garden?', 'result': '35', 'template_name': 5, 'idx': 79}]\n",
      "\n",
      "[{'problem': 'Paulette Cantero is wondering how much pizza they can eat in one day. They buy 2 large pizzas and 2 small pizzas. A large pizzas has 16 slices and a small pizza has 8 slices. If they eat it all, how many pieces do they eat that day?', 'result': '48', 'template_name': 6, 'idx': 69}, {'problem': 'Emma Lieberman is wondering how much pizza they can eat in one day. They buy 2 large pizzas and 2 small pizzas. A large pizzas has 16 slices and a small pizza has 8 slices. If they eat it all, how many pieces do they eat that day?', 'result': '48', 'template_name': 6, 'idx': 73}, {'problem': 'Colin Sung is wondering how much pizza they can eat in one day. They buy 2 large pizzas and 2 small pizzas. A large pizzas has 16 slices and a small pizza has 8 slices. If they eat it all, how many pieces do they eat that day?', 'result': '48', 'template_name': 6, 'idx': 18}, {'problem': 'Ricky Hinojosa is wondering how much pizza they can eat in one day. They buy 2 large pizzas and 2 small pizzas. A large pizzas has 16 slices and a small pizza has 8 slices. If they eat it all, how many pieces do they eat that day?', 'result': '48', 'template_name': 6, 'idx': 66}, {'problem': 'Homero Vargas is wondering how much pizza they can eat in one day. They buy 2 large pizzas and 2 small pizzas. A large pizzas has 16 slices and a small pizza has 8 slices. If they eat it all, how many pieces do they eat that day?', 'result': '48', 'template_name': 6, 'idx': 81}, {'problem': 'Eden Sanchez is wondering how much pizza they can eat in one day. They buy 2 large pizzas and 2 small pizzas. A large pizzas has 16 slices and a small pizza has 8 slices. If they eat it all, how many pieces do they eat that day?', 'result': '48', 'template_name': 6, 'idx': 91}, {'problem': 'Victoria Tavares is wondering how much pizza they can eat in one day. They buy 2 large pizzas and 2 small pizzas. A large pizzas has 16 slices and a small pizza has 8 slices. If they eat it all, how many pieces do they eat that day?', 'result': '48', 'template_name': 6, 'idx': 84}, {'problem': 'Johnathan Guido is wondering how much pizza they can eat in one day. They buy 2 large pizzas and 2 small pizzas. A large pizzas has 16 slices and a small pizza has 8 slices. If they eat it all, how many pieces do they eat that day?', 'result': '48', 'template_name': 6, 'idx': 2}, {'problem': 'Ernesto Lung is wondering how much pizza they can eat in one day. They buy 2 large pizzas and 2 small pizzas. A large pizzas has 16 slices and a small pizza has 8 slices. If they eat it all, how many pieces do they eat that day?', 'result': '48', 'template_name': 6, 'idx': 5}, {'problem': 'Marisa Yearwood is wondering how much pizza they can eat in one day. They buy 2 large pizzas and 2 small pizzas. A large pizzas has 16 slices and a small pizza has 8 slices. If they eat it all, how many pieces do they eat that day?', 'result': '48', 'template_name': 6, 'idx': 4}, {'problem': 'Esmeralda Coulter is wondering how much pizza they can eat in one day. They buy 2 large pizzas and 2 small pizzas. A large pizzas has 16 slices and a small pizza has 8 slices. If they eat it all, how many pieces do they eat that day?', 'result': '48', 'template_name': 6, 'idx': 87}, {'problem': 'German Redondo is wondering how much pizza they can eat in one day. They buy 2 large pizzas and 2 small pizzas. A large pizzas has 16 slices and a small pizza has 8 slices. If they eat it all, how many pieces do they eat that day?', 'result': '48', 'template_name': 6, 'idx': 88}, {'problem': 'Quincy Gutman is wondering how much pizza they can eat in one day. They buy 2 large pizzas and 2 small pizzas. A large pizzas has 16 slices and a small pizza has 8 slices. If they eat it all, how many pieces do they eat that day?', 'result': '48', 'template_name': 6, 'idx': 62}, {'problem': 'Estrella Betancur is wondering how much pizza they can eat in one day. They buy 2 large pizzas and 2 small pizzas. A large pizzas has 16 slices and a small pizza has 8 slices. If they eat it all, how many pieces do they eat that day?', 'result': '48', 'template_name': 6, 'idx': 33}, {'problem': 'Kristopher Papp is wondering how much pizza they can eat in one day. They buy 2 large pizzas and 2 small pizzas. A large pizzas has 16 slices and a small pizza has 8 slices. If they eat it all, how many pieces do they eat that day?', 'result': '48', 'template_name': 6, 'idx': 13}, {'problem': 'Megan Jester is wondering how much pizza they can eat in one day. They buy 2 large pizzas and 2 small pizzas. A large pizzas has 16 slices and a small pizza has 8 slices. If they eat it all, how many pieces do they eat that day?', 'result': '48', 'template_name': 6, 'idx': 65}, {'problem': 'Elliot Juares is wondering how much pizza they can eat in one day. They buy 2 large pizzas and 2 small pizzas. A large pizzas has 16 slices and a small pizza has 8 slices. If they eat it all, how many pieces do they eat that day?', 'result': '48', 'template_name': 6, 'idx': 17}, {'problem': 'Greg Kellogg is wondering how much pizza they can eat in one day. They buy 2 large pizzas and 2 small pizzas. A large pizzas has 16 slices and a small pizza has 8 slices. If they eat it all, how many pieces do they eat that day?', 'result': '48', 'template_name': 6, 'idx': 32}, {'problem': 'Gina Isidoro is wondering how much pizza they can eat in one day. They buy 2 large pizzas and 2 small pizzas. A large pizzas has 16 slices and a small pizza has 8 slices. If they eat it all, how many pieces do they eat that day?', 'result': '48', 'template_name': 6, 'idx': 90}, {'problem': 'Lizette Labra is wondering how much pizza they can eat in one day. They buy 2 large pizzas and 2 small pizzas. A large pizzas has 16 slices and a small pizza has 8 slices. If they eat it all, how many pieces do they eat that day?', 'result': '48', 'template_name': 6, 'idx': 19}]\n",
      "\n",
      "[{'problem': 'Selina Bean created a care package to send to their brother, who was away at boarding school. Selina Bean placed a box on a scale, and then they poured into the box enough jelly beans to bring the weight to 2 pounds. Then, they added enough brownies to cause the weight to triple. Next, they added another 2 pounds of jelly beans. And finally, they added enough gummy worms to double the weight once again. What was the final weight of the box of goodies, in pounds?', 'result': '16', 'template_name': 7, 'idx': 98}, {'problem': 'Irma Li created a care package to send to their brother, who was away at boarding school. Irma Li placed a box on a scale, and then they poured into the box enough jelly beans to bring the weight to 2 pounds. Then, they added enough brownies to cause the weight to triple. Next, they added another 2 pounds of jelly beans. And finally, they added enough gummy worms to double the weight once again. What was the final weight of the box of goodies, in pounds?', 'result': '16', 'template_name': 7, 'idx': 74}, {'problem': 'Iris Krantz created a care package to send to their brother, who was away at boarding school. Iris Krantz placed a box on a scale, and then they poured into the box enough jelly beans to bring the weight to 2 pounds. Then, they added enough brownies to cause the weight to triple. Next, they added another 2 pounds of jelly beans. And finally, they added enough gummy worms to double the weight once again. What was the final weight of the box of goodies, in pounds?', 'result': '16', 'template_name': 7, 'idx': 72}, {'problem': 'German Redondo created a care package to send to their brother, who was away at boarding school. German Redondo placed a box on a scale, and then they poured into the box enough jelly beans to bring the weight to 2 pounds. Then, they added enough brownies to cause the weight to triple. Next, they added another 2 pounds of jelly beans. And finally, they added enough gummy worms to double the weight once again. What was the final weight of the box of goodies, in pounds?', 'result': '16', 'template_name': 7, 'idx': 88}, {'problem': 'Yuri Valdez created a care package to send to their brother, who was away at boarding school. Yuri Valdez placed a box on a scale, and then they poured into the box enough jelly beans to bring the weight to 2 pounds. Then, they added enough brownies to cause the weight to triple. Next, they added another 2 pounds of jelly beans. And finally, they added enough gummy worms to double the weight once again. What was the final weight of the box of goodies, in pounds?', 'result': '16', 'template_name': 7, 'idx': 14}, {'problem': 'Theodore Aburto created a care package to send to their brother, who was away at boarding school. Theodore Aburto placed a box on a scale, and then they poured into the box enough jelly beans to bring the weight to 2 pounds. Then, they added enough brownies to cause the weight to triple. Next, they added another 2 pounds of jelly beans. And finally, they added enough gummy worms to double the weight once again. What was the final weight of the box of goodies, in pounds?', 'result': '16', 'template_name': 7, 'idx': 51}, {'problem': 'Doris Gooch created a care package to send to their brother, who was away at boarding school. Doris Gooch placed a box on a scale, and then they poured into the box enough jelly beans to bring the weight to 2 pounds. Then, they added enough brownies to cause the weight to triple. Next, they added another 2 pounds of jelly beans. And finally, they added enough gummy worms to double the weight once again. What was the final weight of the box of goodies, in pounds?', 'result': '16', 'template_name': 7, 'idx': 92}, {'problem': 'Mac Slattery created a care package to send to their brother, who was away at boarding school. Mac Slattery placed a box on a scale, and then they poured into the box enough jelly beans to bring the weight to 2 pounds. Then, they added enough brownies to cause the weight to triple. Next, they added another 2 pounds of jelly beans. And finally, they added enough gummy worms to double the weight once again. What was the final weight of the box of goodies, in pounds?', 'result': '16', 'template_name': 7, 'idx': 29}, {'problem': 'Grace Mims created a care package to send to their brother, who was away at boarding school. Grace Mims placed a box on a scale, and then they poured into the box enough jelly beans to bring the weight to 2 pounds. Then, they added enough brownies to cause the weight to triple. Next, they added another 2 pounds of jelly beans. And finally, they added enough gummy worms to double the weight once again. What was the final weight of the box of goodies, in pounds?', 'result': '16', 'template_name': 7, 'idx': 26}, {'problem': 'Becca Osborn created a care package to send to their brother, who was away at boarding school. Becca Osborn placed a box on a scale, and then they poured into the box enough jelly beans to bring the weight to 2 pounds. Then, they added enough brownies to cause the weight to triple. Next, they added another 2 pounds of jelly beans. And finally, they added enough gummy worms to double the weight once again. What was the final weight of the box of goodies, in pounds?', 'result': '16', 'template_name': 7, 'idx': 75}, {'problem': 'Collin Parsons created a care package to send to their brother, who was away at boarding school. Collin Parsons placed a box on a scale, and then they poured into the box enough jelly beans to bring the weight to 2 pounds. Then, they added enough brownies to cause the weight to triple. Next, they added another 2 pounds of jelly beans. And finally, they added enough gummy worms to double the weight once again. What was the final weight of the box of goodies, in pounds?', 'result': '16', 'template_name': 7, 'idx': 96}, {'problem': 'Juliana Sigala created a care package to send to their brother, who was away at boarding school. Juliana Sigala placed a box on a scale, and then they poured into the box enough jelly beans to bring the weight to 2 pounds. Then, they added enough brownies to cause the weight to triple. Next, they added another 2 pounds of jelly beans. And finally, they added enough gummy worms to double the weight once again. What was the final weight of the box of goodies, in pounds?', 'result': '16', 'template_name': 7, 'idx': 40}, {'problem': 'Elliot Juares created a care package to send to their brother, who was away at boarding school. Elliot Juares placed a box on a scale, and then they poured into the box enough jelly beans to bring the weight to 2 pounds. Then, they added enough brownies to cause the weight to triple. Next, they added another 2 pounds of jelly beans. And finally, they added enough gummy worms to double the weight once again. What was the final weight of the box of goodies, in pounds?', 'result': '16', 'template_name': 7, 'idx': 17}, {'problem': 'German Shafer created a care package to send to their brother, who was away at boarding school. German Shafer placed a box on a scale, and then they poured into the box enough jelly beans to bring the weight to 2 pounds. Then, they added enough brownies to cause the weight to triple. Next, they added another 2 pounds of jelly beans. And finally, they added enough gummy worms to double the weight once again. What was the final weight of the box of goodies, in pounds?', 'result': '16', 'template_name': 7, 'idx': 68}, {'problem': 'Maddie Dalessandro created a care package to send to their brother, who was away at boarding school. Maddie Dalessandro placed a box on a scale, and then they poured into the box enough jelly beans to bring the weight to 2 pounds. Then, they added enough brownies to cause the weight to triple. Next, they added another 2 pounds of jelly beans. And finally, they added enough gummy worms to double the weight once again. What was the final weight of the box of goodies, in pounds?', 'result': '16', 'template_name': 7, 'idx': 16}, {'problem': 'Nate Labrada created a care package to send to their brother, who was away at boarding school. Nate Labrada placed a box on a scale, and then they poured into the box enough jelly beans to bring the weight to 2 pounds. Then, they added enough brownies to cause the weight to triple. Next, they added another 2 pounds of jelly beans. And finally, they added enough gummy worms to double the weight once again. What was the final weight of the box of goodies, in pounds?', 'result': '16', 'template_name': 7, 'idx': 94}, {'problem': 'Kc Otis created a care package to send to their brother, who was away at boarding school. Kc Otis placed a box on a scale, and then they poured into the box enough jelly beans to bring the weight to 2 pounds. Then, they added enough brownies to cause the weight to triple. Next, they added another 2 pounds of jelly beans. And finally, they added enough gummy worms to double the weight once again. What was the final weight of the box of goodies, in pounds?', 'result': '16', 'template_name': 7, 'idx': 71}, {'problem': 'Chelsey Venkatesan created a care package to send to their brother, who was away at boarding school. Chelsey Venkatesan placed a box on a scale, and then they poured into the box enough jelly beans to bring the weight to 2 pounds. Then, they added enough brownies to cause the weight to triple. Next, they added another 2 pounds of jelly beans. And finally, they added enough gummy worms to double the weight once again. What was the final weight of the box of goodies, in pounds?', 'result': '16', 'template_name': 7, 'idx': 53}, {'problem': 'Marilu Laing created a care package to send to their brother, who was away at boarding school. Marilu Laing placed a box on a scale, and then they poured into the box enough jelly beans to bring the weight to 2 pounds. Then, they added enough brownies to cause the weight to triple. Next, they added another 2 pounds of jelly beans. And finally, they added enough gummy worms to double the weight once again. What was the final weight of the box of goodies, in pounds?', 'result': '16', 'template_name': 7, 'idx': 95}, {'problem': 'Eden Sanchez created a care package to send to their brother, who was away at boarding school. Eden Sanchez placed a box on a scale, and then they poured into the box enough jelly beans to bring the weight to 2 pounds. Then, they added enough brownies to cause the weight to triple. Next, they added another 2 pounds of jelly beans. And finally, they added enough gummy worms to double the weight once again. What was the final weight of the box of goodies, in pounds?', 'result': '16', 'template_name': 7, 'idx': 91}]\n",
      "\n",
      "[{'problem': 'Kristopher Papp is applying for a new job and bought a new set of business clothes to wear to the interview. They went to a department store with a budget of $200 and spent $30 on a button-up shirt, $46 on suit pants, $38 on a suit coat, $11 on socks, and $18 on a belt.They also purcahsed a pair of shoes, but lost the receipt for them. They have $16 left from their budget. How much did Kristopher Papp pay for the shoes?', 'result': '41', 'template_name': 8, 'idx': 13}, {'problem': 'Alana Tan is applying for a new job and bought a new set of business clothes to wear to the interview. They went to a department store with a budget of $200 and spent $30 on a button-up shirt, $46 on suit pants, $38 on a suit coat, $11 on socks, and $18 on a belt.They also purcahsed a pair of shoes, but lost the receipt for them. They have $16 left from their budget. How much did Alana Tan pay for the shoes?', 'result': '41', 'template_name': 8, 'idx': 24}, {'problem': 'Walter Virginia is applying for a new job and bought a new set of business clothes to wear to the interview. They went to a department store with a budget of $200 and spent $30 on a button-up shirt, $46 on suit pants, $38 on a suit coat, $11 on socks, and $18 on a belt.They also purcahsed a pair of shoes, but lost the receipt for them. They have $16 left from their budget. How much did Walter Virginia pay for the shoes?', 'result': '41', 'template_name': 8, 'idx': 99}, {'problem': 'Lupe Geiger is applying for a new job and bought a new set of business clothes to wear to the interview. They went to a department store with a budget of $200 and spent $30 on a button-up shirt, $46 on suit pants, $38 on a suit coat, $11 on socks, and $18 on a belt.They also purcahsed a pair of shoes, but lost the receipt for them. They have $16 left from their budget. How much did Lupe Geiger pay for the shoes?', 'result': '41', 'template_name': 8, 'idx': 30}, {'problem': 'Irvin Gongora is applying for a new job and bought a new set of business clothes to wear to the interview. They went to a department store with a budget of $200 and spent $30 on a button-up shirt, $46 on suit pants, $38 on a suit coat, $11 on socks, and $18 on a belt.They also purcahsed a pair of shoes, but lost the receipt for them. They have $16 left from their budget. How much did Irvin Gongora pay for the shoes?', 'result': '41', 'template_name': 8, 'idx': 36}, {'problem': 'Hanna Cantor is applying for a new job and bought a new set of business clothes to wear to the interview. They went to a department store with a budget of $200 and spent $30 on a button-up shirt, $46 on suit pants, $38 on a suit coat, $11 on socks, and $18 on a belt.They also purcahsed a pair of shoes, but lost the receipt for them. They have $16 left from their budget. How much did Hanna Cantor pay for the shoes?', 'result': '41', 'template_name': 8, 'idx': 77}, {'problem': 'Jaqueline Barakat is applying for a new job and bought a new set of business clothes to wear to the interview. They went to a department store with a budget of $200 and spent $30 on a button-up shirt, $46 on suit pants, $38 on a suit coat, $11 on socks, and $18 on a belt.They also purcahsed a pair of shoes, but lost the receipt for them. They have $16 left from their budget. How much did Jaqueline Barakat pay for the shoes?', 'result': '41', 'template_name': 8, 'idx': 82}, {'problem': 'Adam Kidder is applying for a new job and bought a new set of business clothes to wear to the interview. They went to a department store with a budget of $200 and spent $30 on a button-up shirt, $46 on suit pants, $38 on a suit coat, $11 on socks, and $18 on a belt.They also purcahsed a pair of shoes, but lost the receipt for them. They have $16 left from their budget. How much did Adam Kidder pay for the shoes?', 'result': '41', 'template_name': 8, 'idx': 10}, {'problem': 'Damaris Mayes is applying for a new job and bought a new set of business clothes to wear to the interview. They went to a department store with a budget of $200 and spent $30 on a button-up shirt, $46 on suit pants, $38 on a suit coat, $11 on socks, and $18 on a belt.They also purcahsed a pair of shoes, but lost the receipt for them. They have $16 left from their budget. How much did Damaris Mayes pay for the shoes?', 'result': '41', 'template_name': 8, 'idx': 15}, {'problem': 'Ernesto Lung is applying for a new job and bought a new set of business clothes to wear to the interview. They went to a department store with a budget of $200 and spent $30 on a button-up shirt, $46 on suit pants, $38 on a suit coat, $11 on socks, and $18 on a belt.They also purcahsed a pair of shoes, but lost the receipt for them. They have $16 left from their budget. How much did Ernesto Lung pay for the shoes?', 'result': '41', 'template_name': 8, 'idx': 5}, {'problem': 'Monica Georges is applying for a new job and bought a new set of business clothes to wear to the interview. They went to a department store with a budget of $200 and spent $30 on a button-up shirt, $46 on suit pants, $38 on a suit coat, $11 on socks, and $18 on a belt.They also purcahsed a pair of shoes, but lost the receipt for them. They have $16 left from their budget. How much did Monica Georges pay for the shoes?', 'result': '41', 'template_name': 8, 'idx': 83}, {'problem': 'Kitty Tina is applying for a new job and bought a new set of business clothes to wear to the interview. They went to a department store with a budget of $200 and spent $30 on a button-up shirt, $46 on suit pants, $38 on a suit coat, $11 on socks, and $18 on a belt.They also purcahsed a pair of shoes, but lost the receipt for them. They have $16 left from their budget. How much did Kitty Tina pay for the shoes?', 'result': '41', 'template_name': 8, 'idx': 54}, {'problem': 'German Shafer is applying for a new job and bought a new set of business clothes to wear to the interview. They went to a department store with a budget of $200 and spent $30 on a button-up shirt, $46 on suit pants, $38 on a suit coat, $11 on socks, and $18 on a belt.They also purcahsed a pair of shoes, but lost the receipt for them. They have $16 left from their budget. How much did German Shafer pay for the shoes?', 'result': '41', 'template_name': 8, 'idx': 68}, {'problem': 'Colin Sung is applying for a new job and bought a new set of business clothes to wear to the interview. They went to a department store with a budget of $200 and spent $30 on a button-up shirt, $46 on suit pants, $38 on a suit coat, $11 on socks, and $18 on a belt.They also purcahsed a pair of shoes, but lost the receipt for them. They have $16 left from their budget. How much did Colin Sung pay for the shoes?', 'result': '41', 'template_name': 8, 'idx': 18}, {'problem': 'Janelle Eddy is applying for a new job and bought a new set of business clothes to wear to the interview. They went to a department store with a budget of $200 and spent $30 on a button-up shirt, $46 on suit pants, $38 on a suit coat, $11 on socks, and $18 on a belt.They also purcahsed a pair of shoes, but lost the receipt for them. They have $16 left from their budget. How much did Janelle Eddy pay for the shoes?', 'result': '41', 'template_name': 8, 'idx': 89}, {'problem': 'Iris Krantz is applying for a new job and bought a new set of business clothes to wear to the interview. They went to a department store with a budget of $200 and spent $30 on a button-up shirt, $46 on suit pants, $38 on a suit coat, $11 on socks, and $18 on a belt.They also purcahsed a pair of shoes, but lost the receipt for them. They have $16 left from their budget. How much did Iris Krantz pay for the shoes?', 'result': '41', 'template_name': 8, 'idx': 72}, {'problem': 'Tariq Cordoba is applying for a new job and bought a new set of business clothes to wear to the interview. They went to a department store with a budget of $200 and spent $30 on a button-up shirt, $46 on suit pants, $38 on a suit coat, $11 on socks, and $18 on a belt.They also purcahsed a pair of shoes, but lost the receipt for them. They have $16 left from their budget. How much did Tariq Cordoba pay for the shoes?', 'result': '41', 'template_name': 8, 'idx': 80}, {'problem': 'Victoria Tavares is applying for a new job and bought a new set of business clothes to wear to the interview. They went to a department store with a budget of $200 and spent $30 on a button-up shirt, $46 on suit pants, $38 on a suit coat, $11 on socks, and $18 on a belt.They also purcahsed a pair of shoes, but lost the receipt for them. They have $16 left from their budget. How much did Victoria Tavares pay for the shoes?', 'result': '41', 'template_name': 8, 'idx': 84}, {'problem': 'Paulette Cantero is applying for a new job and bought a new set of business clothes to wear to the interview. They went to a department store with a budget of $200 and spent $30 on a button-up shirt, $46 on suit pants, $38 on a suit coat, $11 on socks, and $18 on a belt.They also purcahsed a pair of shoes, but lost the receipt for them. They have $16 left from their budget. How much did Paulette Cantero pay for the shoes?', 'result': '41', 'template_name': 8, 'idx': 69}, {'problem': 'Shana Rincon is applying for a new job and bought a new set of business clothes to wear to the interview. They went to a department store with a budget of $200 and spent $30 on a button-up shirt, $46 on suit pants, $38 on a suit coat, $11 on socks, and $18 on a belt.They also purcahsed a pair of shoes, but lost the receipt for them. They have $16 left from their budget. How much did Shana Rincon pay for the shoes?', 'result': '41', 'template_name': 8, 'idx': 48}]\n",
      "\n",
      "[{'problem': 'Theodore Aburto makes $18 an hour. If they work more than 8 hours per shift, they are eligible for overtime, which is paid by your hourly wage + 1/2 your hourly wage. If they work 10 hours every day for 5 days, how much money do they make?', 'result': '990.0', 'template_name': 9, 'idx': 51}, {'problem': 'Zoe Berger makes $18 an hour. If they work more than 8 hours per shift, they are eligible for overtime, which is paid by your hourly wage + 1/2 your hourly wage. If they work 10 hours every day for 5 days, how much money do they make?', 'result': '990.0', 'template_name': 9, 'idx': 31}, {'problem': 'Gina Isidoro makes $18 an hour. If they work more than 8 hours per shift, they are eligible for overtime, which is paid by your hourly wage + 1/2 your hourly wage. If they work 10 hours every day for 5 days, how much money do they make?', 'result': '990.0', 'template_name': 9, 'idx': 90}, {'problem': 'Frank Morel makes $18 an hour. If they work more than 8 hours per shift, they are eligible for overtime, which is paid by your hourly wage + 1/2 your hourly wage. If they work 10 hours every day for 5 days, how much money do they make?', 'result': '990.0', 'template_name': 9, 'idx': 7}, {'problem': 'Megan Jester makes $18 an hour. If they work more than 8 hours per shift, they are eligible for overtime, which is paid by your hourly wage + 1/2 your hourly wage. If they work 10 hours every day for 5 days, how much money do they make?', 'result': '990.0', 'template_name': 9, 'idx': 65}, {'problem': 'Noel Mei makes $18 an hour. If they work more than 8 hours per shift, they are eligible for overtime, which is paid by your hourly wage + 1/2 your hourly wage. If they work 10 hours every day for 5 days, how much money do they make?', 'result': '990.0', 'template_name': 9, 'idx': 57}, {'problem': 'Esmeralda Fagan makes $18 an hour. If they work more than 8 hours per shift, they are eligible for overtime, which is paid by your hourly wage + 1/2 your hourly wage. If they work 10 hours every day for 5 days, how much money do they make?', 'result': '990.0', 'template_name': 9, 'idx': 42}, {'problem': 'Collin Parsons makes $18 an hour. If they work more than 8 hours per shift, they are eligible for overtime, which is paid by your hourly wage + 1/2 your hourly wage. If they work 10 hours every day for 5 days, how much money do they make?', 'result': '990.0', 'template_name': 9, 'idx': 96}, {'problem': 'Shana Rincon makes $18 an hour. If they work more than 8 hours per shift, they are eligible for overtime, which is paid by your hourly wage + 1/2 your hourly wage. If they work 10 hours every day for 5 days, how much money do they make?', 'result': '990.0', 'template_name': 9, 'idx': 48}, {'problem': 'Damaris Mayes makes $18 an hour. If they work more than 8 hours per shift, they are eligible for overtime, which is paid by your hourly wage + 1/2 your hourly wage. If they work 10 hours every day for 5 days, how much money do they make?', 'result': '990.0', 'template_name': 9, 'idx': 15}, {'problem': 'Jeremiah Unruh makes $18 an hour. If they work more than 8 hours per shift, they are eligible for overtime, which is paid by your hourly wage + 1/2 your hourly wage. If they work 10 hours every day for 5 days, how much money do they make?', 'result': '990.0', 'template_name': 9, 'idx': 44}, {'problem': 'Stuart Shehata makes $18 an hour. If they work more than 8 hours per shift, they are eligible for overtime, which is paid by your hourly wage + 1/2 your hourly wage. If they work 10 hours every day for 5 days, how much money do they make?', 'result': '990.0', 'template_name': 9, 'idx': 97}, {'problem': 'Emma Lieberman makes $18 an hour. If they work more than 8 hours per shift, they are eligible for overtime, which is paid by your hourly wage + 1/2 your hourly wage. If they work 10 hours every day for 5 days, how much money do they make?', 'result': '990.0', 'template_name': 9, 'idx': 73}, {'problem': 'Harvey Jules makes $18 an hour. If they work more than 8 hours per shift, they are eligible for overtime, which is paid by your hourly wage + 1/2 your hourly wage. If they work 10 hours every day for 5 days, how much money do they make?', 'result': '990.0', 'template_name': 9, 'idx': 39}, {'problem': 'Salomon Darnell makes $18 an hour. If they work more than 8 hours per shift, they are eligible for overtime, which is paid by your hourly wage + 1/2 your hourly wage. If they work 10 hours every day for 5 days, how much money do they make?', 'result': '990.0', 'template_name': 9, 'idx': 12}, {'problem': 'Maddie Dalessandro makes $18 an hour. If they work more than 8 hours per shift, they are eligible for overtime, which is paid by your hourly wage + 1/2 your hourly wage. If they work 10 hours every day for 5 days, how much money do they make?', 'result': '990.0', 'template_name': 9, 'idx': 16}, {'problem': 'Levi Eby makes $18 an hour. If they work more than 8 hours per shift, they are eligible for overtime, which is paid by your hourly wage + 1/2 your hourly wage. If they work 10 hours every day for 5 days, how much money do they make?', 'result': '990.0', 'template_name': 9, 'idx': 55}, {'problem': 'Douglas Newby makes $18 an hour. If they work more than 8 hours per shift, they are eligible for overtime, which is paid by your hourly wage + 1/2 your hourly wage. If they work 10 hours every day for 5 days, how much money do they make?', 'result': '990.0', 'template_name': 9, 'idx': 79}, {'problem': 'Rosi Darr makes $18 an hour. If they work more than 8 hours per shift, they are eligible for overtime, which is paid by your hourly wage + 1/2 your hourly wage. If they work 10 hours every day for 5 days, how much money do they make?', 'result': '990.0', 'template_name': 9, 'idx': 46}, {'problem': 'Lorenzo Parish makes $18 an hour. If they work more than 8 hours per shift, they are eligible for overtime, which is paid by your hourly wage + 1/2 your hourly wage. If they work 10 hours every day for 5 days, how much money do they make?', 'result': '990.0', 'template_name': 9, 'idx': 58}]\n",
      "\n",
      "[{'problem': 'Harvey Jules is buying a new pair of shoes that costs $95. They have been saving up their money each month for the past 3 months. They get a $5 allowance a month. They also mow lawns and shovel driveways. They charge $15 to mow a lawn and $7 to shovel. After buying the shoes, they have $15 in change. If they mow 4 lawns, how many driveways did they shovel?', 'result': '5', 'template_name': 11, 'idx': 39}, {'problem': 'Alana Tan is buying a new pair of shoes that costs $95. They have been saving up their money each month for the past 3 months. They get a $5 allowance a month. They also mow lawns and shovel driveways. They charge $15 to mow a lawn and $7 to shovel. After buying the shoes, they have $15 in change. If they mow 4 lawns, how many driveways did they shovel?', 'result': '5', 'template_name': 11, 'idx': 24}, {'problem': 'German Shafer is buying a new pair of shoes that costs $95. They have been saving up their money each month for the past 3 months. They get a $5 allowance a month. They also mow lawns and shovel driveways. They charge $15 to mow a lawn and $7 to shovel. After buying the shoes, they have $15 in change. If they mow 4 lawns, how many driveways did they shovel?', 'result': '5', 'template_name': 11, 'idx': 68}, {'problem': 'Kenia Partridge is buying a new pair of shoes that costs $95. They have been saving up their money each month for the past 3 months. They get a $5 allowance a month. They also mow lawns and shovel driveways. They charge $15 to mow a lawn and $7 to shovel. After buying the shoes, they have $15 in change. If they mow 4 lawns, how many driveways did they shovel?', 'result': '5', 'template_name': 11, 'idx': 78}, {'problem': 'Johnathan Guido is buying a new pair of shoes that costs $95. They have been saving up their money each month for the past 3 months. They get a $5 allowance a month. They also mow lawns and shovel driveways. They charge $15 to mow a lawn and $7 to shovel. After buying the shoes, they have $15 in change. If they mow 4 lawns, how many driveways did they shovel?', 'result': '5', 'template_name': 11, 'idx': 2}, {'problem': 'Eden Sanchez is buying a new pair of shoes that costs $95. They have been saving up their money each month for the past 3 months. They get a $5 allowance a month. They also mow lawns and shovel driveways. They charge $15 to mow a lawn and $7 to shovel. After buying the shoes, they have $15 in change. If they mow 4 lawns, how many driveways did they shovel?', 'result': '5', 'template_name': 11, 'idx': 91}, {'problem': 'Levi Eby is buying a new pair of shoes that costs $95. They have been saving up their money each month for the past 3 months. They get a $5 allowance a month. They also mow lawns and shovel driveways. They charge $15 to mow a lawn and $7 to shovel. After buying the shoes, they have $15 in change. If they mow 4 lawns, how many driveways did they shovel?', 'result': '5', 'template_name': 11, 'idx': 55}, {'problem': 'Adam Kidder is buying a new pair of shoes that costs $95. They have been saving up their money each month for the past 3 months. They get a $5 allowance a month. They also mow lawns and shovel driveways. They charge $15 to mow a lawn and $7 to shovel. After buying the shoes, they have $15 in change. If they mow 4 lawns, how many driveways did they shovel?', 'result': '5', 'template_name': 11, 'idx': 10}, {'problem': 'Lorenzo Wynn is buying a new pair of shoes that costs $95. They have been saving up their money each month for the past 3 months. They get a $5 allowance a month. They also mow lawns and shovel driveways. They charge $15 to mow a lawn and $7 to shovel. After buying the shoes, they have $15 in change. If they mow 4 lawns, how many driveways did they shovel?', 'result': '5', 'template_name': 11, 'idx': 3}, {'problem': 'Irvin Gongora is buying a new pair of shoes that costs $95. They have been saving up their money each month for the past 3 months. They get a $5 allowance a month. They also mow lawns and shovel driveways. They charge $15 to mow a lawn and $7 to shovel. After buying the shoes, they have $15 in change. If they mow 4 lawns, how many driveways did they shovel?', 'result': '5', 'template_name': 11, 'idx': 36}, {'problem': 'Estrella Betancur is buying a new pair of shoes that costs $95. They have been saving up their money each month for the past 3 months. They get a $5 allowance a month. They also mow lawns and shovel driveways. They charge $15 to mow a lawn and $7 to shovel. After buying the shoes, they have $15 in change. If they mow 4 lawns, how many driveways did they shovel?', 'result': '5', 'template_name': 11, 'idx': 33}, {'problem': 'Janelle Eddy is buying a new pair of shoes that costs $95. They have been saving up their money each month for the past 3 months. They get a $5 allowance a month. They also mow lawns and shovel driveways. They charge $15 to mow a lawn and $7 to shovel. After buying the shoes, they have $15 in change. If they mow 4 lawns, how many driveways did they shovel?', 'result': '5', 'template_name': 11, 'idx': 89}, {'problem': 'Mac Slattery is buying a new pair of shoes that costs $95. They have been saving up their money each month for the past 3 months. They get a $5 allowance a month. They also mow lawns and shovel driveways. They charge $15 to mow a lawn and $7 to shovel. After buying the shoes, they have $15 in change. If they mow 4 lawns, how many driveways did they shovel?', 'result': '5', 'template_name': 11, 'idx': 29}, {'problem': 'Ernesto Lung is buying a new pair of shoes that costs $95. They have been saving up their money each month for the past 3 months. They get a $5 allowance a month. They also mow lawns and shovel driveways. They charge $15 to mow a lawn and $7 to shovel. After buying the shoes, they have $15 in change. If they mow 4 lawns, how many driveways did they shovel?', 'result': '5', 'template_name': 11, 'idx': 5}, {'problem': 'Dennis Jeffrey is buying a new pair of shoes that costs $95. They have been saving up their money each month for the past 3 months. They get a $5 allowance a month. They also mow lawns and shovel driveways. They charge $15 to mow a lawn and $7 to shovel. After buying the shoes, they have $15 in change. If they mow 4 lawns, how many driveways did they shovel?', 'result': '5', 'template_name': 11, 'idx': 52}, {'problem': 'Elliot Juares is buying a new pair of shoes that costs $95. They have been saving up their money each month for the past 3 months. They get a $5 allowance a month. They also mow lawns and shovel driveways. They charge $15 to mow a lawn and $7 to shovel. After buying the shoes, they have $15 in change. If they mow 4 lawns, how many driveways did they shovel?', 'result': '5', 'template_name': 11, 'idx': 17}, {'problem': 'Ceci Colson is buying a new pair of shoes that costs $95. They have been saving up their money each month for the past 3 months. They get a $5 allowance a month. They also mow lawns and shovel driveways. They charge $15 to mow a lawn and $7 to shovel. After buying the shoes, they have $15 in change. If they mow 4 lawns, how many driveways did they shovel?', 'result': '5', 'template_name': 11, 'idx': 27}, {'problem': 'Serena Binder is buying a new pair of shoes that costs $95. They have been saving up their money each month for the past 3 months. They get a $5 allowance a month. They also mow lawns and shovel driveways. They charge $15 to mow a lawn and $7 to shovel. After buying the shoes, they have $15 in change. If they mow 4 lawns, how many driveways did they shovel?', 'result': '5', 'template_name': 11, 'idx': 50}, {'problem': 'Juliana Sigala is buying a new pair of shoes that costs $95. They have been saving up their money each month for the past 3 months. They get a $5 allowance a month. They also mow lawns and shovel driveways. They charge $15 to mow a lawn and $7 to shovel. After buying the shoes, they have $15 in change. If they mow 4 lawns, how many driveways did they shovel?', 'result': '5', 'template_name': 11, 'idx': 40}, {'problem': 'Yuri Valdez is buying a new pair of shoes that costs $95. They have been saving up their money each month for the past 3 months. They get a $5 allowance a month. They also mow lawns and shovel driveways. They charge $15 to mow a lawn and $7 to shovel. After buying the shoes, they have $15 in change. If they mow 4 lawns, how many driveways did they shovel?', 'result': '5', 'template_name': 11, 'idx': 14}]\n",
      "\n",
      "[{'problem': 'Doris Gooch has 60 mango trees at their farm. They also have 5 less than half as many coconut trees as mango trees. How many items does Doris Gooch have on their farm?', 'result': '85', 'template_name': 12, 'idx': 92}, {'problem': 'Walter Virginia has 60 mango trees at their farm. They also have 5 less than half as many coconut trees as mango trees. How many items does Walter Virginia have on their farm?', 'result': '85', 'template_name': 12, 'idx': 99}, {'problem': 'Greg Kellogg has 60 mango trees at their farm. They also have 5 less than half as many coconut trees as mango trees. How many items does Greg Kellogg have on their farm?', 'result': '85', 'template_name': 12, 'idx': 32}, {'problem': 'Saad Schwartz has 60 mango trees at their farm. They also have 5 less than half as many coconut trees as mango trees. How many items does Saad Schwartz have on their farm?', 'result': '85', 'template_name': 12, 'idx': 6}, {'problem': 'Noel Mei has 60 mango trees at their farm. They also have 5 less than half as many coconut trees as mango trees. How many items does Noel Mei have on their farm?', 'result': '85', 'template_name': 12, 'idx': 57}, {'problem': 'Emma Lieberman has 60 mango trees at their farm. They also have 5 less than half as many coconut trees as mango trees. How many items does Emma Lieberman have on their farm?', 'result': '85', 'template_name': 12, 'idx': 73}, {'problem': 'Brad Grow has 60 mango trees at their farm. They also have 5 less than half as many coconut trees as mango trees. How many items does Brad Grow have on their farm?', 'result': '85', 'template_name': 12, 'idx': 28}, {'problem': 'Tre Wallis has 60 mango trees at their farm. They also have 5 less than half as many coconut trees as mango trees. How many items does Tre Wallis have on their farm?', 'result': '85', 'template_name': 12, 'idx': 45}, {'problem': 'Rosy Plascencia has 60 mango trees at their farm. They also have 5 less than half as many coconut trees as mango trees. How many items does Rosy Plascencia have on their farm?', 'result': '85', 'template_name': 12, 'idx': 0}, {'problem': 'Millie Mull has 60 mango trees at their farm. They also have 5 less than half as many coconut trees as mango trees. How many items does Millie Mull have on their farm?', 'result': '85', 'template_name': 12, 'idx': 86}, {'problem': 'Lorenzo Wynn has 60 mango trees at their farm. They also have 5 less than half as many coconut trees as mango trees. How many items does Lorenzo Wynn have on their farm?', 'result': '85', 'template_name': 12, 'idx': 3}, {'problem': 'Letty Damron has 60 mango trees at their farm. They also have 5 less than half as many coconut trees as mango trees. How many items does Letty Damron have on their farm?', 'result': '85', 'template_name': 12, 'idx': 59}, {'problem': 'Irvin Simms has 60 mango trees at their farm. They also have 5 less than half as many coconut trees as mango trees. How many items does Irvin Simms have on their farm?', 'result': '85', 'template_name': 12, 'idx': 21}, {'problem': 'Kitty Tina has 60 mango trees at their farm. They also have 5 less than half as many coconut trees as mango trees. How many items does Kitty Tina have on their farm?', 'result': '85', 'template_name': 12, 'idx': 54}, {'problem': 'Zoe Berger has 60 mango trees at their farm. They also have 5 less than half as many coconut trees as mango trees. How many items does Zoe Berger have on their farm?', 'result': '85', 'template_name': 12, 'idx': 31}, {'problem': 'Douglas Newby has 60 mango trees at their farm. They also have 5 less than half as many coconut trees as mango trees. How many items does Douglas Newby have on their farm?', 'result': '85', 'template_name': 12, 'idx': 79}, {'problem': 'Salomon Darnell has 60 mango trees at their farm. They also have 5 less than half as many coconut trees as mango trees. How many items does Salomon Darnell have on their farm?', 'result': '85', 'template_name': 12, 'idx': 12}, {'problem': 'Luke Banegas has 60 mango trees at their farm. They also have 5 less than half as many coconut trees as mango trees. How many items does Luke Banegas have on their farm?', 'result': '85', 'template_name': 12, 'idx': 20}, {'problem': 'Levi Eby has 60 mango trees at their farm. They also have 5 less than half as many coconut trees as mango trees. How many items does Levi Eby have on their farm?', 'result': '85', 'template_name': 12, 'idx': 55}, {'problem': 'Nora Cristobal has 60 mango trees at their farm. They also have 5 less than half as many coconut trees as mango trees. How many items does Nora Cristobal have on their farm?', 'result': '85', 'template_name': 12, 'idx': 23}]\n",
      "\n",
      "[{'problem': 'Janelle Eddy will serve charcuterie at their dinner party. They buy 2 pounds of cheddar cheese for $10, a pound of cream cheese that cost half the price of the cheddar cheese, and a pack of cold cuts that cost twice the price of the cheddar cheese. How much does Janelle Eddy spend on the ingredients?', 'result': '35', 'template_name': 13, 'idx': 89}, {'problem': 'Lou Arista will serve charcuterie at their dinner party. They buy 2 pounds of cheddar cheese for $10, a pound of cream cheese that cost half the price of the cheddar cheese, and a pack of cold cuts that cost twice the price of the cheddar cheese. How much does Lou Arista spend on the ingredients?', 'result': '35', 'template_name': 13, 'idx': 61}, {'problem': 'Esmeralda Fagan will serve charcuterie at their dinner party. They buy 2 pounds of cheddar cheese for $10, a pound of cream cheese that cost half the price of the cheddar cheese, and a pack of cold cuts that cost twice the price of the cheddar cheese. How much does Esmeralda Fagan spend on the ingredients?', 'result': '35', 'template_name': 13, 'idx': 42}, {'problem': 'Elliot Juares will serve charcuterie at their dinner party. They buy 2 pounds of cheddar cheese for $10, a pound of cream cheese that cost half the price of the cheddar cheese, and a pack of cold cuts that cost twice the price of the cheddar cheese. How much does Elliot Juares spend on the ingredients?', 'result': '35', 'template_name': 13, 'idx': 17}, {'problem': 'Kc Otis will serve charcuterie at their dinner party. They buy 2 pounds of cheddar cheese for $10, a pound of cream cheese that cost half the price of the cheddar cheese, and a pack of cold cuts that cost twice the price of the cheddar cheese. How much does Kc Otis spend on the ingredients?', 'result': '35', 'template_name': 13, 'idx': 71}, {'problem': 'Irma Li will serve charcuterie at their dinner party. They buy 2 pounds of cheddar cheese for $10, a pound of cream cheese that cost half the price of the cheddar cheese, and a pack of cold cuts that cost twice the price of the cheddar cheese. How much does Irma Li spend on the ingredients?', 'result': '35', 'template_name': 13, 'idx': 74}, {'problem': 'Lorenzo Parish will serve charcuterie at their dinner party. They buy 2 pounds of cheddar cheese for $10, a pound of cream cheese that cost half the price of the cheddar cheese, and a pack of cold cuts that cost twice the price of the cheddar cheese. How much does Lorenzo Parish spend on the ingredients?', 'result': '35', 'template_name': 13, 'idx': 58}, {'problem': 'Hanna Cantor will serve charcuterie at their dinner party. They buy 2 pounds of cheddar cheese for $10, a pound of cream cheese that cost half the price of the cheddar cheese, and a pack of cold cuts that cost twice the price of the cheddar cheese. How much does Hanna Cantor spend on the ingredients?', 'result': '35', 'template_name': 13, 'idx': 77}, {'problem': 'Rosy Plascencia will serve charcuterie at their dinner party. They buy 2 pounds of cheddar cheese for $10, a pound of cream cheese that cost half the price of the cheddar cheese, and a pack of cold cuts that cost twice the price of the cheddar cheese. How much does Rosy Plascencia spend on the ingredients?', 'result': '35', 'template_name': 13, 'idx': 0}, {'problem': 'Dennis Jeffrey will serve charcuterie at their dinner party. They buy 2 pounds of cheddar cheese for $10, a pound of cream cheese that cost half the price of the cheddar cheese, and a pack of cold cuts that cost twice the price of the cheddar cheese. How much does Dennis Jeffrey spend on the ingredients?', 'result': '35', 'template_name': 13, 'idx': 52}, {'problem': 'Ceci Colson will serve charcuterie at their dinner party. They buy 2 pounds of cheddar cheese for $10, a pound of cream cheese that cost half the price of the cheddar cheese, and a pack of cold cuts that cost twice the price of the cheddar cheese. How much does Ceci Colson spend on the ingredients?', 'result': '35', 'template_name': 13, 'idx': 27}, {'problem': 'Nate Labrada will serve charcuterie at their dinner party. They buy 2 pounds of cheddar cheese for $10, a pound of cream cheese that cost half the price of the cheddar cheese, and a pack of cold cuts that cost twice the price of the cheddar cheese. How much does Nate Labrada spend on the ingredients?', 'result': '35', 'template_name': 13, 'idx': 94}, {'problem': 'Gina Isidoro will serve charcuterie at their dinner party. They buy 2 pounds of cheddar cheese for $10, a pound of cream cheese that cost half the price of the cheddar cheese, and a pack of cold cuts that cost twice the price of the cheddar cheese. How much does Gina Isidoro spend on the ingredients?', 'result': '35', 'template_name': 13, 'idx': 90}, {'problem': 'Victoria Tavares will serve charcuterie at their dinner party. They buy 2 pounds of cheddar cheese for $10, a pound of cream cheese that cost half the price of the cheddar cheese, and a pack of cold cuts that cost twice the price of the cheddar cheese. How much does Victoria Tavares spend on the ingredients?', 'result': '35', 'template_name': 13, 'idx': 84}, {'problem': 'Cristina Boogie will serve charcuterie at their dinner party. They buy 2 pounds of cheddar cheese for $10, a pound of cream cheese that cost half the price of the cheddar cheese, and a pack of cold cuts that cost twice the price of the cheddar cheese. How much does Cristina Boogie spend on the ingredients?', 'result': '35', 'template_name': 13, 'idx': 60}, {'problem': 'Jt Gumbs will serve charcuterie at their dinner party. They buy 2 pounds of cheddar cheese for $10, a pound of cream cheese that cost half the price of the cheddar cheese, and a pack of cold cuts that cost twice the price of the cheddar cheese. How much does Jt Gumbs spend on the ingredients?', 'result': '35', 'template_name': 13, 'idx': 63}, {'problem': 'Yuri Valdez will serve charcuterie at their dinner party. They buy 2 pounds of cheddar cheese for $10, a pound of cream cheese that cost half the price of the cheddar cheese, and a pack of cold cuts that cost twice the price of the cheddar cheese. How much does Yuri Valdez spend on the ingredients?', 'result': '35', 'template_name': 13, 'idx': 14}, {'problem': 'Damaris Mayes will serve charcuterie at their dinner party. They buy 2 pounds of cheddar cheese for $10, a pound of cream cheese that cost half the price of the cheddar cheese, and a pack of cold cuts that cost twice the price of the cheddar cheese. How much does Damaris Mayes spend on the ingredients?', 'result': '35', 'template_name': 13, 'idx': 15}, {'problem': 'Elvis Oldham will serve charcuterie at their dinner party. They buy 2 pounds of cheddar cheese for $10, a pound of cream cheese that cost half the price of the cheddar cheese, and a pack of cold cuts that cost twice the price of the cheddar cheese. How much does Elvis Oldham spend on the ingredients?', 'result': '35', 'template_name': 13, 'idx': 47}, {'problem': 'Lorenzo Wynn will serve charcuterie at their dinner party. They buy 2 pounds of cheddar cheese for $10, a pound of cream cheese that cost half the price of the cheddar cheese, and a pack of cold cuts that cost twice the price of the cheddar cheese. How much does Lorenzo Wynn spend on the ingredients?', 'result': '35', 'template_name': 13, 'idx': 3}]\n",
      "\n",
      "[{'problem': 'Lupe Geiger can read 8 pages of a book in 20 minutes. How many hours will it take them to read 120 pages?', 'result': '5', 'template_name': 14, 'idx': 30}, {'problem': 'Douglas Newby can read 8 pages of a book in 20 minutes. How many hours will it take them to read 120 pages?', 'result': '5', 'template_name': 14, 'idx': 79}, {'problem': 'Mo Lam can read 8 pages of a book in 20 minutes. How many hours will it take them to read 120 pages?', 'result': '5', 'template_name': 14, 'idx': 49}, {'problem': 'Misty Mcclain can read 8 pages of a book in 20 minutes. How many hours will it take them to read 120 pages?', 'result': '5', 'template_name': 14, 'idx': 41}, {'problem': 'Lou Arista can read 8 pages of a book in 20 minutes. How many hours will it take them to read 120 pages?', 'result': '5', 'template_name': 14, 'idx': 61}, {'problem': 'Simone Ruff can read 8 pages of a book in 20 minutes. How many hours will it take them to read 120 pages?', 'result': '5', 'template_name': 14, 'idx': 8}, {'problem': 'Monica Georges can read 8 pages of a book in 20 minutes. How many hours will it take them to read 120 pages?', 'result': '5', 'template_name': 14, 'idx': 83}, {'problem': 'Theodore Aburto can read 8 pages of a book in 20 minutes. How many hours will it take them to read 120 pages?', 'result': '5', 'template_name': 14, 'idx': 51}, {'problem': 'Emma Lieberman can read 8 pages of a book in 20 minutes. How many hours will it take them to read 120 pages?', 'result': '5', 'template_name': 14, 'idx': 73}, {'problem': 'Brad Grow can read 8 pages of a book in 20 minutes. How many hours will it take them to read 120 pages?', 'result': '5', 'template_name': 14, 'idx': 28}, {'problem': 'Ty Ru can read 8 pages of a book in 20 minutes. How many hours will it take them to read 120 pages?', 'result': '5', 'template_name': 14, 'idx': 38}, {'problem': 'Cristina Boogie can read 8 pages of a book in 20 minutes. How many hours will it take them to read 120 pages?', 'result': '5', 'template_name': 14, 'idx': 60}, {'problem': 'Kenia Partridge can read 8 pages of a book in 20 minutes. How many hours will it take them to read 120 pages?', 'result': '5', 'template_name': 14, 'idx': 78}, {'problem': 'Marilu Laing can read 8 pages of a book in 20 minutes. How many hours will it take them to read 120 pages?', 'result': '5', 'template_name': 14, 'idx': 95}, {'problem': 'Iris Krantz can read 8 pages of a book in 20 minutes. How many hours will it take them to read 120 pages?', 'result': '5', 'template_name': 14, 'idx': 72}, {'problem': 'Sunny Mcginn can read 8 pages of a book in 20 minutes. How many hours will it take them to read 120 pages?', 'result': '5', 'template_name': 14, 'idx': 11}, {'problem': 'Saad Schwartz can read 8 pages of a book in 20 minutes. How many hours will it take them to read 120 pages?', 'result': '5', 'template_name': 14, 'idx': 6}, {'problem': 'Kristopher Papp can read 8 pages of a book in 20 minutes. How many hours will it take them to read 120 pages?', 'result': '5', 'template_name': 14, 'idx': 13}, {'problem': 'Quincy Gutman can read 8 pages of a book in 20 minutes. How many hours will it take them to read 120 pages?', 'result': '5', 'template_name': 14, 'idx': 62}, {'problem': 'Ernesto Lung can read 8 pages of a book in 20 minutes. How many hours will it take them to read 120 pages?', 'result': '5', 'template_name': 14, 'idx': 5}]\n",
      "\n",
      "[{'problem': 'German Shafer creates a media empire. They create a movie for $2000. Each DVD costs $6 to make. German Shafer sells it for 2.5 times that much. They sell 500 movies a day for 5 days a week. How much profit does German Shafer make in 20 weeks?', 'result': '448000.0', 'template_name': 15, 'idx': 68}, {'problem': 'Rosi Darr creates a media empire. They create a movie for $2000. Each DVD costs $6 to make. Rosi Darr sells it for 2.5 times that much. They sell 500 movies a day for 5 days a week. How much profit does Rosi Darr make in 20 weeks?', 'result': '448000.0', 'template_name': 15, 'idx': 46}, {'problem': 'Millie Mull creates a media empire. They create a movie for $2000. Each DVD costs $6 to make. Millie Mull sells it for 2.5 times that much. They sell 500 movies a day for 5 days a week. How much profit does Millie Mull make in 20 weeks?', 'result': '448000.0', 'template_name': 15, 'idx': 86}, {'problem': 'Victoria Tavares creates a media empire. They create a movie for $2000. Each DVD costs $6 to make. Victoria Tavares sells it for 2.5 times that much. They sell 500 movies a day for 5 days a week. How much profit does Victoria Tavares make in 20 weeks?', 'result': '448000.0', 'template_name': 15, 'idx': 84}, {'problem': 'Damaris Mayes creates a media empire. They create a movie for $2000. Each DVD costs $6 to make. Damaris Mayes sells it for 2.5 times that much. They sell 500 movies a day for 5 days a week. How much profit does Damaris Mayes make in 20 weeks?', 'result': '448000.0', 'template_name': 15, 'idx': 15}, {'problem': 'Juliana Sigala creates a media empire. They create a movie for $2000. Each DVD costs $6 to make. Juliana Sigala sells it for 2.5 times that much. They sell 500 movies a day for 5 days a week. How much profit does Juliana Sigala make in 20 weeks?', 'result': '448000.0', 'template_name': 15, 'idx': 40}, {'problem': 'Rene Bangura creates a media empire. They create a movie for $2000. Each DVD costs $6 to make. Rene Bangura sells it for 2.5 times that much. They sell 500 movies a day for 5 days a week. How much profit does Rene Bangura make in 20 weeks?', 'result': '448000.0', 'template_name': 15, 'idx': 34}, {'problem': 'Stuart Shehata creates a media empire. They create a movie for $2000. Each DVD costs $6 to make. Stuart Shehata sells it for 2.5 times that much. They sell 500 movies a day for 5 days a week. How much profit does Stuart Shehata make in 20 weeks?', 'result': '448000.0', 'template_name': 15, 'idx': 97}, {'problem': 'Collin Parsons creates a media empire. They create a movie for $2000. Each DVD costs $6 to make. Collin Parsons sells it for 2.5 times that much. They sell 500 movies a day for 5 days a week. How much profit does Collin Parsons make in 20 weeks?', 'result': '448000.0', 'template_name': 15, 'idx': 96}, {'problem': 'Nate Labrada creates a media empire. They create a movie for $2000. Each DVD costs $6 to make. Nate Labrada sells it for 2.5 times that much. They sell 500 movies a day for 5 days a week. How much profit does Nate Labrada make in 20 weeks?', 'result': '448000.0', 'template_name': 15, 'idx': 94}, {'problem': 'Tre Wallis creates a media empire. They create a movie for $2000. Each DVD costs $6 to make. Tre Wallis sells it for 2.5 times that much. They sell 500 movies a day for 5 days a week. How much profit does Tre Wallis make in 20 weeks?', 'result': '448000.0', 'template_name': 15, 'idx': 45}, {'problem': 'Micaela Shepard creates a media empire. They create a movie for $2000. Each DVD costs $6 to make. Micaela Shepard sells it for 2.5 times that much. They sell 500 movies a day for 5 days a week. How much profit does Micaela Shepard make in 20 weeks?', 'result': '448000.0', 'template_name': 15, 'idx': 35}, {'problem': 'Grace Mims creates a media empire. They create a movie for $2000. Each DVD costs $6 to make. Grace Mims sells it for 2.5 times that much. They sell 500 movies a day for 5 days a week. How much profit does Grace Mims make in 20 weeks?', 'result': '448000.0', 'template_name': 15, 'idx': 26}, {'problem': 'Nora Cristobal creates a media empire. They create a movie for $2000. Each DVD costs $6 to make. Nora Cristobal sells it for 2.5 times that much. They sell 500 movies a day for 5 days a week. How much profit does Nora Cristobal make in 20 weeks?', 'result': '448000.0', 'template_name': 15, 'idx': 23}, {'problem': 'Esmeralda Fagan creates a media empire. They create a movie for $2000. Each DVD costs $6 to make. Esmeralda Fagan sells it for 2.5 times that much. They sell 500 movies a day for 5 days a week. How much profit does Esmeralda Fagan make in 20 weeks?', 'result': '448000.0', 'template_name': 15, 'idx': 42}, {'problem': 'Irvin Gongora creates a media empire. They create a movie for $2000. Each DVD costs $6 to make. Irvin Gongora sells it for 2.5 times that much. They sell 500 movies a day for 5 days a week. How much profit does Irvin Gongora make in 20 weeks?', 'result': '448000.0', 'template_name': 15, 'idx': 36}, {'problem': 'Lizette Labra creates a media empire. They create a movie for $2000. Each DVD costs $6 to make. Lizette Labra sells it for 2.5 times that much. They sell 500 movies a day for 5 days a week. How much profit does Lizette Labra make in 20 weeks?', 'result': '448000.0', 'template_name': 15, 'idx': 19}, {'problem': 'Jenna Gaines creates a media empire. They create a movie for $2000. Each DVD costs $6 to make. Jenna Gaines sells it for 2.5 times that much. They sell 500 movies a day for 5 days a week. How much profit does Jenna Gaines make in 20 weeks?', 'result': '448000.0', 'template_name': 15, 'idx': 70}, {'problem': 'Lupe Geiger creates a media empire. They create a movie for $2000. Each DVD costs $6 to make. Lupe Geiger sells it for 2.5 times that much. They sell 500 movies a day for 5 days a week. How much profit does Lupe Geiger make in 20 weeks?', 'result': '448000.0', 'template_name': 15, 'idx': 30}, {'problem': 'Baltazar Calel creates a media empire. They create a movie for $2000. Each DVD costs $6 to make. Baltazar Calel sells it for 2.5 times that much. They sell 500 movies a day for 5 days a week. How much profit does Baltazar Calel make in 20 weeks?', 'result': '448000.0', 'template_name': 15, 'idx': 37}]\n",
      "\n",
      "[{'problem': 'Grace Mims rides their bike back and forth to work for each of their 5 workdays. Their work is 20 miles away. They also go for a weekend bike ride of 200 miles. If they can bike at 25 mph how much time do they spend biking a week?', 'result': '16', 'template_name': 19, 'idx': 26}, {'problem': 'Elba De Guzman rides their bike back and forth to work for each of their 5 workdays. Their work is 20 miles away. They also go for a weekend bike ride of 200 miles. If they can bike at 25 mph how much time do they spend biking a week?', 'result': '16', 'template_name': 19, 'idx': 85}, {'problem': 'Ty Ru rides their bike back and forth to work for each of their 5 workdays. Their work is 20 miles away. They also go for a weekend bike ride of 200 miles. If they can bike at 25 mph how much time do they spend biking a week?', 'result': '16', 'template_name': 19, 'idx': 38}, {'problem': 'Tariq Cordoba rides their bike back and forth to work for each of their 5 workdays. Their work is 20 miles away. They also go for a weekend bike ride of 200 miles. If they can bike at 25 mph how much time do they spend biking a week?', 'result': '16', 'template_name': 19, 'idx': 80}, {'problem': 'Collin Parsons rides their bike back and forth to work for each of their 5 workdays. Their work is 20 miles away. They also go for a weekend bike ride of 200 miles. If they can bike at 25 mph how much time do they spend biking a week?', 'result': '16', 'template_name': 19, 'idx': 96}, {'problem': 'Serena Binder rides their bike back and forth to work for each of their 5 workdays. Their work is 20 miles away. They also go for a weekend bike ride of 200 miles. If they can bike at 25 mph how much time do they spend biking a week?', 'result': '16', 'template_name': 19, 'idx': 50}, {'problem': 'Walter Virginia rides their bike back and forth to work for each of their 5 workdays. Their work is 20 miles away. They also go for a weekend bike ride of 200 miles. If they can bike at 25 mph how much time do they spend biking a week?', 'result': '16', 'template_name': 19, 'idx': 99}, {'problem': 'Lou Arista rides their bike back and forth to work for each of their 5 workdays. Their work is 20 miles away. They also go for a weekend bike ride of 200 miles. If they can bike at 25 mph how much time do they spend biking a week?', 'result': '16', 'template_name': 19, 'idx': 61}, {'problem': 'Shana Rincon rides their bike back and forth to work for each of their 5 workdays. Their work is 20 miles away. They also go for a weekend bike ride of 200 miles. If they can bike at 25 mph how much time do they spend biking a week?', 'result': '16', 'template_name': 19, 'idx': 48}, {'problem': 'Selina Bean rides their bike back and forth to work for each of their 5 workdays. Their work is 20 miles away. They also go for a weekend bike ride of 200 miles. If they can bike at 25 mph how much time do they spend biking a week?', 'result': '16', 'template_name': 19, 'idx': 98}, {'problem': 'German Shafer rides their bike back and forth to work for each of their 5 workdays. Their work is 20 miles away. They also go for a weekend bike ride of 200 miles. If they can bike at 25 mph how much time do they spend biking a week?', 'result': '16', 'template_name': 19, 'idx': 68}, {'problem': 'Quincy Gutman rides their bike back and forth to work for each of their 5 workdays. Their work is 20 miles away. They also go for a weekend bike ride of 200 miles. If they can bike at 25 mph how much time do they spend biking a week?', 'result': '16', 'template_name': 19, 'idx': 62}, {'problem': 'Kenia Partridge rides their bike back and forth to work for each of their 5 workdays. Their work is 20 miles away. They also go for a weekend bike ride of 200 miles. If they can bike at 25 mph how much time do they spend biking a week?', 'result': '16', 'template_name': 19, 'idx': 78}, {'problem': 'Kc Otis rides their bike back and forth to work for each of their 5 workdays. Their work is 20 miles away. They also go for a weekend bike ride of 200 miles. If they can bike at 25 mph how much time do they spend biking a week?', 'result': '16', 'template_name': 19, 'idx': 71}, {'problem': 'Lorenzo Wynn rides their bike back and forth to work for each of their 5 workdays. Their work is 20 miles away. They also go for a weekend bike ride of 200 miles. If they can bike at 25 mph how much time do they spend biking a week?', 'result': '16', 'template_name': 19, 'idx': 3}, {'problem': 'Irvin Simms rides their bike back and forth to work for each of their 5 workdays. Their work is 20 miles away. They also go for a weekend bike ride of 200 miles. If they can bike at 25 mph how much time do they spend biking a week?', 'result': '16', 'template_name': 19, 'idx': 21}, {'problem': 'Colin Sung rides their bike back and forth to work for each of their 5 workdays. Their work is 20 miles away. They also go for a weekend bike ride of 200 miles. If they can bike at 25 mph how much time do they spend biking a week?', 'result': '16', 'template_name': 19, 'idx': 18}, {'problem': 'Juliana Sigala rides their bike back and forth to work for each of their 5 workdays. Their work is 20 miles away. They also go for a weekend bike ride of 200 miles. If they can bike at 25 mph how much time do they spend biking a week?', 'result': '16', 'template_name': 19, 'idx': 40}, {'problem': 'Rosi Darr rides their bike back and forth to work for each of their 5 workdays. Their work is 20 miles away. They also go for a weekend bike ride of 200 miles. If they can bike at 25 mph how much time do they spend biking a week?', 'result': '16', 'template_name': 19, 'idx': 46}, {'problem': 'Maddie Dalessandro rides their bike back and forth to work for each of their 5 workdays. Their work is 20 miles away. They also go for a weekend bike ride of 200 miles. If they can bike at 25 mph how much time do they spend biking a week?', 'result': '16', 'template_name': 19, 'idx': 16}]\n",
      "\n",
      "[{'problem': 'Maddie Dalessandro bought stamps at the post office. Some of the stamps had a snowflake design, some had a truck design, and some had a rose design. Maddie Dalessandro bought 11 snowflake stamps. They bought 9 more truck stamps than snowflake stamps, and 13 fewer rose stamps than truck stamps. How many stamps did Maddie Dalessandro buy in all?', 'result': '38', 'template_name': 20, 'idx': 16}, {'problem': 'Cindy Herd bought stamps at the post office. Some of the stamps had a snowflake design, some had a truck design, and some had a rose design. Cindy Herd bought 11 snowflake stamps. They bought 9 more truck stamps than snowflake stamps, and 13 fewer rose stamps than truck stamps. How many stamps did Cindy Herd buy in all?', 'result': '38', 'template_name': 20, 'idx': 9}, {'problem': 'Lupe Geiger bought stamps at the post office. Some of the stamps had a snowflake design, some had a truck design, and some had a rose design. Lupe Geiger bought 11 snowflake stamps. They bought 9 more truck stamps than snowflake stamps, and 13 fewer rose stamps than truck stamps. How many stamps did Lupe Geiger buy in all?', 'result': '38', 'template_name': 20, 'idx': 30}, {'problem': 'Micaela Shepard bought stamps at the post office. Some of the stamps had a snowflake design, some had a truck design, and some had a rose design. Micaela Shepard bought 11 snowflake stamps. They bought 9 more truck stamps than snowflake stamps, and 13 fewer rose stamps than truck stamps. How many stamps did Micaela Shepard buy in all?', 'result': '38', 'template_name': 20, 'idx': 35}, {'problem': 'Dennis Jeffrey bought stamps at the post office. Some of the stamps had a snowflake design, some had a truck design, and some had a rose design. Dennis Jeffrey bought 11 snowflake stamps. They bought 9 more truck stamps than snowflake stamps, and 13 fewer rose stamps than truck stamps. How many stamps did Dennis Jeffrey buy in all?', 'result': '38', 'template_name': 20, 'idx': 52}, {'problem': 'Alana Tan bought stamps at the post office. Some of the stamps had a snowflake design, some had a truck design, and some had a rose design. Alana Tan bought 11 snowflake stamps. They bought 9 more truck stamps than snowflake stamps, and 13 fewer rose stamps than truck stamps. How many stamps did Alana Tan buy in all?', 'result': '38', 'template_name': 20, 'idx': 24}, {'problem': 'Marisa Yearwood bought stamps at the post office. Some of the stamps had a snowflake design, some had a truck design, and some had a rose design. Marisa Yearwood bought 11 snowflake stamps. They bought 9 more truck stamps than snowflake stamps, and 13 fewer rose stamps than truck stamps. How many stamps did Marisa Yearwood buy in all?', 'result': '38', 'template_name': 20, 'idx': 4}, {'problem': 'Yuri Valdez bought stamps at the post office. Some of the stamps had a snowflake design, some had a truck design, and some had a rose design. Yuri Valdez bought 11 snowflake stamps. They bought 9 more truck stamps than snowflake stamps, and 13 fewer rose stamps than truck stamps. How many stamps did Yuri Valdez buy in all?', 'result': '38', 'template_name': 20, 'idx': 14}, {'problem': 'Greg Kellogg bought stamps at the post office. Some of the stamps had a snowflake design, some had a truck design, and some had a rose design. Greg Kellogg bought 11 snowflake stamps. They bought 9 more truck stamps than snowflake stamps, and 13 fewer rose stamps than truck stamps. How many stamps did Greg Kellogg buy in all?', 'result': '38', 'template_name': 20, 'idx': 32}, {'problem': 'Zoe Berger bought stamps at the post office. Some of the stamps had a snowflake design, some had a truck design, and some had a rose design. Zoe Berger bought 11 snowflake stamps. They bought 9 more truck stamps than snowflake stamps, and 13 fewer rose stamps than truck stamps. How many stamps did Zoe Berger buy in all?', 'result': '38', 'template_name': 20, 'idx': 31}, {'problem': 'Esmeralda Fagan bought stamps at the post office. Some of the stamps had a snowflake design, some had a truck design, and some had a rose design. Esmeralda Fagan bought 11 snowflake stamps. They bought 9 more truck stamps than snowflake stamps, and 13 fewer rose stamps than truck stamps. How many stamps did Esmeralda Fagan buy in all?', 'result': '38', 'template_name': 20, 'idx': 42}, {'problem': 'Johnathan Guido bought stamps at the post office. Some of the stamps had a snowflake design, some had a truck design, and some had a rose design. Johnathan Guido bought 11 snowflake stamps. They bought 9 more truck stamps than snowflake stamps, and 13 fewer rose stamps than truck stamps. How many stamps did Johnathan Guido buy in all?', 'result': '38', 'template_name': 20, 'idx': 2}, {'problem': 'Ricky Hinojosa bought stamps at the post office. Some of the stamps had a snowflake design, some had a truck design, and some had a rose design. Ricky Hinojosa bought 11 snowflake stamps. They bought 9 more truck stamps than snowflake stamps, and 13 fewer rose stamps than truck stamps. How many stamps did Ricky Hinojosa buy in all?', 'result': '38', 'template_name': 20, 'idx': 66}, {'problem': 'Doris Gooch bought stamps at the post office. Some of the stamps had a snowflake design, some had a truck design, and some had a rose design. Doris Gooch bought 11 snowflake stamps. They bought 9 more truck stamps than snowflake stamps, and 13 fewer rose stamps than truck stamps. How many stamps did Doris Gooch buy in all?', 'result': '38', 'template_name': 20, 'idx': 92}, {'problem': 'Paulette Cantero bought stamps at the post office. Some of the stamps had a snowflake design, some had a truck design, and some had a rose design. Paulette Cantero bought 11 snowflake stamps. They bought 9 more truck stamps than snowflake stamps, and 13 fewer rose stamps than truck stamps. How many stamps did Paulette Cantero buy in all?', 'result': '38', 'template_name': 20, 'idx': 69}, {'problem': 'Salomon Darnell bought stamps at the post office. Some of the stamps had a snowflake design, some had a truck design, and some had a rose design. Salomon Darnell bought 11 snowflake stamps. They bought 9 more truck stamps than snowflake stamps, and 13 fewer rose stamps than truck stamps. How many stamps did Salomon Darnell buy in all?', 'result': '38', 'template_name': 20, 'idx': 12}, {'problem': 'Rosi Darr bought stamps at the post office. Some of the stamps had a snowflake design, some had a truck design, and some had a rose design. Rosi Darr bought 11 snowflake stamps. They bought 9 more truck stamps than snowflake stamps, and 13 fewer rose stamps than truck stamps. How many stamps did Rosi Darr buy in all?', 'result': '38', 'template_name': 20, 'idx': 46}, {'problem': 'Les De Hoyos bought stamps at the post office. Some of the stamps had a snowflake design, some had a truck design, and some had a rose design. Les De Hoyos bought 11 snowflake stamps. They bought 9 more truck stamps than snowflake stamps, and 13 fewer rose stamps than truck stamps. How many stamps did Les De Hoyos buy in all?', 'result': '38', 'template_name': 20, 'idx': 22}, {'problem': 'Chelsey Venkatesan bought stamps at the post office. Some of the stamps had a snowflake design, some had a truck design, and some had a rose design. Chelsey Venkatesan bought 11 snowflake stamps. They bought 9 more truck stamps than snowflake stamps, and 13 fewer rose stamps than truck stamps. How many stamps did Chelsey Venkatesan buy in all?', 'result': '38', 'template_name': 20, 'idx': 53}, {'problem': 'Gina Isidoro bought stamps at the post office. Some of the stamps had a snowflake design, some had a truck design, and some had a rose design. Gina Isidoro bought 11 snowflake stamps. They bought 9 more truck stamps than snowflake stamps, and 13 fewer rose stamps than truck stamps. How many stamps did Gina Isidoro buy in all?', 'result': '38', 'template_name': 20, 'idx': 90}]\n",
      "\n",
      "[{'problem': \"Chelsey Venkatesan's favorite store was having a summer clearance. For $75 they bought 5 pairs of shorts for $7 each and 2 pairs of shoes for $10 each. They also bought 4 tops, all at the same price. How much did each top cost?\", 'result': '5', 'template_name': 23, 'idx': 53}, {'problem': \"Collin Parsons's favorite store was having a summer clearance. For $75 they bought 5 pairs of shorts for $7 each and 2 pairs of shoes for $10 each. They also bought 4 tops, all at the same price. How much did each top cost?\", 'result': '5', 'template_name': 23, 'idx': 96}, {'problem': \"Mac Slattery's favorite store was having a summer clearance. For $75 they bought 5 pairs of shorts for $7 each and 2 pairs of shoes for $10 each. They also bought 4 tops, all at the same price. How much did each top cost?\", 'result': '5', 'template_name': 23, 'idx': 29}, {'problem': \"Paulette Cantero's favorite store was having a summer clearance. For $75 they bought 5 pairs of shorts for $7 each and 2 pairs of shoes for $10 each. They also bought 4 tops, all at the same price. How much did each top cost?\", 'result': '5', 'template_name': 23, 'idx': 69}, {'problem': \"Damaris Mayes's favorite store was having a summer clearance. For $75 they bought 5 pairs of shorts for $7 each and 2 pairs of shoes for $10 each. They also bought 4 tops, all at the same price. How much did each top cost?\", 'result': '5', 'template_name': 23, 'idx': 15}, {'problem': \"Micaela Shepard's favorite store was having a summer clearance. For $75 they bought 5 pairs of shorts for $7 each and 2 pairs of shoes for $10 each. They also bought 4 tops, all at the same price. How much did each top cost?\", 'result': '5', 'template_name': 23, 'idx': 35}, {'problem': \"Selina Bean's favorite store was having a summer clearance. For $75 they bought 5 pairs of shorts for $7 each and 2 pairs of shoes for $10 each. They also bought 4 tops, all at the same price. How much did each top cost?\", 'result': '5', 'template_name': 23, 'idx': 98}, {'problem': \"Johnathan Guido's favorite store was having a summer clearance. For $75 they bought 5 pairs of shorts for $7 each and 2 pairs of shoes for $10 each. They also bought 4 tops, all at the same price. How much did each top cost?\", 'result': '5', 'template_name': 23, 'idx': 2}, {'problem': \"Doris Gooch's favorite store was having a summer clearance. For $75 they bought 5 pairs of shorts for $7 each and 2 pairs of shoes for $10 each. They also bought 4 tops, all at the same price. How much did each top cost?\", 'result': '5', 'template_name': 23, 'idx': 92}, {'problem': \"Jaqueline Barakat's favorite store was having a summer clearance. For $75 they bought 5 pairs of shorts for $7 each and 2 pairs of shoes for $10 each. They also bought 4 tops, all at the same price. How much did each top cost?\", 'result': '5', 'template_name': 23, 'idx': 82}, {'problem': \"Hanna Cantor's favorite store was having a summer clearance. For $75 they bought 5 pairs of shorts for $7 each and 2 pairs of shoes for $10 each. They also bought 4 tops, all at the same price. How much did each top cost?\", 'result': '5', 'template_name': 23, 'idx': 77}, {'problem': \"Jenna Gaines's favorite store was having a summer clearance. For $75 they bought 5 pairs of shorts for $7 each and 2 pairs of shoes for $10 each. They also bought 4 tops, all at the same price. How much did each top cost?\", 'result': '5', 'template_name': 23, 'idx': 70}, {'problem': \"Luke Banegas's favorite store was having a summer clearance. For $75 they bought 5 pairs of shorts for $7 each and 2 pairs of shoes for $10 each. They also bought 4 tops, all at the same price. How much did each top cost?\", 'result': '5', 'template_name': 23, 'idx': 20}, {'problem': \"Iliana Carpio's favorite store was having a summer clearance. For $75 they bought 5 pairs of shorts for $7 each and 2 pairs of shoes for $10 each. They also bought 4 tops, all at the same price. How much did each top cost?\", 'result': '5', 'template_name': 23, 'idx': 67}, {'problem': \"Greg Kellogg's favorite store was having a summer clearance. For $75 they bought 5 pairs of shorts for $7 each and 2 pairs of shoes for $10 each. They also bought 4 tops, all at the same price. How much did each top cost?\", 'result': '5', 'template_name': 23, 'idx': 32}, {'problem': \"Cindy Herd's favorite store was having a summer clearance. For $75 they bought 5 pairs of shorts for $7 each and 2 pairs of shoes for $10 each. They also bought 4 tops, all at the same price. How much did each top cost?\", 'result': '5', 'template_name': 23, 'idx': 9}, {'problem': \"Gina Isidoro's favorite store was having a summer clearance. For $75 they bought 5 pairs of shorts for $7 each and 2 pairs of shoes for $10 each. They also bought 4 tops, all at the same price. How much did each top cost?\", 'result': '5', 'template_name': 23, 'idx': 90}, {'problem': \"Irvin Simms's favorite store was having a summer clearance. For $75 they bought 5 pairs of shorts for $7 each and 2 pairs of shoes for $10 each. They also bought 4 tops, all at the same price. How much did each top cost?\", 'result': '5', 'template_name': 23, 'idx': 21}, {'problem': \"Irma Li's favorite store was having a summer clearance. For $75 they bought 5 pairs of shorts for $7 each and 2 pairs of shoes for $10 each. They also bought 4 tops, all at the same price. How much did each top cost?\", 'result': '5', 'template_name': 23, 'idx': 74}, {'problem': \"Olivia Khatri's favorite store was having a summer clearance. For $75 they bought 5 pairs of shorts for $7 each and 2 pairs of shoes for $10 each. They also bought 4 tops, all at the same price. How much did each top cost?\", 'result': '5', 'template_name': 23, 'idx': 43}]\n",
      "\n",
      "[{'problem': 'German Redondo does their grocery shopping on Saturday. They do their shopping only at a specific store where they are allowed a credit of $100, which must be paid in full before their next shopping trip. That week they spent the full credit limit and paid $15 of it on Tuesday and $23 of it on Thursday. How much credit will German Redondo need to pay before their next shopping trip?', 'result': '62', 'template_name': 24, 'idx': 88}, {'problem': 'Chelsey Venkatesan does their grocery shopping on Saturday. They do their shopping only at a specific store where they are allowed a credit of $100, which must be paid in full before their next shopping trip. That week they spent the full credit limit and paid $15 of it on Tuesday and $23 of it on Thursday. How much credit will Chelsey Venkatesan need to pay before their next shopping trip?', 'result': '62', 'template_name': 24, 'idx': 53}, {'problem': 'Johnathan Guido does their grocery shopping on Saturday. They do their shopping only at a specific store where they are allowed a credit of $100, which must be paid in full before their next shopping trip. That week they spent the full credit limit and paid $15 of it on Tuesday and $23 of it on Thursday. How much credit will Johnathan Guido need to pay before their next shopping trip?', 'result': '62', 'template_name': 24, 'idx': 2}, {'problem': 'Mac Slattery does their grocery shopping on Saturday. They do their shopping only at a specific store where they are allowed a credit of $100, which must be paid in full before their next shopping trip. That week they spent the full credit limit and paid $15 of it on Tuesday and $23 of it on Thursday. How much credit will Mac Slattery need to pay before their next shopping trip?', 'result': '62', 'template_name': 24, 'idx': 29}, {'problem': 'German Shafer does their grocery shopping on Saturday. They do their shopping only at a specific store where they are allowed a credit of $100, which must be paid in full before their next shopping trip. That week they spent the full credit limit and paid $15 of it on Tuesday and $23 of it on Thursday. How much credit will German Shafer need to pay before their next shopping trip?', 'result': '62', 'template_name': 24, 'idx': 68}, {'problem': 'Luke Banegas does their grocery shopping on Saturday. They do their shopping only at a specific store where they are allowed a credit of $100, which must be paid in full before their next shopping trip. That week they spent the full credit limit and paid $15 of it on Tuesday and $23 of it on Thursday. How much credit will Luke Banegas need to pay before their next shopping trip?', 'result': '62', 'template_name': 24, 'idx': 20}, {'problem': 'Lizette Labra does their grocery shopping on Saturday. They do their shopping only at a specific store where they are allowed a credit of $100, which must be paid in full before their next shopping trip. That week they spent the full credit limit and paid $15 of it on Tuesday and $23 of it on Thursday. How much credit will Lizette Labra need to pay before their next shopping trip?', 'result': '62', 'template_name': 24, 'idx': 19}, {'problem': 'Stuart Shehata does their grocery shopping on Saturday. They do their shopping only at a specific store where they are allowed a credit of $100, which must be paid in full before their next shopping trip. That week they spent the full credit limit and paid $15 of it on Tuesday and $23 of it on Thursday. How much credit will Stuart Shehata need to pay before their next shopping trip?', 'result': '62', 'template_name': 24, 'idx': 97}, {'problem': 'Kenia Partridge does their grocery shopping on Saturday. They do their shopping only at a specific store where they are allowed a credit of $100, which must be paid in full before their next shopping trip. That week they spent the full credit limit and paid $15 of it on Tuesday and $23 of it on Thursday. How much credit will Kenia Partridge need to pay before their next shopping trip?', 'result': '62', 'template_name': 24, 'idx': 78}, {'problem': 'Marisa Yearwood does their grocery shopping on Saturday. They do their shopping only at a specific store where they are allowed a credit of $100, which must be paid in full before their next shopping trip. That week they spent the full credit limit and paid $15 of it on Tuesday and $23 of it on Thursday. How much credit will Marisa Yearwood need to pay before their next shopping trip?', 'result': '62', 'template_name': 24, 'idx': 4}, {'problem': 'Homero Vargas does their grocery shopping on Saturday. They do their shopping only at a specific store where they are allowed a credit of $100, which must be paid in full before their next shopping trip. That week they spent the full credit limit and paid $15 of it on Tuesday and $23 of it on Thursday. How much credit will Homero Vargas need to pay before their next shopping trip?', 'result': '62', 'template_name': 24, 'idx': 81}, {'problem': 'Sunny Mcginn does their grocery shopping on Saturday. They do their shopping only at a specific store where they are allowed a credit of $100, which must be paid in full before their next shopping trip. That week they spent the full credit limit and paid $15 of it on Tuesday and $23 of it on Thursday. How much credit will Sunny Mcginn need to pay before their next shopping trip?', 'result': '62', 'template_name': 24, 'idx': 11}, {'problem': 'Saad Schwartz does their grocery shopping on Saturday. They do their shopping only at a specific store where they are allowed a credit of $100, which must be paid in full before their next shopping trip. That week they spent the full credit limit and paid $15 of it on Tuesday and $23 of it on Thursday. How much credit will Saad Schwartz need to pay before their next shopping trip?', 'result': '62', 'template_name': 24, 'idx': 6}, {'problem': 'Ty Ru does their grocery shopping on Saturday. They do their shopping only at a specific store where they are allowed a credit of $100, which must be paid in full before their next shopping trip. That week they spent the full credit limit and paid $15 of it on Tuesday and $23 of it on Thursday. How much credit will Ty Ru need to pay before their next shopping trip?', 'result': '62', 'template_name': 24, 'idx': 38}, {'problem': 'Maddie Dalessandro does their grocery shopping on Saturday. They do their shopping only at a specific store where they are allowed a credit of $100, which must be paid in full before their next shopping trip. That week they spent the full credit limit and paid $15 of it on Tuesday and $23 of it on Thursday. How much credit will Maddie Dalessandro need to pay before their next shopping trip?', 'result': '62', 'template_name': 24, 'idx': 16}, {'problem': 'Elliot Juares does their grocery shopping on Saturday. They do their shopping only at a specific store where they are allowed a credit of $100, which must be paid in full before their next shopping trip. That week they spent the full credit limit and paid $15 of it on Tuesday and $23 of it on Thursday. How much credit will Elliot Juares need to pay before their next shopping trip?', 'result': '62', 'template_name': 24, 'idx': 17}, {'problem': 'Hanna Cantor does their grocery shopping on Saturday. They do their shopping only at a specific store where they are allowed a credit of $100, which must be paid in full before their next shopping trip. That week they spent the full credit limit and paid $15 of it on Tuesday and $23 of it on Thursday. How much credit will Hanna Cantor need to pay before their next shopping trip?', 'result': '62', 'template_name': 24, 'idx': 77}, {'problem': 'Irma Li does their grocery shopping on Saturday. They do their shopping only at a specific store where they are allowed a credit of $100, which must be paid in full before their next shopping trip. That week they spent the full credit limit and paid $15 of it on Tuesday and $23 of it on Thursday. How much credit will Irma Li need to pay before their next shopping trip?', 'result': '62', 'template_name': 24, 'idx': 74}, {'problem': 'Kitty Tina does their grocery shopping on Saturday. They do their shopping only at a specific store where they are allowed a credit of $100, which must be paid in full before their next shopping trip. That week they spent the full credit limit and paid $15 of it on Tuesday and $23 of it on Thursday. How much credit will Kitty Tina need to pay before their next shopping trip?', 'result': '62', 'template_name': 24, 'idx': 54}, {'problem': 'Brad Grow does their grocery shopping on Saturday. They do their shopping only at a specific store where they are allowed a credit of $100, which must be paid in full before their next shopping trip. That week they spent the full credit limit and paid $15 of it on Tuesday and $23 of it on Thursday. How much credit will Brad Grow need to pay before their next shopping trip?', 'result': '62', 'template_name': 24, 'idx': 28}]\n",
      "\n",
      "[{'problem': 'Kitty Tina is going to practice playing tennis with a tennis ball machine that shoots out tennis balls for Kitty Tina to hit. They load up the machine with 175 tennis balls to start with. Out of the first 100 balls, they manage to hit 2/5 of them. Of the next 75 tennis balls, they manage to hit 1/3 of them. Out of all the tennis balls, how many did Kitty Tina not hit?', 'result': '110', 'template_name': 25, 'idx': 54}, {'problem': 'Shana Rincon is going to practice playing tennis with a tennis ball machine that shoots out tennis balls for Shana Rincon to hit. They load up the machine with 175 tennis balls to start with. Out of the first 100 balls, they manage to hit 2/5 of them. Of the next 75 tennis balls, they manage to hit 1/3 of them. Out of all the tennis balls, how many did Shana Rincon not hit?', 'result': '110', 'template_name': 25, 'idx': 48}, {'problem': 'Jt Gumbs is going to practice playing tennis with a tennis ball machine that shoots out tennis balls for Jt Gumbs to hit. They load up the machine with 175 tennis balls to start with. Out of the first 100 balls, they manage to hit 2/5 of them. Of the next 75 tennis balls, they manage to hit 1/3 of them. Out of all the tennis balls, how many did Jt Gumbs not hit?', 'result': '110', 'template_name': 25, 'idx': 63}, {'problem': 'Esmeralda Coulter is going to practice playing tennis with a tennis ball machine that shoots out tennis balls for Esmeralda Coulter to hit. They load up the machine with 175 tennis balls to start with. Out of the first 100 balls, they manage to hit 2/5 of them. Of the next 75 tennis balls, they manage to hit 1/3 of them. Out of all the tennis balls, how many did Esmeralda Coulter not hit?', 'result': '110', 'template_name': 25, 'idx': 87}, {'problem': 'Tori Plank is going to practice playing tennis with a tennis ball machine that shoots out tennis balls for Tori Plank to hit. They load up the machine with 175 tennis balls to start with. Out of the first 100 balls, they manage to hit 2/5 of them. Of the next 75 tennis balls, they manage to hit 1/3 of them. Out of all the tennis balls, how many did Tori Plank not hit?', 'result': '110', 'template_name': 25, 'idx': 76}, {'problem': 'Monica Georges is going to practice playing tennis with a tennis ball machine that shoots out tennis balls for Monica Georges to hit. They load up the machine with 175 tennis balls to start with. Out of the first 100 balls, they manage to hit 2/5 of them. Of the next 75 tennis balls, they manage to hit 1/3 of them. Out of all the tennis balls, how many did Monica Georges not hit?', 'result': '110', 'template_name': 25, 'idx': 83}, {'problem': 'Iliana Carpio is going to practice playing tennis with a tennis ball machine that shoots out tennis balls for Iliana Carpio to hit. They load up the machine with 175 tennis balls to start with. Out of the first 100 balls, they manage to hit 2/5 of them. Of the next 75 tennis balls, they manage to hit 1/3 of them. Out of all the tennis balls, how many did Iliana Carpio not hit?', 'result': '110', 'template_name': 25, 'idx': 67}, {'problem': 'Rosy Plascencia is going to practice playing tennis with a tennis ball machine that shoots out tennis balls for Rosy Plascencia to hit. They load up the machine with 175 tennis balls to start with. Out of the first 100 balls, they manage to hit 2/5 of them. Of the next 75 tennis balls, they manage to hit 1/3 of them. Out of all the tennis balls, how many did Rosy Plascencia not hit?', 'result': '110', 'template_name': 25, 'idx': 0}, {'problem': 'Greg Kellogg is going to practice playing tennis with a tennis ball machine that shoots out tennis balls for Greg Kellogg to hit. They load up the machine with 175 tennis balls to start with. Out of the first 100 balls, they manage to hit 2/5 of them. Of the next 75 tennis balls, they manage to hit 1/3 of them. Out of all the tennis balls, how many did Greg Kellogg not hit?', 'result': '110', 'template_name': 25, 'idx': 32}, {'problem': 'Doris Gooch is going to practice playing tennis with a tennis ball machine that shoots out tennis balls for Doris Gooch to hit. They load up the machine with 175 tennis balls to start with. Out of the first 100 balls, they manage to hit 2/5 of them. Of the next 75 tennis balls, they manage to hit 1/3 of them. Out of all the tennis balls, how many did Doris Gooch not hit?', 'result': '110', 'template_name': 25, 'idx': 92}, {'problem': 'Tariq Cordoba is going to practice playing tennis with a tennis ball machine that shoots out tennis balls for Tariq Cordoba to hit. They load up the machine with 175 tennis balls to start with. Out of the first 100 balls, they manage to hit 2/5 of them. Of the next 75 tennis balls, they manage to hit 1/3 of them. Out of all the tennis balls, how many did Tariq Cordoba not hit?', 'result': '110', 'template_name': 25, 'idx': 80}, {'problem': 'Baltazar Calel is going to practice playing tennis with a tennis ball machine that shoots out tennis balls for Baltazar Calel to hit. They load up the machine with 175 tennis balls to start with. Out of the first 100 balls, they manage to hit 2/5 of them. Of the next 75 tennis balls, they manage to hit 1/3 of them. Out of all the tennis balls, how many did Baltazar Calel not hit?', 'result': '110', 'template_name': 25, 'idx': 37}, {'problem': 'Selina Bean is going to practice playing tennis with a tennis ball machine that shoots out tennis balls for Selina Bean to hit. They load up the machine with 175 tennis balls to start with. Out of the first 100 balls, they manage to hit 2/5 of them. Of the next 75 tennis balls, they manage to hit 1/3 of them. Out of all the tennis balls, how many did Selina Bean not hit?', 'result': '110', 'template_name': 25, 'idx': 98}, {'problem': 'Levi Eby is going to practice playing tennis with a tennis ball machine that shoots out tennis balls for Levi Eby to hit. They load up the machine with 175 tennis balls to start with. Out of the first 100 balls, they manage to hit 2/5 of them. Of the next 75 tennis balls, they manage to hit 1/3 of them. Out of all the tennis balls, how many did Levi Eby not hit?', 'result': '110', 'template_name': 25, 'idx': 55}, {'problem': 'Cindy Herd is going to practice playing tennis with a tennis ball machine that shoots out tennis balls for Cindy Herd to hit. They load up the machine with 175 tennis balls to start with. Out of the first 100 balls, they manage to hit 2/5 of them. Of the next 75 tennis balls, they manage to hit 1/3 of them. Out of all the tennis balls, how many did Cindy Herd not hit?', 'result': '110', 'template_name': 25, 'idx': 9}, {'problem': 'Ernesto Lung is going to practice playing tennis with a tennis ball machine that shoots out tennis balls for Ernesto Lung to hit. They load up the machine with 175 tennis balls to start with. Out of the first 100 balls, they manage to hit 2/5 of them. Of the next 75 tennis balls, they manage to hit 1/3 of them. Out of all the tennis balls, how many did Ernesto Lung not hit?', 'result': '110', 'template_name': 25, 'idx': 5}, {'problem': 'Ceci Colson is going to practice playing tennis with a tennis ball machine that shoots out tennis balls for Ceci Colson to hit. They load up the machine with 175 tennis balls to start with. Out of the first 100 balls, they manage to hit 2/5 of them. Of the next 75 tennis balls, they manage to hit 1/3 of them. Out of all the tennis balls, how many did Ceci Colson not hit?', 'result': '110', 'template_name': 25, 'idx': 27}, {'problem': 'Les De Hoyos is going to practice playing tennis with a tennis ball machine that shoots out tennis balls for Les De Hoyos to hit. They load up the machine with 175 tennis balls to start with. Out of the first 100 balls, they manage to hit 2/5 of them. Of the next 75 tennis balls, they manage to hit 1/3 of them. Out of all the tennis balls, how many did Les De Hoyos not hit?', 'result': '110', 'template_name': 25, 'idx': 22}, {'problem': 'Lorenzo Parish is going to practice playing tennis with a tennis ball machine that shoots out tennis balls for Lorenzo Parish to hit. They load up the machine with 175 tennis balls to start with. Out of the first 100 balls, they manage to hit 2/5 of them. Of the next 75 tennis balls, they manage to hit 1/3 of them. Out of all the tennis balls, how many did Lorenzo Parish not hit?', 'result': '110', 'template_name': 25, 'idx': 58}, {'problem': 'Homero Vargas is going to practice playing tennis with a tennis ball machine that shoots out tennis balls for Homero Vargas to hit. They load up the machine with 175 tennis balls to start with. Out of the first 100 balls, they manage to hit 2/5 of them. Of the next 75 tennis balls, they manage to hit 1/3 of them. Out of all the tennis balls, how many did Homero Vargas not hit?', 'result': '110', 'template_name': 25, 'idx': 81}]\n",
      "\n",
      "\n",
      "20\n",
      "20\n",
      "[0, 1, 2, 3, 4, 5, 6, 7, 8, 9, 11, 12, 13, 14, 15, 19, 20, 23, 24, 25]\n"
     ]
    }
   ],
   "source": [
    "import os\n",
    "import random\n",
    "import json\n",
    "import re\n",
    "\n",
    "random.seed(56)\n",
    "\n",
    "ablated_dataset = []\n",
    "q_indices = []\n",
    "folder_path = \"gsm_template/output\"\n",
    "\n",
    "files = os.listdir(folder_path)\n",
    "sorted_files = sorted(files, key=lambda x: int(x.split('--')[0][1:]))\n",
    "\n",
    "print(sorted_files)\n",
    "print()\n",
    "\n",
    "repeat = 20\n",
    "\n",
    "for file_name in sorted_files:\n",
    "    f_path = os.path.join(folder_path, file_name)\n",
    "\n",
    "    match = re.search(r'\\d+', f_path)\n",
    "    num = match.group(0)\n",
    "    q_indices.append(int(num))\n",
    "\n",
    "    with open(f_path, 'r') as f:\n",
    "        lines = f.readlines()\n",
    "\n",
    "    # random_lines = random.sample([json.loads(item.strip()) for item in lines], min(repeat, len(lines)))\n",
    "    # print(random_lines)\n",
    "    # print()\n",
    "\n",
    "    # ablated_dataset.append(random_lines)\n",
    "    ablated_dataset.append([json.loads(item.strip()) for item in lines])\n",
    "\n",
    "print()\n",
    "print(len(ablated_dataset))\n",
    "print(len(ablated_dataset[0]))\n",
    "print(q_indices)\n"
   ]
  },
  {
   "cell_type": "markdown",
   "metadata": {},
   "source": [
    "We will use the following system prompt"
   ]
  },
  {
   "cell_type": "code",
   "execution_count": 5,
   "metadata": {},
   "outputs": [],
   "source": [
    "system_prompt= \\\n",
    "'''You are an expert math tutor specializing in grade-school-level problems like those in the GSM8K dataset. \n",
    "Solve each problem step by step, explaining the reasoning and calculations clearly and concisely to help the student understand the process. \n",
    "Please return your final answer after the delimiter \\\"####\\\" as a numeric number'''"
   ]
  },
  {
   "cell_type": "markdown",
   "metadata": {},
   "source": [
    "We can answer from gpt api using fewshots in context learning and system prompt"
   ]
  },
  {
   "cell_type": "code",
   "execution_count": 6,
   "metadata": {},
   "outputs": [],
   "source": [
    "import re\n",
    "\n",
    "def extract_ans_from_response(answer: str, eos=None):\n",
    "    if eos:\n",
    "        answer = answer.split(eos)[0].strip()\n",
    "\n",
    "    answer = answer.split('####')\n",
    "    \n",
    "    if len(answer) > 2:\n",
    "        answer = answer[-2].strip()\n",
    "    elif len(answer) == 2:\n",
    "        answer = answer[-1].strip()\n",
    "    else:\n",
    "        answer = \"NA\"\n",
    "\n",
    "    if isinstance(answer, str):\n",
    "        for remove_char in [',', '$', '%', 'g']:\n",
    "            answer = answer.replace(remove_char, '')\n",
    "\n",
    "    try:\n",
    "        return int(answer)\n",
    "    except ValueError:\n",
    "        return answer\n",
    "\n",
    "# def extract_ans_from_response(answer: str, eos=None):\n",
    "#     if eos:\n",
    "#         answer = answer.split(eos)[0].strip()\n",
    "\n",
    "#     answer = answer.split('####')[-1].strip()\n",
    "\n",
    "#     for remove_char in [',', '$', '%', 'g']:\n",
    "#         answer = answer.replace(remove_char, '')\n",
    "\n",
    "#     try:\n",
    "#         return int(answer)\n",
    "#     except ValueError:\n",
    "#         return answer\n",
    "\n",
    "# def get_num_answer(text):\n",
    "#     num_matches = re.findall(r'\\d+\\.?\\d*', text)\n",
    "\n",
    "#     if not num_matches:\n",
    "#         return None\n",
    "    \n",
    "#     final_answer = num_matches[-1]\n",
    "\n",
    "#     return final_answer\n",
    "\n",
    "# Implement the function answer_from_gpt(question,temperature,num_shots), which should return the gpt answer as a string\n",
    "# (see how it is called in the function evaluate_fewshots below)\n",
    "# temperature is the temperature parameter passed to gpt api\n",
    "# if num_shots>0, you should use the first num_shots examples in train_data for in-context learning\n",
    "# Please use the system prompt provided above (see lecture10-gpt.ipynb for examples of system prompt usage)\n",
    "#\n",
    "def answer_from_gpt(question, temperature, num_shots):\n",
    "    example = []\n",
    "\n",
    "    # if num_shots > 0:\n",
    "    #     for i in range(num_shots):\n",
    "    #         curr_ex = train_data[i]\n",
    "    #         example.append({\"role\": \"user\", \"content\": curr_ex['question']})\n",
    "    #         example.append({\"role\": \"assistant\", \"content\": curr_ex['answer']})\n",
    "\n",
    "    full_prompt = system_prompt + \"\\n\" + question\n",
    "    # print(\"Q: \", full_prompt)\n",
    "\n",
    "    messages = generate_gpt_response(prompt=full_prompt, messages=example, temperature=temperature)\n",
    "    answer = messages[-1][\"content\"]\n",
    "    # print(\"A: \", answer)\n",
    "    last_token = extract_ans_from_response(answer)\n",
    "    return last_token"
   ]
  },
  {
   "cell_type": "markdown",
   "metadata": {},
   "source": [
    "Evaluate on a small subset of gsm8k test data"
   ]
  },
  {
   "cell_type": "code",
   "execution_count": null,
   "metadata": {},
   "outputs": [
    {
     "name": "stdout",
     "output_type": "stream",
     "text": [
      "=== temperature=0 num_shots=0 ===\n",
      "Question  0\n"
     ]
    },
    {
     "name": "stderr",
     "output_type": "stream",
     "text": [
      "  5%|▌         | 1/20 [00:01<00:27,  1.44s/it]"
     ]
    },
    {
     "name": "stdout",
     "output_type": "stream",
     "text": [
      "k=0: gpt_answer=72  true_answer=72\n",
      "CORRECT\n"
     ]
    },
    {
     "name": "stderr",
     "output_type": "stream",
     "text": [
      " 10%|█         | 2/20 [00:02<00:22,  1.26s/it]"
     ]
    },
    {
     "name": "stdout",
     "output_type": "stream",
     "text": [
      "k=1: gpt_answer=72  true_answer=72\n",
      "CORRECT\n"
     ]
    },
    {
     "name": "stderr",
     "output_type": "stream",
     "text": [
      " 15%|█▌        | 3/20 [00:03<00:19,  1.14s/it]"
     ]
    },
    {
     "name": "stdout",
     "output_type": "stream",
     "text": [
      "k=2: gpt_answer=72  true_answer=72\n",
      "CORRECT\n"
     ]
    },
    {
     "name": "stderr",
     "output_type": "stream",
     "text": [
      " 20%|██        | 4/20 [00:04<00:18,  1.14s/it]"
     ]
    },
    {
     "name": "stdout",
     "output_type": "stream",
     "text": [
      "k=3: gpt_answer=72  true_answer=72\n",
      "CORRECT\n"
     ]
    },
    {
     "name": "stderr",
     "output_type": "stream",
     "text": [
      " 25%|██▌       | 5/20 [00:05<00:17,  1.17s/it]"
     ]
    },
    {
     "name": "stdout",
     "output_type": "stream",
     "text": [
      "k=4: gpt_answer=72  true_answer=72\n",
      "CORRECT\n"
     ]
    },
    {
     "name": "stderr",
     "output_type": "stream",
     "text": [
      " 30%|███       | 6/20 [00:07<00:16,  1.18s/it]"
     ]
    },
    {
     "name": "stdout",
     "output_type": "stream",
     "text": [
      "k=5: gpt_answer=72  true_answer=72\n",
      "CORRECT\n"
     ]
    },
    {
     "name": "stderr",
     "output_type": "stream",
     "text": [
      " 35%|███▌      | 7/20 [00:08<00:16,  1.25s/it]"
     ]
    },
    {
     "name": "stdout",
     "output_type": "stream",
     "text": [
      "k=6: gpt_answer=72  true_answer=72\n",
      "CORRECT\n"
     ]
    },
    {
     "name": "stderr",
     "output_type": "stream",
     "text": [
      " 40%|████      | 8/20 [00:09<00:15,  1.28s/it]"
     ]
    },
    {
     "name": "stdout",
     "output_type": "stream",
     "text": [
      "k=7: gpt_answer=72  true_answer=72\n",
      "CORRECT\n"
     ]
    },
    {
     "name": "stderr",
     "output_type": "stream",
     "text": [
      " 45%|████▌     | 9/20 [00:10<00:13,  1.18s/it]"
     ]
    },
    {
     "name": "stdout",
     "output_type": "stream",
     "text": [
      "k=8: gpt_answer=72  true_answer=72\n",
      "CORRECT\n"
     ]
    },
    {
     "name": "stderr",
     "output_type": "stream",
     "text": [
      " 50%|█████     | 10/20 [00:12<00:12,  1.20s/it]"
     ]
    },
    {
     "name": "stdout",
     "output_type": "stream",
     "text": [
      "k=9: gpt_answer=72  true_answer=72\n",
      "CORRECT\n"
     ]
    },
    {
     "name": "stderr",
     "output_type": "stream",
     "text": [
      " 55%|█████▌    | 11/20 [00:13<00:11,  1.31s/it]"
     ]
    },
    {
     "name": "stdout",
     "output_type": "stream",
     "text": [
      "k=10: gpt_answer=72  true_answer=72\n",
      "CORRECT\n"
     ]
    },
    {
     "name": "stderr",
     "output_type": "stream",
     "text": [
      " 60%|██████    | 12/20 [00:15<00:10,  1.36s/it]"
     ]
    },
    {
     "name": "stdout",
     "output_type": "stream",
     "text": [
      "k=11: gpt_answer=72  true_answer=72\n",
      "CORRECT\n"
     ]
    },
    {
     "name": "stderr",
     "output_type": "stream",
     "text": [
      " 65%|██████▌   | 13/20 [00:16<00:09,  1.35s/it]"
     ]
    },
    {
     "name": "stdout",
     "output_type": "stream",
     "text": [
      "k=12: gpt_answer=72  true_answer=72\n",
      "CORRECT\n"
     ]
    },
    {
     "name": "stderr",
     "output_type": "stream",
     "text": [
      " 70%|███████   | 14/20 [00:17<00:07,  1.27s/it]"
     ]
    },
    {
     "name": "stdout",
     "output_type": "stream",
     "text": [
      "k=13: gpt_answer=72  true_answer=72\n",
      "CORRECT\n"
     ]
    },
    {
     "name": "stderr",
     "output_type": "stream",
     "text": [
      " 75%|███████▌  | 15/20 [00:18<00:06,  1.27s/it]"
     ]
    },
    {
     "name": "stdout",
     "output_type": "stream",
     "text": [
      "k=14: gpt_answer=72  true_answer=72\n",
      "CORRECT\n"
     ]
    },
    {
     "name": "stderr",
     "output_type": "stream",
     "text": [
      " 80%|████████  | 16/20 [00:20<00:06,  1.53s/it]"
     ]
    },
    {
     "name": "stdout",
     "output_type": "stream",
     "text": [
      "k=15: gpt_answer=72  true_answer=72\n",
      "CORRECT\n"
     ]
    },
    {
     "name": "stderr",
     "output_type": "stream",
     "text": [
      " 85%|████████▌ | 17/20 [00:22<00:04,  1.55s/it]"
     ]
    },
    {
     "name": "stdout",
     "output_type": "stream",
     "text": [
      "k=16: gpt_answer=72  true_answer=72\n",
      "CORRECT\n"
     ]
    },
    {
     "name": "stderr",
     "output_type": "stream",
     "text": [
      " 90%|█████████ | 18/20 [00:23<00:02,  1.42s/it]"
     ]
    },
    {
     "name": "stdout",
     "output_type": "stream",
     "text": [
      "k=17: gpt_answer=72  true_answer=72\n",
      "CORRECT\n"
     ]
    },
    {
     "name": "stderr",
     "output_type": "stream",
     "text": [
      " 95%|█████████▌| 19/20 [00:24<00:01,  1.34s/it]"
     ]
    },
    {
     "name": "stdout",
     "output_type": "stream",
     "text": [
      "k=18: gpt_answer=72  true_answer=72\n",
      "CORRECT\n"
     ]
    },
    {
     "name": "stderr",
     "output_type": "stream",
     "text": [
      "100%|██████████| 20/20 [00:26<00:00,  1.30s/it]\n"
     ]
    },
    {
     "name": "stdout",
     "output_type": "stream",
     "text": [
      "k=19: gpt_answer=72  true_answer=72\n",
      "CORRECT\n",
      "accuracy=1.00\n",
      "\n",
      "Question  1\n"
     ]
    },
    {
     "name": "stderr",
     "output_type": "stream",
     "text": [
      "  5%|▌         | 1/20 [00:00<00:17,  1.07it/s]"
     ]
    },
    {
     "name": "stdout",
     "output_type": "stream",
     "text": [
      "k=0: gpt_answer=10  true_answer=10\n",
      "CORRECT\n"
     ]
    },
    {
     "name": "stderr",
     "output_type": "stream",
     "text": [
      " 10%|█         | 2/20 [00:02<00:19,  1.07s/it]"
     ]
    },
    {
     "name": "stdout",
     "output_type": "stream",
     "text": [
      "k=1: gpt_answer=10  true_answer=10\n",
      "CORRECT\n"
     ]
    },
    {
     "name": "stderr",
     "output_type": "stream",
     "text": [
      " 15%|█▌        | 3/20 [00:03<00:19,  1.13s/it]"
     ]
    },
    {
     "name": "stdout",
     "output_type": "stream",
     "text": [
      "k=2: gpt_answer=10  true_answer=10\n",
      "CORRECT\n"
     ]
    },
    {
     "name": "stderr",
     "output_type": "stream",
     "text": [
      " 20%|██        | 4/20 [00:04<00:21,  1.34s/it]"
     ]
    },
    {
     "name": "stdout",
     "output_type": "stream",
     "text": [
      "k=3: gpt_answer=10  true_answer=10\n",
      "CORRECT\n"
     ]
    },
    {
     "name": "stderr",
     "output_type": "stream",
     "text": [
      " 25%|██▌       | 5/20 [00:06<00:18,  1.26s/it]"
     ]
    },
    {
     "name": "stdout",
     "output_type": "stream",
     "text": [
      "k=4: gpt_answer=10  true_answer=10\n",
      "CORRECT\n"
     ]
    },
    {
     "name": "stderr",
     "output_type": "stream",
     "text": [
      " 30%|███       | 6/20 [00:07<00:17,  1.27s/it]"
     ]
    },
    {
     "name": "stdout",
     "output_type": "stream",
     "text": [
      "k=5: gpt_answer=10.0  true_answer=10\n",
      "CORRECT\n"
     ]
    },
    {
     "name": "stderr",
     "output_type": "stream",
     "text": [
      " 35%|███▌      | 7/20 [00:08<00:16,  1.27s/it]"
     ]
    },
    {
     "name": "stdout",
     "output_type": "stream",
     "text": [
      "k=6: gpt_answer=10.0  true_answer=10\n",
      "CORRECT\n"
     ]
    },
    {
     "name": "stderr",
     "output_type": "stream",
     "text": [
      " 40%|████      | 8/20 [00:10<00:16,  1.37s/it]"
     ]
    },
    {
     "name": "stdout",
     "output_type": "stream",
     "text": [
      "k=7: gpt_answer=10.00  true_answer=10\n",
      "CORRECT\n"
     ]
    },
    {
     "name": "stderr",
     "output_type": "stream",
     "text": [
      " 45%|████▌     | 9/20 [00:11<00:13,  1.27s/it]"
     ]
    },
    {
     "name": "stdout",
     "output_type": "stream",
     "text": [
      "k=8: gpt_answer=10  true_answer=10\n",
      "CORRECT\n"
     ]
    },
    {
     "name": "stderr",
     "output_type": "stream",
     "text": [
      " 50%|█████     | 10/20 [00:12<00:12,  1.29s/it]"
     ]
    },
    {
     "name": "stdout",
     "output_type": "stream",
     "text": [
      "k=9: gpt_answer=10.00  true_answer=10\n",
      "CORRECT\n"
     ]
    },
    {
     "name": "stderr",
     "output_type": "stream",
     "text": [
      " 55%|█████▌    | 11/20 [00:13<00:11,  1.29s/it]"
     ]
    },
    {
     "name": "stdout",
     "output_type": "stream",
     "text": [
      "k=10: gpt_answer=10  true_answer=10\n",
      "CORRECT\n"
     ]
    },
    {
     "name": "stderr",
     "output_type": "stream",
     "text": [
      " 60%|██████    | 12/20 [00:15<00:10,  1.26s/it]"
     ]
    },
    {
     "name": "stdout",
     "output_type": "stream",
     "text": [
      "k=11: gpt_answer=10.  true_answer=10\n",
      "CORRECT\n"
     ]
    },
    {
     "name": "stderr",
     "output_type": "stream",
     "text": [
      " 65%|██████▌   | 13/20 [00:16<00:08,  1.22s/it]"
     ]
    },
    {
     "name": "stdout",
     "output_type": "stream",
     "text": [
      "k=12: gpt_answer=10.0  true_answer=10\n",
      "CORRECT\n"
     ]
    },
    {
     "name": "stderr",
     "output_type": "stream",
     "text": [
      " 70%|███████   | 14/20 [00:17<00:07,  1.17s/it]"
     ]
    },
    {
     "name": "stdout",
     "output_type": "stream",
     "text": [
      "k=13: gpt_answer=10  true_answer=10\n",
      "CORRECT\n"
     ]
    },
    {
     "name": "stderr",
     "output_type": "stream",
     "text": [
      " 75%|███████▌  | 15/20 [00:18<00:06,  1.28s/it]"
     ]
    },
    {
     "name": "stdout",
     "output_type": "stream",
     "text": [
      "k=14: gpt_answer=9.9996  true_answer=10\n",
      "INCORRECT\n"
     ]
    },
    {
     "name": "stderr",
     "output_type": "stream",
     "text": [
      " 80%|████████  | 16/20 [00:20<00:05,  1.37s/it]"
     ]
    },
    {
     "name": "stdout",
     "output_type": "stream",
     "text": [
      "k=15: gpt_answer=9.9996  true_answer=10\n",
      "INCORRECT\n"
     ]
    },
    {
     "name": "stderr",
     "output_type": "stream",
     "text": [
      " 85%|████████▌ | 17/20 [00:21<00:03,  1.29s/it]"
     ]
    },
    {
     "name": "stdout",
     "output_type": "stream",
     "text": [
      "k=16: gpt_answer=10  true_answer=10\n",
      "CORRECT\n"
     ]
    },
    {
     "name": "stderr",
     "output_type": "stream",
     "text": [
      " 90%|█████████ | 18/20 [00:22<00:02,  1.26s/it]"
     ]
    },
    {
     "name": "stdout",
     "output_type": "stream",
     "text": [
      "k=17: gpt_answer=10  true_answer=10\n",
      "CORRECT\n"
     ]
    },
    {
     "name": "stderr",
     "output_type": "stream",
     "text": [
      " 95%|█████████▌| 19/20 [00:23<00:01,  1.24s/it]"
     ]
    },
    {
     "name": "stdout",
     "output_type": "stream",
     "text": [
      "k=18: gpt_answer=10  true_answer=10\n",
      "CORRECT\n"
     ]
    },
    {
     "name": "stderr",
     "output_type": "stream",
     "text": [
      "100%|██████████| 20/20 [00:25<00:00,  1.27s/it]\n"
     ]
    },
    {
     "name": "stdout",
     "output_type": "stream",
     "text": [
      "k=19: gpt_answer=9.9996  true_answer=10\n",
      "INCORRECT\n",
      "accuracy=0.85\n",
      "\n",
      "Question  2\n"
     ]
    },
    {
     "name": "stderr",
     "output_type": "stream",
     "text": [
      "  5%|▌         | 1/20 [00:01<00:28,  1.47s/it]"
     ]
    },
    {
     "name": "stdout",
     "output_type": "stream",
     "text": [
      "k=0: gpt_answer=5  true_answer=5.0\n",
      "CORRECT\n"
     ]
    },
    {
     "name": "stderr",
     "output_type": "stream",
     "text": [
      " 10%|█         | 2/20 [00:02<00:25,  1.41s/it]"
     ]
    },
    {
     "name": "stdout",
     "output_type": "stream",
     "text": [
      "k=1: gpt_answer=5  true_answer=5.0\n",
      "CORRECT\n"
     ]
    },
    {
     "name": "stderr",
     "output_type": "stream",
     "text": [
      " 15%|█▌        | 3/20 [00:04<00:23,  1.37s/it]"
     ]
    },
    {
     "name": "stdout",
     "output_type": "stream",
     "text": [
      "k=2: gpt_answer=5  true_answer=5.0\n",
      "CORRECT\n"
     ]
    },
    {
     "name": "stderr",
     "output_type": "stream",
     "text": [
      " 20%|██        | 4/20 [00:05<00:21,  1.34s/it]"
     ]
    },
    {
     "name": "stdout",
     "output_type": "stream",
     "text": [
      "k=3: gpt_answer=5  true_answer=5.0\n",
      "CORRECT\n"
     ]
    },
    {
     "name": "stderr",
     "output_type": "stream",
     "text": [
      " 25%|██▌       | 5/20 [00:06<00:20,  1.35s/it]"
     ]
    },
    {
     "name": "stdout",
     "output_type": "stream",
     "text": [
      "k=4: gpt_answer=5  true_answer=5.0\n",
      "CORRECT\n"
     ]
    },
    {
     "name": "stderr",
     "output_type": "stream",
     "text": [
      " 30%|███       | 6/20 [00:08<00:21,  1.54s/it]"
     ]
    },
    {
     "name": "stdout",
     "output_type": "stream",
     "text": [
      "k=5: gpt_answer=5  true_answer=5.0\n",
      "CORRECT\n"
     ]
    },
    {
     "name": "stderr",
     "output_type": "stream",
     "text": [
      " 35%|███▌      | 7/20 [00:10<00:19,  1.52s/it]"
     ]
    },
    {
     "name": "stdout",
     "output_type": "stream",
     "text": [
      "k=6: gpt_answer=5  true_answer=5.0\n",
      "CORRECT\n"
     ]
    },
    {
     "name": "stderr",
     "output_type": "stream",
     "text": [
      " 40%|████      | 8/20 [00:11<00:17,  1.48s/it]"
     ]
    },
    {
     "name": "stdout",
     "output_type": "stream",
     "text": [
      "k=7: gpt_answer=5  true_answer=5.0\n",
      "CORRECT\n"
     ]
    },
    {
     "name": "stderr",
     "output_type": "stream",
     "text": [
      " 45%|████▌     | 9/20 [00:13<00:16,  1.53s/it]"
     ]
    },
    {
     "name": "stdout",
     "output_type": "stream",
     "text": [
      "k=8: gpt_answer=5  true_answer=5.0\n",
      "CORRECT\n"
     ]
    },
    {
     "name": "stderr",
     "output_type": "stream",
     "text": [
      " 50%|█████     | 10/20 [00:14<00:14,  1.50s/it]"
     ]
    },
    {
     "name": "stdout",
     "output_type": "stream",
     "text": [
      "k=9: gpt_answer=5  true_answer=5.0\n",
      "CORRECT\n"
     ]
    },
    {
     "name": "stderr",
     "output_type": "stream",
     "text": [
      " 55%|█████▌    | 11/20 [00:16<00:14,  1.60s/it]"
     ]
    },
    {
     "name": "stdout",
     "output_type": "stream",
     "text": [
      "k=10: gpt_answer=5  true_answer=5.0\n",
      "CORRECT\n"
     ]
    },
    {
     "name": "stderr",
     "output_type": "stream",
     "text": [
      " 60%|██████    | 12/20 [00:17<00:12,  1.57s/it]"
     ]
    },
    {
     "name": "stdout",
     "output_type": "stream",
     "text": [
      "k=11: gpt_answer=5  true_answer=5.0\n",
      "CORRECT\n"
     ]
    },
    {
     "name": "stderr",
     "output_type": "stream",
     "text": [
      " 65%|██████▌   | 13/20 [00:19<00:10,  1.53s/it]"
     ]
    },
    {
     "name": "stdout",
     "output_type": "stream",
     "text": [
      "k=12: gpt_answer=5  true_answer=5.0\n",
      "CORRECT\n"
     ]
    },
    {
     "name": "stderr",
     "output_type": "stream",
     "text": [
      " 70%|███████   | 14/20 [00:20<00:08,  1.47s/it]"
     ]
    },
    {
     "name": "stdout",
     "output_type": "stream",
     "text": [
      "k=13: gpt_answer=5  true_answer=5.0\n",
      "CORRECT\n"
     ]
    },
    {
     "name": "stderr",
     "output_type": "stream",
     "text": [
      " 75%|███████▌  | 15/20 [00:22<00:07,  1.50s/it]"
     ]
    },
    {
     "name": "stdout",
     "output_type": "stream",
     "text": [
      "k=14: gpt_answer=5  true_answer=5.0\n",
      "CORRECT\n"
     ]
    },
    {
     "name": "stderr",
     "output_type": "stream",
     "text": [
      " 80%|████████  | 16/20 [00:23<00:05,  1.45s/it]"
     ]
    },
    {
     "name": "stdout",
     "output_type": "stream",
     "text": [
      "k=15: gpt_answer=5  true_answer=5.0\n",
      "CORRECT\n"
     ]
    },
    {
     "name": "stderr",
     "output_type": "stream",
     "text": [
      " 85%|████████▌ | 17/20 [00:25<00:04,  1.60s/it]"
     ]
    },
    {
     "name": "stdout",
     "output_type": "stream",
     "text": [
      "k=16: gpt_answer=5  true_answer=5.0\n",
      "CORRECT\n"
     ]
    },
    {
     "name": "stderr",
     "output_type": "stream",
     "text": [
      " 90%|█████████ | 18/20 [00:27<00:03,  1.57s/it]"
     ]
    },
    {
     "name": "stdout",
     "output_type": "stream",
     "text": [
      "k=17: gpt_answer=5  true_answer=5.0\n",
      "CORRECT\n"
     ]
    },
    {
     "name": "stderr",
     "output_type": "stream",
     "text": [
      " 95%|█████████▌| 19/20 [00:28<00:01,  1.59s/it]"
     ]
    },
    {
     "name": "stdout",
     "output_type": "stream",
     "text": [
      "k=18: gpt_answer=5.  true_answer=5.0\n",
      "CORRECT\n"
     ]
    },
    {
     "name": "stderr",
     "output_type": "stream",
     "text": [
      "100%|██████████| 20/20 [00:30<00:00,  1.53s/it]\n"
     ]
    },
    {
     "name": "stdout",
     "output_type": "stream",
     "text": [
      "k=19: gpt_answer=5  true_answer=5.0\n",
      "CORRECT\n",
      "accuracy=1.00\n",
      "\n",
      "Question  3\n"
     ]
    },
    {
     "name": "stderr",
     "output_type": "stream",
     "text": [
      "  5%|▌         | 1/20 [00:00<00:18,  1.04it/s]"
     ]
    },
    {
     "name": "stdout",
     "output_type": "stream",
     "text": [
      "k=0: gpt_answer=42  true_answer=42\n",
      "CORRECT\n"
     ]
    },
    {
     "name": "stderr",
     "output_type": "stream",
     "text": [
      " 10%|█         | 2/20 [00:01<00:17,  1.04it/s]"
     ]
    },
    {
     "name": "stdout",
     "output_type": "stream",
     "text": [
      "k=1: gpt_answer=42  true_answer=42\n",
      "CORRECT\n"
     ]
    },
    {
     "name": "stderr",
     "output_type": "stream",
     "text": [
      " 15%|█▌        | 3/20 [00:02<00:16,  1.06it/s]"
     ]
    },
    {
     "name": "stdout",
     "output_type": "stream",
     "text": [
      "k=2: gpt_answer=42  true_answer=42\n",
      "CORRECT\n"
     ]
    },
    {
     "name": "stderr",
     "output_type": "stream",
     "text": [
      " 20%|██        | 4/20 [00:03<00:15,  1.02it/s]"
     ]
    },
    {
     "name": "stdout",
     "output_type": "stream",
     "text": [
      "k=3: gpt_answer=42  true_answer=42\n",
      "CORRECT\n"
     ]
    },
    {
     "name": "stderr",
     "output_type": "stream",
     "text": [
      " 25%|██▌       | 5/20 [00:04<00:15,  1.00s/it]"
     ]
    },
    {
     "name": "stdout",
     "output_type": "stream",
     "text": [
      "k=4: gpt_answer=42  true_answer=42\n",
      "CORRECT\n"
     ]
    },
    {
     "name": "stderr",
     "output_type": "stream",
     "text": [
      " 30%|███       | 6/20 [00:05<00:13,  1.00it/s]"
     ]
    },
    {
     "name": "stdout",
     "output_type": "stream",
     "text": [
      "k=5: gpt_answer=42  true_answer=42\n",
      "CORRECT\n"
     ]
    },
    {
     "name": "stderr",
     "output_type": "stream",
     "text": [
      " 35%|███▌      | 7/20 [00:06<00:12,  1.01it/s]"
     ]
    },
    {
     "name": "stdout",
     "output_type": "stream",
     "text": [
      "k=6: gpt_answer=42  true_answer=42\n",
      "CORRECT\n"
     ]
    },
    {
     "name": "stderr",
     "output_type": "stream",
     "text": [
      " 40%|████      | 8/20 [00:07<00:11,  1.03it/s]"
     ]
    },
    {
     "name": "stdout",
     "output_type": "stream",
     "text": [
      "k=7: gpt_answer=42  true_answer=42\n",
      "CORRECT\n"
     ]
    },
    {
     "name": "stderr",
     "output_type": "stream",
     "text": [
      " 45%|████▌     | 9/20 [00:09<00:11,  1.06s/it]"
     ]
    },
    {
     "name": "stdout",
     "output_type": "stream",
     "text": [
      "k=8: gpt_answer=42  true_answer=42\n",
      "CORRECT\n"
     ]
    },
    {
     "name": "stderr",
     "output_type": "stream",
     "text": [
      " 50%|█████     | 10/20 [00:10<00:10,  1.05s/it]"
     ]
    },
    {
     "name": "stdout",
     "output_type": "stream",
     "text": [
      "k=9: gpt_answer=42  true_answer=42\n",
      "CORRECT\n"
     ]
    },
    {
     "name": "stderr",
     "output_type": "stream",
     "text": [
      " 55%|█████▌    | 11/20 [00:11<00:09,  1.03s/it]"
     ]
    },
    {
     "name": "stdout",
     "output_type": "stream",
     "text": [
      "k=10: gpt_answer=42  true_answer=42\n",
      "CORRECT\n"
     ]
    },
    {
     "name": "stderr",
     "output_type": "stream",
     "text": [
      " 60%|██████    | 12/20 [00:12<00:08,  1.03s/it]"
     ]
    },
    {
     "name": "stdout",
     "output_type": "stream",
     "text": [
      "k=11: gpt_answer=42  true_answer=42\n",
      "CORRECT\n"
     ]
    },
    {
     "name": "stderr",
     "output_type": "stream",
     "text": [
      " 65%|██████▌   | 13/20 [00:13<00:06,  1.01it/s]"
     ]
    },
    {
     "name": "stdout",
     "output_type": "stream",
     "text": [
      "k=12: gpt_answer=42  true_answer=42\n",
      "CORRECT\n"
     ]
    },
    {
     "name": "stderr",
     "output_type": "stream",
     "text": [
      " 70%|███████   | 14/20 [00:13<00:05,  1.02it/s]"
     ]
    },
    {
     "name": "stdout",
     "output_type": "stream",
     "text": [
      "k=13: gpt_answer=42  true_answer=42\n",
      "CORRECT\n"
     ]
    },
    {
     "name": "stderr",
     "output_type": "stream",
     "text": [
      " 75%|███████▌  | 15/20 [00:15<00:05,  1.06s/it]"
     ]
    },
    {
     "name": "stdout",
     "output_type": "stream",
     "text": [
      "k=14: gpt_answer=42  true_answer=42\n",
      "CORRECT\n"
     ]
    },
    {
     "name": "stderr",
     "output_type": "stream",
     "text": [
      " 80%|████████  | 16/20 [00:16<00:04,  1.08s/it]"
     ]
    },
    {
     "name": "stdout",
     "output_type": "stream",
     "text": [
      "k=15: gpt_answer=42  true_answer=42\n",
      "CORRECT\n"
     ]
    },
    {
     "name": "stderr",
     "output_type": "stream",
     "text": [
      " 85%|████████▌ | 17/20 [00:17<00:03,  1.07s/it]"
     ]
    },
    {
     "name": "stdout",
     "output_type": "stream",
     "text": [
      "k=16: gpt_answer=42  true_answer=42\n",
      "CORRECT\n"
     ]
    },
    {
     "name": "stderr",
     "output_type": "stream",
     "text": [
      " 90%|█████████ | 18/20 [00:18<00:02,  1.02s/it]"
     ]
    },
    {
     "name": "stdout",
     "output_type": "stream",
     "text": [
      "k=17: gpt_answer=42  true_answer=42\n",
      "CORRECT\n"
     ]
    },
    {
     "name": "stderr",
     "output_type": "stream",
     "text": [
      " 95%|█████████▌| 19/20 [00:19<00:01,  1.07s/it]"
     ]
    },
    {
     "name": "stdout",
     "output_type": "stream",
     "text": [
      "k=18: gpt_answer=42  true_answer=42\n",
      "CORRECT\n"
     ]
    },
    {
     "name": "stderr",
     "output_type": "stream",
     "text": [
      "100%|██████████| 20/20 [00:20<00:00,  1.02s/it]\n"
     ]
    },
    {
     "name": "stdout",
     "output_type": "stream",
     "text": [
      "k=19: gpt_answer=42  true_answer=42\n",
      "CORRECT\n",
      "accuracy=1.00\n",
      "\n",
      "Question  4\n"
     ]
    },
    {
     "name": "stderr",
     "output_type": "stream",
     "text": [
      "  5%|▌         | 1/20 [00:01<00:24,  1.30s/it]"
     ]
    },
    {
     "name": "stdout",
     "output_type": "stream",
     "text": [
      "k=0: gpt_answer=624  true_answer=624\n",
      "CORRECT\n"
     ]
    },
    {
     "name": "stderr",
     "output_type": "stream",
     "text": [
      " 10%|█         | 2/20 [00:02<00:23,  1.32s/it]"
     ]
    },
    {
     "name": "stdout",
     "output_type": "stream",
     "text": [
      "k=1: gpt_answer=624  true_answer=624\n",
      "CORRECT\n"
     ]
    },
    {
     "name": "stderr",
     "output_type": "stream",
     "text": [
      " 15%|█▌        | 3/20 [00:04<00:28,  1.66s/it]"
     ]
    },
    {
     "name": "stdout",
     "output_type": "stream",
     "text": [
      "k=2: gpt_answer=624  true_answer=624\n",
      "CORRECT\n"
     ]
    },
    {
     "name": "stderr",
     "output_type": "stream",
     "text": [
      " 20%|██        | 4/20 [00:06<00:25,  1.60s/it]"
     ]
    },
    {
     "name": "stdout",
     "output_type": "stream",
     "text": [
      "k=3: gpt_answer=624  true_answer=624\n",
      "CORRECT\n"
     ]
    },
    {
     "name": "stderr",
     "output_type": "stream",
     "text": [
      " 25%|██▌       | 5/20 [00:07<00:20,  1.40s/it]"
     ]
    },
    {
     "name": "stdout",
     "output_type": "stream",
     "text": [
      "k=4: gpt_answer=624  true_answer=624\n",
      "CORRECT\n"
     ]
    },
    {
     "name": "stderr",
     "output_type": "stream",
     "text": [
      " 30%|███       | 6/20 [00:08<00:20,  1.46s/it]"
     ]
    },
    {
     "name": "stdout",
     "output_type": "stream",
     "text": [
      "k=5: gpt_answer=624  true_answer=624\n",
      "CORRECT\n"
     ]
    },
    {
     "name": "stderr",
     "output_type": "stream",
     "text": [
      " 35%|███▌      | 7/20 [00:10<00:17,  1.37s/it]"
     ]
    },
    {
     "name": "stdout",
     "output_type": "stream",
     "text": [
      "k=6: gpt_answer=624  true_answer=624\n",
      "CORRECT\n"
     ]
    },
    {
     "name": "stderr",
     "output_type": "stream",
     "text": [
      " 40%|████      | 8/20 [00:11<00:15,  1.33s/it]"
     ]
    },
    {
     "name": "stdout",
     "output_type": "stream",
     "text": [
      "k=7: gpt_answer=624  true_answer=624\n",
      "CORRECT\n"
     ]
    },
    {
     "name": "stderr",
     "output_type": "stream",
     "text": [
      " 45%|████▌     | 9/20 [00:12<00:14,  1.30s/it]"
     ]
    },
    {
     "name": "stdout",
     "output_type": "stream",
     "text": [
      "k=8: gpt_answer=624  true_answer=624\n",
      "CORRECT\n"
     ]
    },
    {
     "name": "stderr",
     "output_type": "stream",
     "text": [
      " 50%|█████     | 10/20 [00:13<00:13,  1.31s/it]"
     ]
    },
    {
     "name": "stdout",
     "output_type": "stream",
     "text": [
      "k=9: gpt_answer=624  true_answer=624\n",
      "CORRECT\n"
     ]
    },
    {
     "name": "stderr",
     "output_type": "stream",
     "text": [
      " 55%|█████▌    | 11/20 [00:14<00:11,  1.25s/it]"
     ]
    },
    {
     "name": "stdout",
     "output_type": "stream",
     "text": [
      "k=10: gpt_answer=624  true_answer=624\n",
      "CORRECT\n"
     ]
    },
    {
     "name": "stderr",
     "output_type": "stream",
     "text": [
      " 60%|██████    | 12/20 [00:16<00:10,  1.26s/it]"
     ]
    },
    {
     "name": "stdout",
     "output_type": "stream",
     "text": [
      "k=11: gpt_answer=624  true_answer=624\n",
      "CORRECT\n"
     ]
    },
    {
     "name": "stderr",
     "output_type": "stream",
     "text": [
      " 65%|██████▌   | 13/20 [00:17<00:09,  1.30s/it]"
     ]
    },
    {
     "name": "stdout",
     "output_type": "stream",
     "text": [
      "k=12: gpt_answer=624  true_answer=624\n",
      "CORRECT\n"
     ]
    },
    {
     "name": "stderr",
     "output_type": "stream",
     "text": [
      " 70%|███████   | 14/20 [00:18<00:07,  1.31s/it]"
     ]
    },
    {
     "name": "stdout",
     "output_type": "stream",
     "text": [
      "k=13: gpt_answer=624  true_answer=624\n",
      "CORRECT\n"
     ]
    },
    {
     "name": "stderr",
     "output_type": "stream",
     "text": [
      " 75%|███████▌  | 15/20 [00:20<00:06,  1.26s/it]"
     ]
    },
    {
     "name": "stdout",
     "output_type": "stream",
     "text": [
      "k=14: gpt_answer=624  true_answer=624\n",
      "CORRECT\n"
     ]
    },
    {
     "name": "stderr",
     "output_type": "stream",
     "text": [
      " 80%|████████  | 16/20 [00:21<00:04,  1.20s/it]"
     ]
    },
    {
     "name": "stdout",
     "output_type": "stream",
     "text": [
      "k=15: gpt_answer=624  true_answer=624\n",
      "CORRECT\n"
     ]
    },
    {
     "name": "stderr",
     "output_type": "stream",
     "text": [
      " 85%|████████▌ | 17/20 [00:23<00:04,  1.40s/it]"
     ]
    },
    {
     "name": "stdout",
     "output_type": "stream",
     "text": [
      "k=16: gpt_answer=624  true_answer=624\n",
      "CORRECT\n"
     ]
    },
    {
     "name": "stderr",
     "output_type": "stream",
     "text": [
      " 90%|█████████ | 18/20 [00:24<00:02,  1.31s/it]"
     ]
    },
    {
     "name": "stdout",
     "output_type": "stream",
     "text": [
      "k=17: gpt_answer=624  true_answer=624\n",
      "CORRECT\n"
     ]
    },
    {
     "name": "stderr",
     "output_type": "stream",
     "text": [
      " 95%|█████████▌| 19/20 [00:25<00:01,  1.25s/it]"
     ]
    },
    {
     "name": "stdout",
     "output_type": "stream",
     "text": [
      "k=18: gpt_answer=624  true_answer=624\n",
      "CORRECT\n"
     ]
    },
    {
     "name": "stderr",
     "output_type": "stream",
     "text": [
      "100%|██████████| 20/20 [00:27<00:00,  1.35s/it]\n"
     ]
    },
    {
     "name": "stdout",
     "output_type": "stream",
     "text": [
      "k=19: gpt_answer=624  true_answer=624\n",
      "CORRECT\n",
      "accuracy=1.00\n",
      "\n",
      "Question  5\n"
     ]
    },
    {
     "name": "stderr",
     "output_type": "stream",
     "text": [
      "  5%|▌         | 1/20 [00:01<00:35,  1.85s/it]"
     ]
    },
    {
     "name": "stdout",
     "output_type": "stream",
     "text": [
      "k=0: gpt_answer=22  true_answer=35\n",
      "INCORRECT\n"
     ]
    },
    {
     "name": "stderr",
     "output_type": "stream",
     "text": [
      " 10%|█         | 2/20 [00:03<00:33,  1.85s/it]"
     ]
    },
    {
     "name": "stdout",
     "output_type": "stream",
     "text": [
      "k=1: gpt_answer=35  true_answer=35\n",
      "CORRECT\n"
     ]
    },
    {
     "name": "stderr",
     "output_type": "stream",
     "text": [
      " 15%|█▌        | 3/20 [00:05<00:30,  1.81s/it]"
     ]
    },
    {
     "name": "stdout",
     "output_type": "stream",
     "text": [
      "k=2: gpt_answer=35  true_answer=35\n",
      "CORRECT\n"
     ]
    },
    {
     "name": "stderr",
     "output_type": "stream",
     "text": [
      " 20%|██        | 4/20 [00:07<00:30,  1.90s/it]"
     ]
    },
    {
     "name": "stdout",
     "output_type": "stream",
     "text": [
      "k=3: gpt_answer=22  true_answer=35\n",
      "INCORRECT\n"
     ]
    },
    {
     "name": "stderr",
     "output_type": "stream",
     "text": [
      " 25%|██▌       | 5/20 [00:09<00:28,  1.93s/it]"
     ]
    },
    {
     "name": "stdout",
     "output_type": "stream",
     "text": [
      "k=4: gpt_answer=35  true_answer=35\n",
      "CORRECT\n"
     ]
    },
    {
     "name": "stderr",
     "output_type": "stream",
     "text": [
      " 30%|███       | 6/20 [00:11<00:27,  1.95s/it]"
     ]
    },
    {
     "name": "stdout",
     "output_type": "stream",
     "text": [
      "k=5: gpt_answer=35  true_answer=35\n",
      "CORRECT\n"
     ]
    },
    {
     "name": "stderr",
     "output_type": "stream",
     "text": [
      " 35%|███▌      | 7/20 [00:13<00:26,  2.07s/it]"
     ]
    },
    {
     "name": "stdout",
     "output_type": "stream",
     "text": [
      "k=6: gpt_answer=35  true_answer=35\n",
      "CORRECT\n"
     ]
    },
    {
     "name": "stderr",
     "output_type": "stream",
     "text": [
      " 40%|████      | 8/20 [00:15<00:24,  2.06s/it]"
     ]
    },
    {
     "name": "stdout",
     "output_type": "stream",
     "text": [
      "k=7: gpt_answer=35  true_answer=35\n",
      "CORRECT\n"
     ]
    },
    {
     "name": "stderr",
     "output_type": "stream",
     "text": [
      " 45%|████▌     | 9/20 [00:17<00:21,  1.99s/it]"
     ]
    },
    {
     "name": "stdout",
     "output_type": "stream",
     "text": [
      "k=8: gpt_answer=35  true_answer=35\n",
      "CORRECT\n"
     ]
    },
    {
     "name": "stderr",
     "output_type": "stream",
     "text": [
      " 50%|█████     | 10/20 [00:19<00:18,  1.90s/it]"
     ]
    },
    {
     "name": "stdout",
     "output_type": "stream",
     "text": [
      "k=9: gpt_answer=25  true_answer=35\n",
      "INCORRECT\n"
     ]
    },
    {
     "name": "stderr",
     "output_type": "stream",
     "text": [
      " 55%|█████▌    | 11/20 [00:21<00:18,  2.03s/it]"
     ]
    },
    {
     "name": "stdout",
     "output_type": "stream",
     "text": [
      "k=10: gpt_answer=22  true_answer=35\n",
      "INCORRECT\n"
     ]
    },
    {
     "name": "stderr",
     "output_type": "stream",
     "text": [
      " 60%|██████    | 12/20 [00:23<00:16,  2.04s/it]"
     ]
    },
    {
     "name": "stdout",
     "output_type": "stream",
     "text": [
      "k=11: gpt_answer=35  true_answer=35\n",
      "CORRECT\n"
     ]
    },
    {
     "name": "stderr",
     "output_type": "stream",
     "text": [
      " 65%|██████▌   | 13/20 [00:25<00:13,  1.95s/it]"
     ]
    },
    {
     "name": "stdout",
     "output_type": "stream",
     "text": [
      "k=12: gpt_answer=35  true_answer=35\n",
      "CORRECT\n"
     ]
    },
    {
     "name": "stderr",
     "output_type": "stream",
     "text": [
      " 70%|███████   | 14/20 [00:27<00:11,  1.90s/it]"
     ]
    },
    {
     "name": "stdout",
     "output_type": "stream",
     "text": [
      "k=13: gpt_answer=35  true_answer=35\n",
      "CORRECT\n"
     ]
    },
    {
     "name": "stderr",
     "output_type": "stream",
     "text": [
      " 75%|███████▌  | 15/20 [00:29<00:09,  1.93s/it]"
     ]
    },
    {
     "name": "stdout",
     "output_type": "stream",
     "text": [
      "k=14: gpt_answer=35  true_answer=35\n",
      "CORRECT\n"
     ]
    },
    {
     "name": "stderr",
     "output_type": "stream",
     "text": [
      " 80%|████████  | 16/20 [00:31<00:08,  2.06s/it]"
     ]
    },
    {
     "name": "stdout",
     "output_type": "stream",
     "text": [
      "k=15: gpt_answer=35  true_answer=35\n",
      "CORRECT\n"
     ]
    },
    {
     "name": "stderr",
     "output_type": "stream",
     "text": [
      " 85%|████████▌ | 17/20 [00:33<00:06,  2.09s/it]"
     ]
    },
    {
     "name": "stdout",
     "output_type": "stream",
     "text": [
      "k=16: gpt_answer=35  true_answer=35\n",
      "CORRECT\n"
     ]
    },
    {
     "name": "stderr",
     "output_type": "stream",
     "text": [
      " 90%|█████████ | 18/20 [00:35<00:03,  1.98s/it]"
     ]
    },
    {
     "name": "stdout",
     "output_type": "stream",
     "text": [
      "k=17: gpt_answer=35  true_answer=35\n",
      "CORRECT\n"
     ]
    },
    {
     "name": "stderr",
     "output_type": "stream",
     "text": [
      " 95%|█████████▌| 19/20 [00:37<00:01,  1.94s/it]"
     ]
    },
    {
     "name": "stdout",
     "output_type": "stream",
     "text": [
      "k=18: gpt_answer=35  true_answer=35\n",
      "CORRECT\n"
     ]
    },
    {
     "name": "stderr",
     "output_type": "stream",
     "text": [
      "100%|██████████| 20/20 [00:39<00:00,  1.96s/it]\n"
     ]
    },
    {
     "name": "stdout",
     "output_type": "stream",
     "text": [
      "k=19: gpt_answer=35  true_answer=35\n",
      "CORRECT\n",
      "accuracy=0.80\n",
      "\n",
      "Question  6\n"
     ]
    },
    {
     "name": "stderr",
     "output_type": "stream",
     "text": [
      "  5%|▌         | 1/20 [00:01<00:23,  1.25s/it]"
     ]
    },
    {
     "name": "stdout",
     "output_type": "stream",
     "text": [
      "k=0: gpt_answer=48  true_answer=48\n",
      "CORRECT\n"
     ]
    },
    {
     "name": "stderr",
     "output_type": "stream",
     "text": [
      " 10%|█         | 2/20 [00:02<00:20,  1.12s/it]"
     ]
    },
    {
     "name": "stdout",
     "output_type": "stream",
     "text": [
      "k=1: gpt_answer=48  true_answer=48\n",
      "CORRECT\n"
     ]
    },
    {
     "name": "stderr",
     "output_type": "stream",
     "text": [
      " 15%|█▌        | 3/20 [00:03<00:19,  1.14s/it]"
     ]
    },
    {
     "name": "stdout",
     "output_type": "stream",
     "text": [
      "k=2: gpt_answer=48  true_answer=48\n",
      "CORRECT\n"
     ]
    },
    {
     "name": "stderr",
     "output_type": "stream",
     "text": [
      " 20%|██        | 4/20 [00:04<00:19,  1.23s/it]"
     ]
    },
    {
     "name": "stdout",
     "output_type": "stream",
     "text": [
      "k=3: gpt_answer=48  true_answer=48\n",
      "CORRECT\n"
     ]
    },
    {
     "name": "stderr",
     "output_type": "stream",
     "text": [
      " 25%|██▌       | 5/20 [00:06<00:19,  1.28s/it]"
     ]
    },
    {
     "name": "stdout",
     "output_type": "stream",
     "text": [
      "k=4: gpt_answer=48  true_answer=48\n",
      "CORRECT\n"
     ]
    },
    {
     "name": "stderr",
     "output_type": "stream",
     "text": [
      " 30%|███       | 6/20 [00:07<00:18,  1.30s/it]"
     ]
    },
    {
     "name": "stdout",
     "output_type": "stream",
     "text": [
      "k=5: gpt_answer=48  true_answer=48\n",
      "CORRECT\n"
     ]
    },
    {
     "name": "stderr",
     "output_type": "stream",
     "text": [
      " 35%|███▌      | 7/20 [00:08<00:16,  1.24s/it]"
     ]
    },
    {
     "name": "stdout",
     "output_type": "stream",
     "text": [
      "k=6: gpt_answer=48  true_answer=48\n",
      "CORRECT\n"
     ]
    },
    {
     "name": "stderr",
     "output_type": "stream",
     "text": [
      " 40%|████      | 8/20 [00:09<00:14,  1.18s/it]"
     ]
    },
    {
     "name": "stdout",
     "output_type": "stream",
     "text": [
      "k=7: gpt_answer=48  true_answer=48\n",
      "CORRECT\n"
     ]
    },
    {
     "name": "stderr",
     "output_type": "stream",
     "text": [
      " 45%|████▌     | 9/20 [00:10<00:13,  1.20s/it]"
     ]
    },
    {
     "name": "stdout",
     "output_type": "stream",
     "text": [
      "k=8: gpt_answer=48  true_answer=48\n",
      "CORRECT\n"
     ]
    },
    {
     "name": "stderr",
     "output_type": "stream",
     "text": [
      " 50%|█████     | 10/20 [00:12<00:11,  1.17s/it]"
     ]
    },
    {
     "name": "stdout",
     "output_type": "stream",
     "text": [
      "k=9: gpt_answer=48  true_answer=48\n",
      "CORRECT\n"
     ]
    },
    {
     "name": "stderr",
     "output_type": "stream",
     "text": [
      " 55%|█████▌    | 11/20 [00:13<00:10,  1.14s/it]"
     ]
    },
    {
     "name": "stdout",
     "output_type": "stream",
     "text": [
      "k=10: gpt_answer=48  true_answer=48\n",
      "CORRECT\n"
     ]
    },
    {
     "name": "stderr",
     "output_type": "stream",
     "text": [
      " 60%|██████    | 12/20 [00:14<00:09,  1.17s/it]"
     ]
    },
    {
     "name": "stdout",
     "output_type": "stream",
     "text": [
      "k=11: gpt_answer=48  true_answer=48\n",
      "CORRECT\n"
     ]
    },
    {
     "name": "stderr",
     "output_type": "stream",
     "text": [
      " 65%|██████▌   | 13/20 [00:15<00:08,  1.17s/it]"
     ]
    },
    {
     "name": "stdout",
     "output_type": "stream",
     "text": [
      "k=12: gpt_answer=48  true_answer=48\n",
      "CORRECT\n"
     ]
    },
    {
     "name": "stderr",
     "output_type": "stream",
     "text": [
      " 70%|███████   | 14/20 [00:16<00:06,  1.14s/it]"
     ]
    },
    {
     "name": "stdout",
     "output_type": "stream",
     "text": [
      "k=13: gpt_answer=48  true_answer=48\n",
      "CORRECT\n"
     ]
    },
    {
     "name": "stderr",
     "output_type": "stream",
     "text": [
      " 75%|███████▌  | 15/20 [00:17<00:05,  1.17s/it]"
     ]
    },
    {
     "name": "stdout",
     "output_type": "stream",
     "text": [
      "k=14: gpt_answer=48  true_answer=48\n",
      "CORRECT\n"
     ]
    },
    {
     "name": "stderr",
     "output_type": "stream",
     "text": [
      " 80%|████████  | 16/20 [00:18<00:04,  1.12s/it]"
     ]
    },
    {
     "name": "stdout",
     "output_type": "stream",
     "text": [
      "k=15: gpt_answer=48  true_answer=48\n",
      "CORRECT\n"
     ]
    },
    {
     "name": "stderr",
     "output_type": "stream",
     "text": [
      " 85%|████████▌ | 17/20 [00:19<00:03,  1.13s/it]"
     ]
    },
    {
     "name": "stdout",
     "output_type": "stream",
     "text": [
      "k=16: gpt_answer=48  true_answer=48\n",
      "CORRECT\n"
     ]
    },
    {
     "name": "stderr",
     "output_type": "stream",
     "text": [
      " 90%|█████████ | 18/20 [00:21<00:02,  1.13s/it]"
     ]
    },
    {
     "name": "stdout",
     "output_type": "stream",
     "text": [
      "k=17: gpt_answer=48  true_answer=48\n",
      "CORRECT\n"
     ]
    },
    {
     "name": "stderr",
     "output_type": "stream",
     "text": [
      " 95%|█████████▌| 19/20 [00:22<00:01,  1.11s/it]"
     ]
    },
    {
     "name": "stdout",
     "output_type": "stream",
     "text": [
      "k=18: gpt_answer=48  true_answer=48\n",
      "CORRECT\n"
     ]
    },
    {
     "name": "stderr",
     "output_type": "stream",
     "text": [
      "100%|██████████| 20/20 [00:23<00:00,  1.17s/it]\n"
     ]
    },
    {
     "name": "stdout",
     "output_type": "stream",
     "text": [
      "k=19: gpt_answer=48  true_answer=48\n",
      "CORRECT\n",
      "accuracy=1.00\n",
      "\n",
      "Question  7\n"
     ]
    },
    {
     "name": "stderr",
     "output_type": "stream",
     "text": [
      "  5%|▌         | 1/20 [00:01<00:37,  1.95s/it]"
     ]
    },
    {
     "name": "stdout",
     "output_type": "stream",
     "text": [
      "k=0: gpt_answer=18  true_answer=16\n",
      "INCORRECT\n"
     ]
    },
    {
     "name": "stderr",
     "output_type": "stream",
     "text": [
      " 10%|█         | 2/20 [00:03<00:27,  1.51s/it]"
     ]
    },
    {
     "name": "stdout",
     "output_type": "stream",
     "text": [
      "k=1: gpt_answer=16  true_answer=16\n",
      "CORRECT\n"
     ]
    },
    {
     "name": "stderr",
     "output_type": "stream",
     "text": [
      " 15%|█▌        | 3/20 [00:04<00:27,  1.63s/it]"
     ]
    },
    {
     "name": "stdout",
     "output_type": "stream",
     "text": [
      "k=2: gpt_answer=30  true_answer=16\n",
      "INCORRECT\n"
     ]
    },
    {
     "name": "stderr",
     "output_type": "stream",
     "text": [
      " 20%|██        | 4/20 [00:06<00:25,  1.57s/it]"
     ]
    },
    {
     "name": "stdout",
     "output_type": "stream",
     "text": [
      "k=3: gpt_answer=16  true_answer=16\n",
      "CORRECT\n"
     ]
    },
    {
     "name": "stderr",
     "output_type": "stream",
     "text": [
      " 25%|██▌       | 5/20 [00:07<00:21,  1.45s/it]"
     ]
    },
    {
     "name": "stdout",
     "output_type": "stream",
     "text": [
      "k=4: gpt_answer=16  true_answer=16\n",
      "CORRECT\n"
     ]
    },
    {
     "name": "stderr",
     "output_type": "stream",
     "text": [
      " 30%|███       | 6/20 [00:09<00:21,  1.57s/it]"
     ]
    },
    {
     "name": "stdout",
     "output_type": "stream",
     "text": [
      "k=5: gpt_answer=30  true_answer=16\n",
      "INCORRECT\n"
     ]
    },
    {
     "name": "stderr",
     "output_type": "stream",
     "text": [
      " 35%|███▌      | 7/20 [00:10<00:19,  1.54s/it]"
     ]
    },
    {
     "name": "stdout",
     "output_type": "stream",
     "text": [
      "k=6: gpt_answer=16  true_answer=16\n",
      "CORRECT\n"
     ]
    },
    {
     "name": "stderr",
     "output_type": "stream",
     "text": [
      " 40%|████      | 8/20 [00:12<00:18,  1.51s/it]"
     ]
    },
    {
     "name": "stdout",
     "output_type": "stream",
     "text": [
      "k=7: gpt_answer=16  true_answer=16\n",
      "CORRECT\n"
     ]
    },
    {
     "name": "stderr",
     "output_type": "stream",
     "text": [
      " 45%|████▌     | 9/20 [00:14<00:19,  1.79s/it]"
     ]
    },
    {
     "name": "stdout",
     "output_type": "stream",
     "text": [
      "k=8: gpt_answer=16  true_answer=16\n",
      "CORRECT\n"
     ]
    },
    {
     "name": "stderr",
     "output_type": "stream",
     "text": [
      " 50%|█████     | 10/20 [00:16<00:16,  1.66s/it]"
     ]
    },
    {
     "name": "stdout",
     "output_type": "stream",
     "text": [
      "k=9: gpt_answer=16  true_answer=16\n",
      "CORRECT\n"
     ]
    },
    {
     "name": "stderr",
     "output_type": "stream",
     "text": [
      " 55%|█████▌    | 11/20 [00:17<00:15,  1.68s/it]"
     ]
    },
    {
     "name": "stdout",
     "output_type": "stream",
     "text": [
      "k=10: gpt_answer=30  true_answer=16\n",
      "INCORRECT\n"
     ]
    },
    {
     "name": "stderr",
     "output_type": "stream",
     "text": [
      " 60%|██████    | 12/20 [00:19<00:12,  1.56s/it]"
     ]
    },
    {
     "name": "stdout",
     "output_type": "stream",
     "text": [
      "k=11: gpt_answer=16  true_answer=16\n",
      "CORRECT\n"
     ]
    },
    {
     "name": "stderr",
     "output_type": "stream",
     "text": [
      " 65%|██████▌   | 13/20 [00:20<00:10,  1.47s/it]"
     ]
    },
    {
     "name": "stdout",
     "output_type": "stream",
     "text": [
      "k=12: gpt_answer=16  true_answer=16\n",
      "CORRECT\n"
     ]
    },
    {
     "name": "stderr",
     "output_type": "stream",
     "text": [
      " 70%|███████   | 14/20 [00:21<00:08,  1.43s/it]"
     ]
    },
    {
     "name": "stdout",
     "output_type": "stream",
     "text": [
      "k=13: gpt_answer=16  true_answer=16\n",
      "CORRECT\n"
     ]
    },
    {
     "name": "stderr",
     "output_type": "stream",
     "text": [
      " 75%|███████▌  | 15/20 [00:24<00:09,  1.94s/it]"
     ]
    },
    {
     "name": "stdout",
     "output_type": "stream",
     "text": [
      "k=14: gpt_answer=14  true_answer=16\n",
      "INCORRECT\n"
     ]
    },
    {
     "name": "stderr",
     "output_type": "stream",
     "text": [
      " 80%|████████  | 16/20 [00:27<00:08,  2.08s/it]"
     ]
    },
    {
     "name": "stdout",
     "output_type": "stream",
     "text": [
      "k=15: gpt_answer=18  true_answer=16\n",
      "INCORRECT\n"
     ]
    },
    {
     "name": "stderr",
     "output_type": "stream",
     "text": [
      " 85%|████████▌ | 17/20 [00:28<00:05,  1.80s/it]"
     ]
    },
    {
     "name": "stdout",
     "output_type": "stream",
     "text": [
      "k=16: gpt_answer=16  true_answer=16\n",
      "CORRECT\n"
     ]
    },
    {
     "name": "stderr",
     "output_type": "stream",
     "text": [
      " 90%|█████████ | 18/20 [00:29<00:03,  1.67s/it]"
     ]
    },
    {
     "name": "stdout",
     "output_type": "stream",
     "text": [
      "k=17: gpt_answer=16  true_answer=16\n",
      "CORRECT\n"
     ]
    },
    {
     "name": "stderr",
     "output_type": "stream",
     "text": [
      " 95%|█████████▌| 19/20 [00:30<00:01,  1.51s/it]"
     ]
    },
    {
     "name": "stdout",
     "output_type": "stream",
     "text": [
      "k=18: gpt_answer=16  true_answer=16\n",
      "CORRECT\n"
     ]
    },
    {
     "name": "stderr",
     "output_type": "stream",
     "text": [
      "100%|██████████| 20/20 [00:32<00:00,  1.64s/it]\n"
     ]
    },
    {
     "name": "stdout",
     "output_type": "stream",
     "text": [
      "k=19: gpt_answer=18  true_answer=16\n",
      "INCORRECT\n",
      "accuracy=0.65\n",
      "\n",
      "Question  8\n"
     ]
    },
    {
     "name": "stderr",
     "output_type": "stream",
     "text": [
      "  5%|▌         | 1/20 [00:01<00:25,  1.36s/it]"
     ]
    },
    {
     "name": "stdout",
     "output_type": "stream",
     "text": [
      "k=0: gpt_answer=41  true_answer=41\n",
      "CORRECT\n"
     ]
    },
    {
     "name": "stderr",
     "output_type": "stream",
     "text": [
      " 10%|█         | 2/20 [00:02<00:25,  1.41s/it]"
     ]
    },
    {
     "name": "stdout",
     "output_type": "stream",
     "text": [
      "k=1: gpt_answer=41.  true_answer=41\n",
      "CORRECT\n"
     ]
    },
    {
     "name": "stderr",
     "output_type": "stream",
     "text": [
      " 15%|█▌        | 3/20 [00:04<00:28,  1.69s/it]"
     ]
    },
    {
     "name": "stdout",
     "output_type": "stream",
     "text": [
      "k=2: gpt_answer=41.  true_answer=41\n",
      "CORRECT\n"
     ]
    },
    {
     "name": "stderr",
     "output_type": "stream",
     "text": [
      " 20%|██        | 4/20 [00:06<00:26,  1.65s/it]"
     ]
    },
    {
     "name": "stdout",
     "output_type": "stream",
     "text": [
      "k=3: gpt_answer=41  true_answer=41\n",
      "CORRECT\n"
     ]
    },
    {
     "name": "stderr",
     "output_type": "stream",
     "text": [
      " 25%|██▌       | 5/20 [00:07<00:23,  1.60s/it]"
     ]
    },
    {
     "name": "stdout",
     "output_type": "stream",
     "text": [
      "k=4: gpt_answer=41  true_answer=41\n",
      "CORRECT\n"
     ]
    },
    {
     "name": "stderr",
     "output_type": "stream",
     "text": [
      " 30%|███       | 6/20 [00:09<00:22,  1.57s/it]"
     ]
    },
    {
     "name": "stdout",
     "output_type": "stream",
     "text": [
      "k=5: gpt_answer=41  true_answer=41\n",
      "CORRECT\n"
     ]
    },
    {
     "name": "stderr",
     "output_type": "stream",
     "text": [
      " 35%|███▌      | 7/20 [00:11<00:20,  1.57s/it]"
     ]
    },
    {
     "name": "stdout",
     "output_type": "stream",
     "text": [
      "k=6: gpt_answer=41  true_answer=41\n",
      "CORRECT\n"
     ]
    },
    {
     "name": "stderr",
     "output_type": "stream",
     "text": [
      " 40%|████      | 8/20 [00:12<00:18,  1.54s/it]"
     ]
    },
    {
     "name": "stdout",
     "output_type": "stream",
     "text": [
      "k=7: gpt_answer=41  true_answer=41\n",
      "CORRECT\n"
     ]
    },
    {
     "name": "stderr",
     "output_type": "stream",
     "text": [
      " 45%|████▌     | 9/20 [00:13<00:16,  1.50s/it]"
     ]
    },
    {
     "name": "stdout",
     "output_type": "stream",
     "text": [
      "k=8: gpt_answer=41  true_answer=41\n",
      "CORRECT\n"
     ]
    },
    {
     "name": "stderr",
     "output_type": "stream",
     "text": [
      " 50%|█████     | 10/20 [00:15<00:15,  1.51s/it]"
     ]
    },
    {
     "name": "stdout",
     "output_type": "stream",
     "text": [
      "k=9: gpt_answer=41  true_answer=41\n",
      "CORRECT\n"
     ]
    },
    {
     "name": "stderr",
     "output_type": "stream",
     "text": [
      " 55%|█████▌    | 11/20 [00:16<00:12,  1.39s/it]"
     ]
    },
    {
     "name": "stdout",
     "output_type": "stream",
     "text": [
      "k=10: gpt_answer=41  true_answer=41\n",
      "CORRECT\n"
     ]
    },
    {
     "name": "stderr",
     "output_type": "stream",
     "text": [
      " 60%|██████    | 12/20 [00:18<00:11,  1.41s/it]"
     ]
    },
    {
     "name": "stdout",
     "output_type": "stream",
     "text": [
      "k=11: gpt_answer=41  true_answer=41\n",
      "CORRECT\n"
     ]
    },
    {
     "name": "stderr",
     "output_type": "stream",
     "text": [
      " 65%|██████▌   | 13/20 [00:19<00:10,  1.46s/it]"
     ]
    },
    {
     "name": "stdout",
     "output_type": "stream",
     "text": [
      "k=12: gpt_answer=41  true_answer=41\n",
      "CORRECT\n"
     ]
    },
    {
     "name": "stderr",
     "output_type": "stream",
     "text": [
      " 70%|███████   | 14/20 [00:21<00:08,  1.47s/it]"
     ]
    },
    {
     "name": "stdout",
     "output_type": "stream",
     "text": [
      "k=13: gpt_answer=41  true_answer=41\n",
      "CORRECT\n"
     ]
    },
    {
     "name": "stderr",
     "output_type": "stream",
     "text": [
      " 75%|███████▌  | 15/20 [00:22<00:07,  1.45s/it]"
     ]
    },
    {
     "name": "stdout",
     "output_type": "stream",
     "text": [
      "k=14: gpt_answer=41  true_answer=41\n",
      "CORRECT\n"
     ]
    },
    {
     "name": "stderr",
     "output_type": "stream",
     "text": [
      " 80%|████████  | 16/20 [00:23<00:05,  1.47s/it]"
     ]
    },
    {
     "name": "stdout",
     "output_type": "stream",
     "text": [
      "k=15: gpt_answer=41  true_answer=41\n",
      "CORRECT\n"
     ]
    },
    {
     "name": "stderr",
     "output_type": "stream",
     "text": [
      " 85%|████████▌ | 17/20 [00:25<00:04,  1.49s/it]"
     ]
    },
    {
     "name": "stdout",
     "output_type": "stream",
     "text": [
      "k=16: gpt_answer=41  true_answer=41\n",
      "CORRECT\n"
     ]
    },
    {
     "name": "stderr",
     "output_type": "stream",
     "text": [
      " 90%|█████████ | 18/20 [00:26<00:02,  1.48s/it]"
     ]
    },
    {
     "name": "stdout",
     "output_type": "stream",
     "text": [
      "k=17: gpt_answer=41  true_answer=41\n",
      "CORRECT\n"
     ]
    },
    {
     "name": "stderr",
     "output_type": "stream",
     "text": [
      " 95%|█████████▌| 19/20 [00:28<00:01,  1.41s/it]"
     ]
    },
    {
     "name": "stdout",
     "output_type": "stream",
     "text": [
      "k=18: gpt_answer=41.  true_answer=41\n",
      "CORRECT\n"
     ]
    },
    {
     "name": "stderr",
     "output_type": "stream",
     "text": [
      "100%|██████████| 20/20 [00:29<00:00,  1.49s/it]\n"
     ]
    },
    {
     "name": "stdout",
     "output_type": "stream",
     "text": [
      "k=19: gpt_answer=41  true_answer=41\n",
      "CORRECT\n",
      "accuracy=1.00\n",
      "\n",
      "Question  9\n"
     ]
    },
    {
     "name": "stderr",
     "output_type": "stream",
     "text": [
      "  5%|▌         | 1/20 [00:01<00:32,  1.69s/it]"
     ]
    },
    {
     "name": "stdout",
     "output_type": "stream",
     "text": [
      "k=0: gpt_answer=990.  true_answer=990.0\n",
      "CORRECT\n"
     ]
    },
    {
     "name": "stderr",
     "output_type": "stream",
     "text": [
      " 10%|█         | 2/20 [00:03<00:30,  1.71s/it]"
     ]
    },
    {
     "name": "stdout",
     "output_type": "stream",
     "text": [
      "k=1: gpt_answer=990.  true_answer=990.0\n",
      "CORRECT\n"
     ]
    },
    {
     "name": "stderr",
     "output_type": "stream",
     "text": [
      " 15%|█▌        | 3/20 [00:05<00:28,  1.67s/it]"
     ]
    },
    {
     "name": "stdout",
     "output_type": "stream",
     "text": [
      "k=2: gpt_answer=990  true_answer=990.0\n",
      "CORRECT\n"
     ]
    },
    {
     "name": "stderr",
     "output_type": "stream",
     "text": [
      " 20%|██        | 4/20 [00:06<00:26,  1.69s/it]"
     ]
    },
    {
     "name": "stdout",
     "output_type": "stream",
     "text": [
      "k=3: gpt_answer=990  true_answer=990.0\n",
      "CORRECT\n"
     ]
    },
    {
     "name": "stderr",
     "output_type": "stream",
     "text": [
      " 25%|██▌       | 5/20 [00:08<00:24,  1.63s/it]"
     ]
    },
    {
     "name": "stdout",
     "output_type": "stream",
     "text": [
      "k=4: gpt_answer=990.  true_answer=990.0\n",
      "CORRECT\n"
     ]
    },
    {
     "name": "stderr",
     "output_type": "stream",
     "text": [
      " 30%|███       | 6/20 [00:09<00:23,  1.65s/it]"
     ]
    },
    {
     "name": "stdout",
     "output_type": "stream",
     "text": [
      "k=5: gpt_answer=Total earnins = 990  true_answer=990.0\n",
      "INCORRECT\n"
     ]
    },
    {
     "name": "stderr",
     "output_type": "stream",
     "text": [
      " 35%|███▌      | 7/20 [00:11<00:20,  1.60s/it]"
     ]
    },
    {
     "name": "stdout",
     "output_type": "stream",
     "text": [
      "k=6: gpt_answer=990  true_answer=990.0\n",
      "CORRECT\n"
     ]
    },
    {
     "name": "stderr",
     "output_type": "stream",
     "text": [
      " 40%|████      | 8/20 [00:13<00:19,  1.60s/it]"
     ]
    },
    {
     "name": "stdout",
     "output_type": "stream",
     "text": [
      "k=7: gpt_answer=990  true_answer=990.0\n",
      "CORRECT\n"
     ]
    },
    {
     "name": "stderr",
     "output_type": "stream",
     "text": [
      " 45%|████▌     | 9/20 [00:14<00:17,  1.56s/it]"
     ]
    },
    {
     "name": "stdout",
     "output_type": "stream",
     "text": [
      "k=8: gpt_answer=990  true_answer=990.0\n",
      "CORRECT\n"
     ]
    },
    {
     "name": "stderr",
     "output_type": "stream",
     "text": [
      " 50%|█████     | 10/20 [00:16<00:15,  1.60s/it]"
     ]
    },
    {
     "name": "stdout",
     "output_type": "stream",
     "text": [
      "k=9: gpt_answer=990  true_answer=990.0\n",
      "CORRECT\n"
     ]
    },
    {
     "name": "stderr",
     "output_type": "stream",
     "text": [
      " 55%|█████▌    | 11/20 [00:17<00:14,  1.65s/it]"
     ]
    },
    {
     "name": "stdout",
     "output_type": "stream",
     "text": [
      "k=10: gpt_answer=990.  true_answer=990.0\n",
      "CORRECT\n"
     ]
    },
    {
     "name": "stderr",
     "output_type": "stream",
     "text": [
      " 60%|██████    | 12/20 [00:19<00:13,  1.72s/it]"
     ]
    },
    {
     "name": "stdout",
     "output_type": "stream",
     "text": [
      "k=11: gpt_answer=990  true_answer=990.0\n",
      "CORRECT\n"
     ]
    },
    {
     "name": "stderr",
     "output_type": "stream",
     "text": [
      " 65%|██████▌   | 13/20 [00:21<00:12,  1.81s/it]"
     ]
    },
    {
     "name": "stdout",
     "output_type": "stream",
     "text": [
      "k=12: gpt_answer=990  true_answer=990.0\n",
      "CORRECT\n"
     ]
    },
    {
     "name": "stderr",
     "output_type": "stream",
     "text": [
      " 70%|███████   | 14/20 [00:26<00:16,  2.68s/it]"
     ]
    },
    {
     "name": "stdout",
     "output_type": "stream",
     "text": [
      "k=13: gpt_answer=990  true_answer=990.0\n",
      "CORRECT\n"
     ]
    },
    {
     "name": "stderr",
     "output_type": "stream",
     "text": [
      " 75%|███████▌  | 15/20 [00:27<00:11,  2.24s/it]"
     ]
    },
    {
     "name": "stdout",
     "output_type": "stream",
     "text": [
      "k=14: gpt_answer=990  true_answer=990.0\n",
      "CORRECT\n"
     ]
    },
    {
     "name": "stderr",
     "output_type": "stream",
     "text": [
      " 80%|████████  | 16/20 [00:29<00:07,  1.99s/it]"
     ]
    },
    {
     "name": "stdout",
     "output_type": "stream",
     "text": [
      "k=15: gpt_answer=990.  true_answer=990.0\n",
      "CORRECT\n"
     ]
    },
    {
     "name": "stderr",
     "output_type": "stream",
     "text": [
      " 85%|████████▌ | 17/20 [00:31<00:05,  1.97s/it]"
     ]
    },
    {
     "name": "stdout",
     "output_type": "stream",
     "text": [
      "k=16: gpt_answer=990.  true_answer=990.0\n",
      "CORRECT\n"
     ]
    },
    {
     "name": "stderr",
     "output_type": "stream",
     "text": [
      " 90%|█████████ | 18/20 [00:32<00:03,  1.89s/it]"
     ]
    },
    {
     "name": "stdout",
     "output_type": "stream",
     "text": [
      "k=17: gpt_answer=990  true_answer=990.0\n",
      "CORRECT\n"
     ]
    },
    {
     "name": "stderr",
     "output_type": "stream",
     "text": [
      " 95%|█████████▌| 19/20 [00:34<00:01,  1.74s/it]"
     ]
    },
    {
     "name": "stdout",
     "output_type": "stream",
     "text": [
      "k=18: gpt_answer=990  true_answer=990.0\n",
      "CORRECT\n"
     ]
    },
    {
     "name": "stderr",
     "output_type": "stream",
     "text": [
      "100%|██████████| 20/20 [00:35<00:00,  1.80s/it]\n"
     ]
    },
    {
     "name": "stdout",
     "output_type": "stream",
     "text": [
      "k=19: gpt_answer=990.  true_answer=990.0\n",
      "CORRECT\n",
      "accuracy=0.95\n",
      "\n",
      "Question  11\n"
     ]
    },
    {
     "name": "stderr",
     "output_type": "stream",
     "text": [
      "  5%|▌         | 1/20 [00:02<00:51,  2.71s/it]"
     ]
    },
    {
     "name": "stdout",
     "output_type": "stream",
     "text": [
      "k=0: gpt_answer=5  true_answer=5\n",
      "CORRECT\n"
     ]
    },
    {
     "name": "stderr",
     "output_type": "stream",
     "text": [
      " 10%|█         | 2/20 [00:05<00:47,  2.63s/it]"
     ]
    },
    {
     "name": "stdout",
     "output_type": "stream",
     "text": [
      "k=1: gpt_answer=5  true_answer=5\n",
      "CORRECT\n"
     ]
    },
    {
     "name": "stderr",
     "output_type": "stream",
     "text": [
      " 15%|█▌        | 3/20 [00:07<00:42,  2.50s/it]"
     ]
    },
    {
     "name": "stdout",
     "output_type": "stream",
     "text": [
      "k=2: gpt_answer=5  true_answer=5\n",
      "CORRECT\n"
     ]
    },
    {
     "name": "stderr",
     "output_type": "stream",
     "text": [
      " 20%|██        | 4/20 [00:10<00:41,  2.62s/it]"
     ]
    },
    {
     "name": "stdout",
     "output_type": "stream",
     "text": [
      "k=3: gpt_answer=5  true_answer=5\n",
      "CORRECT\n"
     ]
    },
    {
     "name": "stderr",
     "output_type": "stream",
     "text": [
      " 25%|██▌       | 5/20 [00:12<00:34,  2.30s/it]"
     ]
    },
    {
     "name": "stdout",
     "output_type": "stream",
     "text": [
      "k=4: gpt_answer=5  true_answer=5\n",
      "CORRECT\n"
     ]
    },
    {
     "name": "stderr",
     "output_type": "stream",
     "text": [
      " 30%|███       | 6/20 [00:14<00:30,  2.15s/it]"
     ]
    },
    {
     "name": "stdout",
     "output_type": "stream",
     "text": [
      "k=5: gpt_answer=5  true_answer=5\n",
      "CORRECT\n"
     ]
    },
    {
     "name": "stderr",
     "output_type": "stream",
     "text": [
      " 35%|███▌      | 7/20 [00:15<00:26,  2.05s/it]"
     ]
    },
    {
     "name": "stdout",
     "output_type": "stream",
     "text": [
      "k=6: gpt_answer=5  true_answer=5\n",
      "CORRECT\n"
     ]
    },
    {
     "name": "stderr",
     "output_type": "stream",
     "text": [
      " 40%|████      | 8/20 [00:17<00:24,  2.07s/it]"
     ]
    },
    {
     "name": "stdout",
     "output_type": "stream",
     "text": [
      "k=7: gpt_answer=2  true_answer=5\n",
      "INCORRECT\n"
     ]
    },
    {
     "name": "stderr",
     "output_type": "stream",
     "text": [
      " 45%|████▌     | 9/20 [00:19<00:22,  2.04s/it]"
     ]
    },
    {
     "name": "stdout",
     "output_type": "stream",
     "text": [
      "k=8: gpt_answer=5  true_answer=5\n",
      "CORRECT\n"
     ]
    },
    {
     "name": "stderr",
     "output_type": "stream",
     "text": [
      " 50%|█████     | 10/20 [00:22<00:21,  2.11s/it]"
     ]
    },
    {
     "name": "stdout",
     "output_type": "stream",
     "text": [
      "k=9: gpt_answer=5  true_answer=5\n",
      "CORRECT\n"
     ]
    },
    {
     "name": "stderr",
     "output_type": "stream",
     "text": [
      " 55%|█████▌    | 11/20 [00:24<00:19,  2.19s/it]"
     ]
    },
    {
     "name": "stdout",
     "output_type": "stream",
     "text": [
      "k=10: gpt_answer=1  true_answer=5\n",
      "INCORRECT\n"
     ]
    },
    {
     "name": "stderr",
     "output_type": "stream",
     "text": [
      " 60%|██████    | 12/20 [00:26<00:17,  2.23s/it]"
     ]
    },
    {
     "name": "stdout",
     "output_type": "stream",
     "text": [
      "k=11: gpt_answer=5  true_answer=5\n",
      "CORRECT\n"
     ]
    },
    {
     "name": "stderr",
     "output_type": "stream",
     "text": [
      " 65%|██████▌   | 13/20 [00:28<00:14,  2.12s/it]"
     ]
    },
    {
     "name": "stdout",
     "output_type": "stream",
     "text": [
      "k=12: gpt_answer=1  true_answer=5\n",
      "INCORRECT\n"
     ]
    },
    {
     "name": "stderr",
     "output_type": "stream",
     "text": [
      " 70%|███████   | 14/20 [00:30<00:12,  2.06s/it]"
     ]
    },
    {
     "name": "stdout",
     "output_type": "stream",
     "text": [
      "k=13: gpt_answer=5  true_answer=5\n",
      "CORRECT\n"
     ]
    },
    {
     "name": "stderr",
     "output_type": "stream",
     "text": [
      " 75%|███████▌  | 15/20 [00:32<00:10,  2.09s/it]"
     ]
    },
    {
     "name": "stdout",
     "output_type": "stream",
     "text": [
      "k=14: gpt_answer=2  true_answer=5\n",
      "INCORRECT\n"
     ]
    },
    {
     "name": "stderr",
     "output_type": "stream",
     "text": [
      " 80%|████████  | 16/20 [00:34<00:07,  1.93s/it]"
     ]
    },
    {
     "name": "stdout",
     "output_type": "stream",
     "text": [
      "k=15: gpt_answer=0  true_answer=5\n",
      "INCORRECT\n"
     ]
    },
    {
     "name": "stderr",
     "output_type": "stream",
     "text": [
      " 85%|████████▌ | 17/20 [00:36<00:05,  1.95s/it]"
     ]
    },
    {
     "name": "stdout",
     "output_type": "stream",
     "text": [
      "k=16: gpt_answer=12  true_answer=5\n",
      "INCORRECT\n"
     ]
    },
    {
     "name": "stderr",
     "output_type": "stream",
     "text": [
      " 90%|█████████ | 18/20 [00:38<00:03,  1.89s/it]"
     ]
    },
    {
     "name": "stdout",
     "output_type": "stream",
     "text": [
      "k=17: gpt_answer=0  true_answer=5\n",
      "INCORRECT\n"
     ]
    },
    {
     "name": "stderr",
     "output_type": "stream",
     "text": [
      " 95%|█████████▌| 19/20 [00:39<00:01,  1.84s/it]"
     ]
    },
    {
     "name": "stdout",
     "output_type": "stream",
     "text": [
      "k=18: gpt_answer=9  true_answer=5\n",
      "INCORRECT\n"
     ]
    },
    {
     "name": "stderr",
     "output_type": "stream",
     "text": [
      "100%|██████████| 20/20 [00:42<00:00,  2.10s/it]\n"
     ]
    },
    {
     "name": "stdout",
     "output_type": "stream",
     "text": [
      "k=19: gpt_answer=5  true_answer=5\n",
      "CORRECT\n",
      "accuracy=0.60\n",
      "\n",
      "Question  12\n"
     ]
    },
    {
     "name": "stderr",
     "output_type": "stream",
     "text": [
      "  5%|▌         | 1/20 [00:01<00:20,  1.08s/it]"
     ]
    },
    {
     "name": "stdout",
     "output_type": "stream",
     "text": [
      "k=0: gpt_answer=85  true_answer=85\n",
      "CORRECT\n"
     ]
    },
    {
     "name": "stderr",
     "output_type": "stream",
     "text": [
      " 10%|█         | 2/20 [00:02<00:18,  1.04s/it]"
     ]
    },
    {
     "name": "stdout",
     "output_type": "stream",
     "text": [
      "k=1: gpt_answer=85  true_answer=85\n",
      "CORRECT\n"
     ]
    },
    {
     "name": "stderr",
     "output_type": "stream",
     "text": [
      " 15%|█▌        | 3/20 [00:03<00:18,  1.11s/it]"
     ]
    },
    {
     "name": "stdout",
     "output_type": "stream",
     "text": [
      "k=2: gpt_answer=85  true_answer=85\n",
      "CORRECT\n"
     ]
    },
    {
     "name": "stderr",
     "output_type": "stream",
     "text": [
      " 20%|██        | 4/20 [00:04<00:19,  1.21s/it]"
     ]
    },
    {
     "name": "stdout",
     "output_type": "stream",
     "text": [
      "k=3: gpt_answer=85  true_answer=85\n",
      "CORRECT\n"
     ]
    },
    {
     "name": "stderr",
     "output_type": "stream",
     "text": [
      " 25%|██▌       | 5/20 [00:05<00:16,  1.13s/it]"
     ]
    },
    {
     "name": "stdout",
     "output_type": "stream",
     "text": [
      "k=4: gpt_answer=85  true_answer=85\n",
      "CORRECT\n"
     ]
    },
    {
     "name": "stderr",
     "output_type": "stream",
     "text": [
      " 30%|███       | 6/20 [00:06<00:15,  1.13s/it]"
     ]
    },
    {
     "name": "stdout",
     "output_type": "stream",
     "text": [
      "k=5: gpt_answer=85  true_answer=85\n",
      "CORRECT\n"
     ]
    },
    {
     "name": "stderr",
     "output_type": "stream",
     "text": [
      " 35%|███▌      | 7/20 [00:07<00:14,  1.14s/it]"
     ]
    },
    {
     "name": "stdout",
     "output_type": "stream",
     "text": [
      "k=6: gpt_answer=85  true_answer=85\n",
      "CORRECT\n"
     ]
    },
    {
     "name": "stderr",
     "output_type": "stream",
     "text": [
      " 40%|████      | 8/20 [00:09<00:13,  1.15s/it]"
     ]
    },
    {
     "name": "stdout",
     "output_type": "stream",
     "text": [
      "k=7: gpt_answer=85  true_answer=85\n",
      "CORRECT\n"
     ]
    },
    {
     "name": "stderr",
     "output_type": "stream",
     "text": [
      " 45%|████▌     | 9/20 [00:10<00:13,  1.18s/it]"
     ]
    },
    {
     "name": "stdout",
     "output_type": "stream",
     "text": [
      "k=8: gpt_answer=85  true_answer=85\n",
      "CORRECT\n"
     ]
    },
    {
     "name": "stderr",
     "output_type": "stream",
     "text": [
      " 50%|█████     | 10/20 [00:11<00:11,  1.12s/it]"
     ]
    },
    {
     "name": "stdout",
     "output_type": "stream",
     "text": [
      "k=9: gpt_answer=85  true_answer=85\n",
      "CORRECT\n"
     ]
    },
    {
     "name": "stderr",
     "output_type": "stream",
     "text": [
      " 55%|█████▌    | 11/20 [00:12<00:09,  1.10s/it]"
     ]
    },
    {
     "name": "stdout",
     "output_type": "stream",
     "text": [
      "k=10: gpt_answer=85  true_answer=85\n",
      "CORRECT\n"
     ]
    },
    {
     "name": "stderr",
     "output_type": "stream",
     "text": [
      " 60%|██████    | 12/20 [00:13<00:08,  1.08s/it]"
     ]
    },
    {
     "name": "stdout",
     "output_type": "stream",
     "text": [
      "k=11: gpt_answer=85  true_answer=85\n",
      "CORRECT\n"
     ]
    },
    {
     "name": "stderr",
     "output_type": "stream",
     "text": [
      " 65%|██████▌   | 13/20 [00:14<00:07,  1.00s/it]"
     ]
    },
    {
     "name": "stdout",
     "output_type": "stream",
     "text": [
      "k=12: gpt_answer=85  true_answer=85\n",
      "CORRECT\n"
     ]
    },
    {
     "name": "stderr",
     "output_type": "stream",
     "text": [
      " 70%|███████   | 14/20 [00:15<00:05,  1.00it/s]"
     ]
    },
    {
     "name": "stdout",
     "output_type": "stream",
     "text": [
      "k=13: gpt_answer=85  true_answer=85\n",
      "CORRECT\n"
     ]
    },
    {
     "name": "stderr",
     "output_type": "stream",
     "text": [
      " 75%|███████▌  | 15/20 [00:16<00:05,  1.00s/it]"
     ]
    },
    {
     "name": "stdout",
     "output_type": "stream",
     "text": [
      "k=14: gpt_answer=85  true_answer=85\n",
      "CORRECT\n"
     ]
    },
    {
     "name": "stderr",
     "output_type": "stream",
     "text": [
      " 80%|████████  | 16/20 [00:17<00:04,  1.12s/it]"
     ]
    },
    {
     "name": "stdout",
     "output_type": "stream",
     "text": [
      "k=15: gpt_answer=85  true_answer=85\n",
      "CORRECT\n"
     ]
    },
    {
     "name": "stderr",
     "output_type": "stream",
     "text": [
      " 85%|████████▌ | 17/20 [00:18<00:03,  1.13s/it]"
     ]
    },
    {
     "name": "stdout",
     "output_type": "stream",
     "text": [
      "k=16: gpt_answer=85  true_answer=85\n",
      "CORRECT\n"
     ]
    },
    {
     "name": "stderr",
     "output_type": "stream",
     "text": [
      " 90%|█████████ | 18/20 [00:20<00:02,  1.18s/it]"
     ]
    },
    {
     "name": "stdout",
     "output_type": "stream",
     "text": [
      "k=17: gpt_answer=85  true_answer=85\n",
      "CORRECT\n"
     ]
    },
    {
     "name": "stderr",
     "output_type": "stream",
     "text": [
      " 95%|█████████▌| 19/20 [00:21<00:01,  1.20s/it]"
     ]
    },
    {
     "name": "stdout",
     "output_type": "stream",
     "text": [
      "k=18: gpt_answer=85  true_answer=85\n",
      "CORRECT\n"
     ]
    },
    {
     "name": "stderr",
     "output_type": "stream",
     "text": [
      "100%|██████████| 20/20 [00:22<00:00,  1.12s/it]\n"
     ]
    },
    {
     "name": "stdout",
     "output_type": "stream",
     "text": [
      "k=19: gpt_answer=85  true_answer=85\n",
      "CORRECT\n",
      "accuracy=1.00\n",
      "\n",
      "Question  13\n"
     ]
    },
    {
     "name": "stderr",
     "output_type": "stream",
     "text": [
      "  5%|▌         | 1/20 [00:01<00:23,  1.25s/it]"
     ]
    },
    {
     "name": "stdout",
     "output_type": "stream",
     "text": [
      "k=0: gpt_answer=35  true_answer=35\n",
      "CORRECT\n"
     ]
    },
    {
     "name": "stderr",
     "output_type": "stream",
     "text": [
      " 10%|█         | 2/20 [00:02<00:25,  1.43s/it]"
     ]
    },
    {
     "name": "stdout",
     "output_type": "stream",
     "text": [
      "k=1: gpt_answer=35.  true_answer=35\n",
      "CORRECT\n"
     ]
    },
    {
     "name": "stderr",
     "output_type": "stream",
     "text": [
      " 15%|█▌        | 3/20 [00:04<00:26,  1.54s/it]"
     ]
    },
    {
     "name": "stdout",
     "output_type": "stream",
     "text": [
      "k=2: gpt_answer=22.50  true_answer=35\n",
      "INCORRECT\n"
     ]
    },
    {
     "name": "stderr",
     "output_type": "stream",
     "text": [
      " 20%|██        | 4/20 [00:06<00:26,  1.63s/it]"
     ]
    },
    {
     "name": "stdout",
     "output_type": "stream",
     "text": [
      "k=3: gpt_answer=35  true_answer=35\n",
      "CORRECT\n"
     ]
    },
    {
     "name": "stderr",
     "output_type": "stream",
     "text": [
      " 25%|██▌       | 5/20 [00:07<00:23,  1.59s/it]"
     ]
    },
    {
     "name": "stdout",
     "output_type": "stream",
     "text": [
      "k=4: gpt_answer=22.5  true_answer=35\n",
      "INCORRECT\n"
     ]
    },
    {
     "name": "stderr",
     "output_type": "stream",
     "text": [
      " 30%|███       | 6/20 [00:09<00:20,  1.47s/it]"
     ]
    },
    {
     "name": "stdout",
     "output_type": "stream",
     "text": [
      "k=5: gpt_answer=30  true_answer=35\n",
      "INCORRECT\n"
     ]
    },
    {
     "name": "stderr",
     "output_type": "stream",
     "text": [
      " 35%|███▌      | 7/20 [00:10<00:18,  1.45s/it]"
     ]
    },
    {
     "name": "stdout",
     "output_type": "stream",
     "text": [
      "k=6: gpt_answer=27.50  true_answer=35\n",
      "INCORRECT\n"
     ]
    },
    {
     "name": "stderr",
     "output_type": "stream",
     "text": [
      " 40%|████      | 8/20 [00:11<00:16,  1.39s/it]"
     ]
    },
    {
     "name": "stdout",
     "output_type": "stream",
     "text": [
      "k=7: gpt_answer=35  true_answer=35\n",
      "CORRECT\n"
     ]
    },
    {
     "name": "stderr",
     "output_type": "stream",
     "text": [
      " 45%|████▌     | 9/20 [00:13<00:15,  1.38s/it]"
     ]
    },
    {
     "name": "stdout",
     "output_type": "stream",
     "text": [
      "k=8: gpt_answer=35  true_answer=35\n",
      "CORRECT\n"
     ]
    },
    {
     "name": "stderr",
     "output_type": "stream",
     "text": [
      " 50%|█████     | 10/20 [00:14<00:14,  1.42s/it]"
     ]
    },
    {
     "name": "stdout",
     "output_type": "stream",
     "text": [
      "k=9: gpt_answer=35  true_answer=35\n",
      "CORRECT\n"
     ]
    },
    {
     "name": "stderr",
     "output_type": "stream",
     "text": [
      " 55%|█████▌    | 11/20 [00:16<00:13,  1.52s/it]"
     ]
    },
    {
     "name": "stdout",
     "output_type": "stream",
     "text": [
      "k=10: gpt_answer=22.50  true_answer=35\n",
      "INCORRECT\n"
     ]
    },
    {
     "name": "stderr",
     "output_type": "stream",
     "text": [
      " 60%|██████    | 12/20 [00:17<00:12,  1.54s/it]"
     ]
    },
    {
     "name": "stdout",
     "output_type": "stream",
     "text": [
      "k=11: gpt_answer=35.  true_answer=35\n",
      "CORRECT\n"
     ]
    },
    {
     "name": "stderr",
     "output_type": "stream",
     "text": [
      " 65%|██████▌   | 13/20 [00:19<00:10,  1.54s/it]"
     ]
    },
    {
     "name": "stdout",
     "output_type": "stream",
     "text": [
      "k=12: gpt_answer=35  true_answer=35\n",
      "CORRECT\n"
     ]
    },
    {
     "name": "stderr",
     "output_type": "stream",
     "text": [
      " 70%|███████   | 14/20 [00:20<00:08,  1.46s/it]"
     ]
    },
    {
     "name": "stdout",
     "output_type": "stream",
     "text": [
      "k=13: gpt_answer=35  true_answer=35\n",
      "CORRECT\n"
     ]
    },
    {
     "name": "stderr",
     "output_type": "stream",
     "text": [
      " 75%|███████▌  | 15/20 [00:22<00:07,  1.46s/it]"
     ]
    },
    {
     "name": "stdout",
     "output_type": "stream",
     "text": [
      "k=14: gpt_answer=32.50  true_answer=35\n",
      "INCORRECT\n"
     ]
    },
    {
     "name": "stderr",
     "output_type": "stream",
     "text": [
      " 80%|████████  | 16/20 [00:23<00:05,  1.43s/it]"
     ]
    },
    {
     "name": "stdout",
     "output_type": "stream",
     "text": [
      "k=15: gpt_answer=22.50  true_answer=35\n",
      "INCORRECT\n"
     ]
    },
    {
     "name": "stderr",
     "output_type": "stream",
     "text": [
      " 85%|████████▌ | 17/20 [00:24<00:04,  1.40s/it]"
     ]
    },
    {
     "name": "stdout",
     "output_type": "stream",
     "text": [
      "k=16: gpt_answer=32.50  true_answer=35\n",
      "INCORRECT\n"
     ]
    },
    {
     "name": "stderr",
     "output_type": "stream",
     "text": [
      " 90%|█████████ | 18/20 [00:26<00:02,  1.42s/it]"
     ]
    },
    {
     "name": "stdout",
     "output_type": "stream",
     "text": [
      "k=17: gpt_answer=35  true_answer=35\n",
      "CORRECT\n"
     ]
    },
    {
     "name": "stderr",
     "output_type": "stream",
     "text": [
      " 95%|█████████▌| 19/20 [00:27<00:01,  1.39s/it]"
     ]
    },
    {
     "name": "stdout",
     "output_type": "stream",
     "text": [
      "k=18: gpt_answer=22.5  true_answer=35\n",
      "INCORRECT\n"
     ]
    },
    {
     "name": "stderr",
     "output_type": "stream",
     "text": [
      "100%|██████████| 20/20 [00:29<00:00,  1.45s/it]\n"
     ]
    },
    {
     "name": "stdout",
     "output_type": "stream",
     "text": [
      "k=19: gpt_answer=45  true_answer=35\n",
      "INCORRECT\n",
      "accuracy=0.50\n",
      "\n",
      "Question  14\n"
     ]
    },
    {
     "name": "stderr",
     "output_type": "stream",
     "text": [
      "  5%|▌         | 1/20 [00:01<00:23,  1.22s/it]"
     ]
    },
    {
     "name": "stdout",
     "output_type": "stream",
     "text": [
      "k=0: gpt_answer=5.  true_answer=5\n",
      "CORRECT\n"
     ]
    },
    {
     "name": "stderr",
     "output_type": "stream",
     "text": [
      " 10%|█         | 2/20 [00:02<00:22,  1.23s/it]"
     ]
    },
    {
     "name": "stdout",
     "output_type": "stream",
     "text": [
      "k=1: gpt_answer=5  true_answer=5\n",
      "CORRECT\n"
     ]
    },
    {
     "name": "stderr",
     "output_type": "stream",
     "text": [
      " 15%|█▌        | 3/20 [00:03<00:22,  1.30s/it]"
     ]
    },
    {
     "name": "stdout",
     "output_type": "stream",
     "text": [
      "k=2: gpt_answer=5  true_answer=5\n",
      "CORRECT\n"
     ]
    },
    {
     "name": "stderr",
     "output_type": "stream",
     "text": [
      " 20%|██        | 4/20 [00:05<00:20,  1.29s/it]"
     ]
    },
    {
     "name": "stdout",
     "output_type": "stream",
     "text": [
      "k=3: gpt_answer=5  true_answer=5\n",
      "CORRECT\n"
     ]
    },
    {
     "name": "stderr",
     "output_type": "stream",
     "text": [
      " 25%|██▌       | 5/20 [00:06<00:19,  1.30s/it]"
     ]
    },
    {
     "name": "stdout",
     "output_type": "stream",
     "text": [
      "k=4: gpt_answer=5  true_answer=5\n",
      "CORRECT\n"
     ]
    },
    {
     "name": "stderr",
     "output_type": "stream",
     "text": [
      " 30%|███       | 6/20 [00:07<00:18,  1.31s/it]"
     ]
    },
    {
     "name": "stdout",
     "output_type": "stream",
     "text": [
      "k=5: gpt_answer=5  true_answer=5\n",
      "CORRECT\n"
     ]
    },
    {
     "name": "stderr",
     "output_type": "stream",
     "text": [
      " 35%|███▌      | 7/20 [00:08<00:16,  1.28s/it]"
     ]
    },
    {
     "name": "stdout",
     "output_type": "stream",
     "text": [
      "k=6: gpt_answer=5  true_answer=5\n",
      "CORRECT\n"
     ]
    },
    {
     "name": "stderr",
     "output_type": "stream",
     "text": [
      " 40%|████      | 8/20 [00:10<00:16,  1.35s/it]"
     ]
    },
    {
     "name": "stdout",
     "output_type": "stream",
     "text": [
      "k=7: gpt_answer=5  true_answer=5\n",
      "CORRECT\n"
     ]
    },
    {
     "name": "stderr",
     "output_type": "stream",
     "text": [
      " 45%|████▌     | 9/20 [00:12<00:15,  1.44s/it]"
     ]
    },
    {
     "name": "stdout",
     "output_type": "stream",
     "text": [
      "k=8: gpt_answer=5  true_answer=5\n",
      "CORRECT\n"
     ]
    },
    {
     "name": "stderr",
     "output_type": "stream",
     "text": [
      " 50%|█████     | 10/20 [00:13<00:14,  1.46s/it]"
     ]
    },
    {
     "name": "stdout",
     "output_type": "stream",
     "text": [
      "k=9: gpt_answer=5  true_answer=5\n",
      "CORRECT\n"
     ]
    },
    {
     "name": "stderr",
     "output_type": "stream",
     "text": [
      " 55%|█████▌    | 11/20 [00:15<00:13,  1.50s/it]"
     ]
    },
    {
     "name": "stdout",
     "output_type": "stream",
     "text": [
      "k=10: gpt_answer=5  true_answer=5\n",
      "CORRECT\n"
     ]
    },
    {
     "name": "stderr",
     "output_type": "stream",
     "text": [
      " 60%|██████    | 12/20 [00:16<00:12,  1.52s/it]"
     ]
    },
    {
     "name": "stdout",
     "output_type": "stream",
     "text": [
      "k=11: gpt_answer=5  true_answer=5\n",
      "CORRECT\n"
     ]
    },
    {
     "name": "stderr",
     "output_type": "stream",
     "text": [
      " 65%|██████▌   | 13/20 [00:18<00:10,  1.54s/it]"
     ]
    },
    {
     "name": "stdout",
     "output_type": "stream",
     "text": [
      "k=12: gpt_answer=5  true_answer=5\n",
      "CORRECT\n"
     ]
    },
    {
     "name": "stderr",
     "output_type": "stream",
     "text": [
      " 70%|███████   | 14/20 [00:19<00:08,  1.45s/it]"
     ]
    },
    {
     "name": "stdout",
     "output_type": "stream",
     "text": [
      "k=13: gpt_answer=5  true_answer=5\n",
      "CORRECT\n"
     ]
    },
    {
     "name": "stderr",
     "output_type": "stream",
     "text": [
      " 75%|███████▌  | 15/20 [00:20<00:06,  1.39s/it]"
     ]
    },
    {
     "name": "stdout",
     "output_type": "stream",
     "text": [
      "k=14: gpt_answer=5  true_answer=5\n",
      "CORRECT\n"
     ]
    },
    {
     "name": "stderr",
     "output_type": "stream",
     "text": [
      " 80%|████████  | 16/20 [00:22<00:05,  1.33s/it]"
     ]
    },
    {
     "name": "stdout",
     "output_type": "stream",
     "text": [
      "k=15: gpt_answer=5.  true_answer=5\n",
      "CORRECT\n"
     ]
    },
    {
     "name": "stderr",
     "output_type": "stream",
     "text": [
      " 85%|████████▌ | 17/20 [00:23<00:03,  1.29s/it]"
     ]
    },
    {
     "name": "stdout",
     "output_type": "stream",
     "text": [
      "k=16: gpt_answer=5  true_answer=5\n",
      "CORRECT\n"
     ]
    },
    {
     "name": "stderr",
     "output_type": "stream",
     "text": [
      " 90%|█████████ | 18/20 [00:24<00:02,  1.30s/it]"
     ]
    },
    {
     "name": "stdout",
     "output_type": "stream",
     "text": [
      "k=17: gpt_answer=5.  true_answer=5\n",
      "CORRECT\n"
     ]
    },
    {
     "name": "stderr",
     "output_type": "stream",
     "text": [
      " 95%|█████████▌| 19/20 [00:25<00:01,  1.30s/it]"
     ]
    },
    {
     "name": "stdout",
     "output_type": "stream",
     "text": [
      "k=18: gpt_answer=5.  true_answer=5\n",
      "CORRECT\n"
     ]
    },
    {
     "name": "stderr",
     "output_type": "stream",
     "text": [
      "100%|██████████| 20/20 [00:27<00:00,  1.35s/it]\n"
     ]
    },
    {
     "name": "stdout",
     "output_type": "stream",
     "text": [
      "k=19: gpt_answer=5  true_answer=5\n",
      "CORRECT\n",
      "accuracy=1.00\n",
      "\n",
      "Question  15\n"
     ]
    },
    {
     "name": "stderr",
     "output_type": "stream",
     "text": [
      "  5%|▌         | 1/20 [00:02<00:43,  2.28s/it]"
     ]
    },
    {
     "name": "stdout",
     "output_type": "stream",
     "text": [
      "k=0: gpt_answer=450000  true_answer=448000.0\n",
      "INCORRECT\n"
     ]
    },
    {
     "name": "stderr",
     "output_type": "stream",
     "text": [
      " 10%|█         | 2/20 [00:03<00:32,  1.82s/it]"
     ]
    },
    {
     "name": "stdout",
     "output_type": "stream",
     "text": [
      "k=1: gpt_answer=450000.  true_answer=448000.0\n",
      "INCORRECT\n"
     ]
    },
    {
     "name": "stderr",
     "output_type": "stream",
     "text": [
      " 15%|█▌        | 3/20 [00:05<00:30,  1.82s/it]"
     ]
    },
    {
     "name": "stdout",
     "output_type": "stream",
     "text": [
      "k=2: gpt_answer=150450000.  true_answer=448000.0\n",
      "INCORRECT\n"
     ]
    },
    {
     "name": "stderr",
     "output_type": "stream",
     "text": [
      " 20%|██        | 4/20 [00:07<00:27,  1.70s/it]"
     ]
    },
    {
     "name": "stdout",
     "output_type": "stream",
     "text": [
      "k=3: gpt_answer=450000.  true_answer=448000.0\n",
      "INCORRECT\n"
     ]
    },
    {
     "name": "stderr",
     "output_type": "stream",
     "text": [
      " 25%|██▌       | 5/20 [00:08<00:26,  1.74s/it]"
     ]
    },
    {
     "name": "stdout",
     "output_type": "stream",
     "text": [
      "k=4: gpt_answer=450000.  true_answer=448000.0\n",
      "INCORRECT\n"
     ]
    },
    {
     "name": "stderr",
     "output_type": "stream",
     "text": [
      " 30%|███       | 6/20 [00:10<00:23,  1.69s/it]"
     ]
    },
    {
     "name": "stdout",
     "output_type": "stream",
     "text": [
      "k=5: gpt_answer=450000.  true_answer=448000.0\n",
      "INCORRECT\n"
     ]
    },
    {
     "name": "stderr",
     "output_type": "stream",
     "text": [
      " 35%|███▌      | 7/20 [00:12<00:21,  1.65s/it]"
     ]
    },
    {
     "name": "stdout",
     "output_type": "stream",
     "text": [
      "k=6: gpt_answer=450000.  true_answer=448000.0\n",
      "INCORRECT\n"
     ]
    },
    {
     "name": "stderr",
     "output_type": "stream",
     "text": [
      " 40%|████      | 8/20 [00:14<00:22,  1.86s/it]"
     ]
    },
    {
     "name": "stdout",
     "output_type": "stream",
     "text": [
      "k=7: gpt_answer=150450000.  true_answer=448000.0\n",
      "INCORRECT\n"
     ]
    },
    {
     "name": "stderr",
     "output_type": "stream",
     "text": [
      " 45%|████▌     | 9/20 [00:17<00:23,  2.10s/it]"
     ]
    },
    {
     "name": "stdout",
     "output_type": "stream",
     "text": [
      "k=8: gpt_answer=624900000  true_answer=448000.0\n",
      "INCORRECT\n"
     ]
    },
    {
     "name": "stderr",
     "output_type": "stream",
     "text": [
      " 50%|█████     | 10/20 [00:19<00:22,  2.23s/it]"
     ]
    },
    {
     "name": "stdout",
     "output_type": "stream",
     "text": [
      "k=9: gpt_answer=450000.  true_answer=448000.0\n",
      "INCORRECT\n"
     ]
    },
    {
     "name": "stderr",
     "output_type": "stream",
     "text": [
      " 55%|█████▌    | 11/20 [00:20<00:17,  1.98s/it]"
     ]
    },
    {
     "name": "stdout",
     "output_type": "stream",
     "text": [
      "k=10: gpt_answer=450000.  true_answer=448000.0\n",
      "INCORRECT\n"
     ]
    },
    {
     "name": "stderr",
     "output_type": "stream",
     "text": [
      " 60%|██████    | 12/20 [00:22<00:14,  1.81s/it]"
     ]
    },
    {
     "name": "stdout",
     "output_type": "stream",
     "text": [
      "k=11: gpt_answer=450000  true_answer=448000.0\n",
      "INCORRECT\n"
     ]
    },
    {
     "name": "stderr",
     "output_type": "stream",
     "text": [
      " 65%|██████▌   | 13/20 [00:24<00:12,  1.83s/it]"
     ]
    },
    {
     "name": "stdout",
     "output_type": "stream",
     "text": [
      "k=12: gpt_answer=450000.  true_answer=448000.0\n",
      "INCORRECT\n"
     ]
    },
    {
     "name": "stderr",
     "output_type": "stream",
     "text": [
      " 70%|███████   | 14/20 [00:25<00:10,  1.79s/it]"
     ]
    },
    {
     "name": "stdout",
     "output_type": "stream",
     "text": [
      "k=13: gpt_answer=450000.  true_answer=448000.0\n",
      "INCORRECT\n"
     ]
    },
    {
     "name": "stderr",
     "output_type": "stream",
     "text": [
      " 75%|███████▌  | 15/20 [00:28<00:09,  1.95s/it]"
     ]
    },
    {
     "name": "stdout",
     "output_type": "stream",
     "text": [
      "k=14: gpt_answer=99550000.  true_answer=448000.0\n",
      "INCORRECT\n"
     ]
    },
    {
     "name": "stderr",
     "output_type": "stream",
     "text": [
      " 80%|████████  | 16/20 [00:29<00:07,  1.88s/it]"
     ]
    },
    {
     "name": "stdout",
     "output_type": "stream",
     "text": [
      "k=15: gpt_answer=450000.  true_answer=448000.0\n",
      "INCORRECT\n"
     ]
    },
    {
     "name": "stderr",
     "output_type": "stream",
     "text": [
      " 85%|████████▌ | 17/20 [00:31<00:05,  1.77s/it]"
     ]
    },
    {
     "name": "stdout",
     "output_type": "stream",
     "text": [
      "k=16: gpt_answer=45000  true_answer=448000.0\n",
      "INCORRECT\n"
     ]
    },
    {
     "name": "stderr",
     "output_type": "stream",
     "text": [
      " 90%|█████████ | 18/20 [00:33<00:03,  1.74s/it]"
     ]
    },
    {
     "name": "stdout",
     "output_type": "stream",
     "text": [
      "k=17: gpt_answer=450000.  true_answer=448000.0\n",
      "INCORRECT\n"
     ]
    },
    {
     "name": "stderr",
     "output_type": "stream",
     "text": [
      " 95%|█████████▌| 19/20 [00:35<00:01,  1.78s/it]"
     ]
    },
    {
     "name": "stdout",
     "output_type": "stream",
     "text": [
      "k=18: gpt_answer=450000  true_answer=448000.0\n",
      "INCORRECT\n"
     ]
    },
    {
     "name": "stderr",
     "output_type": "stream",
     "text": [
      "100%|██████████| 20/20 [00:36<00:00,  1.83s/it]\n"
     ]
    },
    {
     "name": "stdout",
     "output_type": "stream",
     "text": [
      "k=19: gpt_answer=450000  true_answer=448000.0\n",
      "INCORRECT\n",
      "accuracy=0.00\n",
      "\n",
      "Question  19\n"
     ]
    },
    {
     "name": "stderr",
     "output_type": "stream",
     "text": [
      "  5%|▌         | 1/20 [00:02<00:42,  2.23s/it]"
     ]
    },
    {
     "name": "stdout",
     "output_type": "stream",
     "text": [
      "k=0: gpt_answer=16  true_answer=16\n",
      "CORRECT\n"
     ]
    },
    {
     "name": "stderr",
     "output_type": "stream",
     "text": [
      " 10%|█         | 2/20 [00:04<00:37,  2.10s/it]"
     ]
    },
    {
     "name": "stdout",
     "output_type": "stream",
     "text": [
      "k=1: gpt_answer=16  true_answer=16\n",
      "CORRECT\n"
     ]
    },
    {
     "name": "stderr",
     "output_type": "stream",
     "text": [
      " 15%|█▌        | 3/20 [00:05<00:28,  1.70s/it]"
     ]
    },
    {
     "name": "stdout",
     "output_type": "stream",
     "text": [
      "k=2: gpt_answer=16  true_answer=16\n",
      "CORRECT\n"
     ]
    },
    {
     "name": "stderr",
     "output_type": "stream",
     "text": [
      " 20%|██        | 4/20 [00:06<00:23,  1.48s/it]"
     ]
    },
    {
     "name": "stdout",
     "output_type": "stream",
     "text": [
      "k=3: gpt_answer=16  true_answer=16\n",
      "CORRECT\n"
     ]
    },
    {
     "name": "stderr",
     "output_type": "stream",
     "text": [
      " 25%|██▌       | 5/20 [00:08<00:25,  1.72s/it]"
     ]
    },
    {
     "name": "stdout",
     "output_type": "stream",
     "text": [
      "k=4: gpt_answer=16  true_answer=16\n",
      "CORRECT\n"
     ]
    },
    {
     "name": "stderr",
     "output_type": "stream",
     "text": [
      " 30%|███       | 6/20 [00:09<00:21,  1.54s/it]"
     ]
    },
    {
     "name": "stdout",
     "output_type": "stream",
     "text": [
      "k=5: gpt_answer=16  true_answer=16\n",
      "CORRECT\n"
     ]
    },
    {
     "name": "stderr",
     "output_type": "stream",
     "text": [
      " 35%|███▌      | 7/20 [00:11<00:19,  1.47s/it]"
     ]
    },
    {
     "name": "stdout",
     "output_type": "stream",
     "text": [
      "k=6: gpt_answer=16  true_answer=16\n",
      "CORRECT\n"
     ]
    },
    {
     "name": "stderr",
     "output_type": "stream",
     "text": [
      " 40%|████      | 8/20 [00:12<00:16,  1.39s/it]"
     ]
    },
    {
     "name": "stdout",
     "output_type": "stream",
     "text": [
      "k=7: gpt_answer=12  true_answer=16\n",
      "INCORRECT\n"
     ]
    },
    {
     "name": "stderr",
     "output_type": "stream",
     "text": [
      " 45%|████▌     | 9/20 [00:14<00:17,  1.58s/it]"
     ]
    },
    {
     "name": "stdout",
     "output_type": "stream",
     "text": [
      "k=8: gpt_answer=16  true_answer=16\n",
      "CORRECT\n"
     ]
    },
    {
     "name": "stderr",
     "output_type": "stream",
     "text": [
      " 50%|█████     | 10/20 [00:15<00:15,  1.50s/it]"
     ]
    },
    {
     "name": "stdout",
     "output_type": "stream",
     "text": [
      "k=9: gpt_answer=12  true_answer=16\n",
      "INCORRECT\n"
     ]
    },
    {
     "name": "stderr",
     "output_type": "stream",
     "text": [
      " 55%|█████▌    | 11/20 [00:16<00:12,  1.39s/it]"
     ]
    },
    {
     "name": "stdout",
     "output_type": "stream",
     "text": [
      "k=10: gpt_answer=16  true_answer=16\n",
      "CORRECT\n"
     ]
    },
    {
     "name": "stderr",
     "output_type": "stream",
     "text": [
      " 60%|██████    | 12/20 [00:18<00:11,  1.39s/it]"
     ]
    },
    {
     "name": "stdout",
     "output_type": "stream",
     "text": [
      "k=11: gpt_answer=16  true_answer=16\n",
      "CORRECT\n"
     ]
    },
    {
     "name": "stderr",
     "output_type": "stream",
     "text": [
      " 65%|██████▌   | 13/20 [00:20<00:10,  1.55s/it]"
     ]
    },
    {
     "name": "stdout",
     "output_type": "stream",
     "text": [
      "k=12: gpt_answer=16  true_answer=16\n",
      "CORRECT\n"
     ]
    },
    {
     "name": "stderr",
     "output_type": "stream",
     "text": [
      " 70%|███████   | 14/20 [00:21<00:08,  1.46s/it]"
     ]
    },
    {
     "name": "stdout",
     "output_type": "stream",
     "text": [
      "k=13: gpt_answer=16  true_answer=16\n",
      "CORRECT\n"
     ]
    },
    {
     "name": "stderr",
     "output_type": "stream",
     "text": [
      " 75%|███████▌  | 15/20 [00:22<00:06,  1.36s/it]"
     ]
    },
    {
     "name": "stdout",
     "output_type": "stream",
     "text": [
      "k=14: gpt_answer=16  true_answer=16\n",
      "CORRECT\n"
     ]
    },
    {
     "name": "stderr",
     "output_type": "stream",
     "text": [
      " 80%|████████  | 16/20 [00:23<00:05,  1.31s/it]"
     ]
    },
    {
     "name": "stdout",
     "output_type": "stream",
     "text": [
      "k=15: gpt_answer=16  true_answer=16\n",
      "CORRECT\n"
     ]
    },
    {
     "name": "stderr",
     "output_type": "stream",
     "text": [
      " 85%|████████▌ | 17/20 [00:25<00:04,  1.41s/it]"
     ]
    },
    {
     "name": "stdout",
     "output_type": "stream",
     "text": [
      "k=16: gpt_answer=16  true_answer=16\n",
      "CORRECT\n"
     ]
    },
    {
     "name": "stderr",
     "output_type": "stream",
     "text": [
      " 90%|█████████ | 18/20 [00:27<00:03,  1.57s/it]"
     ]
    },
    {
     "name": "stdout",
     "output_type": "stream",
     "text": [
      "k=17: gpt_answer=16  true_answer=16\n",
      "CORRECT\n"
     ]
    },
    {
     "name": "stderr",
     "output_type": "stream",
     "text": [
      " 95%|█████████▌| 19/20 [00:28<00:01,  1.44s/it]"
     ]
    },
    {
     "name": "stdout",
     "output_type": "stream",
     "text": [
      "k=18: gpt_answer=16  true_answer=16\n",
      "CORRECT\n"
     ]
    },
    {
     "name": "stderr",
     "output_type": "stream",
     "text": [
      "100%|██████████| 20/20 [00:29<00:00,  1.49s/it]\n"
     ]
    },
    {
     "name": "stdout",
     "output_type": "stream",
     "text": [
      "k=19: gpt_answer=16  true_answer=16\n",
      "CORRECT\n",
      "accuracy=0.90\n",
      "\n",
      "Question  20\n"
     ]
    },
    {
     "name": "stderr",
     "output_type": "stream",
     "text": [
      "  5%|▌         | 1/20 [00:01<00:27,  1.44s/it]"
     ]
    },
    {
     "name": "stdout",
     "output_type": "stream",
     "text": [
      "k=0: gpt_answer=38  true_answer=38\n",
      "CORRECT\n"
     ]
    },
    {
     "name": "stderr",
     "output_type": "stream",
     "text": [
      " 10%|█         | 2/20 [00:03<00:28,  1.56s/it]"
     ]
    },
    {
     "name": "stdout",
     "output_type": "stream",
     "text": [
      "k=1: gpt_answer=38  true_answer=38\n",
      "CORRECT\n"
     ]
    },
    {
     "name": "stderr",
     "output_type": "stream",
     "text": [
      " 15%|█▌        | 3/20 [00:04<00:28,  1.65s/it]"
     ]
    },
    {
     "name": "stdout",
     "output_type": "stream",
     "text": [
      "k=2: gpt_answer=38  true_answer=38\n",
      "CORRECT\n"
     ]
    },
    {
     "name": "stderr",
     "output_type": "stream",
     "text": [
      " 20%|██        | 4/20 [00:06<00:25,  1.62s/it]"
     ]
    },
    {
     "name": "stdout",
     "output_type": "stream",
     "text": [
      "k=3: gpt_answer=38  true_answer=38\n",
      "CORRECT\n"
     ]
    },
    {
     "name": "stderr",
     "output_type": "stream",
     "text": [
      " 25%|██▌       | 5/20 [00:07<00:23,  1.56s/it]"
     ]
    },
    {
     "name": "stdout",
     "output_type": "stream",
     "text": [
      "k=4: gpt_answer=38  true_answer=38\n",
      "CORRECT\n"
     ]
    },
    {
     "name": "stderr",
     "output_type": "stream",
     "text": [
      " 30%|███       | 6/20 [00:09<00:21,  1.51s/it]"
     ]
    },
    {
     "name": "stdout",
     "output_type": "stream",
     "text": [
      "k=5: gpt_answer=38  true_answer=38\n",
      "CORRECT\n"
     ]
    },
    {
     "name": "stderr",
     "output_type": "stream",
     "text": [
      " 35%|███▌      | 7/20 [00:10<00:19,  1.52s/it]"
     ]
    },
    {
     "name": "stdout",
     "output_type": "stream",
     "text": [
      "k=6: gpt_answer=38  true_answer=38\n",
      "CORRECT\n"
     ]
    },
    {
     "name": "stderr",
     "output_type": "stream",
     "text": [
      " 40%|████      | 8/20 [00:12<00:17,  1.49s/it]"
     ]
    },
    {
     "name": "stdout",
     "output_type": "stream",
     "text": [
      "k=7: gpt_answer=38  true_answer=38\n",
      "CORRECT\n"
     ]
    },
    {
     "name": "stderr",
     "output_type": "stream",
     "text": [
      " 45%|████▌     | 9/20 [00:13<00:16,  1.53s/it]"
     ]
    },
    {
     "name": "stdout",
     "output_type": "stream",
     "text": [
      "k=8: gpt_answer=38  true_answer=38\n",
      "CORRECT\n"
     ]
    },
    {
     "name": "stderr",
     "output_type": "stream",
     "text": [
      " 50%|█████     | 10/20 [00:15<00:14,  1.49s/it]"
     ]
    },
    {
     "name": "stdout",
     "output_type": "stream",
     "text": [
      "k=9: gpt_answer=38  true_answer=38\n",
      "CORRECT\n"
     ]
    },
    {
     "name": "stderr",
     "output_type": "stream",
     "text": [
      " 55%|█████▌    | 11/20 [00:17<00:15,  1.68s/it]"
     ]
    },
    {
     "name": "stdout",
     "output_type": "stream",
     "text": [
      "k=10: gpt_answer=38  true_answer=38\n",
      "CORRECT\n"
     ]
    },
    {
     "name": "stderr",
     "output_type": "stream",
     "text": [
      " 60%|██████    | 12/20 [00:18<00:12,  1.60s/it]"
     ]
    },
    {
     "name": "stdout",
     "output_type": "stream",
     "text": [
      "k=11: gpt_answer=38  true_answer=38\n",
      "CORRECT\n"
     ]
    },
    {
     "name": "stderr",
     "output_type": "stream",
     "text": [
      " 65%|██████▌   | 13/20 [00:20<00:10,  1.55s/it]"
     ]
    },
    {
     "name": "stdout",
     "output_type": "stream",
     "text": [
      "k=12: gpt_answer=38  true_answer=38\n",
      "CORRECT\n"
     ]
    },
    {
     "name": "stderr",
     "output_type": "stream",
     "text": [
      " 70%|███████   | 14/20 [00:21<00:09,  1.55s/it]"
     ]
    },
    {
     "name": "stdout",
     "output_type": "stream",
     "text": [
      "k=13: gpt_answer=38  true_answer=38\n",
      "CORRECT\n"
     ]
    },
    {
     "name": "stderr",
     "output_type": "stream",
     "text": [
      " 75%|███████▌  | 15/20 [00:23<00:07,  1.52s/it]"
     ]
    },
    {
     "name": "stdout",
     "output_type": "stream",
     "text": [
      "k=14: gpt_answer=38  true_answer=38\n",
      "CORRECT\n"
     ]
    },
    {
     "name": "stderr",
     "output_type": "stream",
     "text": [
      " 80%|████████  | 16/20 [00:24<00:06,  1.55s/it]"
     ]
    },
    {
     "name": "stdout",
     "output_type": "stream",
     "text": [
      "k=15: gpt_answer=38  true_answer=38\n",
      "CORRECT\n"
     ]
    },
    {
     "name": "stderr",
     "output_type": "stream",
     "text": [
      " 85%|████████▌ | 17/20 [00:26<00:04,  1.50s/it]"
     ]
    },
    {
     "name": "stdout",
     "output_type": "stream",
     "text": [
      "k=16: gpt_answer=38  true_answer=38\n",
      "CORRECT\n"
     ]
    },
    {
     "name": "stderr",
     "output_type": "stream",
     "text": [
      " 90%|█████████ | 18/20 [00:27<00:02,  1.46s/it]"
     ]
    },
    {
     "name": "stdout",
     "output_type": "stream",
     "text": [
      "k=17: gpt_answer=38  true_answer=38\n",
      "CORRECT\n"
     ]
    },
    {
     "name": "stderr",
     "output_type": "stream",
     "text": [
      " 95%|█████████▌| 19/20 [00:28<00:01,  1.44s/it]"
     ]
    },
    {
     "name": "stdout",
     "output_type": "stream",
     "text": [
      "k=18: gpt_answer=38  true_answer=38\n",
      "CORRECT\n"
     ]
    },
    {
     "name": "stderr",
     "output_type": "stream",
     "text": [
      "100%|██████████| 20/20 [00:30<00:00,  1.54s/it]\n"
     ]
    },
    {
     "name": "stdout",
     "output_type": "stream",
     "text": [
      "k=19: gpt_answer=38  true_answer=38\n",
      "CORRECT\n",
      "accuracy=1.00\n",
      "\n",
      "Question  23\n"
     ]
    },
    {
     "name": "stderr",
     "output_type": "stream",
     "text": [
      "  5%|▌         | 1/20 [00:01<00:28,  1.51s/it]"
     ]
    },
    {
     "name": "stdout",
     "output_type": "stream",
     "text": [
      "k=0: gpt_answer=5  true_answer=5\n",
      "CORRECT\n"
     ]
    },
    {
     "name": "stderr",
     "output_type": "stream",
     "text": [
      " 10%|█         | 2/20 [00:03<00:27,  1.50s/it]"
     ]
    },
    {
     "name": "stdout",
     "output_type": "stream",
     "text": [
      "k=1: gpt_answer=5  true_answer=5\n",
      "CORRECT\n"
     ]
    },
    {
     "name": "stderr",
     "output_type": "stream",
     "text": [
      " 15%|█▌        | 3/20 [00:04<00:27,  1.62s/it]"
     ]
    },
    {
     "name": "stdout",
     "output_type": "stream",
     "text": [
      "k=2: gpt_answer=5  true_answer=5\n",
      "CORRECT\n"
     ]
    },
    {
     "name": "stderr",
     "output_type": "stream",
     "text": [
      " 20%|██        | 4/20 [00:06<00:25,  1.61s/it]"
     ]
    },
    {
     "name": "stdout",
     "output_type": "stream",
     "text": [
      "k=3: gpt_answer=5  true_answer=5\n",
      "CORRECT\n"
     ]
    },
    {
     "name": "stderr",
     "output_type": "stream",
     "text": [
      " 25%|██▌       | 5/20 [00:07<00:24,  1.61s/it]"
     ]
    },
    {
     "name": "stdout",
     "output_type": "stream",
     "text": [
      "k=4: gpt_answer=5  true_answer=5\n",
      "CORRECT\n"
     ]
    },
    {
     "name": "stderr",
     "output_type": "stream",
     "text": [
      " 30%|███       | 6/20 [00:09<00:22,  1.63s/it]"
     ]
    },
    {
     "name": "stdout",
     "output_type": "stream",
     "text": [
      "k=5: gpt_answer=5  true_answer=5\n",
      "CORRECT\n"
     ]
    },
    {
     "name": "stderr",
     "output_type": "stream",
     "text": [
      " 35%|███▌      | 7/20 [00:10<00:19,  1.53s/it]"
     ]
    },
    {
     "name": "stdout",
     "output_type": "stream",
     "text": [
      "k=6: gpt_answer=5  true_answer=5\n",
      "CORRECT\n"
     ]
    },
    {
     "name": "stderr",
     "output_type": "stream",
     "text": [
      " 40%|████      | 8/20 [00:12<00:20,  1.67s/it]"
     ]
    },
    {
     "name": "stdout",
     "output_type": "stream",
     "text": [
      "k=7: gpt_answer=5  true_answer=5\n",
      "CORRECT\n"
     ]
    },
    {
     "name": "stderr",
     "output_type": "stream",
     "text": [
      " 45%|████▌     | 9/20 [00:14<00:17,  1.59s/it]"
     ]
    },
    {
     "name": "stdout",
     "output_type": "stream",
     "text": [
      "k=8: gpt_answer=5  true_answer=5\n",
      "CORRECT\n"
     ]
    },
    {
     "name": "stderr",
     "output_type": "stream",
     "text": [
      " 50%|█████     | 10/20 [00:15<00:15,  1.59s/it]"
     ]
    },
    {
     "name": "stdout",
     "output_type": "stream",
     "text": [
      "k=9: gpt_answer=5  true_answer=5\n",
      "CORRECT\n"
     ]
    },
    {
     "name": "stderr",
     "output_type": "stream",
     "text": [
      " 55%|█████▌    | 11/20 [00:18<00:15,  1.74s/it]"
     ]
    },
    {
     "name": "stdout",
     "output_type": "stream",
     "text": [
      "k=10: gpt_answer=5  true_answer=5\n",
      "CORRECT\n"
     ]
    },
    {
     "name": "stderr",
     "output_type": "stream",
     "text": [
      " 60%|██████    | 12/20 [00:19<00:13,  1.68s/it]"
     ]
    },
    {
     "name": "stdout",
     "output_type": "stream",
     "text": [
      "k=11: gpt_answer=5  true_answer=5\n",
      "CORRECT\n"
     ]
    },
    {
     "name": "stderr",
     "output_type": "stream",
     "text": [
      " 65%|██████▌   | 13/20 [00:20<00:11,  1.58s/it]"
     ]
    },
    {
     "name": "stdout",
     "output_type": "stream",
     "text": [
      "k=12: gpt_answer=5  true_answer=5\n",
      "CORRECT\n"
     ]
    },
    {
     "name": "stderr",
     "output_type": "stream",
     "text": [
      " 70%|███████   | 14/20 [00:22<00:09,  1.55s/it]"
     ]
    },
    {
     "name": "stdout",
     "output_type": "stream",
     "text": [
      "k=13: gpt_answer=5  true_answer=5\n",
      "CORRECT\n"
     ]
    },
    {
     "name": "stderr",
     "output_type": "stream",
     "text": [
      " 75%|███████▌  | 15/20 [00:24<00:07,  1.58s/it]"
     ]
    },
    {
     "name": "stdout",
     "output_type": "stream",
     "text": [
      "k=14: gpt_answer=5  true_answer=5\n",
      "CORRECT\n"
     ]
    },
    {
     "name": "stderr",
     "output_type": "stream",
     "text": [
      " 80%|████████  | 16/20 [00:25<00:06,  1.54s/it]"
     ]
    },
    {
     "name": "stdout",
     "output_type": "stream",
     "text": [
      "k=15: gpt_answer=5  true_answer=5\n",
      "CORRECT\n"
     ]
    },
    {
     "name": "stderr",
     "output_type": "stream",
     "text": [
      " 85%|████████▌ | 17/20 [00:27<00:04,  1.55s/it]"
     ]
    },
    {
     "name": "stdout",
     "output_type": "stream",
     "text": [
      "k=16: gpt_answer=5  true_answer=5\n",
      "CORRECT\n"
     ]
    },
    {
     "name": "stderr",
     "output_type": "stream",
     "text": [
      " 90%|█████████ | 18/20 [00:29<00:03,  1.68s/it]"
     ]
    },
    {
     "name": "stdout",
     "output_type": "stream",
     "text": [
      "k=17: gpt_answer=5  true_answer=5\n",
      "CORRECT\n"
     ]
    },
    {
     "name": "stderr",
     "output_type": "stream",
     "text": [
      " 95%|█████████▌| 19/20 [00:30<00:01,  1.68s/it]"
     ]
    },
    {
     "name": "stdout",
     "output_type": "stream",
     "text": [
      "k=18: gpt_answer=5  true_answer=5\n",
      "CORRECT\n"
     ]
    },
    {
     "name": "stderr",
     "output_type": "stream",
     "text": [
      "100%|██████████| 20/20 [00:32<00:00,  1.61s/it]\n"
     ]
    },
    {
     "name": "stdout",
     "output_type": "stream",
     "text": [
      "k=19: gpt_answer=5  true_answer=5\n",
      "CORRECT\n",
      "accuracy=1.00\n",
      "\n",
      "Question  24\n"
     ]
    },
    {
     "name": "stderr",
     "output_type": "stream",
     "text": [
      "  5%|▌         | 1/20 [00:00<00:18,  1.01it/s]"
     ]
    },
    {
     "name": "stdout",
     "output_type": "stream",
     "text": [
      "k=0: gpt_answer=62  true_answer=62\n",
      "CORRECT\n"
     ]
    },
    {
     "name": "stderr",
     "output_type": "stream",
     "text": [
      " 10%|█         | 2/20 [00:02<00:21,  1.21s/it]"
     ]
    },
    {
     "name": "stdout",
     "output_type": "stream",
     "text": [
      "k=1: gpt_answer=62  true_answer=62\n",
      "CORRECT\n"
     ]
    },
    {
     "name": "stderr",
     "output_type": "stream",
     "text": [
      " 15%|█▌        | 3/20 [00:03<00:18,  1.12s/it]"
     ]
    },
    {
     "name": "stdout",
     "output_type": "stream",
     "text": [
      "k=2: gpt_answer=62  true_answer=62\n",
      "CORRECT\n"
     ]
    },
    {
     "name": "stderr",
     "output_type": "stream",
     "text": [
      " 20%|██        | 4/20 [00:04<00:16,  1.06s/it]"
     ]
    },
    {
     "name": "stdout",
     "output_type": "stream",
     "text": [
      "k=3: gpt_answer=62  true_answer=62\n",
      "CORRECT\n"
     ]
    },
    {
     "name": "stderr",
     "output_type": "stream",
     "text": [
      " 25%|██▌       | 5/20 [00:05<00:15,  1.05s/it]"
     ]
    },
    {
     "name": "stdout",
     "output_type": "stream",
     "text": [
      "k=4: gpt_answer=62  true_answer=62\n",
      "CORRECT\n"
     ]
    },
    {
     "name": "stderr",
     "output_type": "stream",
     "text": [
      " 30%|███       | 6/20 [00:06<00:14,  1.05s/it]"
     ]
    },
    {
     "name": "stdout",
     "output_type": "stream",
     "text": [
      "k=5: gpt_answer=62  true_answer=62\n",
      "CORRECT\n"
     ]
    },
    {
     "name": "stderr",
     "output_type": "stream",
     "text": [
      " 35%|███▌      | 7/20 [00:07<00:14,  1.09s/it]"
     ]
    },
    {
     "name": "stdout",
     "output_type": "stream",
     "text": [
      "k=6: gpt_answer=62  true_answer=62\n",
      "CORRECT\n"
     ]
    },
    {
     "name": "stderr",
     "output_type": "stream",
     "text": [
      " 40%|████      | 8/20 [00:08<00:13,  1.09s/it]"
     ]
    },
    {
     "name": "stdout",
     "output_type": "stream",
     "text": [
      "k=7: gpt_answer=62  true_answer=62\n",
      "CORRECT\n"
     ]
    },
    {
     "name": "stderr",
     "output_type": "stream",
     "text": [
      " 45%|████▌     | 9/20 [00:09<00:11,  1.07s/it]"
     ]
    },
    {
     "name": "stdout",
     "output_type": "stream",
     "text": [
      "k=8: gpt_answer=62  true_answer=62\n",
      "CORRECT\n"
     ]
    },
    {
     "name": "stderr",
     "output_type": "stream",
     "text": [
      " 50%|█████     | 10/20 [00:11<00:12,  1.25s/it]"
     ]
    },
    {
     "name": "stdout",
     "output_type": "stream",
     "text": [
      "k=9: gpt_answer=62  true_answer=62\n",
      "CORRECT\n"
     ]
    },
    {
     "name": "stderr",
     "output_type": "stream",
     "text": [
      " 55%|█████▌    | 11/20 [00:12<00:10,  1.21s/it]"
     ]
    },
    {
     "name": "stdout",
     "output_type": "stream",
     "text": [
      "k=10: gpt_answer=62  true_answer=62\n",
      "CORRECT\n"
     ]
    },
    {
     "name": "stderr",
     "output_type": "stream",
     "text": [
      " 60%|██████    | 12/20 [00:13<00:09,  1.14s/it]"
     ]
    },
    {
     "name": "stdout",
     "output_type": "stream",
     "text": [
      "k=11: gpt_answer=62  true_answer=62\n",
      "CORRECT\n"
     ]
    },
    {
     "name": "stderr",
     "output_type": "stream",
     "text": [
      " 65%|██████▌   | 13/20 [00:14<00:08,  1.16s/it]"
     ]
    },
    {
     "name": "stdout",
     "output_type": "stream",
     "text": [
      "k=12: gpt_answer=62  true_answer=62\n",
      "CORRECT\n"
     ]
    },
    {
     "name": "stderr",
     "output_type": "stream",
     "text": [
      " 70%|███████   | 14/20 [00:15<00:06,  1.11s/it]"
     ]
    },
    {
     "name": "stdout",
     "output_type": "stream",
     "text": [
      "k=13: gpt_answer=62  true_answer=62\n",
      "CORRECT\n"
     ]
    },
    {
     "name": "stderr",
     "output_type": "stream",
     "text": [
      " 75%|███████▌  | 15/20 [00:16<00:05,  1.13s/it]"
     ]
    },
    {
     "name": "stdout",
     "output_type": "stream",
     "text": [
      "k=14: gpt_answer=62  true_answer=62\n",
      "CORRECT\n"
     ]
    },
    {
     "name": "stderr",
     "output_type": "stream",
     "text": [
      " 80%|████████  | 16/20 [00:17<00:04,  1.10s/it]"
     ]
    },
    {
     "name": "stdout",
     "output_type": "stream",
     "text": [
      "k=15: gpt_answer=62  true_answer=62\n",
      "CORRECT\n"
     ]
    },
    {
     "name": "stderr",
     "output_type": "stream",
     "text": [
      " 85%|████████▌ | 17/20 [00:18<00:03,  1.07s/it]"
     ]
    },
    {
     "name": "stdout",
     "output_type": "stream",
     "text": [
      "k=16: gpt_answer=62  true_answer=62\n",
      "CORRECT\n"
     ]
    },
    {
     "name": "stderr",
     "output_type": "stream",
     "text": [
      " 90%|█████████ | 18/20 [00:19<00:02,  1.09s/it]"
     ]
    },
    {
     "name": "stdout",
     "output_type": "stream",
     "text": [
      "k=17: gpt_answer=62  true_answer=62\n",
      "CORRECT\n"
     ]
    },
    {
     "name": "stderr",
     "output_type": "stream",
     "text": [
      " 95%|█████████▌| 19/20 [00:21<00:01,  1.09s/it]"
     ]
    },
    {
     "name": "stdout",
     "output_type": "stream",
     "text": [
      "k=18: gpt_answer=62  true_answer=62\n",
      "CORRECT\n"
     ]
    },
    {
     "name": "stderr",
     "output_type": "stream",
     "text": [
      "100%|██████████| 20/20 [00:22<00:00,  1.14s/it]\n"
     ]
    },
    {
     "name": "stdout",
     "output_type": "stream",
     "text": [
      "k=19: gpt_answer=62  true_answer=62\n",
      "CORRECT\n",
      "accuracy=1.00\n",
      "\n",
      "Question  25\n"
     ]
    },
    {
     "name": "stderr",
     "output_type": "stream",
     "text": [
      "  5%|▌         | 1/20 [00:01<00:22,  1.17s/it]"
     ]
    },
    {
     "name": "stdout",
     "output_type": "stream",
     "text": [
      "k=0: gpt_answer=110  true_answer=110\n",
      "CORRECT\n"
     ]
    },
    {
     "name": "stderr",
     "output_type": "stream",
     "text": [
      " 10%|█         | 2/20 [00:02<00:22,  1.24s/it]"
     ]
    },
    {
     "name": "stdout",
     "output_type": "stream",
     "text": [
      "k=1: gpt_answer=110  true_answer=110\n",
      "CORRECT\n"
     ]
    },
    {
     "name": "stderr",
     "output_type": "stream",
     "text": [
      " 15%|█▌        | 3/20 [00:03<00:21,  1.25s/it]"
     ]
    },
    {
     "name": "stdout",
     "output_type": "stream",
     "text": [
      "k=2: gpt_answer=110  true_answer=110\n",
      "CORRECT\n"
     ]
    },
    {
     "name": "stderr",
     "output_type": "stream",
     "text": [
      " 20%|██        | 4/20 [00:05<00:23,  1.47s/it]"
     ]
    },
    {
     "name": "stdout",
     "output_type": "stream",
     "text": [
      "k=3: gpt_answer=110  true_answer=110\n",
      "CORRECT\n"
     ]
    },
    {
     "name": "stderr",
     "output_type": "stream",
     "text": [
      " 25%|██▌       | 5/20 [00:06<00:20,  1.35s/it]"
     ]
    },
    {
     "name": "stdout",
     "output_type": "stream",
     "text": [
      "k=4: gpt_answer=110  true_answer=110\n",
      "CORRECT\n"
     ]
    },
    {
     "name": "stderr",
     "output_type": "stream",
     "text": [
      " 30%|███       | 6/20 [00:07<00:17,  1.26s/it]"
     ]
    },
    {
     "name": "stdout",
     "output_type": "stream",
     "text": [
      "k=5: gpt_answer=110  true_answer=110\n",
      "CORRECT\n"
     ]
    },
    {
     "name": "stderr",
     "output_type": "stream",
     "text": [
      " 35%|███▌      | 7/20 [00:09<00:17,  1.32s/it]"
     ]
    },
    {
     "name": "stdout",
     "output_type": "stream",
     "text": [
      "k=6: gpt_answer=110  true_answer=110\n",
      "CORRECT\n"
     ]
    },
    {
     "name": "stderr",
     "output_type": "stream",
     "text": [
      " 40%|████      | 8/20 [00:10<00:15,  1.26s/it]"
     ]
    },
    {
     "name": "stdout",
     "output_type": "stream",
     "text": [
      "k=7: gpt_answer=110  true_answer=110\n",
      "CORRECT\n"
     ]
    },
    {
     "name": "stderr",
     "output_type": "stream",
     "text": [
      " 45%|████▌     | 9/20 [00:11<00:14,  1.29s/it]"
     ]
    },
    {
     "name": "stdout",
     "output_type": "stream",
     "text": [
      "k=8: gpt_answer=110  true_answer=110\n",
      "CORRECT\n"
     ]
    },
    {
     "name": "stderr",
     "output_type": "stream",
     "text": [
      " 50%|█████     | 10/20 [00:12<00:12,  1.29s/it]"
     ]
    },
    {
     "name": "stdout",
     "output_type": "stream",
     "text": [
      "k=9: gpt_answer=110  true_answer=110\n",
      "CORRECT\n"
     ]
    },
    {
     "name": "stderr",
     "output_type": "stream",
     "text": [
      " 55%|█████▌    | 11/20 [00:14<00:11,  1.30s/it]"
     ]
    },
    {
     "name": "stdout",
     "output_type": "stream",
     "text": [
      "k=10: gpt_answer=110  true_answer=110\n",
      "CORRECT\n"
     ]
    },
    {
     "name": "stderr",
     "output_type": "stream",
     "text": [
      " 60%|██████    | 12/20 [00:16<00:11,  1.43s/it]"
     ]
    },
    {
     "name": "stdout",
     "output_type": "stream",
     "text": [
      "k=11: gpt_answer=110  true_answer=110\n",
      "CORRECT\n"
     ]
    },
    {
     "name": "stderr",
     "output_type": "stream",
     "text": [
      " 65%|██████▌   | 13/20 [00:17<00:09,  1.32s/it]"
     ]
    },
    {
     "name": "stdout",
     "output_type": "stream",
     "text": [
      "k=12: gpt_answer=110  true_answer=110\n",
      "CORRECT\n"
     ]
    },
    {
     "name": "stderr",
     "output_type": "stream",
     "text": [
      " 70%|███████   | 14/20 [00:18<00:07,  1.31s/it]"
     ]
    },
    {
     "name": "stdout",
     "output_type": "stream",
     "text": [
      "k=13: gpt_answer=110  true_answer=110\n",
      "CORRECT\n"
     ]
    },
    {
     "name": "stderr",
     "output_type": "stream",
     "text": [
      " 75%|███████▌  | 15/20 [00:19<00:05,  1.19s/it]"
     ]
    },
    {
     "name": "stdout",
     "output_type": "stream",
     "text": [
      "k=14: gpt_answer=110  true_answer=110\n",
      "CORRECT\n"
     ]
    },
    {
     "name": "stderr",
     "output_type": "stream",
     "text": [
      " 80%|████████  | 16/20 [00:20<00:05,  1.27s/it]"
     ]
    },
    {
     "name": "stdout",
     "output_type": "stream",
     "text": [
      "k=15: gpt_answer=110  true_answer=110\n",
      "CORRECT\n"
     ]
    },
    {
     "name": "stderr",
     "output_type": "stream",
     "text": [
      " 85%|████████▌ | 17/20 [00:22<00:03,  1.27s/it]"
     ]
    },
    {
     "name": "stdout",
     "output_type": "stream",
     "text": [
      "k=16: gpt_answer=110  true_answer=110\n",
      "CORRECT\n"
     ]
    },
    {
     "name": "stderr",
     "output_type": "stream",
     "text": [
      " 90%|█████████ | 18/20 [00:23<00:02,  1.25s/it]"
     ]
    },
    {
     "name": "stdout",
     "output_type": "stream",
     "text": [
      "k=17: gpt_answer=110  true_answer=110\n",
      "CORRECT\n"
     ]
    },
    {
     "name": "stderr",
     "output_type": "stream",
     "text": [
      " 95%|█████████▌| 19/20 [00:24<00:01,  1.34s/it]"
     ]
    },
    {
     "name": "stdout",
     "output_type": "stream",
     "text": [
      "k=18: gpt_answer=110  true_answer=110\n",
      "CORRECT\n"
     ]
    },
    {
     "name": "stderr",
     "output_type": "stream",
     "text": [
      "100%|██████████| 20/20 [00:26<00:00,  1.31s/it]"
     ]
    },
    {
     "name": "stdout",
     "output_type": "stream",
     "text": [
      "k=19: gpt_answer=110  true_answer=110\n",
      "CORRECT\n",
      "accuracy=1.00\n",
      "\n",
      "Total Inaccurate:  8\n"
     ]
    },
    {
     "name": "stderr",
     "output_type": "stream",
     "text": [
      "\n"
     ]
    }
   ],
   "source": [
    "def evaluate_fewshots(data, temperature,num_shots):\n",
    "    num_corrects=0\n",
    "    for k in  tqdm(range(len(data))):\n",
    "        gpt_answer=answer_from_gpt(data[k]['problem'],temperature=temperature,num_shots=num_shots)\n",
    "        true_answer= data[k]['result']\n",
    "        # print(f'k={k}: gpt_answer={gpt_answer}  true_answer={true_answer}')   # this is for debug only\n",
    "        \n",
    "        if gpt_answer != \"NA\":\n",
    "            try:\n",
    "                if float(gpt_answer) == float(true_answer):\n",
    "                    # print(\"CORRECT\")\n",
    "                    num_corrects += 1\n",
    "                else:\n",
    "                    # print(\"INCORRECT\")\n",
    "                    num_corrects += 0\n",
    "            except ValueError:\n",
    "                # print(\"INCORRECT\")\n",
    "                num_corrects += 0\n",
    "    \n",
    "    accuracy = num_corrects/len(data)\n",
    "    print(f'accuracy={accuracy:0.2f}')\n",
    "    return accuracy\n",
    "\n",
    "temperature = 0\n",
    "num_shots = 0\n",
    "\n",
    "total_inaccurate = 0\n",
    "\n",
    "print(f'=== temperature={temperature} num_shots={num_shots} ===')\n",
    "for i in range(len(ablated_dataset)):\n",
    "    curr_ablation = ablated_dataset[i]\n",
    "\n",
    "    print(\"Question \", q_indices[i])\n",
    "    accuracy = evaluate_fewshots(curr_ablation, temperature, num_shots)\n",
    "    if accuracy < 1:\n",
    "        total_inaccurate += 1\n",
    "    print()\n",
    "\n",
    "print(\"Total Inaccurate: \", total_inaccurate)"
   ]
  }
 ],
 "metadata": {
  "kernelspec": {
   "display_name": "venv",
   "language": "python",
   "name": "python3"
  },
  "language_info": {
   "codemirror_mode": {
    "name": "ipython",
    "version": 3
   },
   "file_extension": ".py",
   "mimetype": "text/x-python",
   "name": "python",
   "nbconvert_exporter": "python",
   "pygments_lexer": "ipython3",
   "version": "3.9.13"
  }
 },
 "nbformat": 4,
 "nbformat_minor": 4
}
