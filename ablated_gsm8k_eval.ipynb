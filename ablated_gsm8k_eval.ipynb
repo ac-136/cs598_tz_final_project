{
 "cells": [
  {
   "cell_type": "markdown",
   "metadata": {},
   "source": [
    "Code from A3 problem1-prompt.ipynb and https://github.com/SewoongLee/reproduce-llama3-arithmetic/blob/main/llama3-tutorial-gsm8k.ipynb"
   ]
  },
  {
   "cell_type": "markdown",
   "metadata": {},
   "source": [
    "You need to set your OPENAI_API_KEY environment variable in .env"
   ]
  },
  {
   "cell_type": "code",
   "execution_count": 34,
   "metadata": {},
   "outputs": [
    {
     "name": "stdout",
     "output_type": "stream",
     "text": [
      "The dotenv extension is already loaded. To reload it, use:\n",
      "  %reload_ext dotenv\n",
      "cannot find .env file\n"
     ]
    }
   ],
   "source": [
    "from openai import OpenAI\n",
    "from tqdm import tqdm\n",
    "import textwrap\n",
    "import dotenv\n",
    "import os\n",
    "%load_ext dotenv\n",
    "%dotenv\n",
    "\n",
    "client=OpenAI(api_key=os.environ.get(\"OPENAI_API_KEY\"))\n",
    "\n",
    "# we use gpt-4o-mini as default: current pricing is \n",
    "# $0.150 / 1M input tokens, $0.600 / 1M output tokens\n",
    "def generate_gpt_response(prompt,messages=[], model=\"gpt-3.5-turbo\", temperature=0.7):\n",
    "    messages.append({\"role\": \"user\", \"content\": prompt})\n",
    "            \n",
    "    response = client.chat.completions.create(\n",
    "        model=model,\n",
    "        messages=messages,\n",
    "        temperature = temperature\n",
    "    )\n",
    "    content=response.choices[0].message.content\n",
    "    messages.append({'role': 'assistant', 'content': content})\n",
    "    return messages\n",
    "\n",
    "\n",
    "def print_message(message, width=80):\n",
    "    text=message[\"role\"]+\": \" + message[\"content\"]\n",
    "    wrapped_text = textwrap.fill(text, width=width)\n",
    "    \n",
    "    for line in wrapped_text.split('\\n'):\n",
    "        print(f\" {line.ljust(width)} \")        \n",
    "    "
   ]
  },
  {
   "cell_type": "markdown",
   "metadata": {},
   "source": [
    "load ablated gsm8k json files"
   ]
  },
  {
   "cell_type": "code",
   "execution_count": 35,
   "metadata": {},
   "outputs": [
    {
     "name": "stdout",
     "output_type": "stream",
     "text": [
      "['q0--NUM100.jsonl', 'q1--NUM100.jsonl', 'q2--NUM100.jsonl', 'q3--NUM100.jsonl', 'q4--NUM100.jsonl', 'q5--NUM100.jsonl', 'q6--NUM100.jsonl', 'q7--NUM100.jsonl', 'q8--NUM100.jsonl', 'q9--NUM100.jsonl', 'q11--NUM100.jsonl', 'q12--NUM100.jsonl', 'q13--NUM100.jsonl', 'q14--NUM100.jsonl', 'q15--NUM100.jsonl', 'q19--NUM100.jsonl', 'q20--NUM100.jsonl', 'q23--NUM100.jsonl', 'q24--NUM100.jsonl', 'q25--NUM100.jsonl']\n",
      "\n",
      "[{'problem': 'Kc Otis sold clips to 48 of their friends in April, and then they sold 50% as many clips in May.How many clips did Kc Otis sell altogether in April and May?', 'result': '72', 'template_name': 0, 'idx': 71}, {'problem': 'Josh Joaquin sold clips to 48 of their friends in April, and then they sold 50% as many clips in May.How many clips did Josh Joaquin sell altogether in April and May?', 'result': '72', 'template_name': 0, 'idx': 1}, {'problem': 'Cristina Boogie sold clips to 48 of their friends in April, and then they sold 50% as many clips in May.How many clips did Cristina Boogie sell altogether in April and May?', 'result': '72', 'template_name': 0, 'idx': 60}, {'problem': 'Monica Georges sold clips to 48 of their friends in April, and then they sold 50% as many clips in May.How many clips did Monica Georges sell altogether in April and May?', 'result': '72', 'template_name': 0, 'idx': 83}, {'problem': 'Ricky Hinojosa sold clips to 48 of their friends in April, and then they sold 50% as many clips in May.How many clips did Ricky Hinojosa sell altogether in April and May?', 'result': '72', 'template_name': 0, 'idx': 66}, {'problem': 'Ty Ru sold clips to 48 of their friends in April, and then they sold 50% as many clips in May.How many clips did Ty Ru sell altogether in April and May?', 'result': '72', 'template_name': 0, 'idx': 38}, {'problem': 'Selina Bean sold clips to 48 of their friends in April, and then they sold 50% as many clips in May.How many clips did Selina Bean sell altogether in April and May?', 'result': '72', 'template_name': 0, 'idx': 98}, {'problem': 'Paulette Cantero sold clips to 48 of their friends in April, and then they sold 50% as many clips in May.How many clips did Paulette Cantero sell altogether in April and May?', 'result': '72', 'template_name': 0, 'idx': 69}, {'problem': 'Chelsey Venkatesan sold clips to 48 of their friends in April, and then they sold 50% as many clips in May.How many clips did Chelsey Venkatesan sell altogether in April and May?', 'result': '72', 'template_name': 0, 'idx': 53}, {'problem': 'Gina Isidoro sold clips to 48 of their friends in April, and then they sold 50% as many clips in May.How many clips did Gina Isidoro sell altogether in April and May?', 'result': '72', 'template_name': 0, 'idx': 90}]\n",
      "\n",
      "[{'problem': 'Mac Slattery earns $12 an hour for babysitting. Yesterday, they just did 50 minutes of babysitting. How much did Mac Slattery earn?', 'result': '10', 'template_name': 1, 'idx': 29}, {'problem': 'Salomon Darnell earns $12 an hour for babysitting. Yesterday, they just did 50 minutes of babysitting. How much did Salomon Darnell earn?', 'result': '10', 'template_name': 1, 'idx': 12}, {'problem': 'Elvis Oldham earns $12 an hour for babysitting. Yesterday, they just did 50 minutes of babysitting. How much did Elvis Oldham earn?', 'result': '10', 'template_name': 1, 'idx': 47}, {'problem': 'Douglas Newby earns $12 an hour for babysitting. Yesterday, they just did 50 minutes of babysitting. How much did Douglas Newby earn?', 'result': '10', 'template_name': 1, 'idx': 79}, {'problem': 'Simone Ruff earns $12 an hour for babysitting. Yesterday, they just did 50 minutes of babysitting. How much did Simone Ruff earn?', 'result': '10', 'template_name': 1, 'idx': 8}, {'problem': 'Olivia Khatri earns $12 an hour for babysitting. Yesterday, they just did 50 minutes of babysitting. How much did Olivia Khatri earn?', 'result': '10', 'template_name': 1, 'idx': 43}, {'problem': 'Jaqueline Barakat earns $12 an hour for babysitting. Yesterday, they just did 50 minutes of babysitting. How much did Jaqueline Barakat earn?', 'result': '10', 'template_name': 1, 'idx': 82}, {'problem': 'Greg Kellogg earns $12 an hour for babysitting. Yesterday, they just did 50 minutes of babysitting. How much did Greg Kellogg earn?', 'result': '10', 'template_name': 1, 'idx': 32}, {'problem': 'Emma Lieberman earns $12 an hour for babysitting. Yesterday, they just did 50 minutes of babysitting. How much did Emma Lieberman earn?', 'result': '10', 'template_name': 1, 'idx': 73}, {'problem': 'Grace Mims earns $12 an hour for babysitting. Yesterday, they just did 50 minutes of babysitting. How much did Grace Mims earn?', 'result': '10', 'template_name': 1, 'idx': 26}]\n",
      "\n",
      "[{'problem': 'Johnathan Guido is saving money for a new wallet which costs $100. Johnathan Guido has only half of the money they need. Their parents decided to give them $15 for that purpose, and their grandparents twice as much as their parents. How much more money does Johnathan Guido need to buy the wallet?', 'result': '5.0', 'template_name': 2, 'idx': 2}, {'problem': 'Stuart Shehata is saving money for a new wallet which costs $100. Stuart Shehata has only half of the money they need. Their parents decided to give them $15 for that purpose, and their grandparents twice as much as their parents. How much more money does Stuart Shehata need to buy the wallet?', 'result': '5.0', 'template_name': 2, 'idx': 97}, {'problem': 'Emma Lieberman is saving money for a new wallet which costs $100. Emma Lieberman has only half of the money they need. Their parents decided to give them $15 for that purpose, and their grandparents twice as much as their parents. How much more money does Emma Lieberman need to buy the wallet?', 'result': '5.0', 'template_name': 2, 'idx': 73}, {'problem': 'Grace Mims is saving money for a new wallet which costs $100. Grace Mims has only half of the money they need. Their parents decided to give them $15 for that purpose, and their grandparents twice as much as their parents. How much more money does Grace Mims need to buy the wallet?', 'result': '5.0', 'template_name': 2, 'idx': 26}, {'problem': 'Saad Schwartz is saving money for a new wallet which costs $100. Saad Schwartz has only half of the money they need. Their parents decided to give them $15 for that purpose, and their grandparents twice as much as their parents. How much more money does Saad Schwartz need to buy the wallet?', 'result': '5.0', 'template_name': 2, 'idx': 6}, {'problem': 'Irma Li is saving money for a new wallet which costs $100. Irma Li has only half of the money they need. Their parents decided to give them $15 for that purpose, and their grandparents twice as much as their parents. How much more money does Irma Li need to buy the wallet?', 'result': '5.0', 'template_name': 2, 'idx': 74}, {'problem': 'Kc Otis is saving money for a new wallet which costs $100. Kc Otis has only half of the money they need. Their parents decided to give them $15 for that purpose, and their grandparents twice as much as their parents. How much more money does Kc Otis need to buy the wallet?', 'result': '5.0', 'template_name': 2, 'idx': 71}, {'problem': 'Elliot Juares is saving money for a new wallet which costs $100. Elliot Juares has only half of the money they need. Their parents decided to give them $15 for that purpose, and their grandparents twice as much as their parents. How much more money does Elliot Juares need to buy the wallet?', 'result': '5.0', 'template_name': 2, 'idx': 17}, {'problem': 'Mo Lam is saving money for a new wallet which costs $100. Mo Lam has only half of the money they need. Their parents decided to give them $15 for that purpose, and their grandparents twice as much as their parents. How much more money does Mo Lam need to buy the wallet?', 'result': '5.0', 'template_name': 2, 'idx': 49}, {'problem': 'Esmeralda Coulter is saving money for a new wallet which costs $100. Esmeralda Coulter has only half of the money they need. Their parents decided to give them $15 for that purpose, and their grandparents twice as much as their parents. How much more money does Esmeralda Coulter need to buy the wallet?', 'result': '5.0', 'template_name': 2, 'idx': 87}]\n",
      "\n",
      "[{'problem': 'Lorenzo Wynn is reading a 120-page book. Yesterday, they were able to read 12 pages and today, they read twice as many pages as yesterday. If they want to read half of the remaining pages tomorrow, how many pages should they read?', 'result': '42', 'template_name': 3, 'idx': 3}, {'problem': 'Lizette Labra is reading a 120-page book. Yesterday, they were able to read 12 pages and today, they read twice as many pages as yesterday. If they want to read half of the remaining pages tomorrow, how many pages should they read?', 'result': '42', 'template_name': 3, 'idx': 19}, {'problem': 'Mo Lam is reading a 120-page book. Yesterday, they were able to read 12 pages and today, they read twice as many pages as yesterday. If they want to read half of the remaining pages tomorrow, how many pages should they read?', 'result': '42', 'template_name': 3, 'idx': 49}, {'problem': 'Zoe Berger is reading a 120-page book. Yesterday, they were able to read 12 pages and today, they read twice as many pages as yesterday. If they want to read half of the remaining pages tomorrow, how many pages should they read?', 'result': '42', 'template_name': 3, 'idx': 31}, {'problem': 'Nora Cristobal is reading a 120-page book. Yesterday, they were able to read 12 pages and today, they read twice as many pages as yesterday. If they want to read half of the remaining pages tomorrow, how many pages should they read?', 'result': '42', 'template_name': 3, 'idx': 23}, {'problem': 'Salomon Darnell is reading a 120-page book. Yesterday, they were able to read 12 pages and today, they read twice as many pages as yesterday. If they want to read half of the remaining pages tomorrow, how many pages should they read?', 'result': '42', 'template_name': 3, 'idx': 12}, {'problem': 'Kenia Partridge is reading a 120-page book. Yesterday, they were able to read 12 pages and today, they read twice as many pages as yesterday. If they want to read half of the remaining pages tomorrow, how many pages should they read?', 'result': '42', 'template_name': 3, 'idx': 78}, {'problem': 'Lilian Laroche is reading a 120-page book. Yesterday, they were able to read 12 pages and today, they read twice as many pages as yesterday. If they want to read half of the remaining pages tomorrow, how many pages should they read?', 'result': '42', 'template_name': 3, 'idx': 25}, {'problem': 'Kc Otis is reading a 120-page book. Yesterday, they were able to read 12 pages and today, they read twice as many pages as yesterday. If they want to read half of the remaining pages tomorrow, how many pages should they read?', 'result': '42', 'template_name': 3, 'idx': 71}, {'problem': 'Ceci Colson is reading a 120-page book. Yesterday, they were able to read 12 pages and today, they read twice as many pages as yesterday. If they want to read half of the remaining pages tomorrow, how many pages should they read?', 'result': '42', 'template_name': 3, 'idx': 27}]\n",
      "\n",
      "[{'problem': 'Jhonny Larin writes a 3-page letter to 2 different friends twice a week. How many pages does Jhonny Larin write in a year?', 'result': '624', 'template_name': 4, 'idx': 56}, {'problem': 'Nora Cristobal writes a 3-page letter to 2 different friends twice a week. How many pages does Nora Cristobal write in a year?', 'result': '624', 'template_name': 4, 'idx': 23}, {'problem': 'Eden Sanchez writes a 3-page letter to 2 different friends twice a week. How many pages does Eden Sanchez write in a year?', 'result': '624', 'template_name': 4, 'idx': 91}, {'problem': 'Mo Lam writes a 3-page letter to 2 different friends twice a week. How many pages does Mo Lam write in a year?', 'result': '624', 'template_name': 4, 'idx': 49}, {'problem': 'Maddie Dalessandro writes a 3-page letter to 2 different friends twice a week. How many pages does Maddie Dalessandro write in a year?', 'result': '624', 'template_name': 4, 'idx': 16}, {'problem': 'Elba De Guzman writes a 3-page letter to 2 different friends twice a week. How many pages does Elba De Guzman write in a year?', 'result': '624', 'template_name': 4, 'idx': 85}, {'problem': 'Simone Ruff writes a 3-page letter to 2 different friends twice a week. How many pages does Simone Ruff write in a year?', 'result': '624', 'template_name': 4, 'idx': 8}, {'problem': 'Walter Virginia writes a 3-page letter to 2 different friends twice a week. How many pages does Walter Virginia write in a year?', 'result': '624', 'template_name': 4, 'idx': 99}, {'problem': 'Ceci Colson writes a 3-page letter to 2 different friends twice a week. How many pages does Ceci Colson write in a year?', 'result': '624', 'template_name': 4, 'idx': 27}, {'problem': 'Iliana Carpio writes a 3-page letter to 2 different friends twice a week. How many pages does Iliana Carpio write in a year?', 'result': '624', 'template_name': 4, 'idx': 67}]\n",
      "\n",
      "[{'problem': 'Millie Mull has a garden with flowers. They planted plants of three different colors in it. 10 of them are yellow, and there are 80% more of those in purple. There are only 25% as many green flowers as there are yellow and purple flowers. How many flowers does Millie Mull have in their garden?', 'result': '35', 'template_name': 5, 'idx': 86}, {'problem': 'Nora Cristobal has a garden with flowers. They planted plants of three different colors in it. 10 of them are yellow, and there are 80% more of those in purple. There are only 25% as many green flowers as there are yellow and purple flowers. How many flowers does Nora Cristobal have in their garden?', 'result': '35', 'template_name': 5, 'idx': 23}, {'problem': 'Alana Tan has a garden with flowers. They planted plants of three different colors in it. 10 of them are yellow, and there are 80% more of those in purple. There are only 25% as many green flowers as there are yellow and purple flowers. How many flowers does Alana Tan have in their garden?', 'result': '35', 'template_name': 5, 'idx': 24}, {'problem': 'Les De Hoyos has a garden with flowers. They planted plants of three different colors in it. 10 of them are yellow, and there are 80% more of those in purple. There are only 25% as many green flowers as there are yellow and purple flowers. How many flowers does Les De Hoyos have in their garden?', 'result': '35', 'template_name': 5, 'idx': 22}, {'problem': 'Elliot Juares has a garden with flowers. They planted plants of three different colors in it. 10 of them are yellow, and there are 80% more of those in purple. There are only 25% as many green flowers as there are yellow and purple flowers. How many flowers does Elliot Juares have in their garden?', 'result': '35', 'template_name': 5, 'idx': 17}, {'problem': 'Jenna Gaines has a garden with flowers. They planted plants of three different colors in it. 10 of them are yellow, and there are 80% more of those in purple. There are only 25% as many green flowers as there are yellow and purple flowers. How many flowers does Jenna Gaines have in their garden?', 'result': '35', 'template_name': 5, 'idx': 70}, {'problem': 'Jt Gumbs has a garden with flowers. They planted plants of three different colors in it. 10 of them are yellow, and there are 80% more of those in purple. There are only 25% as many green flowers as there are yellow and purple flowers. How many flowers does Jt Gumbs have in their garden?', 'result': '35', 'template_name': 5, 'idx': 63}, {'problem': 'Nate Labrada has a garden with flowers. They planted plants of three different colors in it. 10 of them are yellow, and there are 80% more of those in purple. There are only 25% as many green flowers as there are yellow and purple flowers. How many flowers does Nate Labrada have in their garden?', 'result': '35', 'template_name': 5, 'idx': 94}, {'problem': 'Homero Vargas has a garden with flowers. They planted plants of three different colors in it. 10 of them are yellow, and there are 80% more of those in purple. There are only 25% as many green flowers as there are yellow and purple flowers. How many flowers does Homero Vargas have in their garden?', 'result': '35', 'template_name': 5, 'idx': 81}, {'problem': 'Rosi Darr has a garden with flowers. They planted plants of three different colors in it. 10 of them are yellow, and there are 80% more of those in purple. There are only 25% as many green flowers as there are yellow and purple flowers. How many flowers does Rosi Darr have in their garden?', 'result': '35', 'template_name': 5, 'idx': 46}]\n",
      "\n",
      "[{'problem': 'Rosy Plascencia is wondering how much pizza they can eat in one day. They buy 2 large pizzas and 2 small pizzas. A large pizzas has 16 slices and a small pizza has 8 slices. If they eat it all, how many pieces do they eat that day?', 'result': '48', 'template_name': 6, 'idx': 0}, {'problem': 'Victoria Tavares is wondering how much pizza they can eat in one day. They buy 2 large pizzas and 2 small pizzas. A large pizzas has 16 slices and a small pizza has 8 slices. If they eat it all, how many pieces do they eat that day?', 'result': '48', 'template_name': 6, 'idx': 84}, {'problem': 'Millie Mull is wondering how much pizza they can eat in one day. They buy 2 large pizzas and 2 small pizzas. A large pizzas has 16 slices and a small pizza has 8 slices. If they eat it all, how many pieces do they eat that day?', 'result': '48', 'template_name': 6, 'idx': 86}, {'problem': 'Marisa Yearwood is wondering how much pizza they can eat in one day. They buy 2 large pizzas and 2 small pizzas. A large pizzas has 16 slices and a small pizza has 8 slices. If they eat it all, how many pieces do they eat that day?', 'result': '48', 'template_name': 6, 'idx': 4}, {'problem': 'Irma Li is wondering how much pizza they can eat in one day. They buy 2 large pizzas and 2 small pizzas. A large pizzas has 16 slices and a small pizza has 8 slices. If they eat it all, how many pieces do they eat that day?', 'result': '48', 'template_name': 6, 'idx': 74}, {'problem': 'Elvis Oldham is wondering how much pizza they can eat in one day. They buy 2 large pizzas and 2 small pizzas. A large pizzas has 16 slices and a small pizza has 8 slices. If they eat it all, how many pieces do they eat that day?', 'result': '48', 'template_name': 6, 'idx': 47}, {'problem': 'Iris Krantz is wondering how much pizza they can eat in one day. They buy 2 large pizzas and 2 small pizzas. A large pizzas has 16 slices and a small pizza has 8 slices. If they eat it all, how many pieces do they eat that day?', 'result': '48', 'template_name': 6, 'idx': 72}, {'problem': 'Iliana Carpio is wondering how much pizza they can eat in one day. They buy 2 large pizzas and 2 small pizzas. A large pizzas has 16 slices and a small pizza has 8 slices. If they eat it all, how many pieces do they eat that day?', 'result': '48', 'template_name': 6, 'idx': 67}, {'problem': 'Jenna Gaines is wondering how much pizza they can eat in one day. They buy 2 large pizzas and 2 small pizzas. A large pizzas has 16 slices and a small pizza has 8 slices. If they eat it all, how many pieces do they eat that day?', 'result': '48', 'template_name': 6, 'idx': 70}, {'problem': 'Salomon Darnell is wondering how much pizza they can eat in one day. They buy 2 large pizzas and 2 small pizzas. A large pizzas has 16 slices and a small pizza has 8 slices. If they eat it all, how many pieces do they eat that day?', 'result': '48', 'template_name': 6, 'idx': 12}]\n",
      "\n",
      "[{'problem': 'Kenia Partridge created a care package to send to their brother, who was away at boarding school. Kenia Partridge placed a box on a scale, and then they poured into the box enough jelly beans to bring the weight to 2 pounds. Then, they added enough brownies to cause the weight to triple. Next, they added another 2 pounds of jelly beans. And finally, they added enough gummy worms to double the weight once again. What was the final weight of the box of goodies, in pounds?', 'result': '16', 'template_name': 7, 'idx': 78}, {'problem': 'Jt Gumbs created a care package to send to their brother, who was away at boarding school. Jt Gumbs placed a box on a scale, and then they poured into the box enough jelly beans to bring the weight to 2 pounds. Then, they added enough brownies to cause the weight to triple. Next, they added another 2 pounds of jelly beans. And finally, they added enough gummy worms to double the weight once again. What was the final weight of the box of goodies, in pounds?', 'result': '16', 'template_name': 7, 'idx': 63}, {'problem': 'Mo Lam created a care package to send to their brother, who was away at boarding school. Mo Lam placed a box on a scale, and then they poured into the box enough jelly beans to bring the weight to 2 pounds. Then, they added enough brownies to cause the weight to triple. Next, they added another 2 pounds of jelly beans. And finally, they added enough gummy worms to double the weight once again. What was the final weight of the box of goodies, in pounds?', 'result': '16', 'template_name': 7, 'idx': 49}, {'problem': 'Millie Mull created a care package to send to their brother, who was away at boarding school. Millie Mull placed a box on a scale, and then they poured into the box enough jelly beans to bring the weight to 2 pounds. Then, they added enough brownies to cause the weight to triple. Next, they added another 2 pounds of jelly beans. And finally, they added enough gummy worms to double the weight once again. What was the final weight of the box of goodies, in pounds?', 'result': '16', 'template_name': 7, 'idx': 86}, {'problem': 'Rosi Darr created a care package to send to their brother, who was away at boarding school. Rosi Darr placed a box on a scale, and then they poured into the box enough jelly beans to bring the weight to 2 pounds. Then, they added enough brownies to cause the weight to triple. Next, they added another 2 pounds of jelly beans. And finally, they added enough gummy worms to double the weight once again. What was the final weight of the box of goodies, in pounds?', 'result': '16', 'template_name': 7, 'idx': 46}, {'problem': 'Cristina Boogie created a care package to send to their brother, who was away at boarding school. Cristina Boogie placed a box on a scale, and then they poured into the box enough jelly beans to bring the weight to 2 pounds. Then, they added enough brownies to cause the weight to triple. Next, they added another 2 pounds of jelly beans. And finally, they added enough gummy worms to double the weight once again. What was the final weight of the box of goodies, in pounds?', 'result': '16', 'template_name': 7, 'idx': 60}, {'problem': 'Elvis Oldham created a care package to send to their brother, who was away at boarding school. Elvis Oldham placed a box on a scale, and then they poured into the box enough jelly beans to bring the weight to 2 pounds. Then, they added enough brownies to cause the weight to triple. Next, they added another 2 pounds of jelly beans. And finally, they added enough gummy worms to double the weight once again. What was the final weight of the box of goodies, in pounds?', 'result': '16', 'template_name': 7, 'idx': 47}, {'problem': 'Alana Tan created a care package to send to their brother, who was away at boarding school. Alana Tan placed a box on a scale, and then they poured into the box enough jelly beans to bring the weight to 2 pounds. Then, they added enough brownies to cause the weight to triple. Next, they added another 2 pounds of jelly beans. And finally, they added enough gummy worms to double the weight once again. What was the final weight of the box of goodies, in pounds?', 'result': '16', 'template_name': 7, 'idx': 24}, {'problem': 'Megan Jester created a care package to send to their brother, who was away at boarding school. Megan Jester placed a box on a scale, and then they poured into the box enough jelly beans to bring the weight to 2 pounds. Then, they added enough brownies to cause the weight to triple. Next, they added another 2 pounds of jelly beans. And finally, they added enough gummy worms to double the weight once again. What was the final weight of the box of goodies, in pounds?', 'result': '16', 'template_name': 7, 'idx': 65}, {'problem': 'Letty Damron created a care package to send to their brother, who was away at boarding school. Letty Damron placed a box on a scale, and then they poured into the box enough jelly beans to bring the weight to 2 pounds. Then, they added enough brownies to cause the weight to triple. Next, they added another 2 pounds of jelly beans. And finally, they added enough gummy worms to double the weight once again. What was the final weight of the box of goodies, in pounds?', 'result': '16', 'template_name': 7, 'idx': 59}]\n",
      "\n",
      "[{'problem': 'Jenna Gaines is applying for a new job and bought a new set of business clothes to wear to the interview. They went to a department store with a budget of $200 and spent $30 on a button-up shirt, $46 on suit pants, $38 on a suit coat, $11 on socks, and $18 on a belt.They also purcahsed a pair of shoes, but lost the receipt for them. They have $16 left from their budget. How much did Jenna Gaines pay for the shoes?', 'result': '41', 'template_name': 8, 'idx': 70}, {'problem': 'Jt Gumbs is applying for a new job and bought a new set of business clothes to wear to the interview. They went to a department store with a budget of $200 and spent $30 on a button-up shirt, $46 on suit pants, $38 on a suit coat, $11 on socks, and $18 on a belt.They also purcahsed a pair of shoes, but lost the receipt for them. They have $16 left from their budget. How much did Jt Gumbs pay for the shoes?', 'result': '41', 'template_name': 8, 'idx': 63}, {'problem': 'Esmeralda Coulter is applying for a new job and bought a new set of business clothes to wear to the interview. They went to a department store with a budget of $200 and spent $30 on a button-up shirt, $46 on suit pants, $38 on a suit coat, $11 on socks, and $18 on a belt.They also purcahsed a pair of shoes, but lost the receipt for them. They have $16 left from their budget. How much did Esmeralda Coulter pay for the shoes?', 'result': '41', 'template_name': 8, 'idx': 87}, {'problem': 'Ernesto Lung is applying for a new job and bought a new set of business clothes to wear to the interview. They went to a department store with a budget of $200 and spent $30 on a button-up shirt, $46 on suit pants, $38 on a suit coat, $11 on socks, and $18 on a belt.They also purcahsed a pair of shoes, but lost the receipt for them. They have $16 left from their budget. How much did Ernesto Lung pay for the shoes?', 'result': '41', 'template_name': 8, 'idx': 5}, {'problem': 'Ceci Colson is applying for a new job and bought a new set of business clothes to wear to the interview. They went to a department store with a budget of $200 and spent $30 on a button-up shirt, $46 on suit pants, $38 on a suit coat, $11 on socks, and $18 on a belt.They also purcahsed a pair of shoes, but lost the receipt for them. They have $16 left from their budget. How much did Ceci Colson pay for the shoes?', 'result': '41', 'template_name': 8, 'idx': 27}, {'problem': 'Nora Cristobal is applying for a new job and bought a new set of business clothes to wear to the interview. They went to a department store with a budget of $200 and spent $30 on a button-up shirt, $46 on suit pants, $38 on a suit coat, $11 on socks, and $18 on a belt.They also purcahsed a pair of shoes, but lost the receipt for them. They have $16 left from their budget. How much did Nora Cristobal pay for the shoes?', 'result': '41', 'template_name': 8, 'idx': 23}, {'problem': 'Olivia Khatri is applying for a new job and bought a new set of business clothes to wear to the interview. They went to a department store with a budget of $200 and spent $30 on a button-up shirt, $46 on suit pants, $38 on a suit coat, $11 on socks, and $18 on a belt.They also purcahsed a pair of shoes, but lost the receipt for them. They have $16 left from their budget. How much did Olivia Khatri pay for the shoes?', 'result': '41', 'template_name': 8, 'idx': 43}, {'problem': 'Janelle Eddy is applying for a new job and bought a new set of business clothes to wear to the interview. They went to a department store with a budget of $200 and spent $30 on a button-up shirt, $46 on suit pants, $38 on a suit coat, $11 on socks, and $18 on a belt.They also purcahsed a pair of shoes, but lost the receipt for them. They have $16 left from their budget. How much did Janelle Eddy pay for the shoes?', 'result': '41', 'template_name': 8, 'idx': 89}, {'problem': 'Letty Damron is applying for a new job and bought a new set of business clothes to wear to the interview. They went to a department store with a budget of $200 and spent $30 on a button-up shirt, $46 on suit pants, $38 on a suit coat, $11 on socks, and $18 on a belt.They also purcahsed a pair of shoes, but lost the receipt for them. They have $16 left from their budget. How much did Letty Damron pay for the shoes?', 'result': '41', 'template_name': 8, 'idx': 59}, {'problem': 'Colin Sung is applying for a new job and bought a new set of business clothes to wear to the interview. They went to a department store with a budget of $200 and spent $30 on a button-up shirt, $46 on suit pants, $38 on a suit coat, $11 on socks, and $18 on a belt.They also purcahsed a pair of shoes, but lost the receipt for them. They have $16 left from their budget. How much did Colin Sung pay for the shoes?', 'result': '41', 'template_name': 8, 'idx': 18}]\n",
      "\n",
      "[{'problem': 'Josh Joaquin makes $18 an hour. If they work more than 8 hours per shift, they are eligible for overtime, which is paid by your hourly wage + 1/2 your hourly wage. If they work 10 hours every day for 5 days, how much money do they make?', 'result': '990.0', 'template_name': 9, 'idx': 1}, {'problem': 'Alana Tan makes $18 an hour. If they work more than 8 hours per shift, they are eligible for overtime, which is paid by your hourly wage + 1/2 your hourly wage. If they work 10 hours every day for 5 days, how much money do they make?', 'result': '990.0', 'template_name': 9, 'idx': 24}, {'problem': 'Ty Ru makes $18 an hour. If they work more than 8 hours per shift, they are eligible for overtime, which is paid by your hourly wage + 1/2 your hourly wage. If they work 10 hours every day for 5 days, how much money do they make?', 'result': '990.0', 'template_name': 9, 'idx': 38}, {'problem': 'Colin Sung makes $18 an hour. If they work more than 8 hours per shift, they are eligible for overtime, which is paid by your hourly wage + 1/2 your hourly wage. If they work 10 hours every day for 5 days, how much money do they make?', 'result': '990.0', 'template_name': 9, 'idx': 18}, {'problem': 'Irma Li makes $18 an hour. If they work more than 8 hours per shift, they are eligible for overtime, which is paid by your hourly wage + 1/2 your hourly wage. If they work 10 hours every day for 5 days, how much money do they make?', 'result': '990.0', 'template_name': 9, 'idx': 74}, {'problem': 'Greg Kellogg makes $18 an hour. If they work more than 8 hours per shift, they are eligible for overtime, which is paid by your hourly wage + 1/2 your hourly wage. If they work 10 hours every day for 5 days, how much money do they make?', 'result': '990.0', 'template_name': 9, 'idx': 32}, {'problem': 'Letty Damron makes $18 an hour. If they work more than 8 hours per shift, they are eligible for overtime, which is paid by your hourly wage + 1/2 your hourly wage. If they work 10 hours every day for 5 days, how much money do they make?', 'result': '990.0', 'template_name': 9, 'idx': 59}, {'problem': 'Maddie Dalessandro makes $18 an hour. If they work more than 8 hours per shift, they are eligible for overtime, which is paid by your hourly wage + 1/2 your hourly wage. If they work 10 hours every day for 5 days, how much money do they make?', 'result': '990.0', 'template_name': 9, 'idx': 16}, {'problem': 'Lorenzo Wynn makes $18 an hour. If they work more than 8 hours per shift, they are eligible for overtime, which is paid by your hourly wage + 1/2 your hourly wage. If they work 10 hours every day for 5 days, how much money do they make?', 'result': '990.0', 'template_name': 9, 'idx': 3}, {'problem': 'Hanna Cantor makes $18 an hour. If they work more than 8 hours per shift, they are eligible for overtime, which is paid by your hourly wage + 1/2 your hourly wage. If they work 10 hours every day for 5 days, how much money do they make?', 'result': '990.0', 'template_name': 9, 'idx': 77}]\n",
      "\n",
      "[{'problem': 'Baltazar Calel is buying a new pair of shoes that costs $95. They have been saving up their money each month for the past 3 months. They get a $5 allowance a month. They also mow lawns and shovel driveways. They charge $15 to mow a lawn and $7 to shovel. After buying the shoes, they have $15 in change. If they mow 4 lawns, how many driveways did they shovel?', 'result': '5', 'template_name': 11, 'idx': 37}, {'problem': 'Megan Jester is buying a new pair of shoes that costs $95. They have been saving up their money each month for the past 3 months. They get a $5 allowance a month. They also mow lawns and shovel driveways. They charge $15 to mow a lawn and $7 to shovel. After buying the shoes, they have $15 in change. If they mow 4 lawns, how many driveways did they shovel?', 'result': '5', 'template_name': 11, 'idx': 65}, {'problem': 'Luke Banegas is buying a new pair of shoes that costs $95. They have been saving up their money each month for the past 3 months. They get a $5 allowance a month. They also mow lawns and shovel driveways. They charge $15 to mow a lawn and $7 to shovel. After buying the shoes, they have $15 in change. If they mow 4 lawns, how many driveways did they shovel?', 'result': '5', 'template_name': 11, 'idx': 20}, {'problem': 'Selina Bean is buying a new pair of shoes that costs $95. They have been saving up their money each month for the past 3 months. They get a $5 allowance a month. They also mow lawns and shovel driveways. They charge $15 to mow a lawn and $7 to shovel. After buying the shoes, they have $15 in change. If they mow 4 lawns, how many driveways did they shovel?', 'result': '5', 'template_name': 11, 'idx': 98}, {'problem': 'Sunny Mcginn is buying a new pair of shoes that costs $95. They have been saving up their money each month for the past 3 months. They get a $5 allowance a month. They also mow lawns and shovel driveways. They charge $15 to mow a lawn and $7 to shovel. After buying the shoes, they have $15 in change. If they mow 4 lawns, how many driveways did they shovel?', 'result': '5', 'template_name': 11, 'idx': 11}, {'problem': 'Saad Schwartz is buying a new pair of shoes that costs $95. They have been saving up their money each month for the past 3 months. They get a $5 allowance a month. They also mow lawns and shovel driveways. They charge $15 to mow a lawn and $7 to shovel. After buying the shoes, they have $15 in change. If they mow 4 lawns, how many driveways did they shovel?', 'result': '5', 'template_name': 11, 'idx': 6}, {'problem': 'Irma Li is buying a new pair of shoes that costs $95. They have been saving up their money each month for the past 3 months. They get a $5 allowance a month. They also mow lawns and shovel driveways. They charge $15 to mow a lawn and $7 to shovel. After buying the shoes, they have $15 in change. If they mow 4 lawns, how many driveways did they shovel?', 'result': '5', 'template_name': 11, 'idx': 74}, {'problem': 'German Redondo is buying a new pair of shoes that costs $95. They have been saving up their money each month for the past 3 months. They get a $5 allowance a month. They also mow lawns and shovel driveways. They charge $15 to mow a lawn and $7 to shovel. After buying the shoes, they have $15 in change. If they mow 4 lawns, how many driveways did they shovel?', 'result': '5', 'template_name': 11, 'idx': 88}, {'problem': 'Irvin Gongora is buying a new pair of shoes that costs $95. They have been saving up their money each month for the past 3 months. They get a $5 allowance a month. They also mow lawns and shovel driveways. They charge $15 to mow a lawn and $7 to shovel. After buying the shoes, they have $15 in change. If they mow 4 lawns, how many driveways did they shovel?', 'result': '5', 'template_name': 11, 'idx': 36}, {'problem': 'Hanna Cantor is buying a new pair of shoes that costs $95. They have been saving up their money each month for the past 3 months. They get a $5 allowance a month. They also mow lawns and shovel driveways. They charge $15 to mow a lawn and $7 to shovel. After buying the shoes, they have $15 in change. If they mow 4 lawns, how many driveways did they shovel?', 'result': '5', 'template_name': 11, 'idx': 77}]\n",
      "\n",
      "[{'problem': 'Serena Binder has 60 mango trees at their farm. They also have 5 less than half as many coconut trees as mango trees. How many items does Serena Binder have on their farm?', 'result': '85', 'template_name': 12, 'idx': 50}, {'problem': 'Zoe Berger has 60 mango trees at their farm. They also have 5 less than half as many coconut trees as mango trees. How many items does Zoe Berger have on their farm?', 'result': '85', 'template_name': 12, 'idx': 31}, {'problem': 'Eden Sanchez has 60 mango trees at their farm. They also have 5 less than half as many coconut trees as mango trees. How many items does Eden Sanchez have on their farm?', 'result': '85', 'template_name': 12, 'idx': 91}, {'problem': 'Frank Morel has 60 mango trees at their farm. They also have 5 less than half as many coconut trees as mango trees. How many items does Frank Morel have on their farm?', 'result': '85', 'template_name': 12, 'idx': 7}, {'problem': 'Megan Jester has 60 mango trees at their farm. They also have 5 less than half as many coconut trees as mango trees. How many items does Megan Jester have on their farm?', 'result': '85', 'template_name': 12, 'idx': 65}, {'problem': 'Lou Arista has 60 mango trees at their farm. They also have 5 less than half as many coconut trees as mango trees. How many items does Lou Arista have on their farm?', 'result': '85', 'template_name': 12, 'idx': 61}, {'problem': 'Homero Vargas has 60 mango trees at their farm. They also have 5 less than half as many coconut trees as mango trees. How many items does Homero Vargas have on their farm?', 'result': '85', 'template_name': 12, 'idx': 81}, {'problem': 'Marilu Laing has 60 mango trees at their farm. They also have 5 less than half as many coconut trees as mango trees. How many items does Marilu Laing have on their farm?', 'result': '85', 'template_name': 12, 'idx': 95}, {'problem': 'German Shafer has 60 mango trees at their farm. They also have 5 less than half as many coconut trees as mango trees. How many items does German Shafer have on their farm?', 'result': '85', 'template_name': 12, 'idx': 68}, {'problem': 'Ty Ru has 60 mango trees at their farm. They also have 5 less than half as many coconut trees as mango trees. How many items does Ty Ru have on their farm?', 'result': '85', 'template_name': 12, 'idx': 38}]\n",
      "\n",
      "[{'problem': 'Kenia Partridge will serve charcuterie at their dinner party. They buy 2 pounds of cheddar cheese for $10, a pound of cream cheese that cost half the price of the cheddar cheese, and a pack of cold cuts that cost twice the price of the cheddar cheese. How much does Kenia Partridge spend on the ingredients?', 'result': '35', 'template_name': 13, 'idx': 78}, {'problem': 'Ceci Colson will serve charcuterie at their dinner party. They buy 2 pounds of cheddar cheese for $10, a pound of cream cheese that cost half the price of the cheddar cheese, and a pack of cold cuts that cost twice the price of the cheddar cheese. How much does Ceci Colson spend on the ingredients?', 'result': '35', 'template_name': 13, 'idx': 27}, {'problem': 'Frank Morel will serve charcuterie at their dinner party. They buy 2 pounds of cheddar cheese for $10, a pound of cream cheese that cost half the price of the cheddar cheese, and a pack of cold cuts that cost twice the price of the cheddar cheese. How much does Frank Morel spend on the ingredients?', 'result': '35', 'template_name': 13, 'idx': 7}, {'problem': 'Monica Georges will serve charcuterie at their dinner party. They buy 2 pounds of cheddar cheese for $10, a pound of cream cheese that cost half the price of the cheddar cheese, and a pack of cold cuts that cost twice the price of the cheddar cheese. How much does Monica Georges spend on the ingredients?', 'result': '35', 'template_name': 13, 'idx': 83}, {'problem': 'German Redondo will serve charcuterie at their dinner party. They buy 2 pounds of cheddar cheese for $10, a pound of cream cheese that cost half the price of the cheddar cheese, and a pack of cold cuts that cost twice the price of the cheddar cheese. How much does German Redondo spend on the ingredients?', 'result': '35', 'template_name': 13, 'idx': 88}, {'problem': 'Elba De Guzman will serve charcuterie at their dinner party. They buy 2 pounds of cheddar cheese for $10, a pound of cream cheese that cost half the price of the cheddar cheese, and a pack of cold cuts that cost twice the price of the cheddar cheese. How much does Elba De Guzman spend on the ingredients?', 'result': '35', 'template_name': 13, 'idx': 85}, {'problem': 'Dennis Jeffrey will serve charcuterie at their dinner party. They buy 2 pounds of cheddar cheese for $10, a pound of cream cheese that cost half the price of the cheddar cheese, and a pack of cold cuts that cost twice the price of the cheddar cheese. How much does Dennis Jeffrey spend on the ingredients?', 'result': '35', 'template_name': 13, 'idx': 52}, {'problem': 'Elliot Juares will serve charcuterie at their dinner party. They buy 2 pounds of cheddar cheese for $10, a pound of cream cheese that cost half the price of the cheddar cheese, and a pack of cold cuts that cost twice the price of the cheddar cheese. How much does Elliot Juares spend on the ingredients?', 'result': '35', 'template_name': 13, 'idx': 17}, {'problem': 'Irvin Simms will serve charcuterie at their dinner party. They buy 2 pounds of cheddar cheese for $10, a pound of cream cheese that cost half the price of the cheddar cheese, and a pack of cold cuts that cost twice the price of the cheddar cheese. How much does Irvin Simms spend on the ingredients?', 'result': '35', 'template_name': 13, 'idx': 21}, {'problem': 'Douglas Newby will serve charcuterie at their dinner party. They buy 2 pounds of cheddar cheese for $10, a pound of cream cheese that cost half the price of the cheddar cheese, and a pack of cold cuts that cost twice the price of the cheddar cheese. How much does Douglas Newby spend on the ingredients?', 'result': '35', 'template_name': 13, 'idx': 79}]\n",
      "\n",
      "[{'problem': 'Paulette Cantero can read 8 pages of a book in 20 minutes. How many hours will it take them to read 120 pages?', 'result': '5', 'template_name': 14, 'idx': 69}, {'problem': 'Emma Lieberman can read 8 pages of a book in 20 minutes. How many hours will it take them to read 120 pages?', 'result': '5', 'template_name': 14, 'idx': 73}, {'problem': 'Colin Sung can read 8 pages of a book in 20 minutes. How many hours will it take them to read 120 pages?', 'result': '5', 'template_name': 14, 'idx': 18}, {'problem': 'Ricky Hinojosa can read 8 pages of a book in 20 minutes. How many hours will it take them to read 120 pages?', 'result': '5', 'template_name': 14, 'idx': 66}, {'problem': 'Homero Vargas can read 8 pages of a book in 20 minutes. How many hours will it take them to read 120 pages?', 'result': '5', 'template_name': 14, 'idx': 81}, {'problem': 'Eden Sanchez can read 8 pages of a book in 20 minutes. How many hours will it take them to read 120 pages?', 'result': '5', 'template_name': 14, 'idx': 91}, {'problem': 'Victoria Tavares can read 8 pages of a book in 20 minutes. How many hours will it take them to read 120 pages?', 'result': '5', 'template_name': 14, 'idx': 84}, {'problem': 'Johnathan Guido can read 8 pages of a book in 20 minutes. How many hours will it take them to read 120 pages?', 'result': '5', 'template_name': 14, 'idx': 2}, {'problem': 'Ernesto Lung can read 8 pages of a book in 20 minutes. How many hours will it take them to read 120 pages?', 'result': '5', 'template_name': 14, 'idx': 5}, {'problem': 'Marisa Yearwood can read 8 pages of a book in 20 minutes. How many hours will it take them to read 120 pages?', 'result': '5', 'template_name': 14, 'idx': 4}]\n",
      "\n",
      "[{'problem': 'Esmeralda Coulter creates a media empire. They create a movie for $2000. Each DVD costs $6 to make. Esmeralda Coulter sells it for 2.5 times that much. They sell 500 movies a day for 5 days a week. How much profit does Esmeralda Coulter make in 20 weeks?', 'result': '448000.0', 'template_name': 15, 'idx': 87}, {'problem': 'German Redondo creates a media empire. They create a movie for $2000. Each DVD costs $6 to make. German Redondo sells it for 2.5 times that much. They sell 500 movies a day for 5 days a week. How much profit does German Redondo make in 20 weeks?', 'result': '448000.0', 'template_name': 15, 'idx': 88}, {'problem': 'Quincy Gutman creates a media empire. They create a movie for $2000. Each DVD costs $6 to make. Quincy Gutman sells it for 2.5 times that much. They sell 500 movies a day for 5 days a week. How much profit does Quincy Gutman make in 20 weeks?', 'result': '448000.0', 'template_name': 15, 'idx': 62}, {'problem': 'Estrella Betancur creates a media empire. They create a movie for $2000. Each DVD costs $6 to make. Estrella Betancur sells it for 2.5 times that much. They sell 500 movies a day for 5 days a week. How much profit does Estrella Betancur make in 20 weeks?', 'result': '448000.0', 'template_name': 15, 'idx': 33}, {'problem': 'Kristopher Papp creates a media empire. They create a movie for $2000. Each DVD costs $6 to make. Kristopher Papp sells it for 2.5 times that much. They sell 500 movies a day for 5 days a week. How much profit does Kristopher Papp make in 20 weeks?', 'result': '448000.0', 'template_name': 15, 'idx': 13}, {'problem': 'Megan Jester creates a media empire. They create a movie for $2000. Each DVD costs $6 to make. Megan Jester sells it for 2.5 times that much. They sell 500 movies a day for 5 days a week. How much profit does Megan Jester make in 20 weeks?', 'result': '448000.0', 'template_name': 15, 'idx': 65}, {'problem': 'Elliot Juares creates a media empire. They create a movie for $2000. Each DVD costs $6 to make. Elliot Juares sells it for 2.5 times that much. They sell 500 movies a day for 5 days a week. How much profit does Elliot Juares make in 20 weeks?', 'result': '448000.0', 'template_name': 15, 'idx': 17}, {'problem': 'Ernesto Lung creates a media empire. They create a movie for $2000. Each DVD costs $6 to make. Ernesto Lung sells it for 2.5 times that much. They sell 500 movies a day for 5 days a week. How much profit does Ernesto Lung make in 20 weeks?', 'result': '448000.0', 'template_name': 15, 'idx': 5}, {'problem': 'Greg Kellogg creates a media empire. They create a movie for $2000. Each DVD costs $6 to make. Greg Kellogg sells it for 2.5 times that much. They sell 500 movies a day for 5 days a week. How much profit does Greg Kellogg make in 20 weeks?', 'result': '448000.0', 'template_name': 15, 'idx': 32}, {'problem': 'Gina Isidoro creates a media empire. They create a movie for $2000. Each DVD costs $6 to make. Gina Isidoro sells it for 2.5 times that much. They sell 500 movies a day for 5 days a week. How much profit does Gina Isidoro make in 20 weeks?', 'result': '448000.0', 'template_name': 15, 'idx': 90}]\n",
      "\n",
      "[{'problem': 'Lizette Labra rides their bike back and forth to work for each of their 5 workdays. Their work is 20 miles away. They also go for a weekend bike ride of 200 miles. If they can bike at 25 mph how much time do they spend biking a week?', 'result': '16', 'template_name': 19, 'idx': 19}, {'problem': 'Selina Bean rides their bike back and forth to work for each of their 5 workdays. Their work is 20 miles away. They also go for a weekend bike ride of 200 miles. If they can bike at 25 mph how much time do they spend biking a week?', 'result': '16', 'template_name': 19, 'idx': 98}, {'problem': 'Irma Li rides their bike back and forth to work for each of their 5 workdays. Their work is 20 miles away. They also go for a weekend bike ride of 200 miles. If they can bike at 25 mph how much time do they spend biking a week?', 'result': '16', 'template_name': 19, 'idx': 74}, {'problem': 'Iris Krantz rides their bike back and forth to work for each of their 5 workdays. Their work is 20 miles away. They also go for a weekend bike ride of 200 miles. If they can bike at 25 mph how much time do they spend biking a week?', 'result': '16', 'template_name': 19, 'idx': 72}, {'problem': 'German Redondo rides their bike back and forth to work for each of their 5 workdays. Their work is 20 miles away. They also go for a weekend bike ride of 200 miles. If they can bike at 25 mph how much time do they spend biking a week?', 'result': '16', 'template_name': 19, 'idx': 88}, {'problem': 'Yuri Valdez rides their bike back and forth to work for each of their 5 workdays. Their work is 20 miles away. They also go for a weekend bike ride of 200 miles. If they can bike at 25 mph how much time do they spend biking a week?', 'result': '16', 'template_name': 19, 'idx': 14}, {'problem': 'Theodore Aburto rides their bike back and forth to work for each of their 5 workdays. Their work is 20 miles away. They also go for a weekend bike ride of 200 miles. If they can bike at 25 mph how much time do they spend biking a week?', 'result': '16', 'template_name': 19, 'idx': 51}, {'problem': 'Doris Gooch rides their bike back and forth to work for each of their 5 workdays. Their work is 20 miles away. They also go for a weekend bike ride of 200 miles. If they can bike at 25 mph how much time do they spend biking a week?', 'result': '16', 'template_name': 19, 'idx': 92}, {'problem': 'Mac Slattery rides their bike back and forth to work for each of their 5 workdays. Their work is 20 miles away. They also go for a weekend bike ride of 200 miles. If they can bike at 25 mph how much time do they spend biking a week?', 'result': '16', 'template_name': 19, 'idx': 29}, {'problem': 'Grace Mims rides their bike back and forth to work for each of their 5 workdays. Their work is 20 miles away. They also go for a weekend bike ride of 200 miles. If they can bike at 25 mph how much time do they spend biking a week?', 'result': '16', 'template_name': 19, 'idx': 26}]\n",
      "\n",
      "[{'problem': 'Becca Osborn bought stamps at the post office. Some of the stamps had a snowflake design, some had a truck design, and some had a rose design. Becca Osborn bought 11 snowflake stamps. They bought 9 more truck stamps than snowflake stamps, and 13 fewer rose stamps than truck stamps. How many stamps did Becca Osborn buy in all?', 'result': '38', 'template_name': 20, 'idx': 75}, {'problem': 'Yuri Valdez bought stamps at the post office. Some of the stamps had a snowflake design, some had a truck design, and some had a rose design. Yuri Valdez bought 11 snowflake stamps. They bought 9 more truck stamps than snowflake stamps, and 13 fewer rose stamps than truck stamps. How many stamps did Yuri Valdez buy in all?', 'result': '38', 'template_name': 20, 'idx': 14}, {'problem': 'Collin Parsons bought stamps at the post office. Some of the stamps had a snowflake design, some had a truck design, and some had a rose design. Collin Parsons bought 11 snowflake stamps. They bought 9 more truck stamps than snowflake stamps, and 13 fewer rose stamps than truck stamps. How many stamps did Collin Parsons buy in all?', 'result': '38', 'template_name': 20, 'idx': 96}, {'problem': 'Juliana Sigala bought stamps at the post office. Some of the stamps had a snowflake design, some had a truck design, and some had a rose design. Juliana Sigala bought 11 snowflake stamps. They bought 9 more truck stamps than snowflake stamps, and 13 fewer rose stamps than truck stamps. How many stamps did Juliana Sigala buy in all?', 'result': '38', 'template_name': 20, 'idx': 40}, {'problem': 'Elliot Juares bought stamps at the post office. Some of the stamps had a snowflake design, some had a truck design, and some had a rose design. Elliot Juares bought 11 snowflake stamps. They bought 9 more truck stamps than snowflake stamps, and 13 fewer rose stamps than truck stamps. How many stamps did Elliot Juares buy in all?', 'result': '38', 'template_name': 20, 'idx': 17}, {'problem': 'German Shafer bought stamps at the post office. Some of the stamps had a snowflake design, some had a truck design, and some had a rose design. German Shafer bought 11 snowflake stamps. They bought 9 more truck stamps than snowflake stamps, and 13 fewer rose stamps than truck stamps. How many stamps did German Shafer buy in all?', 'result': '38', 'template_name': 20, 'idx': 68}, {'problem': 'Maddie Dalessandro bought stamps at the post office. Some of the stamps had a snowflake design, some had a truck design, and some had a rose design. Maddie Dalessandro bought 11 snowflake stamps. They bought 9 more truck stamps than snowflake stamps, and 13 fewer rose stamps than truck stamps. How many stamps did Maddie Dalessandro buy in all?', 'result': '38', 'template_name': 20, 'idx': 16}, {'problem': 'Nate Labrada bought stamps at the post office. Some of the stamps had a snowflake design, some had a truck design, and some had a rose design. Nate Labrada bought 11 snowflake stamps. They bought 9 more truck stamps than snowflake stamps, and 13 fewer rose stamps than truck stamps. How many stamps did Nate Labrada buy in all?', 'result': '38', 'template_name': 20, 'idx': 94}, {'problem': 'Kc Otis bought stamps at the post office. Some of the stamps had a snowflake design, some had a truck design, and some had a rose design. Kc Otis bought 11 snowflake stamps. They bought 9 more truck stamps than snowflake stamps, and 13 fewer rose stamps than truck stamps. How many stamps did Kc Otis buy in all?', 'result': '38', 'template_name': 20, 'idx': 71}, {'problem': 'Mac Slattery bought stamps at the post office. Some of the stamps had a snowflake design, some had a truck design, and some had a rose design. Mac Slattery bought 11 snowflake stamps. They bought 9 more truck stamps than snowflake stamps, and 13 fewer rose stamps than truck stamps. How many stamps did Mac Slattery buy in all?', 'result': '38', 'template_name': 20, 'idx': 29}]\n",
      "\n",
      "[{'problem': \"Chelsey Venkatesan's favorite store was having a summer clearance. For $75 they bought 5 pairs of shorts for $7 each and 2 pairs of shoes for $10 each. They also bought 4 tops, all at the same price. How much did each top cost?\", 'result': '5', 'template_name': 23, 'idx': 53}, {'problem': \"Marilu Laing's favorite store was having a summer clearance. For $75 they bought 5 pairs of shorts for $7 each and 2 pairs of shoes for $10 each. They also bought 4 tops, all at the same price. How much did each top cost?\", 'result': '5', 'template_name': 23, 'idx': 95}, {'problem': \"Theodore Aburto's favorite store was having a summer clearance. For $75 they bought 5 pairs of shorts for $7 each and 2 pairs of shoes for $10 each. They also bought 4 tops, all at the same price. How much did each top cost?\", 'result': '5', 'template_name': 23, 'idx': 51}, {'problem': \"Eden Sanchez's favorite store was having a summer clearance. For $75 they bought 5 pairs of shorts for $7 each and 2 pairs of shoes for $10 each. They also bought 4 tops, all at the same price. How much did each top cost?\", 'result': '5', 'template_name': 23, 'idx': 91}, {'problem': \"Kristopher Papp's favorite store was having a summer clearance. For $75 they bought 5 pairs of shorts for $7 each and 2 pairs of shoes for $10 each. They also bought 4 tops, all at the same price. How much did each top cost?\", 'result': '5', 'template_name': 23, 'idx': 13}, {'problem': \"Alana Tan's favorite store was having a summer clearance. For $75 they bought 5 pairs of shorts for $7 each and 2 pairs of shoes for $10 each. They also bought 4 tops, all at the same price. How much did each top cost?\", 'result': '5', 'template_name': 23, 'idx': 24}, {'problem': \"Walter Virginia's favorite store was having a summer clearance. For $75 they bought 5 pairs of shorts for $7 each and 2 pairs of shoes for $10 each. They also bought 4 tops, all at the same price. How much did each top cost?\", 'result': '5', 'template_name': 23, 'idx': 99}, {'problem': \"Lupe Geiger's favorite store was having a summer clearance. For $75 they bought 5 pairs of shorts for $7 each and 2 pairs of shoes for $10 each. They also bought 4 tops, all at the same price. How much did each top cost?\", 'result': '5', 'template_name': 23, 'idx': 30}, {'problem': \"Irvin Gongora's favorite store was having a summer clearance. For $75 they bought 5 pairs of shorts for $7 each and 2 pairs of shoes for $10 each. They also bought 4 tops, all at the same price. How much did each top cost?\", 'result': '5', 'template_name': 23, 'idx': 36}, {'problem': \"Hanna Cantor's favorite store was having a summer clearance. For $75 they bought 5 pairs of shorts for $7 each and 2 pairs of shoes for $10 each. They also bought 4 tops, all at the same price. How much did each top cost?\", 'result': '5', 'template_name': 23, 'idx': 77}]\n",
      "\n",
      "[{'problem': 'Jaqueline Barakat does their grocery shopping on Saturday. They do their shopping only at a specific store where they are allowed a credit of $100, which must be paid in full before their next shopping trip. That week they spent the full credit limit and paid $15 of it on Tuesday and $23 of it on Thursday. How much credit will Jaqueline Barakat need to pay before their next shopping trip?', 'result': '62', 'template_name': 24, 'idx': 82}, {'problem': 'Adam Kidder does their grocery shopping on Saturday. They do their shopping only at a specific store where they are allowed a credit of $100, which must be paid in full before their next shopping trip. That week they spent the full credit limit and paid $15 of it on Tuesday and $23 of it on Thursday. How much credit will Adam Kidder need to pay before their next shopping trip?', 'result': '62', 'template_name': 24, 'idx': 10}, {'problem': 'Alana Tan does their grocery shopping on Saturday. They do their shopping only at a specific store where they are allowed a credit of $100, which must be paid in full before their next shopping trip. That week they spent the full credit limit and paid $15 of it on Tuesday and $23 of it on Thursday. How much credit will Alana Tan need to pay before their next shopping trip?', 'result': '62', 'template_name': 24, 'idx': 24}, {'problem': 'Damaris Mayes does their grocery shopping on Saturday. They do their shopping only at a specific store where they are allowed a credit of $100, which must be paid in full before their next shopping trip. That week they spent the full credit limit and paid $15 of it on Tuesday and $23 of it on Thursday. How much credit will Damaris Mayes need to pay before their next shopping trip?', 'result': '62', 'template_name': 24, 'idx': 15}, {'problem': 'Ernesto Lung does their grocery shopping on Saturday. They do their shopping only at a specific store where they are allowed a credit of $100, which must be paid in full before their next shopping trip. That week they spent the full credit limit and paid $15 of it on Tuesday and $23 of it on Thursday. How much credit will Ernesto Lung need to pay before their next shopping trip?', 'result': '62', 'template_name': 24, 'idx': 5}, {'problem': 'Monica Georges does their grocery shopping on Saturday. They do their shopping only at a specific store where they are allowed a credit of $100, which must be paid in full before their next shopping trip. That week they spent the full credit limit and paid $15 of it on Tuesday and $23 of it on Thursday. How much credit will Monica Georges need to pay before their next shopping trip?', 'result': '62', 'template_name': 24, 'idx': 83}, {'problem': 'Kitty Tina does their grocery shopping on Saturday. They do their shopping only at a specific store where they are allowed a credit of $100, which must be paid in full before their next shopping trip. That week they spent the full credit limit and paid $15 of it on Tuesday and $23 of it on Thursday. How much credit will Kitty Tina need to pay before their next shopping trip?', 'result': '62', 'template_name': 24, 'idx': 54}, {'problem': 'German Shafer does their grocery shopping on Saturday. They do their shopping only at a specific store where they are allowed a credit of $100, which must be paid in full before their next shopping trip. That week they spent the full credit limit and paid $15 of it on Tuesday and $23 of it on Thursday. How much credit will German Shafer need to pay before their next shopping trip?', 'result': '62', 'template_name': 24, 'idx': 68}, {'problem': 'Irvin Gongora does their grocery shopping on Saturday. They do their shopping only at a specific store where they are allowed a credit of $100, which must be paid in full before their next shopping trip. That week they spent the full credit limit and paid $15 of it on Tuesday and $23 of it on Thursday. How much credit will Irvin Gongora need to pay before their next shopping trip?', 'result': '62', 'template_name': 24, 'idx': 36}, {'problem': 'Hanna Cantor does their grocery shopping on Saturday. They do their shopping only at a specific store where they are allowed a credit of $100, which must be paid in full before their next shopping trip. That week they spent the full credit limit and paid $15 of it on Tuesday and $23 of it on Thursday. How much credit will Hanna Cantor need to pay before their next shopping trip?', 'result': '62', 'template_name': 24, 'idx': 77}]\n",
      "\n",
      "[{'problem': 'Walter Virginia is going to practice playing tennis with a tennis ball machine that shoots out tennis balls for Walter Virginia to hit. They load up the machine with 175 tennis balls to start with. Out of the first 100 balls, they manage to hit 2/5 of them. Of the next 75 tennis balls, they manage to hit 1/3 of them. Out of all the tennis balls, how many did Walter Virginia not hit?', 'result': '110', 'template_name': 25, 'idx': 99}, {'problem': 'Colin Sung is going to practice playing tennis with a tennis ball machine that shoots out tennis balls for Colin Sung to hit. They load up the machine with 175 tennis balls to start with. Out of the first 100 balls, they manage to hit 2/5 of them. Of the next 75 tennis balls, they manage to hit 1/3 of them. Out of all the tennis balls, how many did Colin Sung not hit?', 'result': '110', 'template_name': 25, 'idx': 18}, {'problem': 'Janelle Eddy is going to practice playing tennis with a tennis ball machine that shoots out tennis balls for Janelle Eddy to hit. They load up the machine with 175 tennis balls to start with. Out of the first 100 balls, they manage to hit 2/5 of them. Of the next 75 tennis balls, they manage to hit 1/3 of them. Out of all the tennis balls, how many did Janelle Eddy not hit?', 'result': '110', 'template_name': 25, 'idx': 89}, {'problem': 'Iris Krantz is going to practice playing tennis with a tennis ball machine that shoots out tennis balls for Iris Krantz to hit. They load up the machine with 175 tennis balls to start with. Out of the first 100 balls, they manage to hit 2/5 of them. Of the next 75 tennis balls, they manage to hit 1/3 of them. Out of all the tennis balls, how many did Iris Krantz not hit?', 'result': '110', 'template_name': 25, 'idx': 72}, {'problem': 'Tariq Cordoba is going to practice playing tennis with a tennis ball machine that shoots out tennis balls for Tariq Cordoba to hit. They load up the machine with 175 tennis balls to start with. Out of the first 100 balls, they manage to hit 2/5 of them. Of the next 75 tennis balls, they manage to hit 1/3 of them. Out of all the tennis balls, how many did Tariq Cordoba not hit?', 'result': '110', 'template_name': 25, 'idx': 80}, {'problem': 'Victoria Tavares is going to practice playing tennis with a tennis ball machine that shoots out tennis balls for Victoria Tavares to hit. They load up the machine with 175 tennis balls to start with. Out of the first 100 balls, they manage to hit 2/5 of them. Of the next 75 tennis balls, they manage to hit 1/3 of them. Out of all the tennis balls, how many did Victoria Tavares not hit?', 'result': '110', 'template_name': 25, 'idx': 84}, {'problem': 'Paulette Cantero is going to practice playing tennis with a tennis ball machine that shoots out tennis balls for Paulette Cantero to hit. They load up the machine with 175 tennis balls to start with. Out of the first 100 balls, they manage to hit 2/5 of them. Of the next 75 tennis balls, they manage to hit 1/3 of them. Out of all the tennis balls, how many did Paulette Cantero not hit?', 'result': '110', 'template_name': 25, 'idx': 69}, {'problem': 'Shana Rincon is going to practice playing tennis with a tennis ball machine that shoots out tennis balls for Shana Rincon to hit. They load up the machine with 175 tennis balls to start with. Out of the first 100 balls, they manage to hit 2/5 of them. Of the next 75 tennis balls, they manage to hit 1/3 of them. Out of all the tennis balls, how many did Shana Rincon not hit?', 'result': '110', 'template_name': 25, 'idx': 48}, {'problem': 'Theodore Aburto is going to practice playing tennis with a tennis ball machine that shoots out tennis balls for Theodore Aburto to hit. They load up the machine with 175 tennis balls to start with. Out of the first 100 balls, they manage to hit 2/5 of them. Of the next 75 tennis balls, they manage to hit 1/3 of them. Out of all the tennis balls, how many did Theodore Aburto not hit?', 'result': '110', 'template_name': 25, 'idx': 51}, {'problem': 'Zoe Berger is going to practice playing tennis with a tennis ball machine that shoots out tennis balls for Zoe Berger to hit. They load up the machine with 175 tennis balls to start with. Out of the first 100 balls, they manage to hit 2/5 of them. Of the next 75 tennis balls, they manage to hit 1/3 of them. Out of all the tennis balls, how many did Zoe Berger not hit?', 'result': '110', 'template_name': 25, 'idx': 31}]\n",
      "\n",
      "\n",
      "20\n",
      "[0, 1, 2, 3, 4, 5, 6, 7, 8, 9, 11, 12, 13, 14, 15, 19, 20, 23, 24, 25]\n"
     ]
    }
   ],
   "source": [
    "import os\n",
    "import random\n",
    "import json\n",
    "import re\n",
    "\n",
    "random.seed(56)\n",
    "\n",
    "ablated_dataset = []\n",
    "q_indices = []\n",
    "folder_path = \"gsm_template/output\"\n",
    "\n",
    "files = os.listdir(folder_path)\n",
    "sorted_files = sorted(files, key=lambda x: int(x.split('--')[0][1:]))\n",
    "\n",
    "print(sorted_files)\n",
    "print()\n",
    "\n",
    "for file_name in sorted_files:\n",
    "    f_path = os.path.join(folder_path, file_name)\n",
    "\n",
    "    match = re.search(r'\\d+', f_path)\n",
    "    num = match.group(0)\n",
    "    q_indices.append(int(num))\n",
    "\n",
    "    with open(f_path, 'r') as f:\n",
    "        lines = f.readlines()\n",
    "\n",
    "    random_lines = random.sample([json.loads(item.strip()) for item in lines], min(10, len(lines)))\n",
    "    print(random_lines)\n",
    "    print()\n",
    "\n",
    "    ablated_dataset.append(random_lines)\n",
    "\n",
    "print()\n",
    "print(len(ablated_dataset))\n",
    "print(q_indices)\n"
   ]
  },
  {
   "cell_type": "markdown",
   "metadata": {},
   "source": [
    "We will use the following system prompt"
   ]
  },
  {
   "cell_type": "code",
   "execution_count": 36,
   "metadata": {},
   "outputs": [],
   "source": [
    "system_prompt= \\\n",
    "'''You are an expert math tutor specializing in grade-school-level problems like those in the GSM8K dataset. \n",
    "Solve each problem step by step, explaining the reasoning and calculations clearly and concisely to help the student understand the process. \n",
    "Please return your final answer after the delimiter \\\"####\\\" as a numeric number'''"
   ]
  },
  {
   "cell_type": "markdown",
   "metadata": {},
   "source": [
    "We can answer from gpt api using fewshots in context learning and system prompt"
   ]
  },
  {
   "cell_type": "code",
   "execution_count": 37,
   "metadata": {},
   "outputs": [],
   "source": [
    "import re\n",
    "\n",
    "def extract_ans_from_response(answer: str, eos=None):\n",
    "    if eos:\n",
    "        answer = answer.split(eos)[0].strip()\n",
    "\n",
    "    answer = answer.split('####')\n",
    "    \n",
    "    if len(answer) > 2:\n",
    "        answer = answer[-2].strip()\n",
    "    elif len(answer) == 2:\n",
    "        answer = answer[-1].strip()\n",
    "    else:\n",
    "        answer = \"NA\"\n",
    "\n",
    "    if isinstance(answer, str):\n",
    "        for remove_char in [',', '$', '%', 'g']:\n",
    "            answer = answer.replace(remove_char, '')\n",
    "\n",
    "    try:\n",
    "        return int(answer)\n",
    "    except ValueError:\n",
    "        return answer\n",
    "\n",
    "# def extract_ans_from_response(answer: str, eos=None):\n",
    "#     if eos:\n",
    "#         answer = answer.split(eos)[0].strip()\n",
    "\n",
    "#     answer = answer.split('####')[-1].strip()\n",
    "\n",
    "#     for remove_char in [',', '$', '%', 'g']:\n",
    "#         answer = answer.replace(remove_char, '')\n",
    "\n",
    "#     try:\n",
    "#         return int(answer)\n",
    "#     except ValueError:\n",
    "#         return answer\n",
    "\n",
    "# def get_num_answer(text):\n",
    "#     num_matches = re.findall(r'\\d+\\.?\\d*', text)\n",
    "\n",
    "#     if not num_matches:\n",
    "#         return None\n",
    "    \n",
    "#     final_answer = num_matches[-1]\n",
    "\n",
    "#     return final_answer\n",
    "\n",
    "# Implement the function answer_from_gpt(question,temperature,num_shots), which should return the gpt answer as a string\n",
    "# (see how it is called in the function evaluate_fewshots below)\n",
    "# temperature is the temperature parameter passed to gpt api\n",
    "# if num_shots>0, you should use the first num_shots examples in train_data for in-context learning\n",
    "# Please use the system prompt provided above (see lecture10-gpt.ipynb for examples of system prompt usage)\n",
    "#\n",
    "def answer_from_gpt(question, temperature, num_shots):\n",
    "    example = []\n",
    "\n",
    "    # if num_shots > 0:\n",
    "    #     for i in range(num_shots):\n",
    "    #         curr_ex = train_data[i]\n",
    "    #         example.append({\"role\": \"user\", \"content\": curr_ex['question']})\n",
    "    #         example.append({\"role\": \"assistant\", \"content\": curr_ex['answer']})\n",
    "\n",
    "    full_prompt = system_prompt + \"\\n\" + question\n",
    "    # print(\"Q: \", full_prompt)\n",
    "\n",
    "    messages = generate_gpt_response(prompt=full_prompt, messages=example, temperature=temperature)\n",
    "    answer = messages[-1][\"content\"]\n",
    "    # print(\"A: \", answer)\n",
    "    last_token = extract_ans_from_response(answer)\n",
    "    return last_token"
   ]
  },
  {
   "cell_type": "markdown",
   "metadata": {},
   "source": [
    "Evaluate on a small subset of gsm8k test data"
   ]
  },
  {
   "cell_type": "code",
   "execution_count": 38,
   "metadata": {},
   "outputs": [
    {
     "name": "stdout",
     "output_type": "stream",
     "text": [
      "=== temperature=0 num_shots=0 ===\n",
      "Question  0\n"
     ]
    },
    {
     "name": "stderr",
     "output_type": "stream",
     "text": [
      " 10%|█         | 1/10 [00:01<00:12,  1.35s/it]"
     ]
    },
    {
     "name": "stdout",
     "output_type": "stream",
     "text": [
      "k=0: gpt_answer=72  true_answer=72\n",
      "CORRECT\n"
     ]
    },
    {
     "name": "stderr",
     "output_type": "stream",
     "text": [
      " 20%|██        | 2/10 [00:02<00:10,  1.33s/it]"
     ]
    },
    {
     "name": "stdout",
     "output_type": "stream",
     "text": [
      "k=1: gpt_answer=72  true_answer=72\n",
      "CORRECT\n"
     ]
    },
    {
     "name": "stderr",
     "output_type": "stream",
     "text": [
      " 30%|███       | 3/10 [00:03<00:09,  1.33s/it]"
     ]
    },
    {
     "name": "stdout",
     "output_type": "stream",
     "text": [
      "k=2: gpt_answer=72  true_answer=72\n",
      "CORRECT\n"
     ]
    },
    {
     "name": "stderr",
     "output_type": "stream",
     "text": [
      " 40%|████      | 4/10 [00:05<00:08,  1.45s/it]"
     ]
    },
    {
     "name": "stdout",
     "output_type": "stream",
     "text": [
      "k=3: gpt_answer=72  true_answer=72\n",
      "CORRECT\n"
     ]
    },
    {
     "name": "stderr",
     "output_type": "stream",
     "text": [
      " 50%|█████     | 5/10 [00:06<00:07,  1.41s/it]"
     ]
    },
    {
     "name": "stdout",
     "output_type": "stream",
     "text": [
      "k=4: gpt_answer=72  true_answer=72\n",
      "CORRECT\n"
     ]
    },
    {
     "name": "stderr",
     "output_type": "stream",
     "text": [
      " 60%|██████    | 6/10 [00:08<00:05,  1.35s/it]"
     ]
    },
    {
     "name": "stdout",
     "output_type": "stream",
     "text": [
      "k=5: gpt_answer=72  true_answer=72\n",
      "CORRECT\n"
     ]
    },
    {
     "name": "stderr",
     "output_type": "stream",
     "text": [
      " 70%|███████   | 7/10 [00:09<00:04,  1.41s/it]"
     ]
    },
    {
     "name": "stdout",
     "output_type": "stream",
     "text": [
      "k=6: gpt_answer=72  true_answer=72\n",
      "CORRECT\n"
     ]
    },
    {
     "name": "stderr",
     "output_type": "stream",
     "text": [
      " 80%|████████  | 8/10 [00:11<00:02,  1.41s/it]"
     ]
    },
    {
     "name": "stdout",
     "output_type": "stream",
     "text": [
      "k=7: gpt_answer=72  true_answer=72\n",
      "CORRECT\n"
     ]
    },
    {
     "name": "stderr",
     "output_type": "stream",
     "text": [
      " 90%|█████████ | 9/10 [00:14<00:02,  2.00s/it]"
     ]
    },
    {
     "name": "stdout",
     "output_type": "stream",
     "text": [
      "k=8: gpt_answer=72  true_answer=72\n",
      "CORRECT\n"
     ]
    },
    {
     "name": "stderr",
     "output_type": "stream",
     "text": [
      "100%|██████████| 10/10 [00:15<00:00,  1.56s/it]\n"
     ]
    },
    {
     "name": "stdout",
     "output_type": "stream",
     "text": [
      "k=9: gpt_answer=72  true_answer=72\n",
      "CORRECT\n",
      "accuracy=1.00\n",
      "\n",
      "Question  1\n"
     ]
    },
    {
     "name": "stderr",
     "output_type": "stream",
     "text": [
      " 10%|█         | 1/10 [00:01<00:09,  1.06s/it]"
     ]
    },
    {
     "name": "stdout",
     "output_type": "stream",
     "text": [
      "k=0: gpt_answer=9.9996  true_answer=10\n",
      "INCORRECT\n"
     ]
    },
    {
     "name": "stderr",
     "output_type": "stream",
     "text": [
      " 20%|██        | 2/10 [00:02<00:09,  1.13s/it]"
     ]
    },
    {
     "name": "stdout",
     "output_type": "stream",
     "text": [
      "k=1: gpt_answer=10.  true_answer=10\n",
      "CORRECT\n"
     ]
    },
    {
     "name": "stderr",
     "output_type": "stream",
     "text": [
      " 30%|███       | 3/10 [00:03<00:07,  1.12s/it]"
     ]
    },
    {
     "name": "stdout",
     "output_type": "stream",
     "text": [
      "k=2: gpt_answer=10  true_answer=10\n",
      "CORRECT\n"
     ]
    },
    {
     "name": "stderr",
     "output_type": "stream",
     "text": [
      " 40%|████      | 4/10 [00:04<00:06,  1.05s/it]"
     ]
    },
    {
     "name": "stdout",
     "output_type": "stream",
     "text": [
      "k=3: gpt_answer=10  true_answer=10\n",
      "CORRECT\n"
     ]
    },
    {
     "name": "stderr",
     "output_type": "stream",
     "text": [
      " 50%|█████     | 5/10 [00:05<00:05,  1.12s/it]"
     ]
    },
    {
     "name": "stdout",
     "output_type": "stream",
     "text": [
      "k=4: gpt_answer=9.9996  true_answer=10\n",
      "INCORRECT\n"
     ]
    },
    {
     "name": "stderr",
     "output_type": "stream",
     "text": [
      " 60%|██████    | 6/10 [00:06<00:04,  1.16s/it]"
     ]
    },
    {
     "name": "stdout",
     "output_type": "stream",
     "text": [
      "k=5: gpt_answer=10.0  true_answer=10\n",
      "CORRECT\n"
     ]
    },
    {
     "name": "stderr",
     "output_type": "stream",
     "text": [
      " 70%|███████   | 7/10 [00:08<00:03,  1.27s/it]"
     ]
    },
    {
     "name": "stdout",
     "output_type": "stream",
     "text": [
      "k=6: gpt_answer=10.0  true_answer=10\n",
      "CORRECT\n"
     ]
    },
    {
     "name": "stderr",
     "output_type": "stream",
     "text": [
      " 80%|████████  | 8/10 [00:09<00:02,  1.33s/it]"
     ]
    },
    {
     "name": "stdout",
     "output_type": "stream",
     "text": [
      "k=7: gpt_answer=9.9996  true_answer=10\n",
      "INCORRECT\n"
     ]
    },
    {
     "name": "stderr",
     "output_type": "stream",
     "text": [
      " 90%|█████████ | 9/10 [00:10<00:01,  1.29s/it]"
     ]
    },
    {
     "name": "stdout",
     "output_type": "stream",
     "text": [
      "k=8: gpt_answer=10.  true_answer=10\n",
      "CORRECT\n"
     ]
    },
    {
     "name": "stderr",
     "output_type": "stream",
     "text": [
      "100%|██████████| 10/10 [00:12<00:00,  1.24s/it]\n"
     ]
    },
    {
     "name": "stdout",
     "output_type": "stream",
     "text": [
      "k=9: gpt_answer=10.00  true_answer=10\n",
      "CORRECT\n",
      "accuracy=0.70\n",
      "\n",
      "Question  2\n"
     ]
    },
    {
     "name": "stderr",
     "output_type": "stream",
     "text": [
      " 10%|█         | 1/10 [00:01<00:11,  1.31s/it]"
     ]
    },
    {
     "name": "stdout",
     "output_type": "stream",
     "text": [
      "k=0: gpt_answer=5  true_answer=5.0\n",
      "CORRECT\n"
     ]
    },
    {
     "name": "stderr",
     "output_type": "stream",
     "text": [
      " 20%|██        | 2/10 [00:03<00:12,  1.58s/it]"
     ]
    },
    {
     "name": "stdout",
     "output_type": "stream",
     "text": [
      "k=1: gpt_answer=5  true_answer=5.0\n",
      "CORRECT\n"
     ]
    },
    {
     "name": "stderr",
     "output_type": "stream",
     "text": [
      " 30%|███       | 3/10 [00:04<00:10,  1.46s/it]"
     ]
    },
    {
     "name": "stdout",
     "output_type": "stream",
     "text": [
      "k=2: gpt_answer=5  true_answer=5.0\n",
      "CORRECT\n"
     ]
    },
    {
     "name": "stderr",
     "output_type": "stream",
     "text": [
      " 40%|████      | 4/10 [00:05<00:08,  1.44s/it]"
     ]
    },
    {
     "name": "stdout",
     "output_type": "stream",
     "text": [
      "k=3: gpt_answer=5  true_answer=5.0\n",
      "CORRECT\n"
     ]
    },
    {
     "name": "stderr",
     "output_type": "stream",
     "text": [
      " 50%|█████     | 5/10 [00:07<00:07,  1.45s/it]"
     ]
    },
    {
     "name": "stdout",
     "output_type": "stream",
     "text": [
      "k=4: gpt_answer=5.  true_answer=5.0\n",
      "CORRECT\n"
     ]
    },
    {
     "name": "stderr",
     "output_type": "stream",
     "text": [
      " 60%|██████    | 6/10 [00:08<00:05,  1.41s/it]"
     ]
    },
    {
     "name": "stdout",
     "output_type": "stream",
     "text": [
      "k=5: gpt_answer=5  true_answer=5.0\n",
      "CORRECT\n"
     ]
    },
    {
     "name": "stderr",
     "output_type": "stream",
     "text": [
      " 70%|███████   | 7/10 [00:10<00:04,  1.48s/it]"
     ]
    },
    {
     "name": "stdout",
     "output_type": "stream",
     "text": [
      "k=6: gpt_answer=5  true_answer=5.0\n",
      "CORRECT\n"
     ]
    },
    {
     "name": "stderr",
     "output_type": "stream",
     "text": [
      " 80%|████████  | 8/10 [00:11<00:02,  1.46s/it]"
     ]
    },
    {
     "name": "stdout",
     "output_type": "stream",
     "text": [
      "k=7: gpt_answer=5  true_answer=5.0\n",
      "CORRECT\n"
     ]
    },
    {
     "name": "stderr",
     "output_type": "stream",
     "text": [
      " 90%|█████████ | 9/10 [00:13<00:01,  1.47s/it]"
     ]
    },
    {
     "name": "stdout",
     "output_type": "stream",
     "text": [
      "k=8: gpt_answer=5  true_answer=5.0\n",
      "CORRECT\n"
     ]
    },
    {
     "name": "stderr",
     "output_type": "stream",
     "text": [
      "100%|██████████| 10/10 [00:14<00:00,  1.45s/it]\n"
     ]
    },
    {
     "name": "stdout",
     "output_type": "stream",
     "text": [
      "k=9: gpt_answer=5  true_answer=5.0\n",
      "CORRECT\n",
      "accuracy=1.00\n",
      "\n",
      "Question  3\n"
     ]
    },
    {
     "name": "stderr",
     "output_type": "stream",
     "text": [
      " 10%|█         | 1/10 [00:00<00:08,  1.03it/s]"
     ]
    },
    {
     "name": "stdout",
     "output_type": "stream",
     "text": [
      "k=0: gpt_answer=42  true_answer=42\n",
      "CORRECT\n"
     ]
    },
    {
     "name": "stderr",
     "output_type": "stream",
     "text": [
      " 20%|██        | 2/10 [00:02<00:08,  1.07s/it]"
     ]
    },
    {
     "name": "stdout",
     "output_type": "stream",
     "text": [
      "k=1: gpt_answer=42  true_answer=42\n",
      "CORRECT\n"
     ]
    },
    {
     "name": "stderr",
     "output_type": "stream",
     "text": [
      " 30%|███       | 3/10 [00:03<00:07,  1.00s/it]"
     ]
    },
    {
     "name": "stdout",
     "output_type": "stream",
     "text": [
      "k=2: gpt_answer=42  true_answer=42\n",
      "CORRECT\n"
     ]
    },
    {
     "name": "stderr",
     "output_type": "stream",
     "text": [
      " 40%|████      | 4/10 [00:04<00:06,  1.09s/it]"
     ]
    },
    {
     "name": "stdout",
     "output_type": "stream",
     "text": [
      "k=3: gpt_answer=42  true_answer=42\n",
      "CORRECT\n"
     ]
    },
    {
     "name": "stderr",
     "output_type": "stream",
     "text": [
      " 50%|█████     | 5/10 [00:05<00:05,  1.02s/it]"
     ]
    },
    {
     "name": "stdout",
     "output_type": "stream",
     "text": [
      "k=4: gpt_answer=42  true_answer=42\n",
      "CORRECT\n"
     ]
    },
    {
     "name": "stderr",
     "output_type": "stream",
     "text": [
      " 60%|██████    | 6/10 [00:06<00:03,  1.00it/s]"
     ]
    },
    {
     "name": "stdout",
     "output_type": "stream",
     "text": [
      "k=5: gpt_answer=42  true_answer=42\n",
      "CORRECT\n"
     ]
    },
    {
     "name": "stderr",
     "output_type": "stream",
     "text": [
      " 70%|███████   | 7/10 [00:07<00:02,  1.03it/s]"
     ]
    },
    {
     "name": "stdout",
     "output_type": "stream",
     "text": [
      "k=6: gpt_answer=42  true_answer=42\n",
      "CORRECT\n"
     ]
    },
    {
     "name": "stderr",
     "output_type": "stream",
     "text": [
      " 80%|████████  | 8/10 [00:07<00:01,  1.05it/s]"
     ]
    },
    {
     "name": "stdout",
     "output_type": "stream",
     "text": [
      "k=7: gpt_answer=42  true_answer=42\n",
      "CORRECT\n"
     ]
    },
    {
     "name": "stderr",
     "output_type": "stream",
     "text": [
      " 90%|█████████ | 9/10 [00:09<00:01,  1.00s/it]"
     ]
    },
    {
     "name": "stdout",
     "output_type": "stream",
     "text": [
      "k=8: gpt_answer=42  true_answer=42\n",
      "CORRECT\n"
     ]
    },
    {
     "name": "stderr",
     "output_type": "stream",
     "text": [
      "100%|██████████| 10/10 [00:09<00:00,  1.00it/s]\n"
     ]
    },
    {
     "name": "stdout",
     "output_type": "stream",
     "text": [
      "k=9: gpt_answer=42  true_answer=42\n",
      "CORRECT\n",
      "accuracy=1.00\n",
      "\n",
      "Question  4\n"
     ]
    },
    {
     "name": "stderr",
     "output_type": "stream",
     "text": [
      " 10%|█         | 1/10 [00:03<00:33,  3.67s/it]"
     ]
    },
    {
     "name": "stdout",
     "output_type": "stream",
     "text": [
      "k=0: gpt_answer=624  true_answer=624\n",
      "CORRECT\n"
     ]
    },
    {
     "name": "stderr",
     "output_type": "stream",
     "text": [
      " 20%|██        | 2/10 [00:05<00:18,  2.33s/it]"
     ]
    },
    {
     "name": "stdout",
     "output_type": "stream",
     "text": [
      "k=1: gpt_answer=624  true_answer=624\n",
      "CORRECT\n"
     ]
    },
    {
     "name": "stderr",
     "output_type": "stream",
     "text": [
      " 30%|███       | 3/10 [00:06<00:12,  1.84s/it]"
     ]
    },
    {
     "name": "stdout",
     "output_type": "stream",
     "text": [
      "k=2: gpt_answer=624  true_answer=624\n",
      "CORRECT\n"
     ]
    },
    {
     "name": "stderr",
     "output_type": "stream",
     "text": [
      " 40%|████      | 4/10 [00:07<00:09,  1.54s/it]"
     ]
    },
    {
     "name": "stdout",
     "output_type": "stream",
     "text": [
      "k=3: gpt_answer=312  true_answer=624\n",
      "INCORRECT\n"
     ]
    },
    {
     "name": "stderr",
     "output_type": "stream",
     "text": [
      " 50%|█████     | 5/10 [00:08<00:07,  1.43s/it]"
     ]
    },
    {
     "name": "stdout",
     "output_type": "stream",
     "text": [
      "k=4: gpt_answer=624  true_answer=624\n",
      "CORRECT\n"
     ]
    },
    {
     "name": "stderr",
     "output_type": "stream",
     "text": [
      " 60%|██████    | 6/10 [00:10<00:05,  1.42s/it]"
     ]
    },
    {
     "name": "stdout",
     "output_type": "stream",
     "text": [
      "k=5: gpt_answer=624  true_answer=624\n",
      "CORRECT\n"
     ]
    },
    {
     "name": "stderr",
     "output_type": "stream",
     "text": [
      " 70%|███████   | 7/10 [00:11<00:04,  1.37s/it]"
     ]
    },
    {
     "name": "stdout",
     "output_type": "stream",
     "text": [
      "k=6: gpt_answer=624  true_answer=624\n",
      "CORRECT\n"
     ]
    },
    {
     "name": "stderr",
     "output_type": "stream",
     "text": [
      " 80%|████████  | 8/10 [00:12<00:02,  1.44s/it]"
     ]
    },
    {
     "name": "stdout",
     "output_type": "stream",
     "text": [
      "k=7: gpt_answer=624  true_answer=624\n",
      "CORRECT\n"
     ]
    },
    {
     "name": "stderr",
     "output_type": "stream",
     "text": [
      " 90%|█████████ | 9/10 [00:15<00:01,  1.69s/it]"
     ]
    },
    {
     "name": "stdout",
     "output_type": "stream",
     "text": [
      "k=8: gpt_answer=624  true_answer=624\n",
      "CORRECT\n"
     ]
    },
    {
     "name": "stderr",
     "output_type": "stream",
     "text": [
      "100%|██████████| 10/10 [00:16<00:00,  1.65s/it]\n"
     ]
    },
    {
     "name": "stdout",
     "output_type": "stream",
     "text": [
      "k=9: gpt_answer=624  true_answer=624\n",
      "CORRECT\n",
      "accuracy=0.90\n",
      "\n",
      "Question  5\n"
     ]
    },
    {
     "name": "stderr",
     "output_type": "stream",
     "text": [
      " 10%|█         | 1/10 [00:02<00:18,  2.08s/it]"
     ]
    },
    {
     "name": "stdout",
     "output_type": "stream",
     "text": [
      "k=0: gpt_answer=22  true_answer=35\n",
      "INCORRECT\n"
     ]
    },
    {
     "name": "stderr",
     "output_type": "stream",
     "text": [
      " 20%|██        | 2/10 [00:04<00:18,  2.33s/it]"
     ]
    },
    {
     "name": "stdout",
     "output_type": "stream",
     "text": [
      "k=1: gpt_answer=35  true_answer=35\n",
      "CORRECT\n"
     ]
    },
    {
     "name": "stderr",
     "output_type": "stream",
     "text": [
      " 30%|███       | 3/10 [00:06<00:15,  2.21s/it]"
     ]
    },
    {
     "name": "stdout",
     "output_type": "stream",
     "text": [
      "k=2: gpt_answer=35  true_answer=35\n",
      "CORRECT\n"
     ]
    },
    {
     "name": "stderr",
     "output_type": "stream",
     "text": [
      " 40%|████      | 4/10 [00:08<00:12,  2.10s/it]"
     ]
    },
    {
     "name": "stdout",
     "output_type": "stream",
     "text": [
      "k=3: gpt_answer=35  true_answer=35\n",
      "CORRECT\n"
     ]
    },
    {
     "name": "stderr",
     "output_type": "stream",
     "text": [
      " 50%|█████     | 5/10 [00:10<00:09,  1.99s/it]"
     ]
    },
    {
     "name": "stdout",
     "output_type": "stream",
     "text": [
      "k=4: gpt_answer=35  true_answer=35\n",
      "CORRECT\n"
     ]
    },
    {
     "name": "stderr",
     "output_type": "stream",
     "text": [
      " 60%|██████    | 6/10 [00:12<00:07,  1.94s/it]"
     ]
    },
    {
     "name": "stdout",
     "output_type": "stream",
     "text": [
      "k=5: gpt_answer=35  true_answer=35\n",
      "CORRECT\n"
     ]
    },
    {
     "name": "stderr",
     "output_type": "stream",
     "text": [
      " 70%|███████   | 7/10 [00:14<00:06,  2.01s/it]"
     ]
    },
    {
     "name": "stdout",
     "output_type": "stream",
     "text": [
      "k=6: gpt_answer=35  true_answer=35\n",
      "CORRECT\n"
     ]
    },
    {
     "name": "stderr",
     "output_type": "stream",
     "text": [
      " 80%|████████  | 8/10 [00:16<00:03,  2.00s/it]"
     ]
    },
    {
     "name": "stdout",
     "output_type": "stream",
     "text": [
      "k=7: gpt_answer=22  true_answer=35\n",
      "INCORRECT\n"
     ]
    },
    {
     "name": "stderr",
     "output_type": "stream",
     "text": [
      " 90%|█████████ | 9/10 [00:18<00:01,  1.97s/it]"
     ]
    },
    {
     "name": "stdout",
     "output_type": "stream",
     "text": [
      "k=8: gpt_answer=35  true_answer=35\n",
      "CORRECT\n"
     ]
    },
    {
     "name": "stderr",
     "output_type": "stream",
     "text": [
      "100%|██████████| 10/10 [00:20<00:00,  2.02s/it]\n"
     ]
    },
    {
     "name": "stdout",
     "output_type": "stream",
     "text": [
      "k=9: gpt_answer=35  true_answer=35\n",
      "CORRECT\n",
      "accuracy=0.80\n",
      "\n",
      "Question  6\n"
     ]
    },
    {
     "name": "stderr",
     "output_type": "stream",
     "text": [
      " 10%|█         | 1/10 [00:01<00:10,  1.15s/it]"
     ]
    },
    {
     "name": "stdout",
     "output_type": "stream",
     "text": [
      "k=0: gpt_answer=48  true_answer=48\n",
      "CORRECT\n"
     ]
    },
    {
     "name": "stderr",
     "output_type": "stream",
     "text": [
      " 20%|██        | 2/10 [00:02<00:09,  1.16s/it]"
     ]
    },
    {
     "name": "stdout",
     "output_type": "stream",
     "text": [
      "k=1: gpt_answer=48  true_answer=48\n",
      "CORRECT\n"
     ]
    },
    {
     "name": "stderr",
     "output_type": "stream",
     "text": [
      " 30%|███       | 3/10 [00:04<00:09,  1.42s/it]"
     ]
    },
    {
     "name": "stdout",
     "output_type": "stream",
     "text": [
      "k=2: gpt_answer=48  true_answer=48\n",
      "CORRECT\n"
     ]
    },
    {
     "name": "stderr",
     "output_type": "stream",
     "text": [
      " 40%|████      | 4/10 [00:05<00:07,  1.31s/it]"
     ]
    },
    {
     "name": "stdout",
     "output_type": "stream",
     "text": [
      "k=3: gpt_answer=48  true_answer=48\n",
      "CORRECT\n"
     ]
    },
    {
     "name": "stderr",
     "output_type": "stream",
     "text": [
      " 50%|█████     | 5/10 [00:06<00:06,  1.22s/it]"
     ]
    },
    {
     "name": "stdout",
     "output_type": "stream",
     "text": [
      "k=4: gpt_answer=48  true_answer=48\n",
      "CORRECT\n"
     ]
    },
    {
     "name": "stderr",
     "output_type": "stream",
     "text": [
      " 60%|██████    | 6/10 [00:08<00:05,  1.43s/it]"
     ]
    },
    {
     "name": "stdout",
     "output_type": "stream",
     "text": [
      "k=5: gpt_answer=48  true_answer=48\n",
      "CORRECT\n"
     ]
    },
    {
     "name": "stderr",
     "output_type": "stream",
     "text": [
      " 70%|███████   | 7/10 [00:09<00:04,  1.33s/it]"
     ]
    },
    {
     "name": "stdout",
     "output_type": "stream",
     "text": [
      "k=6: gpt_answer=48  true_answer=48\n",
      "CORRECT\n"
     ]
    },
    {
     "name": "stderr",
     "output_type": "stream",
     "text": [
      " 80%|████████  | 8/10 [00:10<00:02,  1.32s/it]"
     ]
    },
    {
     "name": "stdout",
     "output_type": "stream",
     "text": [
      "k=7: gpt_answer=48  true_answer=48\n",
      "CORRECT\n"
     ]
    },
    {
     "name": "stderr",
     "output_type": "stream",
     "text": [
      " 90%|█████████ | 9/10 [00:11<00:01,  1.26s/it]"
     ]
    },
    {
     "name": "stdout",
     "output_type": "stream",
     "text": [
      "k=8: gpt_answer=48  true_answer=48\n",
      "CORRECT\n"
     ]
    },
    {
     "name": "stderr",
     "output_type": "stream",
     "text": [
      "100%|██████████| 10/10 [00:12<00:00,  1.27s/it]\n"
     ]
    },
    {
     "name": "stdout",
     "output_type": "stream",
     "text": [
      "k=9: gpt_answer=48  true_answer=48\n",
      "CORRECT\n",
      "accuracy=1.00\n",
      "\n",
      "Question  7\n"
     ]
    },
    {
     "name": "stderr",
     "output_type": "stream",
     "text": [
      " 10%|█         | 1/10 [00:01<00:10,  1.20s/it]"
     ]
    },
    {
     "name": "stdout",
     "output_type": "stream",
     "text": [
      "k=0: gpt_answer=16  true_answer=16\n",
      "CORRECT\n"
     ]
    },
    {
     "name": "stderr",
     "output_type": "stream",
     "text": [
      " 20%|██        | 2/10 [00:03<00:12,  1.58s/it]"
     ]
    },
    {
     "name": "stdout",
     "output_type": "stream",
     "text": [
      "k=1: gpt_answer=30  true_answer=16\n",
      "INCORRECT\n"
     ]
    },
    {
     "name": "stderr",
     "output_type": "stream",
     "text": [
      " 30%|███       | 3/10 [00:04<00:10,  1.48s/it]"
     ]
    },
    {
     "name": "stdout",
     "output_type": "stream",
     "text": [
      "k=2: gpt_answer=16  true_answer=16\n",
      "CORRECT\n"
     ]
    },
    {
     "name": "stderr",
     "output_type": "stream",
     "text": [
      " 40%|████      | 4/10 [00:06<00:10,  1.69s/it]"
     ]
    },
    {
     "name": "stdout",
     "output_type": "stream",
     "text": [
      "k=3: gpt_answer=18  true_answer=16\n",
      "INCORRECT\n"
     ]
    },
    {
     "name": "stderr",
     "output_type": "stream",
     "text": [
      " 50%|█████     | 5/10 [00:08<00:09,  1.80s/it]"
     ]
    },
    {
     "name": "stdout",
     "output_type": "stream",
     "text": [
      "k=4: gpt_answer=18  true_answer=16\n",
      "INCORRECT\n"
     ]
    },
    {
     "name": "stderr",
     "output_type": "stream",
     "text": [
      " 60%|██████    | 6/10 [00:10<00:07,  1.87s/it]"
     ]
    },
    {
     "name": "stdout",
     "output_type": "stream",
     "text": [
      "k=5: gpt_answer=30  true_answer=16\n",
      "INCORRECT\n"
     ]
    },
    {
     "name": "stderr",
     "output_type": "stream",
     "text": [
      " 70%|███████   | 7/10 [00:12<00:05,  1.92s/it]"
     ]
    },
    {
     "name": "stdout",
     "output_type": "stream",
     "text": [
      "k=6: gpt_answer=18  true_answer=16\n",
      "INCORRECT\n"
     ]
    },
    {
     "name": "stderr",
     "output_type": "stream",
     "text": [
      " 80%|████████  | 8/10 [00:13<00:03,  1.77s/it]"
     ]
    },
    {
     "name": "stdout",
     "output_type": "stream",
     "text": [
      "k=7: gpt_answer=16  true_answer=16\n",
      "CORRECT\n"
     ]
    },
    {
     "name": "stderr",
     "output_type": "stream",
     "text": [
      " 90%|█████████ | 9/10 [00:15<00:01,  1.83s/it]"
     ]
    },
    {
     "name": "stdout",
     "output_type": "stream",
     "text": [
      "k=8: gpt_answer=18  true_answer=16\n",
      "INCORRECT\n"
     ]
    },
    {
     "name": "stderr",
     "output_type": "stream",
     "text": [
      "100%|██████████| 10/10 [00:18<00:00,  1.82s/it]\n"
     ]
    },
    {
     "name": "stdout",
     "output_type": "stream",
     "text": [
      "k=9: gpt_answer=1.25  true_answer=16\n",
      "INCORRECT\n",
      "accuracy=0.30\n",
      "\n",
      "Question  8\n"
     ]
    },
    {
     "name": "stderr",
     "output_type": "stream",
     "text": [
      " 10%|█         | 1/10 [00:01<00:15,  1.74s/it]"
     ]
    },
    {
     "name": "stdout",
     "output_type": "stream",
     "text": [
      "k=0: gpt_answer=41  true_answer=41\n",
      "CORRECT\n"
     ]
    },
    {
     "name": "stderr",
     "output_type": "stream",
     "text": [
      " 20%|██        | 2/10 [00:03<00:12,  1.60s/it]"
     ]
    },
    {
     "name": "stdout",
     "output_type": "stream",
     "text": [
      "k=1: gpt_answer=41  true_answer=41\n",
      "CORRECT\n"
     ]
    },
    {
     "name": "stderr",
     "output_type": "stream",
     "text": [
      " 30%|███       | 3/10 [00:05<00:12,  1.82s/it]"
     ]
    },
    {
     "name": "stdout",
     "output_type": "stream",
     "text": [
      "k=2: gpt_answer=41.  true_answer=41\n",
      "CORRECT\n"
     ]
    },
    {
     "name": "stderr",
     "output_type": "stream",
     "text": [
      " 40%|████      | 4/10 [00:06<00:10,  1.75s/it]"
     ]
    },
    {
     "name": "stdout",
     "output_type": "stream",
     "text": [
      "k=3: gpt_answer=41.  true_answer=41\n",
      "CORRECT\n"
     ]
    },
    {
     "name": "stderr",
     "output_type": "stream",
     "text": [
      " 50%|█████     | 5/10 [00:08<00:08,  1.70s/it]"
     ]
    },
    {
     "name": "stdout",
     "output_type": "stream",
     "text": [
      "k=4: gpt_answer=41  true_answer=41\n",
      "CORRECT\n"
     ]
    },
    {
     "name": "stderr",
     "output_type": "stream",
     "text": [
      " 60%|██████    | 6/10 [00:10<00:06,  1.67s/it]"
     ]
    },
    {
     "name": "stdout",
     "output_type": "stream",
     "text": [
      "k=5: gpt_answer=41  true_answer=41\n",
      "CORRECT\n"
     ]
    },
    {
     "name": "stderr",
     "output_type": "stream",
     "text": [
      " 70%|███████   | 7/10 [00:11<00:04,  1.58s/it]"
     ]
    },
    {
     "name": "stdout",
     "output_type": "stream",
     "text": [
      "k=6: gpt_answer=57.  true_answer=41\n",
      "INCORRECT\n"
     ]
    },
    {
     "name": "stderr",
     "output_type": "stream",
     "text": [
      " 80%|████████  | 8/10 [00:13<00:03,  1.56s/it]"
     ]
    },
    {
     "name": "stdout",
     "output_type": "stream",
     "text": [
      "k=7: gpt_answer=41  true_answer=41\n",
      "CORRECT\n"
     ]
    },
    {
     "name": "stderr",
     "output_type": "stream",
     "text": [
      " 90%|█████████ | 9/10 [00:14<00:01,  1.43s/it]"
     ]
    },
    {
     "name": "stdout",
     "output_type": "stream",
     "text": [
      "k=8: gpt_answer=41  true_answer=41\n",
      "CORRECT\n"
     ]
    },
    {
     "name": "stderr",
     "output_type": "stream",
     "text": [
      "100%|██████████| 10/10 [00:15<00:00,  1.59s/it]\n"
     ]
    },
    {
     "name": "stdout",
     "output_type": "stream",
     "text": [
      "k=9: gpt_answer=41  true_answer=41\n",
      "CORRECT\n",
      "accuracy=0.90\n",
      "\n",
      "Question  9\n"
     ]
    },
    {
     "name": "stderr",
     "output_type": "stream",
     "text": [
      " 10%|█         | 1/10 [00:01<00:13,  1.47s/it]"
     ]
    },
    {
     "name": "stdout",
     "output_type": "stream",
     "text": [
      "k=0: gpt_answer=990.  true_answer=990.0\n",
      "CORRECT\n"
     ]
    },
    {
     "name": "stderr",
     "output_type": "stream",
     "text": [
      " 20%|██        | 2/10 [00:03<00:14,  1.85s/it]"
     ]
    },
    {
     "name": "stdout",
     "output_type": "stream",
     "text": [
      "k=1: gpt_answer=990  true_answer=990.0\n",
      "CORRECT\n"
     ]
    },
    {
     "name": "stderr",
     "output_type": "stream",
     "text": [
      " 30%|███       | 3/10 [00:05<00:12,  1.82s/it]"
     ]
    },
    {
     "name": "stdout",
     "output_type": "stream",
     "text": [
      "k=2: gpt_answer=990  true_answer=990.0\n",
      "CORRECT\n"
     ]
    },
    {
     "name": "stderr",
     "output_type": "stream",
     "text": [
      " 40%|████      | 4/10 [00:07<00:11,  1.92s/it]"
     ]
    },
    {
     "name": "stdout",
     "output_type": "stream",
     "text": [
      "k=3: gpt_answer=990.00  true_answer=990.0\n",
      "CORRECT\n"
     ]
    },
    {
     "name": "stderr",
     "output_type": "stream",
     "text": [
      " 50%|█████     | 5/10 [00:08<00:08,  1.77s/it]"
     ]
    },
    {
     "name": "stdout",
     "output_type": "stream",
     "text": [
      "k=4: gpt_answer=990  true_answer=990.0\n",
      "CORRECT\n"
     ]
    },
    {
     "name": "stderr",
     "output_type": "stream",
     "text": [
      " 60%|██████    | 6/10 [00:10<00:07,  1.77s/it]"
     ]
    },
    {
     "name": "stdout",
     "output_type": "stream",
     "text": [
      "k=5: gpt_answer=990  true_answer=990.0\n",
      "CORRECT\n"
     ]
    },
    {
     "name": "stderr",
     "output_type": "stream",
     "text": [
      " 70%|███████   | 7/10 [00:12<00:05,  1.70s/it]"
     ]
    },
    {
     "name": "stdout",
     "output_type": "stream",
     "text": [
      "k=6: gpt_answer=990.  true_answer=990.0\n",
      "CORRECT\n"
     ]
    },
    {
     "name": "stderr",
     "output_type": "stream",
     "text": [
      " 80%|████████  | 8/10 [00:13<00:03,  1.63s/it]"
     ]
    },
    {
     "name": "stdout",
     "output_type": "stream",
     "text": [
      "k=7: gpt_answer=990.  true_answer=990.0\n",
      "CORRECT\n"
     ]
    },
    {
     "name": "stderr",
     "output_type": "stream",
     "text": [
      " 90%|█████████ | 9/10 [00:15<00:01,  1.70s/it]"
     ]
    },
    {
     "name": "stdout",
     "output_type": "stream",
     "text": [
      "k=8: gpt_answer=990.  true_answer=990.0\n",
      "CORRECT\n"
     ]
    },
    {
     "name": "stderr",
     "output_type": "stream",
     "text": [
      "100%|██████████| 10/10 [00:17<00:00,  1.72s/it]\n"
     ]
    },
    {
     "name": "stdout",
     "output_type": "stream",
     "text": [
      "k=9: gpt_answer=990  true_answer=990.0\n",
      "CORRECT\n",
      "accuracy=1.00\n",
      "\n",
      "Question  11\n"
     ]
    },
    {
     "name": "stderr",
     "output_type": "stream",
     "text": [
      " 10%|█         | 1/10 [00:01<00:16,  1.84s/it]"
     ]
    },
    {
     "name": "stdout",
     "output_type": "stream",
     "text": [
      "k=0: gpt_answer=5  true_answer=5\n",
      "CORRECT\n"
     ]
    },
    {
     "name": "stderr",
     "output_type": "stream",
     "text": [
      " 20%|██        | 2/10 [00:04<00:17,  2.18s/it]"
     ]
    },
    {
     "name": "stdout",
     "output_type": "stream",
     "text": [
      "k=1: gpt_answer=5  true_answer=5\n",
      "CORRECT\n"
     ]
    },
    {
     "name": "stderr",
     "output_type": "stream",
     "text": [
      " 30%|███       | 3/10 [00:06<00:15,  2.19s/it]"
     ]
    },
    {
     "name": "stdout",
     "output_type": "stream",
     "text": [
      "k=2: gpt_answer=5  true_answer=5\n",
      "CORRECT\n"
     ]
    },
    {
     "name": "stderr",
     "output_type": "stream",
     "text": [
      " 40%|████      | 4/10 [00:09<00:14,  2.35s/it]"
     ]
    },
    {
     "name": "stdout",
     "output_type": "stream",
     "text": [
      "k=3: gpt_answer=2  true_answer=5\n",
      "INCORRECT\n"
     ]
    },
    {
     "name": "stderr",
     "output_type": "stream",
     "text": [
      " 50%|█████     | 5/10 [00:10<00:10,  2.07s/it]"
     ]
    },
    {
     "name": "stdout",
     "output_type": "stream",
     "text": [
      "k=4: gpt_answer=4  true_answer=5\n",
      "INCORRECT\n"
     ]
    },
    {
     "name": "stderr",
     "output_type": "stream",
     "text": [
      " 60%|██████    | 6/10 [00:13<00:08,  2.22s/it]"
     ]
    },
    {
     "name": "stdout",
     "output_type": "stream",
     "text": [
      "k=5: gpt_answer=5  true_answer=5\n",
      "CORRECT\n"
     ]
    },
    {
     "name": "stderr",
     "output_type": "stream",
     "text": [
      " 70%|███████   | 7/10 [00:14<00:05,  1.97s/it]"
     ]
    },
    {
     "name": "stdout",
     "output_type": "stream",
     "text": [
      "k=6: gpt_answer=0  true_answer=5\n",
      "INCORRECT\n"
     ]
    },
    {
     "name": "stderr",
     "output_type": "stream",
     "text": [
      " 80%|████████  | 8/10 [00:16<00:04,  2.08s/it]"
     ]
    },
    {
     "name": "stdout",
     "output_type": "stream",
     "text": [
      "k=7: gpt_answer=0  true_answer=5\n",
      "INCORRECT\n"
     ]
    },
    {
     "name": "stderr",
     "output_type": "stream",
     "text": [
      " 90%|█████████ | 9/10 [00:18<00:01,  1.90s/it]"
     ]
    },
    {
     "name": "stdout",
     "output_type": "stream",
     "text": [
      "k=8: gpt_answer=0  true_answer=5\n",
      "INCORRECT\n"
     ]
    },
    {
     "name": "stderr",
     "output_type": "stream",
     "text": [
      "100%|██████████| 10/10 [00:21<00:00,  2.16s/it]\n"
     ]
    },
    {
     "name": "stdout",
     "output_type": "stream",
     "text": [
      "k=9: gpt_answer=5  true_answer=5\n",
      "CORRECT\n",
      "accuracy=0.50\n",
      "\n",
      "Question  12\n"
     ]
    },
    {
     "name": "stderr",
     "output_type": "stream",
     "text": [
      " 10%|█         | 1/10 [00:01<00:11,  1.23s/it]"
     ]
    },
    {
     "name": "stdout",
     "output_type": "stream",
     "text": [
      "k=0: gpt_answer=85  true_answer=85\n",
      "CORRECT\n"
     ]
    },
    {
     "name": "stderr",
     "output_type": "stream",
     "text": [
      " 20%|██        | 2/10 [00:02<00:08,  1.00s/it]"
     ]
    },
    {
     "name": "stdout",
     "output_type": "stream",
     "text": [
      "k=1: gpt_answer=85  true_answer=85\n",
      "CORRECT\n"
     ]
    },
    {
     "name": "stderr",
     "output_type": "stream",
     "text": [
      " 30%|███       | 3/10 [00:03<00:07,  1.11s/it]"
     ]
    },
    {
     "name": "stdout",
     "output_type": "stream",
     "text": [
      "k=2: gpt_answer=85  true_answer=85\n",
      "CORRECT\n"
     ]
    },
    {
     "name": "stderr",
     "output_type": "stream",
     "text": [
      " 40%|████      | 4/10 [00:04<00:06,  1.12s/it]"
     ]
    },
    {
     "name": "stdout",
     "output_type": "stream",
     "text": [
      "k=3: gpt_answer=85  true_answer=85\n",
      "CORRECT\n"
     ]
    },
    {
     "name": "stderr",
     "output_type": "stream",
     "text": [
      " 50%|█████     | 5/10 [00:05<00:05,  1.18s/it]"
     ]
    },
    {
     "name": "stdout",
     "output_type": "stream",
     "text": [
      "k=4: gpt_answer=85  true_answer=85\n",
      "CORRECT\n"
     ]
    },
    {
     "name": "stderr",
     "output_type": "stream",
     "text": [
      " 60%|██████    | 6/10 [00:06<00:04,  1.13s/it]"
     ]
    },
    {
     "name": "stdout",
     "output_type": "stream",
     "text": [
      "k=5: gpt_answer=85  true_answer=85\n",
      "CORRECT\n"
     ]
    },
    {
     "name": "stderr",
     "output_type": "stream",
     "text": [
      " 70%|███████   | 7/10 [00:08<00:03,  1.19s/it]"
     ]
    },
    {
     "name": "stdout",
     "output_type": "stream",
     "text": [
      "k=6: gpt_answer=85  true_answer=85\n",
      "CORRECT\n"
     ]
    },
    {
     "name": "stderr",
     "output_type": "stream",
     "text": [
      " 80%|████████  | 8/10 [00:09<00:02,  1.16s/it]"
     ]
    },
    {
     "name": "stdout",
     "output_type": "stream",
     "text": [
      "k=7: gpt_answer=85  true_answer=85\n",
      "CORRECT\n"
     ]
    },
    {
     "name": "stderr",
     "output_type": "stream",
     "text": [
      " 90%|█████████ | 9/10 [00:10<00:01,  1.14s/it]"
     ]
    },
    {
     "name": "stdout",
     "output_type": "stream",
     "text": [
      "k=8: gpt_answer=85  true_answer=85\n",
      "CORRECT\n"
     ]
    },
    {
     "name": "stderr",
     "output_type": "stream",
     "text": [
      "100%|██████████| 10/10 [00:11<00:00,  1.13s/it]\n"
     ]
    },
    {
     "name": "stdout",
     "output_type": "stream",
     "text": [
      "k=9: gpt_answer=85  true_answer=85\n",
      "CORRECT\n",
      "accuracy=1.00\n",
      "\n",
      "Question  13\n"
     ]
    },
    {
     "name": "stderr",
     "output_type": "stream",
     "text": [
      " 10%|█         | 1/10 [00:01<00:13,  1.50s/it]"
     ]
    },
    {
     "name": "stdout",
     "output_type": "stream",
     "text": [
      "k=0: gpt_answer=32.50  true_answer=35\n",
      "INCORRECT\n"
     ]
    },
    {
     "name": "stderr",
     "output_type": "stream",
     "text": [
      " 20%|██        | 2/10 [00:03<00:13,  1.68s/it]"
     ]
    },
    {
     "name": "stdout",
     "output_type": "stream",
     "text": [
      "k=1: gpt_answer=32.50  true_answer=35\n",
      "INCORRECT\n"
     ]
    },
    {
     "name": "stderr",
     "output_type": "stream",
     "text": [
      " 30%|███       | 3/10 [00:04<00:10,  1.56s/it]"
     ]
    },
    {
     "name": "stdout",
     "output_type": "stream",
     "text": [
      "k=2: gpt_answer=22.5  true_answer=35\n",
      "INCORRECT\n"
     ]
    },
    {
     "name": "stderr",
     "output_type": "stream",
     "text": [
      " 40%|████      | 4/10 [00:06<00:09,  1.53s/it]"
     ]
    },
    {
     "name": "stdout",
     "output_type": "stream",
     "text": [
      "k=3: gpt_answer=32.50  true_answer=35\n",
      "INCORRECT\n"
     ]
    },
    {
     "name": "stderr",
     "output_type": "stream",
     "text": [
      " 50%|█████     | 5/10 [00:07<00:07,  1.41s/it]"
     ]
    },
    {
     "name": "stdout",
     "output_type": "stream",
     "text": [
      "k=4: gpt_answer=32.50  true_answer=35\n",
      "INCORRECT\n"
     ]
    },
    {
     "name": "stderr",
     "output_type": "stream",
     "text": [
      " 60%|██████    | 6/10 [00:09<00:06,  1.50s/it]"
     ]
    },
    {
     "name": "stdout",
     "output_type": "stream",
     "text": [
      "k=5: gpt_answer=32.50  true_answer=35\n",
      "INCORRECT\n"
     ]
    },
    {
     "name": "stderr",
     "output_type": "stream",
     "text": [
      " 70%|███████   | 7/10 [00:10<00:04,  1.43s/it]"
     ]
    },
    {
     "name": "stdout",
     "output_type": "stream",
     "text": [
      "k=6: gpt_answer=35  true_answer=35\n",
      "CORRECT\n"
     ]
    },
    {
     "name": "stderr",
     "output_type": "stream",
     "text": [
      " 80%|████████  | 8/10 [00:11<00:02,  1.48s/it]"
     ]
    },
    {
     "name": "stdout",
     "output_type": "stream",
     "text": [
      "k=7: gpt_answer=35  true_answer=35\n",
      "CORRECT\n"
     ]
    },
    {
     "name": "stderr",
     "output_type": "stream",
     "text": [
      " 90%|█████████ | 9/10 [00:13<00:01,  1.47s/it]"
     ]
    },
    {
     "name": "stdout",
     "output_type": "stream",
     "text": [
      "k=8: gpt_answer=35  true_answer=35\n",
      "CORRECT\n"
     ]
    },
    {
     "name": "stderr",
     "output_type": "stream",
     "text": [
      "100%|██████████| 10/10 [00:14<00:00,  1.47s/it]\n"
     ]
    },
    {
     "name": "stdout",
     "output_type": "stream",
     "text": [
      "k=9: gpt_answer=32.50  true_answer=35\n",
      "INCORRECT\n",
      "accuracy=0.30\n",
      "\n",
      "Question  14\n"
     ]
    },
    {
     "name": "stderr",
     "output_type": "stream",
     "text": [
      " 10%|█         | 1/10 [00:01<00:11,  1.32s/it]"
     ]
    },
    {
     "name": "stdout",
     "output_type": "stream",
     "text": [
      "k=0: gpt_answer=5  true_answer=5\n",
      "CORRECT\n"
     ]
    },
    {
     "name": "stderr",
     "output_type": "stream",
     "text": [
      " 20%|██        | 2/10 [00:02<00:09,  1.23s/it]"
     ]
    },
    {
     "name": "stdout",
     "output_type": "stream",
     "text": [
      "k=1: gpt_answer=5  true_answer=5\n",
      "CORRECT\n"
     ]
    },
    {
     "name": "stderr",
     "output_type": "stream",
     "text": [
      " 30%|███       | 3/10 [00:04<00:09,  1.37s/it]"
     ]
    },
    {
     "name": "stdout",
     "output_type": "stream",
     "text": [
      "k=2: gpt_answer=5  true_answer=5\n",
      "CORRECT\n"
     ]
    },
    {
     "name": "stderr",
     "output_type": "stream",
     "text": [
      " 40%|████      | 4/10 [00:05<00:08,  1.35s/it]"
     ]
    },
    {
     "name": "stdout",
     "output_type": "stream",
     "text": [
      "k=3: gpt_answer=5  true_answer=5\n",
      "CORRECT\n"
     ]
    },
    {
     "name": "stderr",
     "output_type": "stream",
     "text": [
      " 50%|█████     | 5/10 [00:06<00:06,  1.39s/it]"
     ]
    },
    {
     "name": "stdout",
     "output_type": "stream",
     "text": [
      "k=4: gpt_answer=5  true_answer=5\n",
      "CORRECT\n"
     ]
    },
    {
     "name": "stderr",
     "output_type": "stream",
     "text": [
      " 60%|██████    | 6/10 [00:07<00:05,  1.31s/it]"
     ]
    },
    {
     "name": "stdout",
     "output_type": "stream",
     "text": [
      "k=5: gpt_answer=5  true_answer=5\n",
      "CORRECT\n"
     ]
    },
    {
     "name": "stderr",
     "output_type": "stream",
     "text": [
      " 70%|███████   | 7/10 [00:09<00:03,  1.26s/it]"
     ]
    },
    {
     "name": "stdout",
     "output_type": "stream",
     "text": [
      "k=6: gpt_answer=5.  true_answer=5\n",
      "CORRECT\n"
     ]
    },
    {
     "name": "stderr",
     "output_type": "stream",
     "text": [
      " 80%|████████  | 8/10 [00:10<00:02,  1.30s/it]"
     ]
    },
    {
     "name": "stdout",
     "output_type": "stream",
     "text": [
      "k=7: gpt_answer=5  true_answer=5\n",
      "CORRECT\n"
     ]
    },
    {
     "name": "stderr",
     "output_type": "stream",
     "text": [
      " 90%|█████████ | 9/10 [00:11<00:01,  1.26s/it]"
     ]
    },
    {
     "name": "stdout",
     "output_type": "stream",
     "text": [
      "k=8: gpt_answer=5  true_answer=5\n",
      "CORRECT\n"
     ]
    },
    {
     "name": "stderr",
     "output_type": "stream",
     "text": [
      "100%|██████████| 10/10 [00:13<00:00,  1.32s/it]\n"
     ]
    },
    {
     "name": "stdout",
     "output_type": "stream",
     "text": [
      "k=9: gpt_answer=5  true_answer=5\n",
      "CORRECT\n",
      "accuracy=1.00\n",
      "\n",
      "Question  15\n"
     ]
    },
    {
     "name": "stderr",
     "output_type": "stream",
     "text": [
      " 10%|█         | 1/10 [00:01<00:13,  1.45s/it]"
     ]
    },
    {
     "name": "stdout",
     "output_type": "stream",
     "text": [
      "k=0: gpt_answer=450000.  true_answer=448000.0\n",
      "INCORRECT\n"
     ]
    },
    {
     "name": "stderr",
     "output_type": "stream",
     "text": [
      " 20%|██        | 2/10 [00:03<00:12,  1.56s/it]"
     ]
    },
    {
     "name": "stdout",
     "output_type": "stream",
     "text": [
      "k=1: gpt_answer=450000  true_answer=448000.0\n",
      "INCORRECT\n"
     ]
    },
    {
     "name": "stderr",
     "output_type": "stream",
     "text": [
      " 30%|███       | 3/10 [00:04<00:10,  1.51s/it]"
     ]
    },
    {
     "name": "stdout",
     "output_type": "stream",
     "text": [
      "k=2: gpt_answer=450000.  true_answer=448000.0\n",
      "INCORRECT\n"
     ]
    },
    {
     "name": "stderr",
     "output_type": "stream",
     "text": [
      " 40%|████      | 4/10 [00:05<00:08,  1.48s/it]"
     ]
    },
    {
     "name": "stdout",
     "output_type": "stream",
     "text": [
      "k=3: gpt_answer=450000  true_answer=448000.0\n",
      "INCORRECT\n"
     ]
    },
    {
     "name": "stderr",
     "output_type": "stream",
     "text": [
      " 50%|█████     | 5/10 [00:07<00:08,  1.62s/it]"
     ]
    },
    {
     "name": "stdout",
     "output_type": "stream",
     "text": [
      "k=4: gpt_answer=450000  true_answer=448000.0\n",
      "INCORRECT\n"
     ]
    },
    {
     "name": "stderr",
     "output_type": "stream",
     "text": [
      " 60%|██████    | 6/10 [00:09<00:06,  1.64s/it]"
     ]
    },
    {
     "name": "stdout",
     "output_type": "stream",
     "text": [
      "k=5: gpt_answer=450000.  true_answer=448000.0\n",
      "INCORRECT\n"
     ]
    },
    {
     "name": "stderr",
     "output_type": "stream",
     "text": [
      " 70%|███████   | 7/10 [00:11<00:05,  1.71s/it]"
     ]
    },
    {
     "name": "stdout",
     "output_type": "stream",
     "text": [
      "k=6: gpt_answer=450000  true_answer=448000.0\n",
      "INCORRECT\n"
     ]
    },
    {
     "name": "stderr",
     "output_type": "stream",
     "text": [
      " 80%|████████  | 8/10 [00:12<00:03,  1.66s/it]"
     ]
    },
    {
     "name": "stdout",
     "output_type": "stream",
     "text": [
      "k=7: gpt_answer=450000  true_answer=448000.0\n",
      "INCORRECT\n"
     ]
    },
    {
     "name": "stderr",
     "output_type": "stream",
     "text": [
      " 90%|█████████ | 9/10 [00:14<00:01,  1.63s/it]"
     ]
    },
    {
     "name": "stdout",
     "output_type": "stream",
     "text": [
      "k=8: gpt_answer=450000.  true_answer=448000.0\n",
      "INCORRECT\n"
     ]
    },
    {
     "name": "stderr",
     "output_type": "stream",
     "text": [
      "100%|██████████| 10/10 [00:16<00:00,  1.60s/it]\n"
     ]
    },
    {
     "name": "stdout",
     "output_type": "stream",
     "text": [
      "k=9: gpt_answer=450000.  true_answer=448000.0\n",
      "INCORRECT\n",
      "accuracy=0.00\n",
      "\n",
      "Question  19\n"
     ]
    },
    {
     "name": "stderr",
     "output_type": "stream",
     "text": [
      " 10%|█         | 1/10 [00:01<00:11,  1.26s/it]"
     ]
    },
    {
     "name": "stdout",
     "output_type": "stream",
     "text": [
      "k=0: gpt_answer=16  true_answer=16\n",
      "CORRECT\n"
     ]
    },
    {
     "name": "stderr",
     "output_type": "stream",
     "text": [
      " 20%|██        | 2/10 [00:02<00:11,  1.46s/it]"
     ]
    },
    {
     "name": "stdout",
     "output_type": "stream",
     "text": [
      "k=1: gpt_answer=12  true_answer=16\n",
      "INCORRECT\n"
     ]
    },
    {
     "name": "stderr",
     "output_type": "stream",
     "text": [
      " 30%|███       | 3/10 [00:04<00:09,  1.35s/it]"
     ]
    },
    {
     "name": "stdout",
     "output_type": "stream",
     "text": [
      "k=2: gpt_answer=16  true_answer=16\n",
      "CORRECT\n"
     ]
    },
    {
     "name": "stderr",
     "output_type": "stream",
     "text": [
      " 40%|████      | 4/10 [00:05<00:07,  1.27s/it]"
     ]
    },
    {
     "name": "stdout",
     "output_type": "stream",
     "text": [
      "k=3: gpt_answer=16  true_answer=16\n",
      "CORRECT\n"
     ]
    },
    {
     "name": "stderr",
     "output_type": "stream",
     "text": [
      " 50%|█████     | 5/10 [00:06<00:06,  1.26s/it]"
     ]
    },
    {
     "name": "stdout",
     "output_type": "stream",
     "text": [
      "k=4: gpt_answer=16  true_answer=16\n",
      "CORRECT\n"
     ]
    },
    {
     "name": "stderr",
     "output_type": "stream",
     "text": [
      " 60%|██████    | 6/10 [00:07<00:05,  1.30s/it]"
     ]
    },
    {
     "name": "stdout",
     "output_type": "stream",
     "text": [
      "k=5: gpt_answer=12  true_answer=16\n",
      "INCORRECT\n"
     ]
    },
    {
     "name": "stderr",
     "output_type": "stream",
     "text": [
      " 70%|███████   | 7/10 [00:09<00:03,  1.28s/it]"
     ]
    },
    {
     "name": "stdout",
     "output_type": "stream",
     "text": [
      "k=6: gpt_answer=12  true_answer=16\n",
      "INCORRECT\n"
     ]
    },
    {
     "name": "stderr",
     "output_type": "stream",
     "text": [
      " 80%|████████  | 8/10 [00:10<00:02,  1.33s/it]"
     ]
    },
    {
     "name": "stdout",
     "output_type": "stream",
     "text": [
      "k=7: gpt_answer=16  true_answer=16\n",
      "CORRECT\n"
     ]
    },
    {
     "name": "stderr",
     "output_type": "stream",
     "text": [
      " 90%|█████████ | 9/10 [00:11<00:01,  1.36s/it]"
     ]
    },
    {
     "name": "stdout",
     "output_type": "stream",
     "text": [
      "k=8: gpt_answer=12  true_answer=16\n",
      "INCORRECT\n"
     ]
    },
    {
     "name": "stderr",
     "output_type": "stream",
     "text": [
      "100%|██████████| 10/10 [00:14<00:00,  1.40s/it]\n"
     ]
    },
    {
     "name": "stdout",
     "output_type": "stream",
     "text": [
      "k=9: gpt_answer=16  true_answer=16\n",
      "CORRECT\n",
      "accuracy=0.60\n",
      "\n",
      "Question  20\n"
     ]
    },
    {
     "name": "stderr",
     "output_type": "stream",
     "text": [
      " 10%|█         | 1/10 [00:01<00:12,  1.42s/it]"
     ]
    },
    {
     "name": "stdout",
     "output_type": "stream",
     "text": [
      "k=0: gpt_answer=38  true_answer=38\n",
      "CORRECT\n"
     ]
    },
    {
     "name": "stderr",
     "output_type": "stream",
     "text": [
      " 20%|██        | 2/10 [00:02<00:11,  1.39s/it]"
     ]
    },
    {
     "name": "stdout",
     "output_type": "stream",
     "text": [
      "k=1: gpt_answer=38  true_answer=38\n",
      "CORRECT\n"
     ]
    },
    {
     "name": "stderr",
     "output_type": "stream",
     "text": [
      " 30%|███       | 3/10 [00:04<00:09,  1.41s/it]"
     ]
    },
    {
     "name": "stdout",
     "output_type": "stream",
     "text": [
      "k=2: gpt_answer=38  true_answer=38\n",
      "CORRECT\n"
     ]
    },
    {
     "name": "stderr",
     "output_type": "stream",
     "text": [
      " 40%|████      | 4/10 [00:05<00:08,  1.48s/it]"
     ]
    },
    {
     "name": "stdout",
     "output_type": "stream",
     "text": [
      "k=3: gpt_answer=38  true_answer=38\n",
      "CORRECT\n"
     ]
    },
    {
     "name": "stderr",
     "output_type": "stream",
     "text": [
      " 50%|█████     | 5/10 [00:07<00:07,  1.46s/it]"
     ]
    },
    {
     "name": "stdout",
     "output_type": "stream",
     "text": [
      "k=4: gpt_answer=38  true_answer=38\n",
      "CORRECT\n"
     ]
    },
    {
     "name": "stderr",
     "output_type": "stream",
     "text": [
      " 60%|██████    | 6/10 [00:08<00:05,  1.49s/it]"
     ]
    },
    {
     "name": "stdout",
     "output_type": "stream",
     "text": [
      "k=5: gpt_answer=38  true_answer=38\n",
      "CORRECT\n"
     ]
    },
    {
     "name": "stderr",
     "output_type": "stream",
     "text": [
      " 70%|███████   | 7/10 [00:10<00:04,  1.53s/it]"
     ]
    },
    {
     "name": "stdout",
     "output_type": "stream",
     "text": [
      "k=6: gpt_answer=38  true_answer=38\n",
      "CORRECT\n"
     ]
    },
    {
     "name": "stderr",
     "output_type": "stream",
     "text": [
      " 80%|████████  | 8/10 [00:12<00:03,  1.71s/it]"
     ]
    },
    {
     "name": "stdout",
     "output_type": "stream",
     "text": [
      "k=7: gpt_answer=38  true_answer=38\n",
      "CORRECT\n"
     ]
    },
    {
     "name": "stderr",
     "output_type": "stream",
     "text": [
      " 90%|█████████ | 9/10 [00:14<00:01,  1.80s/it]"
     ]
    },
    {
     "name": "stdout",
     "output_type": "stream",
     "text": [
      "k=8: gpt_answer=38  true_answer=38\n",
      "CORRECT\n"
     ]
    },
    {
     "name": "stderr",
     "output_type": "stream",
     "text": [
      "100%|██████████| 10/10 [00:16<00:00,  1.61s/it]\n"
     ]
    },
    {
     "name": "stdout",
     "output_type": "stream",
     "text": [
      "k=9: gpt_answer=38  true_answer=38\n",
      "CORRECT\n",
      "accuracy=1.00\n",
      "\n",
      "Question  23\n"
     ]
    },
    {
     "name": "stderr",
     "output_type": "stream",
     "text": [
      " 10%|█         | 1/10 [00:01<00:13,  1.53s/it]"
     ]
    },
    {
     "name": "stdout",
     "output_type": "stream",
     "text": [
      "k=0: gpt_answer=5  true_answer=5\n",
      "CORRECT\n"
     ]
    },
    {
     "name": "stderr",
     "output_type": "stream",
     "text": [
      " 20%|██        | 2/10 [00:03<00:13,  1.66s/it]"
     ]
    },
    {
     "name": "stdout",
     "output_type": "stream",
     "text": [
      "k=1: gpt_answer=5  true_answer=5\n",
      "CORRECT\n"
     ]
    },
    {
     "name": "stderr",
     "output_type": "stream",
     "text": [
      " 30%|███       | 3/10 [00:05<00:11,  1.70s/it]"
     ]
    },
    {
     "name": "stdout",
     "output_type": "stream",
     "text": [
      "k=2: gpt_answer=5  true_answer=5\n",
      "CORRECT\n"
     ]
    },
    {
     "name": "stderr",
     "output_type": "stream",
     "text": [
      " 40%|████      | 4/10 [00:06<00:10,  1.70s/it]"
     ]
    },
    {
     "name": "stdout",
     "output_type": "stream",
     "text": [
      "k=3: gpt_answer=5  true_answer=5\n",
      "CORRECT\n"
     ]
    },
    {
     "name": "stderr",
     "output_type": "stream",
     "text": [
      " 50%|█████     | 5/10 [00:08<00:08,  1.71s/it]"
     ]
    },
    {
     "name": "stdout",
     "output_type": "stream",
     "text": [
      "k=4: gpt_answer=5  true_answer=5\n",
      "CORRECT\n"
     ]
    },
    {
     "name": "stderr",
     "output_type": "stream",
     "text": [
      " 60%|██████    | 6/10 [00:09<00:06,  1.59s/it]"
     ]
    },
    {
     "name": "stdout",
     "output_type": "stream",
     "text": [
      "k=5: gpt_answer=5  true_answer=5\n",
      "CORRECT\n"
     ]
    },
    {
     "name": "stderr",
     "output_type": "stream",
     "text": [
      " 70%|███████   | 7/10 [00:11<00:04,  1.63s/it]"
     ]
    },
    {
     "name": "stdout",
     "output_type": "stream",
     "text": [
      "k=6: gpt_answer=5  true_answer=5\n",
      "CORRECT\n"
     ]
    },
    {
     "name": "stderr",
     "output_type": "stream",
     "text": [
      " 80%|████████  | 8/10 [00:13<00:03,  1.67s/it]"
     ]
    },
    {
     "name": "stdout",
     "output_type": "stream",
     "text": [
      "k=7: gpt_answer=5  true_answer=5\n",
      "CORRECT\n"
     ]
    },
    {
     "name": "stderr",
     "output_type": "stream",
     "text": [
      " 90%|█████████ | 9/10 [00:14<00:01,  1.62s/it]"
     ]
    },
    {
     "name": "stdout",
     "output_type": "stream",
     "text": [
      "k=8: gpt_answer=5.00  true_answer=5\n",
      "CORRECT\n"
     ]
    },
    {
     "name": "stderr",
     "output_type": "stream",
     "text": [
      "100%|██████████| 10/10 [00:16<00:00,  1.66s/it]\n"
     ]
    },
    {
     "name": "stdout",
     "output_type": "stream",
     "text": [
      "k=9: gpt_answer=5  true_answer=5\n",
      "CORRECT\n",
      "accuracy=1.00\n",
      "\n",
      "Question  24\n"
     ]
    },
    {
     "name": "stderr",
     "output_type": "stream",
     "text": [
      " 10%|█         | 1/10 [00:01<00:09,  1.03s/it]"
     ]
    },
    {
     "name": "stdout",
     "output_type": "stream",
     "text": [
      "k=0: gpt_answer=62  true_answer=62\n",
      "CORRECT\n"
     ]
    },
    {
     "name": "stderr",
     "output_type": "stream",
     "text": [
      " 20%|██        | 2/10 [00:02<00:08,  1.02s/it]"
     ]
    },
    {
     "name": "stdout",
     "output_type": "stream",
     "text": [
      "k=1: gpt_answer=62  true_answer=62\n",
      "CORRECT\n"
     ]
    },
    {
     "name": "stderr",
     "output_type": "stream",
     "text": [
      " 30%|███       | 3/10 [00:03<00:07,  1.08s/it]"
     ]
    },
    {
     "name": "stdout",
     "output_type": "stream",
     "text": [
      "k=2: gpt_answer=62  true_answer=62\n",
      "CORRECT\n"
     ]
    },
    {
     "name": "stderr",
     "output_type": "stream",
     "text": [
      " 40%|████      | 4/10 [00:04<00:06,  1.11s/it]"
     ]
    },
    {
     "name": "stdout",
     "output_type": "stream",
     "text": [
      "k=3: gpt_answer=62  true_answer=62\n",
      "CORRECT\n"
     ]
    },
    {
     "name": "stderr",
     "output_type": "stream",
     "text": [
      " 50%|█████     | 5/10 [00:05<00:05,  1.03s/it]"
     ]
    },
    {
     "name": "stdout",
     "output_type": "stream",
     "text": [
      "k=4: gpt_answer=62  true_answer=62\n",
      "CORRECT\n"
     ]
    },
    {
     "name": "stderr",
     "output_type": "stream",
     "text": [
      " 60%|██████    | 6/10 [00:06<00:04,  1.01s/it]"
     ]
    },
    {
     "name": "stdout",
     "output_type": "stream",
     "text": [
      "k=5: gpt_answer=62  true_answer=62\n",
      "CORRECT\n"
     ]
    },
    {
     "name": "stderr",
     "output_type": "stream",
     "text": [
      " 70%|███████   | 7/10 [00:07<00:03,  1.14s/it]"
     ]
    },
    {
     "name": "stdout",
     "output_type": "stream",
     "text": [
      "k=6: gpt_answer=62  true_answer=62\n",
      "CORRECT\n"
     ]
    },
    {
     "name": "stderr",
     "output_type": "stream",
     "text": [
      " 80%|████████  | 8/10 [00:08<00:02,  1.12s/it]"
     ]
    },
    {
     "name": "stdout",
     "output_type": "stream",
     "text": [
      "k=7: gpt_answer=62  true_answer=62\n",
      "CORRECT\n"
     ]
    },
    {
     "name": "stderr",
     "output_type": "stream",
     "text": [
      " 90%|█████████ | 9/10 [00:10<00:01,  1.24s/it]"
     ]
    },
    {
     "name": "stdout",
     "output_type": "stream",
     "text": [
      "k=8: gpt_answer=62  true_answer=62\n",
      "CORRECT\n"
     ]
    },
    {
     "name": "stderr",
     "output_type": "stream",
     "text": [
      "100%|██████████| 10/10 [00:11<00:00,  1.13s/it]\n"
     ]
    },
    {
     "name": "stdout",
     "output_type": "stream",
     "text": [
      "k=9: gpt_answer=62  true_answer=62\n",
      "CORRECT\n",
      "accuracy=1.00\n",
      "\n",
      "Question  25\n"
     ]
    },
    {
     "name": "stderr",
     "output_type": "stream",
     "text": [
      " 10%|█         | 1/10 [00:01<00:10,  1.18s/it]"
     ]
    },
    {
     "name": "stdout",
     "output_type": "stream",
     "text": [
      "k=0: gpt_answer=110  true_answer=110\n",
      "CORRECT\n"
     ]
    },
    {
     "name": "stderr",
     "output_type": "stream",
     "text": [
      " 20%|██        | 2/10 [00:02<00:10,  1.26s/it]"
     ]
    },
    {
     "name": "stdout",
     "output_type": "stream",
     "text": [
      "k=1: gpt_answer=110  true_answer=110\n",
      "CORRECT\n"
     ]
    },
    {
     "name": "stderr",
     "output_type": "stream",
     "text": [
      " 30%|███       | 3/10 [00:03<00:09,  1.30s/it]"
     ]
    },
    {
     "name": "stdout",
     "output_type": "stream",
     "text": [
      "k=2: gpt_answer=110  true_answer=110\n",
      "CORRECT\n"
     ]
    },
    {
     "name": "stderr",
     "output_type": "stream",
     "text": [
      " 40%|████      | 4/10 [00:04<00:07,  1.24s/it]"
     ]
    },
    {
     "name": "stdout",
     "output_type": "stream",
     "text": [
      "k=3: gpt_answer=110  true_answer=110\n",
      "CORRECT\n"
     ]
    },
    {
     "name": "stderr",
     "output_type": "stream",
     "text": [
      " 50%|█████     | 5/10 [00:06<00:06,  1.28s/it]"
     ]
    },
    {
     "name": "stdout",
     "output_type": "stream",
     "text": [
      "k=4: gpt_answer=110  true_answer=110\n",
      "CORRECT\n"
     ]
    },
    {
     "name": "stderr",
     "output_type": "stream",
     "text": [
      " 60%|██████    | 6/10 [00:07<00:05,  1.33s/it]"
     ]
    },
    {
     "name": "stdout",
     "output_type": "stream",
     "text": [
      "k=5: gpt_answer=110  true_answer=110\n",
      "CORRECT\n"
     ]
    },
    {
     "name": "stderr",
     "output_type": "stream",
     "text": [
      " 70%|███████   | 7/10 [00:09<00:04,  1.42s/it]"
     ]
    },
    {
     "name": "stdout",
     "output_type": "stream",
     "text": [
      "k=6: gpt_answer=110  true_answer=110\n",
      "CORRECT\n"
     ]
    },
    {
     "name": "stderr",
     "output_type": "stream",
     "text": [
      " 80%|████████  | 8/10 [00:10<00:02,  1.38s/it]"
     ]
    },
    {
     "name": "stdout",
     "output_type": "stream",
     "text": [
      "k=7: gpt_answer=110  true_answer=110\n",
      "CORRECT\n"
     ]
    },
    {
     "name": "stderr",
     "output_type": "stream",
     "text": [
      " 90%|█████████ | 9/10 [00:11<00:01,  1.32s/it]"
     ]
    },
    {
     "name": "stdout",
     "output_type": "stream",
     "text": [
      "k=8: gpt_answer=110  true_answer=110\n",
      "CORRECT\n"
     ]
    },
    {
     "name": "stderr",
     "output_type": "stream",
     "text": [
      "100%|██████████| 10/10 [00:12<00:00,  1.29s/it]"
     ]
    },
    {
     "name": "stdout",
     "output_type": "stream",
     "text": [
      "k=9: gpt_answer=110  true_answer=110\n",
      "CORRECT\n",
      "accuracy=1.00\n",
      "\n",
      "Total Inaccurate:  9\n"
     ]
    },
    {
     "name": "stderr",
     "output_type": "stream",
     "text": [
      "\n"
     ]
    }
   ],
   "source": [
    "def evaluate_fewshots(data, temperature,num_shots):\n",
    "    num_corrects=0\n",
    "    for k in  tqdm(range(len(data))):\n",
    "        gpt_answer=answer_from_gpt(data[k]['problem'],temperature=temperature,num_shots=num_shots)\n",
    "        true_answer= data[k]['result']\n",
    "        print(f'k={k}: gpt_answer={gpt_answer}  true_answer={true_answer}')   # this is for debug only\n",
    "        \n",
    "        if gpt_answer != \"NA\":\n",
    "            try:\n",
    "                if float(gpt_answer) == float(true_answer):\n",
    "                    print(\"CORRECT\")\n",
    "                    num_corrects += 1\n",
    "                else:\n",
    "                    print(\"INCORRECT\")\n",
    "            except ValueError:\n",
    "                print(\"INCORRECT\")\n",
    "    \n",
    "    accuracy = num_corrects/len(data)\n",
    "    print(f'accuracy={accuracy:0.2f}')\n",
    "    return accuracy\n",
    "\n",
    "temperature = 0\n",
    "num_shots = 0\n",
    "\n",
    "total_inaccurate = 0\n",
    "\n",
    "print(f'=== temperature={temperature} num_shots={num_shots} ===')\n",
    "for i in range(len(ablated_dataset)):\n",
    "    curr_ablation = ablated_dataset[i]\n",
    "\n",
    "    print(\"Question \", q_indices[i])\n",
    "    accuracy = evaluate_fewshots(curr_ablation, temperature, num_shots)\n",
    "    if accuracy < 1:\n",
    "        total_inaccurate += 1\n",
    "    print()\n",
    "\n",
    "print(\"Total Inaccurate: \", total_inaccurate)"
   ]
  }
 ],
 "metadata": {
  "kernelspec": {
   "display_name": "venv",
   "language": "python",
   "name": "python3"
  },
  "language_info": {
   "codemirror_mode": {
    "name": "ipython",
    "version": 3
   },
   "file_extension": ".py",
   "mimetype": "text/x-python",
   "name": "python",
   "nbconvert_exporter": "python",
   "pygments_lexer": "ipython3",
   "version": "3.9.13"
  }
 },
 "nbformat": 4,
 "nbformat_minor": 4
}
