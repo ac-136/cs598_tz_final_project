{
 "cells": [
  {
   "cell_type": "markdown",
   "metadata": {},
   "source": [
    "Code from A3 problem1-prompt.ipynb and https://github.com/SewoongLee/reproduce-llama3-arithmetic/blob/main/llama3-tutorial-gsm8k.ipynb"
   ]
  },
  {
   "cell_type": "markdown",
   "metadata": {},
   "source": [
    "You need to set your OPENAI_API_KEY environment variable in .env"
   ]
  },
  {
   "cell_type": "code",
   "execution_count": 4,
   "metadata": {},
   "outputs": [
    {
     "name": "stdout",
     "output_type": "stream",
     "text": [
      "cannot find .env file\n"
     ]
    }
   ],
   "source": [
    "from openai import OpenAI\n",
    "from tqdm import tqdm\n",
    "import textwrap\n",
    "import dotenv\n",
    "import os\n",
    "%load_ext dotenv\n",
    "%dotenv\n",
    "\n",
    "client=OpenAI(api_key=os.environ.get(\"OPENAI_API_KEY\"))\n",
    "\n",
    "# we use gpt-4o-mini as default: current pricing is \n",
    "# $0.150 / 1M input tokens, $0.600 / 1M output tokens\n",
    "def generate_gpt_response(prompt,messages=[], model=\"gpt-4o-mini\", temperature=0.7):\n",
    "    messages.append({\"role\": \"user\", \"content\": prompt})\n",
    "            \n",
    "    response = client.chat.completions.create(\n",
    "        model=model,\n",
    "        messages=messages,\n",
    "        temperature = temperature\n",
    "    )\n",
    "    content=response.choices[0].message.content\n",
    "    messages.append({'role': 'assistant', 'content': content})\n",
    "    return messages\n",
    "\n",
    "\n",
    "def print_message(message, width=80):\n",
    "    text=message[\"role\"]+\": \" + message[\"content\"]\n",
    "    wrapped_text = textwrap.fill(text, width=width)\n",
    "    \n",
    "    for line in wrapped_text.split('\\n'):\n",
    "        print(f\" {line.ljust(width)} \")        \n",
    "    "
   ]
  },
  {
   "cell_type": "markdown",
   "metadata": {},
   "source": [
    "load ablated gsm8k json files"
   ]
  },
  {
   "cell_type": "code",
   "execution_count": 9,
   "metadata": {},
   "outputs": [
    {
     "name": "stdout",
     "output_type": "stream",
     "text": [
      "[{'problem': 'Elvis Hammer sold clips to 48 of their friends in April, and then they sold 50% as many clips in May.How many clips did Elvis Hammer sell altogether in April and May?', 'result': '72', 'template_name': 0, 'idx': 64}, {'problem': 'German Redondo sold clips to 48 of their friends in April, and then they sold 50% as many clips in May.How many clips did German Redondo sell altogether in April and May?', 'result': '72', 'template_name': 0, 'idx': 88}, {'problem': 'Marilu Laing sold clips to 48 of their friends in April, and then they sold 50% as many clips in May.How many clips did Marilu Laing sell altogether in April and May?', 'result': '72', 'template_name': 0, 'idx': 95}, {'problem': 'Jeremiah Unruh sold clips to 48 of their friends in April, and then they sold 50% as many clips in May.How many clips did Jeremiah Unruh sell altogether in April and May?', 'result': '72', 'template_name': 0, 'idx': 44}, {'problem': 'Elliot Juares sold clips to 48 of their friends in April, and then they sold 50% as many clips in May.How many clips did Elliot Juares sell altogether in April and May?', 'result': '72', 'template_name': 0, 'idx': 17}, {'problem': 'Emma Lieberman sold clips to 48 of their friends in April, and then they sold 50% as many clips in May.How many clips did Emma Lieberman sell altogether in April and May?', 'result': '72', 'template_name': 0, 'idx': 73}, {'problem': 'Olivia Khatri sold clips to 48 of their friends in April, and then they sold 50% as many clips in May.How many clips did Olivia Khatri sell altogether in April and May?', 'result': '72', 'template_name': 0, 'idx': 43}, {'problem': 'Jenna Gaines sold clips to 48 of their friends in April, and then they sold 50% as many clips in May.How many clips did Jenna Gaines sell altogether in April and May?', 'result': '72', 'template_name': 0, 'idx': 70}, {'problem': 'Jaqueline Barakat sold clips to 48 of their friends in April, and then they sold 50% as many clips in May.How many clips did Jaqueline Barakat sell altogether in April and May?', 'result': '72', 'template_name': 0, 'idx': 82}, {'problem': 'Eden Sanchez sold clips to 48 of their friends in April, and then they sold 50% as many clips in May.How many clips did Eden Sanchez sell altogether in April and May?', 'result': '72', 'template_name': 0, 'idx': 91}]\n",
      "\n",
      "[{'problem': 'Miles Oyola earns $12 an hour for babysitting. Yesterday, they just did 50 minutes of babysitting. How much did Miles Oyola earn?', 'result': '10', 'template_name': 1, 'idx': 2665}, {'problem': 'Lizette Salvatierra earns $12 an hour for babysitting. Yesterday, they just did 50 minutes of babysitting. How much did Lizette Salvatierra earn?', 'result': '10', 'template_name': 1, 'idx': 5345}, {'problem': 'Krishna Molina earns $12 an hour for babysitting. Yesterday, they just did 50 minutes of babysitting. How much did Krishna Molina earn?', 'result': '10', 'template_name': 1, 'idx': 8631}, {'problem': 'Luz Lv earns $12 an hour for babysitting. Yesterday, they just did 50 minutes of babysitting. How much did Luz Lv earn?', 'result': '10', 'template_name': 1, 'idx': 7758}, {'problem': 'Abbey Kahn earns $12 an hour for babysitting. Yesterday, they just did 50 minutes of babysitting. How much did Abbey Kahn earn?', 'result': '10', 'template_name': 1, 'idx': 2655}, {'problem': 'Chase Dorsett earns $12 an hour for babysitting. Yesterday, they just did 50 minutes of babysitting. How much did Chase Dorsett earn?', 'result': '10', 'template_name': 1, 'idx': 5486}, {'problem': 'Kaitlyn Samaan earns $12 an hour for babysitting. Yesterday, they just did 50 minutes of babysitting. How much did Kaitlyn Samaan earn?', 'result': '10', 'template_name': 1, 'idx': 5672}, {'problem': 'Ceci Suares earns $12 an hour for babysitting. Yesterday, they just did 50 minutes of babysitting. How much did Ceci Suares earn?', 'result': '10', 'template_name': 1, 'idx': 1504}, {'problem': 'Brendan Kc earns $12 an hour for babysitting. Yesterday, they just did 50 minutes of babysitting. How much did Brendan Kc earn?', 'result': '10', 'template_name': 1, 'idx': 3153}, {'problem': 'Selvin Bobbitt earns $12 an hour for babysitting. Yesterday, they just did 50 minutes of babysitting. How much did Selvin Bobbitt earn?', 'result': '10', 'template_name': 1, 'idx': 4900}]\n",
      "\n",
      "[{'problem': 'Lizette Labra is saving money for a new wallet which costs $100. Lizette Labra has only half of the money they need. Their parents decided to give them $15 for that purpose, and their grandparents twice as much as their parents. How much more money does Lizette Labra need to buy the wallet?', 'result': '5.0', 'template_name': 2, 'idx': 19}, {'problem': 'Chelsey Venkatesan is saving money for a new wallet which costs $100. Chelsey Venkatesan has only half of the money they need. Their parents decided to give them $15 for that purpose, and their grandparents twice as much as their parents. How much more money does Chelsey Venkatesan need to buy the wallet?', 'result': '5.0', 'template_name': 2, 'idx': 53}, {'problem': 'Lilian Laroche is saving money for a new wallet which costs $100. Lilian Laroche has only half of the money they need. Their parents decided to give them $15 for that purpose, and their grandparents twice as much as their parents. How much more money does Lilian Laroche need to buy the wallet?', 'result': '5.0', 'template_name': 2, 'idx': 25}, {'problem': 'Megan Jester is saving money for a new wallet which costs $100. Megan Jester has only half of the money they need. Their parents decided to give them $15 for that purpose, and their grandparents twice as much as their parents. How much more money does Megan Jester need to buy the wallet?', 'result': '5.0', 'template_name': 2, 'idx': 65}, {'problem': 'Saad Schwartz is saving money for a new wallet which costs $100. Saad Schwartz has only half of the money they need. Their parents decided to give them $15 for that purpose, and their grandparents twice as much as their parents. How much more money does Saad Schwartz need to buy the wallet?', 'result': '5.0', 'template_name': 2, 'idx': 6}, {'problem': 'Lorenzo Parish is saving money for a new wallet which costs $100. Lorenzo Parish has only half of the money they need. Their parents decided to give them $15 for that purpose, and their grandparents twice as much as their parents. How much more money does Lorenzo Parish need to buy the wallet?', 'result': '5.0', 'template_name': 2, 'idx': 58}, {'problem': 'Walter Virginia is saving money for a new wallet which costs $100. Walter Virginia has only half of the money they need. Their parents decided to give them $15 for that purpose, and their grandparents twice as much as their parents. How much more money does Walter Virginia need to buy the wallet?', 'result': '5.0', 'template_name': 2, 'idx': 99}, {'problem': 'Iliana Carpio is saving money for a new wallet which costs $100. Iliana Carpio has only half of the money they need. Their parents decided to give them $15 for that purpose, and their grandparents twice as much as their parents. How much more money does Iliana Carpio need to buy the wallet?', 'result': '5.0', 'template_name': 2, 'idx': 67}, {'problem': 'Karen Arellano is saving money for a new wallet which costs $100. Karen Arellano has only half of the money they need. Their parents decided to give them $15 for that purpose, and their grandparents twice as much as their parents. How much more money does Karen Arellano need to buy the wallet?', 'result': '5.0', 'template_name': 2, 'idx': 93}, {'problem': 'German Shafer is saving money for a new wallet which costs $100. German Shafer has only half of the money they need. Their parents decided to give them $15 for that purpose, and their grandparents twice as much as their parents. How much more money does German Shafer need to buy the wallet?', 'result': '5.0', 'template_name': 2, 'idx': 68}]\n",
      "\n",
      "[{'problem': 'Stuart Shehata started reading a 120-page book. Yesterday, they were able to read 12 pages and today, they read twice as many pages as yesterday. If they want to read half of the remaining pages tomorrow, how many pages should they read?', 'result': '42', 'template_name': 3, 'idx': 97}, {'problem': 'Alana Tan started reading a 120-page book. Yesterday, they were able to read 12 pages and today, they read twice as many pages as yesterday. If they want to read half of the remaining pages tomorrow, how many pages should they read?', 'result': '42', 'template_name': 3, 'idx': 24}, {'problem': 'Janelle Eddy started reading a 120-page book. Yesterday, they were able to read 12 pages and today, they read twice as many pages as yesterday. If they want to read half of the remaining pages tomorrow, how many pages should they read?', 'result': '42', 'template_name': 3, 'idx': 89}, {'problem': 'Estrella Betancur started reading a 120-page book. Yesterday, they were able to read 12 pages and today, they read twice as many pages as yesterday. If they want to read half of the remaining pages tomorrow, how many pages should they read?', 'result': '42', 'template_name': 3, 'idx': 33}, {'problem': 'Cristina Boogie started reading a 120-page book. Yesterday, they were able to read 12 pages and today, they read twice as many pages as yesterday. If they want to read half of the remaining pages tomorrow, how many pages should they read?', 'result': '42', 'template_name': 3, 'idx': 60}, {'problem': 'Selina Bean started reading a 120-page book. Yesterday, they were able to read 12 pages and today, they read twice as many pages as yesterday. If they want to read half of the remaining pages tomorrow, how many pages should they read?', 'result': '42', 'template_name': 3, 'idx': 98}, {'problem': 'Homero Vargas started reading a 120-page book. Yesterday, they were able to read 12 pages and today, they read twice as many pages as yesterday. If they want to read half of the remaining pages tomorrow, how many pages should they read?', 'result': '42', 'template_name': 3, 'idx': 81}, {'problem': 'Marilu Laing started reading a 120-page book. Yesterday, they were able to read 12 pages and today, they read twice as many pages as yesterday. If they want to read half of the remaining pages tomorrow, how many pages should they read?', 'result': '42', 'template_name': 3, 'idx': 95}, {'problem': 'Victoria Tavares started reading a 120-page book. Yesterday, they were able to read 12 pages and today, they read twice as many pages as yesterday. If they want to read half of the remaining pages tomorrow, how many pages should they read?', 'result': '42', 'template_name': 3, 'idx': 84}, {'problem': 'Dennis Jeffrey started reading a 120-page book. Yesterday, they were able to read 12 pages and today, they read twice as many pages as yesterday. If they want to read half of the remaining pages tomorrow, how many pages should they read?', 'result': '42', 'template_name': 3, 'idx': 52}]\n",
      "\n",
      "[{'problem': 'Elvis Hammer writes a 3-page letter to 2 different friends twice a week. How many pages does Elvis Hammer write in a year?', 'result': '624', 'template_name': 4, 'idx': 64}, {'problem': 'Irma Li writes a 3-page letter to 2 different friends twice a week. How many pages does Irma Li write in a year?', 'result': '624', 'template_name': 4, 'idx': 74}, {'problem': 'Rosy Plascencia writes a 3-page letter to 2 different friends twice a week. How many pages does Rosy Plascencia write in a year?', 'result': '624', 'template_name': 4, 'idx': 0}, {'problem': 'Saad Schwartz writes a 3-page letter to 2 different friends twice a week. How many pages does Saad Schwartz write in a year?', 'result': '624', 'template_name': 4, 'idx': 6}, {'problem': 'Nate Labrada writes a 3-page letter to 2 different friends twice a week. How many pages does Nate Labrada write in a year?', 'result': '624', 'template_name': 4, 'idx': 94}, {'problem': 'Monica Georges writes a 3-page letter to 2 different friends twice a week. How many pages does Monica Georges write in a year?', 'result': '624', 'template_name': 4, 'idx': 83}, {'problem': 'Kc Otis writes a 3-page letter to 2 different friends twice a week. How many pages does Kc Otis write in a year?', 'result': '624', 'template_name': 4, 'idx': 71}, {'problem': 'Harvey Jules writes a 3-page letter to 2 different friends twice a week. How many pages does Harvey Jules write in a year?', 'result': '624', 'template_name': 4, 'idx': 39}, {'problem': 'Walter Virginia writes a 3-page letter to 2 different friends twice a week. How many pages does Walter Virginia write in a year?', 'result': '624', 'template_name': 4, 'idx': 99}, {'problem': 'Simone Ruff writes a 3-page letter to 2 different friends twice a week. How many pages does Simone Ruff write in a year?', 'result': '624', 'template_name': 4, 'idx': 8}]\n",
      "\n",
      "[{'problem': 'Paulette Cantero has a garden with flowers. They planted plants of three different colors in it. 10 of them are yellow, and there are 80% more of those in purple. There are only 25% as many green flowers as there are yellow and purple flowers. How many flowers does Paulette Cantero have in their garden?', 'result': '35', 'template_name': 5, 'idx': 69}, {'problem': 'Monica Georges has a garden with flowers. They planted plants of three different colors in it. 10 of them are yellow, and there are 80% more of those in purple. There are only 25% as many green flowers as there are yellow and purple flowers. How many flowers does Monica Georges have in their garden?', 'result': '35', 'template_name': 5, 'idx': 83}, {'problem': 'Homero Vargas has a garden with flowers. They planted plants of three different colors in it. 10 of them are yellow, and there are 80% more of those in purple. There are only 25% as many green flowers as there are yellow and purple flowers. How many flowers does Homero Vargas have in their garden?', 'result': '35', 'template_name': 5, 'idx': 81}, {'problem': 'Stuart Shehata has a garden with flowers. They planted plants of three different colors in it. 10 of them are yellow, and there are 80% more of those in purple. There are only 25% as many green flowers as there are yellow and purple flowers. How many flowers does Stuart Shehata have in their garden?', 'result': '35', 'template_name': 5, 'idx': 97}, {'problem': 'Cindy Herd has a garden with flowers. They planted plants of three different colors in it. 10 of them are yellow, and there are 80% more of those in purple. There are only 25% as many green flowers as there are yellow and purple flowers. How many flowers does Cindy Herd have in their garden?', 'result': '35', 'template_name': 5, 'idx': 9}, {'problem': 'Marisa Yearwood has a garden with flowers. They planted plants of three different colors in it. 10 of them are yellow, and there are 80% more of those in purple. There are only 25% as many green flowers as there are yellow and purple flowers. How many flowers does Marisa Yearwood have in their garden?', 'result': '35', 'template_name': 5, 'idx': 4}, {'problem': 'Elba De Guzman has a garden with flowers. They planted plants of three different colors in it. 10 of them are yellow, and there are 80% more of those in purple. There are only 25% as many green flowers as there are yellow and purple flowers. How many flowers does Elba De Guzman have in their garden?', 'result': '35', 'template_name': 5, 'idx': 85}, {'problem': 'Tre Wallis has a garden with flowers. They planted plants of three different colors in it. 10 of them are yellow, and there are 80% more of those in purple. There are only 25% as many green flowers as there are yellow and purple flowers. How many flowers does Tre Wallis have in their garden?', 'result': '35', 'template_name': 5, 'idx': 45}, {'problem': 'Victoria Tavares has a garden with flowers. They planted plants of three different colors in it. 10 of them are yellow, and there are 80% more of those in purple. There are only 25% as many green flowers as there are yellow and purple flowers. How many flowers does Victoria Tavares have in their garden?', 'result': '35', 'template_name': 5, 'idx': 84}, {'problem': 'Selina Bean has a garden with flowers. They planted plants of three different colors in it. 10 of them are yellow, and there are 80% more of those in purple. There are only 25% as many green flowers as there are yellow and purple flowers. How many flowers does Selina Bean have in their garden?', 'result': '35', 'template_name': 5, 'idx': 98}]\n",
      "\n",
      "[{'problem': 'Adam Kidder is wondering how much pizza they can eat in one day. They buy 2 large pizzas and 2 small pizzas. A large pizzas has 16 slices and a small pizza has 8 slices. If they eat it all, how many pieces do they eat that day?', 'result': '48', 'template_name': 6, 'idx': 10}, {'problem': 'Levi Eby is wondering how much pizza they can eat in one day. They buy 2 large pizzas and 2 small pizzas. A large pizzas has 16 slices and a small pizza has 8 slices. If they eat it all, how many pieces do they eat that day?', 'result': '48', 'template_name': 6, 'idx': 55}, {'problem': 'Becca Osborn is wondering how much pizza they can eat in one day. They buy 2 large pizzas and 2 small pizzas. A large pizzas has 16 slices and a small pizza has 8 slices. If they eat it all, how many pieces do they eat that day?', 'result': '48', 'template_name': 6, 'idx': 75}, {'problem': 'Chelsey Venkatesan is wondering how much pizza they can eat in one day. They buy 2 large pizzas and 2 small pizzas. A large pizzas has 16 slices and a small pizza has 8 slices. If they eat it all, how many pieces do they eat that day?', 'result': '48', 'template_name': 6, 'idx': 53}, {'problem': 'Damaris Mayes is wondering how much pizza they can eat in one day. They buy 2 large pizzas and 2 small pizzas. A large pizzas has 16 slices and a small pizza has 8 slices. If they eat it all, how many pieces do they eat that day?', 'result': '48', 'template_name': 6, 'idx': 15}, {'problem': 'Doris Gooch is wondering how much pizza they can eat in one day. They buy 2 large pizzas and 2 small pizzas. A large pizzas has 16 slices and a small pizza has 8 slices. If they eat it all, how many pieces do they eat that day?', 'result': '48', 'template_name': 6, 'idx': 92}, {'problem': 'Lou Arista is wondering how much pizza they can eat in one day. They buy 2 large pizzas and 2 small pizzas. A large pizzas has 16 slices and a small pizza has 8 slices. If they eat it all, how many pieces do they eat that day?', 'result': '48', 'template_name': 6, 'idx': 61}, {'problem': 'Esmeralda Fagan is wondering how much pizza they can eat in one day. They buy 2 large pizzas and 2 small pizzas. A large pizzas has 16 slices and a small pizza has 8 slices. If they eat it all, how many pieces do they eat that day?', 'result': '48', 'template_name': 6, 'idx': 42}, {'problem': 'Marisa Yearwood is wondering how much pizza they can eat in one day. They buy 2 large pizzas and 2 small pizzas. A large pizzas has 16 slices and a small pizza has 8 slices. If they eat it all, how many pieces do they eat that day?', 'result': '48', 'template_name': 6, 'idx': 4}, {'problem': 'Shana Rincon is wondering how much pizza they can eat in one day. They buy 2 large pizzas and 2 small pizzas. A large pizzas has 16 slices and a small pizza has 8 slices. If they eat it all, how many pieces do they eat that day?', 'result': '48', 'template_name': 6, 'idx': 48}]\n",
      "\n",
      "[{'problem': 'Megan Jester created a care package to send to their brother, who was away at boarding school. Megan Jester placed a box on a scale, and then they poured into the box enough jelly beans to bring the weight to 2 pounds. Then, they added enough brownies to cause the weight to triple. Next, they added another 2 pounds of jelly beans. And finally, they added enough gummy worms to double the weight once again. What was the final weight of the box of goodies, in pounds?', 'result': '16', 'template_name': 7, 'idx': 65}, {'problem': 'Luke Banegas created a care package to send to their brother, who was away at boarding school. Luke Banegas placed a box on a scale, and then they poured into the box enough jelly beans to bring the weight to 2 pounds. Then, they added enough brownies to cause the weight to triple. Next, they added another 2 pounds of jelly beans. And finally, they added enough gummy worms to double the weight once again. What was the final weight of the box of goodies, in pounds?', 'result': '16', 'template_name': 7, 'idx': 20}, {'problem': 'Elliot Juares created a care package to send to their brother, who was away at boarding school. Elliot Juares placed a box on a scale, and then they poured into the box enough jelly beans to bring the weight to 2 pounds. Then, they added enough brownies to cause the weight to triple. Next, they added another 2 pounds of jelly beans. And finally, they added enough gummy worms to double the weight once again. What was the final weight of the box of goodies, in pounds?', 'result': '16', 'template_name': 7, 'idx': 17}, {'problem': 'Marilu Laing created a care package to send to their brother, who was away at boarding school. Marilu Laing placed a box on a scale, and then they poured into the box enough jelly beans to bring the weight to 2 pounds. Then, they added enough brownies to cause the weight to triple. Next, they added another 2 pounds of jelly beans. And finally, they added enough gummy worms to double the weight once again. What was the final weight of the box of goodies, in pounds?', 'result': '16', 'template_name': 7, 'idx': 95}, {'problem': 'Shana Rincon created a care package to send to their brother, who was away at boarding school. Shana Rincon placed a box on a scale, and then they poured into the box enough jelly beans to bring the weight to 2 pounds. Then, they added enough brownies to cause the weight to triple. Next, they added another 2 pounds of jelly beans. And finally, they added enough gummy worms to double the weight once again. What was the final weight of the box of goodies, in pounds?', 'result': '16', 'template_name': 7, 'idx': 48}, {'problem': 'Baltazar Calel created a care package to send to their brother, who was away at boarding school. Baltazar Calel placed a box on a scale, and then they poured into the box enough jelly beans to bring the weight to 2 pounds. Then, they added enough brownies to cause the weight to triple. Next, they added another 2 pounds of jelly beans. And finally, they added enough gummy worms to double the weight once again. What was the final weight of the box of goodies, in pounds?', 'result': '16', 'template_name': 7, 'idx': 37}, {'problem': 'Olivia Khatri created a care package to send to their brother, who was away at boarding school. Olivia Khatri placed a box on a scale, and then they poured into the box enough jelly beans to bring the weight to 2 pounds. Then, they added enough brownies to cause the weight to triple. Next, they added another 2 pounds of jelly beans. And finally, they added enough gummy worms to double the weight once again. What was the final weight of the box of goodies, in pounds?', 'result': '16', 'template_name': 7, 'idx': 43}, {'problem': 'Elvis Oldham created a care package to send to their brother, who was away at boarding school. Elvis Oldham placed a box on a scale, and then they poured into the box enough jelly beans to bring the weight to 2 pounds. Then, they added enough brownies to cause the weight to triple. Next, they added another 2 pounds of jelly beans. And finally, they added enough gummy worms to double the weight once again. What was the final weight of the box of goodies, in pounds?', 'result': '16', 'template_name': 7, 'idx': 47}, {'problem': 'Kenia Partridge created a care package to send to their brother, who was away at boarding school. Kenia Partridge placed a box on a scale, and then they poured into the box enough jelly beans to bring the weight to 2 pounds. Then, they added enough brownies to cause the weight to triple. Next, they added another 2 pounds of jelly beans. And finally, they added enough gummy worms to double the weight once again. What was the final weight of the box of goodies, in pounds?', 'result': '16', 'template_name': 7, 'idx': 78}, {'problem': 'Hanna Cantor created a care package to send to their brother, who was away at boarding school. Hanna Cantor placed a box on a scale, and then they poured into the box enough jelly beans to bring the weight to 2 pounds. Then, they added enough brownies to cause the weight to triple. Next, they added another 2 pounds of jelly beans. And finally, they added enough gummy worms to double the weight once again. What was the final weight of the box of goodies, in pounds?', 'result': '16', 'template_name': 7, 'idx': 77}]\n",
      "\n",
      "[{'problem': 'Chelsey Venkatesan is applying for a new job and bought a new set of business clothes to wear to the interview. They went to a department store with a budget of $200 and spent $30 on a button-up shirt, $46 on suit pants, $38 on a suit coat, $11 on socks, and $18 on a belt.They also purcahsed a pair of shoes, but lost the receipt for them. They have $16 left from their budget. How much did Chelsey Venkatesan pay for the shoes?', 'result': '41', 'template_name': 8, 'idx': 53}, {'problem': 'Lupe Geiger is applying for a new job and bought a new set of business clothes to wear to the interview. They went to a department store with a budget of $200 and spent $30 on a button-up shirt, $46 on suit pants, $38 on a suit coat, $11 on socks, and $18 on a belt.They also purcahsed a pair of shoes, but lost the receipt for them. They have $16 left from their budget. How much did Lupe Geiger pay for the shoes?', 'result': '41', 'template_name': 8, 'idx': 30}, {'problem': 'Micaela Shepard is applying for a new job and bought a new set of business clothes to wear to the interview. They went to a department store with a budget of $200 and spent $30 on a button-up shirt, $46 on suit pants, $38 on a suit coat, $11 on socks, and $18 on a belt.They also purcahsed a pair of shoes, but lost the receipt for them. They have $16 left from their budget. How much did Micaela Shepard pay for the shoes?', 'result': '41', 'template_name': 8, 'idx': 35}, {'problem': 'Damaris Mayes is applying for a new job and bought a new set of business clothes to wear to the interview. They went to a department store with a budget of $200 and spent $30 on a button-up shirt, $46 on suit pants, $38 on a suit coat, $11 on socks, and $18 on a belt.They also purcahsed a pair of shoes, but lost the receipt for them. They have $16 left from their budget. How much did Damaris Mayes pay for the shoes?', 'result': '41', 'template_name': 8, 'idx': 15}, {'problem': 'Homero Vargas is applying for a new job and bought a new set of business clothes to wear to the interview. They went to a department store with a budget of $200 and spent $30 on a button-up shirt, $46 on suit pants, $38 on a suit coat, $11 on socks, and $18 on a belt.They also purcahsed a pair of shoes, but lost the receipt for them. They have $16 left from their budget. How much did Homero Vargas pay for the shoes?', 'result': '41', 'template_name': 8, 'idx': 81}, {'problem': 'Kc Otis is applying for a new job and bought a new set of business clothes to wear to the interview. They went to a department store with a budget of $200 and spent $30 on a button-up shirt, $46 on suit pants, $38 on a suit coat, $11 on socks, and $18 on a belt.They also purcahsed a pair of shoes, but lost the receipt for them. They have $16 left from their budget. How much did Kc Otis pay for the shoes?', 'result': '41', 'template_name': 8, 'idx': 71}, {'problem': 'Jt Gumbs is applying for a new job and bought a new set of business clothes to wear to the interview. They went to a department store with a budget of $200 and spent $30 on a button-up shirt, $46 on suit pants, $38 on a suit coat, $11 on socks, and $18 on a belt.They also purcahsed a pair of shoes, but lost the receipt for them. They have $16 left from their budget. How much did Jt Gumbs pay for the shoes?', 'result': '41', 'template_name': 8, 'idx': 63}, {'problem': 'Estrella Betancur is applying for a new job and bought a new set of business clothes to wear to the interview. They went to a department store with a budget of $200 and spent $30 on a button-up shirt, $46 on suit pants, $38 on a suit coat, $11 on socks, and $18 on a belt.They also purcahsed a pair of shoes, but lost the receipt for them. They have $16 left from their budget. How much did Estrella Betancur pay for the shoes?', 'result': '41', 'template_name': 8, 'idx': 33}, {'problem': 'Irvin Gongora is applying for a new job and bought a new set of business clothes to wear to the interview. They went to a department store with a budget of $200 and spent $30 on a button-up shirt, $46 on suit pants, $38 on a suit coat, $11 on socks, and $18 on a belt.They also purcahsed a pair of shoes, but lost the receipt for them. They have $16 left from their budget. How much did Irvin Gongora pay for the shoes?', 'result': '41', 'template_name': 8, 'idx': 36}, {'problem': 'Walter Virginia is applying for a new job and bought a new set of business clothes to wear to the interview. They went to a department store with a budget of $200 and spent $30 on a button-up shirt, $46 on suit pants, $38 on a suit coat, $11 on socks, and $18 on a belt.They also purcahsed a pair of shoes, but lost the receipt for them. They have $16 left from their budget. How much did Walter Virginia pay for the shoes?', 'result': '41', 'template_name': 8, 'idx': 99}]\n",
      "\n",
      "[{'problem': 'Esmeralda Coulter makes $18 an hour. If they work more than 8 hours per shift, they are eligible for overtime, which is paid by your hourly wage + 1/2 your hourly wage. If they work 10 hours every day for 5 days, how much money do they make?', 'result': '990.0', 'template_name': 9, 'idx': 87}, {'problem': 'Mac Slattery makes $18 an hour. If they work more than 8 hours per shift, they are eligible for overtime, which is paid by your hourly wage + 1/2 your hourly wage. If they work 10 hours every day for 5 days, how much money do they make?', 'result': '990.0', 'template_name': 9, 'idx': 29}, {'problem': 'Mo Lam makes $18 an hour. If they work more than 8 hours per shift, they are eligible for overtime, which is paid by your hourly wage + 1/2 your hourly wage. If they work 10 hours every day for 5 days, how much money do they make?', 'result': '990.0', 'template_name': 9, 'idx': 49}, {'problem': 'Elvis Oldham makes $18 an hour. If they work more than 8 hours per shift, they are eligible for overtime, which is paid by your hourly wage + 1/2 your hourly wage. If they work 10 hours every day for 5 days, how much money do they make?', 'result': '990.0', 'template_name': 9, 'idx': 47}, {'problem': 'Jhonny Larin makes $18 an hour. If they work more than 8 hours per shift, they are eligible for overtime, which is paid by your hourly wage + 1/2 your hourly wage. If they work 10 hours every day for 5 days, how much money do they make?', 'result': '990.0', 'template_name': 9, 'idx': 56}, {'problem': 'Irvin Gongora makes $18 an hour. If they work more than 8 hours per shift, they are eligible for overtime, which is paid by your hourly wage + 1/2 your hourly wage. If they work 10 hours every day for 5 days, how much money do they make?', 'result': '990.0', 'template_name': 9, 'idx': 36}, {'problem': 'Ceci Colson makes $18 an hour. If they work more than 8 hours per shift, they are eligible for overtime, which is paid by your hourly wage + 1/2 your hourly wage. If they work 10 hours every day for 5 days, how much money do they make?', 'result': '990.0', 'template_name': 9, 'idx': 27}, {'problem': 'Victoria Tavares makes $18 an hour. If they work more than 8 hours per shift, they are eligible for overtime, which is paid by your hourly wage + 1/2 your hourly wage. If they work 10 hours every day for 5 days, how much money do they make?', 'result': '990.0', 'template_name': 9, 'idx': 84}, {'problem': 'Micaela Shepard makes $18 an hour. If they work more than 8 hours per shift, they are eligible for overtime, which is paid by your hourly wage + 1/2 your hourly wage. If they work 10 hours every day for 5 days, how much money do they make?', 'result': '990.0', 'template_name': 9, 'idx': 35}, {'problem': 'Adam Kidder makes $18 an hour. If they work more than 8 hours per shift, they are eligible for overtime, which is paid by your hourly wage + 1/2 your hourly wage. If they work 10 hours every day for 5 days, how much money do they make?', 'result': '990.0', 'template_name': 9, 'idx': 10}]\n",
      "\n"
     ]
    }
   ],
   "source": [
    "import os\n",
    "import random\n",
    "import json\n",
    "\n",
    "ablated_dataset = []\n",
    "folder_path = \"gsm_template/output\"\n",
    "for file_name in os.listdir(folder_path):\n",
    "    f_path = os.path.join(folder_path, file_name)\n",
    "\n",
    "    with open(f_path, 'r') as f:\n",
    "        lines = f.readlines()\n",
    "\n",
    "    random_lines = random.sample([json.loads(item.strip()) for item in lines], min(10, len(lines)))\n",
    "    print(random_lines)\n",
    "    print()\n",
    "\n",
    "    ablated_dataset.append(random_lines)\n"
   ]
  },
  {
   "cell_type": "markdown",
   "metadata": {},
   "source": [
    "We will use the following system prompt"
   ]
  },
  {
   "cell_type": "code",
   "execution_count": 5,
   "metadata": {},
   "outputs": [],
   "source": [
    "system_prompt= \\\n",
    "'''You are an expert math tutor specializing in grade-school-level problems like those in the GSM8K dataset. \n",
    "Solve each problem step by step, explaining the reasoning and calculations clearly and concisely to help the student understand the process. \n",
    "Please return your final answer after the delimiter \\\"####\\\" as a numeric number'''"
   ]
  },
  {
   "cell_type": "markdown",
   "metadata": {},
   "source": [
    "We can answer from gpt api using fewshots in context learning and system prompt"
   ]
  },
  {
   "cell_type": "code",
   "execution_count": null,
   "metadata": {},
   "outputs": [],
   "source": [
    "import re\n",
    "\n",
    "def extract_ans_from_response(answer: str, eos=None):\n",
    "    if eos:\n",
    "        answer = answer.split(eos)[0].strip()\n",
    "\n",
    "    answer = answer.split('####')[-1].strip()\n",
    "\n",
    "    for remove_char in [',', '$', '%', 'g']:\n",
    "        answer = answer.replace(remove_char, '')\n",
    "\n",
    "    try:\n",
    "        return int(answer)\n",
    "    except ValueError:\n",
    "        return answer\n",
    "\n",
    "def get_num_answer(text):\n",
    "    num_matches = re.findall(r'\\d+\\.?\\d*', text)\n",
    "\n",
    "    if not num_matches:\n",
    "        return None\n",
    "    \n",
    "    final_answer = num_matches[-1]\n",
    "\n",
    "    return final_answer\n",
    "\n",
    "# Implement the function answer_from_gpt(question,temperature,num_shots), which should return the gpt answer as a string\n",
    "# (see how it is called in the function evaluate_fewshots below)\n",
    "# temperature is the temperature parameter passed to gpt api\n",
    "# if num_shots>0, you should use the first num_shots examples in train_data for in-context learning\n",
    "# Please use the system prompt provided above (see lecture10-gpt.ipynb for examples of system prompt usage)\n",
    "#\n",
    "def answer_from_gpt(question, temperature, num_shots):\n",
    "    example = []\n",
    "\n",
    "    # if num_shots > 0:\n",
    "    #     for i in range(num_shots):\n",
    "    #         curr_ex = train_data[i]\n",
    "    #         example.append({\"role\": \"user\", \"content\": curr_ex['question']})\n",
    "    #         example.append({\"role\": \"assistant\", \"content\": curr_ex['answer']})\n",
    "\n",
    "    full_prompt = system_prompt + \"\\n\" + question\n",
    "    # print(\"Q: \", full_prompt)\n",
    "\n",
    "    messages = generate_gpt_response(prompt=full_prompt, messages=example, temperature=temperature)\n",
    "    answer = messages[-1][\"content\"]\n",
    "    # print(\"A: \", answer)\n",
    "    last_token = extract_ans_from_response(answer)\n",
    "    return last_token"
   ]
  },
  {
   "cell_type": "markdown",
   "metadata": {},
   "source": [
    "Evaluate on a small subset of gsm8k test data"
   ]
  },
  {
   "cell_type": "code",
   "execution_count": null,
   "metadata": {},
   "outputs": [
    {
     "name": "stdout",
     "output_type": "stream",
     "text": [
      "=== temperature=0 num_shots=0 ===\n"
     ]
    },
    {
     "name": "stderr",
     "output_type": "stream",
     "text": [
      " 10%|█         | 1/10 [00:03<00:27,  3.09s/it]"
     ]
    },
    {
     "name": "stdout",
     "output_type": "stream",
     "text": [
      "k=0: gpt_answer=72  true_answer=72\n"
     ]
    },
    {
     "name": "stderr",
     "output_type": "stream",
     "text": [
      " 20%|██        | 2/10 [00:06<00:27,  3.44s/it]"
     ]
    },
    {
     "name": "stdout",
     "output_type": "stream",
     "text": [
      "k=1: gpt_answer=72  true_answer=72\n"
     ]
    },
    {
     "name": "stderr",
     "output_type": "stream",
     "text": [
      " 30%|███       | 3/10 [00:10<00:23,  3.36s/it]"
     ]
    },
    {
     "name": "stdout",
     "output_type": "stream",
     "text": [
      "k=2: gpt_answer=72  true_answer=72\n"
     ]
    },
    {
     "name": "stderr",
     "output_type": "stream",
     "text": [
      " 40%|████      | 4/10 [00:14<00:23,  3.89s/it]"
     ]
    },
    {
     "name": "stdout",
     "output_type": "stream",
     "text": [
      "k=3: gpt_answer=72  true_answer=72\n"
     ]
    },
    {
     "name": "stderr",
     "output_type": "stream",
     "text": [
      " 50%|█████     | 5/10 [00:19<00:21,  4.21s/it]"
     ]
    },
    {
     "name": "stdout",
     "output_type": "stream",
     "text": [
      "k=4: gpt_answer=72  true_answer=72\n"
     ]
    },
    {
     "name": "stderr",
     "output_type": "stream",
     "text": [
      " 60%|██████    | 6/10 [00:21<00:14,  3.57s/it]"
     ]
    },
    {
     "name": "stdout",
     "output_type": "stream",
     "text": [
      "k=5: gpt_answer=72  true_answer=72\n"
     ]
    },
    {
     "name": "stderr",
     "output_type": "stream",
     "text": [
      " 70%|███████   | 7/10 [00:25<00:10,  3.48s/it]"
     ]
    },
    {
     "name": "stdout",
     "output_type": "stream",
     "text": [
      "k=6: gpt_answer=72  true_answer=72\n"
     ]
    },
    {
     "name": "stderr",
     "output_type": "stream",
     "text": [
      " 80%|████████  | 8/10 [00:30<00:07,  3.93s/it]"
     ]
    },
    {
     "name": "stdout",
     "output_type": "stream",
     "text": [
      "k=7: gpt_answer=72  true_answer=72\n"
     ]
    },
    {
     "name": "stderr",
     "output_type": "stream",
     "text": [
      " 90%|█████████ | 9/10 [00:34<00:03,  3.94s/it]"
     ]
    },
    {
     "name": "stdout",
     "output_type": "stream",
     "text": [
      "k=8: gpt_answer=72  true_answer=72\n"
     ]
    },
    {
     "name": "stderr",
     "output_type": "stream",
     "text": [
      "100%|██████████| 10/10 [00:39<00:00,  3.95s/it]\n"
     ]
    },
    {
     "name": "stdout",
     "output_type": "stream",
     "text": [
      "k=9: gpt_answer=72  true_answer=72\n",
      "accuracy=1.00\n",
      "\n"
     ]
    },
    {
     "name": "stderr",
     "output_type": "stream",
     "text": [
      " 10%|█         | 1/10 [00:04<00:36,  4.02s/it]"
     ]
    },
    {
     "name": "stdout",
     "output_type": "stream",
     "text": [
      "k=0: gpt_answer=10  true_answer=10\n"
     ]
    },
    {
     "name": "stderr",
     "output_type": "stream",
     "text": [
      " 20%|██        | 2/10 [00:07<00:27,  3.44s/it]"
     ]
    },
    {
     "name": "stdout",
     "output_type": "stream",
     "text": [
      "k=1: gpt_answer=10  true_answer=10\n"
     ]
    },
    {
     "name": "stderr",
     "output_type": "stream",
     "text": [
      " 30%|███       | 3/10 [00:13<00:34,  4.96s/it]"
     ]
    },
    {
     "name": "stdout",
     "output_type": "stream",
     "text": [
      "k=2: gpt_answer=10  true_answer=10\n"
     ]
    },
    {
     "name": "stderr",
     "output_type": "stream",
     "text": [
      " 40%|████      | 4/10 [00:18<00:30,  5.02s/it]"
     ]
    },
    {
     "name": "stdout",
     "output_type": "stream",
     "text": [
      "k=3: gpt_answer=10  true_answer=10\n"
     ]
    },
    {
     "name": "stderr",
     "output_type": "stream",
     "text": [
      " 50%|█████     | 5/10 [00:22<00:23,  4.65s/it]"
     ]
    },
    {
     "name": "stdout",
     "output_type": "stream",
     "text": [
      "k=4: gpt_answer=10  true_answer=10\n"
     ]
    },
    {
     "name": "stderr",
     "output_type": "stream",
     "text": [
      " 60%|██████    | 6/10 [00:26<00:16,  4.17s/it]"
     ]
    },
    {
     "name": "stdout",
     "output_type": "stream",
     "text": [
      "k=5: gpt_answer=10  true_answer=10\n"
     ]
    },
    {
     "name": "stderr",
     "output_type": "stream",
     "text": [
      " 70%|███████   | 7/10 [00:30<00:12,  4.06s/it]"
     ]
    },
    {
     "name": "stdout",
     "output_type": "stream",
     "text": [
      "k=6: gpt_answer=10  true_answer=10\n"
     ]
    },
    {
     "name": "stderr",
     "output_type": "stream",
     "text": [
      " 80%|████████  | 8/10 [00:34<00:08,  4.24s/it]"
     ]
    },
    {
     "name": "stdout",
     "output_type": "stream",
     "text": [
      "k=7: gpt_answer=10  true_answer=10\n"
     ]
    },
    {
     "name": "stderr",
     "output_type": "stream",
     "text": [
      " 90%|█████████ | 9/10 [00:43<00:05,  5.55s/it]"
     ]
    },
    {
     "name": "stdout",
     "output_type": "stream",
     "text": [
      "k=8: gpt_answer=10  true_answer=10\n"
     ]
    },
    {
     "name": "stderr",
     "output_type": "stream",
     "text": [
      "100%|██████████| 10/10 [00:47<00:00,  4.71s/it]\n"
     ]
    },
    {
     "name": "stdout",
     "output_type": "stream",
     "text": [
      "k=9: gpt_answer=10  true_answer=10\n",
      "accuracy=1.00\n",
      "\n"
     ]
    },
    {
     "name": "stderr",
     "output_type": "stream",
     "text": [
      " 10%|█         | 1/10 [00:03<00:35,  3.98s/it]"
     ]
    },
    {
     "name": "stdout",
     "output_type": "stream",
     "text": [
      "k=0: gpt_answer=5  true_answer=5.0\n"
     ]
    },
    {
     "name": "stderr",
     "output_type": "stream",
     "text": [
      " 20%|██        | 2/10 [00:08<00:33,  4.16s/it]"
     ]
    },
    {
     "name": "stdout",
     "output_type": "stream",
     "text": [
      "k=1: gpt_answer=5  true_answer=5.0\n"
     ]
    },
    {
     "name": "stderr",
     "output_type": "stream",
     "text": [
      " 30%|███       | 3/10 [00:14<00:35,  5.05s/it]"
     ]
    },
    {
     "name": "stdout",
     "output_type": "stream",
     "text": [
      "k=2: gpt_answer=5  true_answer=5.0\n"
     ]
    },
    {
     "name": "stderr",
     "output_type": "stream",
     "text": [
      " 40%|████      | 4/10 [00:21<00:34,  5.77s/it]"
     ]
    },
    {
     "name": "stdout",
     "output_type": "stream",
     "text": [
      "k=3: gpt_answer=5  true_answer=5.0\n"
     ]
    },
    {
     "name": "stderr",
     "output_type": "stream",
     "text": [
      " 50%|█████     | 5/10 [00:25<00:26,  5.22s/it]"
     ]
    },
    {
     "name": "stdout",
     "output_type": "stream",
     "text": [
      "k=4: gpt_answer=5  true_answer=5.0\n"
     ]
    },
    {
     "name": "stderr",
     "output_type": "stream",
     "text": [
      " 60%|██████    | 6/10 [00:36<00:28,  7.02s/it]"
     ]
    },
    {
     "name": "stdout",
     "output_type": "stream",
     "text": [
      "k=5: gpt_answer=5  true_answer=5.0\n"
     ]
    },
    {
     "name": "stderr",
     "output_type": "stream",
     "text": [
      " 70%|███████   | 7/10 [00:40<00:19,  6.34s/it]"
     ]
    },
    {
     "name": "stdout",
     "output_type": "stream",
     "text": [
      "k=6: gpt_answer=5  true_answer=5.0\n"
     ]
    },
    {
     "name": "stderr",
     "output_type": "stream",
     "text": [
      " 80%|████████  | 8/10 [00:45<00:11,  5.71s/it]"
     ]
    },
    {
     "name": "stdout",
     "output_type": "stream",
     "text": [
      "k=7: gpt_answer=5  true_answer=5.0\n"
     ]
    },
    {
     "name": "stderr",
     "output_type": "stream",
     "text": [
      " 90%|█████████ | 9/10 [00:56<00:07,  7.43s/it]"
     ]
    },
    {
     "name": "stdout",
     "output_type": "stream",
     "text": [
      "k=8: gpt_answer=5  true_answer=5.0\n"
     ]
    },
    {
     "name": "stderr",
     "output_type": "stream",
     "text": [
      "100%|██████████| 10/10 [01:01<00:00,  6.18s/it]\n"
     ]
    },
    {
     "name": "stdout",
     "output_type": "stream",
     "text": [
      "k=9: gpt_answer=5  true_answer=5.0\n",
      "accuracy=1.00\n",
      "\n"
     ]
    },
    {
     "name": "stderr",
     "output_type": "stream",
     "text": [
      " 10%|█         | 1/10 [00:05<00:50,  5.57s/it]"
     ]
    },
    {
     "name": "stdout",
     "output_type": "stream",
     "text": [
      "k=0: gpt_answer=42  true_answer=42\n"
     ]
    },
    {
     "name": "stderr",
     "output_type": "stream",
     "text": [
      " 20%|██        | 2/10 [00:09<00:37,  4.71s/it]"
     ]
    },
    {
     "name": "stdout",
     "output_type": "stream",
     "text": [
      "k=1: gpt_answer=42  true_answer=42\n"
     ]
    },
    {
     "name": "stderr",
     "output_type": "stream",
     "text": [
      " 30%|███       | 3/10 [00:13<00:28,  4.13s/it]"
     ]
    },
    {
     "name": "stdout",
     "output_type": "stream",
     "text": [
      "k=2: gpt_answer=42  true_answer=42\n"
     ]
    },
    {
     "name": "stderr",
     "output_type": "stream",
     "text": [
      " 40%|████      | 4/10 [00:15<00:20,  3.46s/it]"
     ]
    },
    {
     "name": "stdout",
     "output_type": "stream",
     "text": [
      "k=3: gpt_answer=42  true_answer=42\n"
     ]
    },
    {
     "name": "stderr",
     "output_type": "stream",
     "text": [
      " 50%|█████     | 5/10 [00:19<00:18,  3.61s/it]"
     ]
    },
    {
     "name": "stdout",
     "output_type": "stream",
     "text": [
      "k=4: gpt_answer=42  true_answer=42\n"
     ]
    },
    {
     "name": "stderr",
     "output_type": "stream",
     "text": [
      " 60%|██████    | 6/10 [00:23<00:15,  3.79s/it]"
     ]
    },
    {
     "name": "stdout",
     "output_type": "stream",
     "text": [
      "k=5: gpt_answer=42  true_answer=42\n"
     ]
    },
    {
     "name": "stderr",
     "output_type": "stream",
     "text": [
      " 70%|███████   | 7/10 [00:27<00:11,  3.71s/it]"
     ]
    },
    {
     "name": "stdout",
     "output_type": "stream",
     "text": [
      "k=6: gpt_answer=42  true_answer=42\n"
     ]
    },
    {
     "name": "stderr",
     "output_type": "stream",
     "text": [
      " 80%|████████  | 8/10 [00:32<00:08,  4.29s/it]"
     ]
    },
    {
     "name": "stdout",
     "output_type": "stream",
     "text": [
      "k=7: gpt_answer=42  true_answer=42\n"
     ]
    },
    {
     "name": "stderr",
     "output_type": "stream",
     "text": [
      " 90%|█████████ | 9/10 [00:36<00:04,  4.17s/it]"
     ]
    },
    {
     "name": "stdout",
     "output_type": "stream",
     "text": [
      "k=8: gpt_answer=42  true_answer=42\n"
     ]
    },
    {
     "name": "stderr",
     "output_type": "stream",
     "text": [
      "100%|██████████| 10/10 [00:39<00:00,  3.90s/it]\n"
     ]
    },
    {
     "name": "stdout",
     "output_type": "stream",
     "text": [
      "k=9: gpt_answer=42  true_answer=42\n",
      "accuracy=1.00\n",
      "\n"
     ]
    },
    {
     "name": "stderr",
     "output_type": "stream",
     "text": [
      " 10%|█         | 1/10 [00:06<00:59,  6.60s/it]"
     ]
    },
    {
     "name": "stdout",
     "output_type": "stream",
     "text": [
      "k=0: gpt_answer=624  true_answer=624\n"
     ]
    },
    {
     "name": "stderr",
     "output_type": "stream",
     "text": [
      " 20%|██        | 2/10 [00:13<00:53,  6.73s/it]"
     ]
    },
    {
     "name": "stdout",
     "output_type": "stream",
     "text": [
      "k=1: gpt_answer=624  true_answer=624\n"
     ]
    },
    {
     "name": "stderr",
     "output_type": "stream",
     "text": [
      " 30%|███       | 3/10 [00:16<00:35,  5.09s/it]"
     ]
    },
    {
     "name": "stdout",
     "output_type": "stream",
     "text": [
      "k=2: gpt_answer=624  true_answer=624\n"
     ]
    },
    {
     "name": "stderr",
     "output_type": "stream",
     "text": [
      " 40%|████      | 4/10 [00:21<00:29,  4.83s/it]"
     ]
    },
    {
     "name": "stdout",
     "output_type": "stream",
     "text": [
      "k=3: gpt_answer=312  true_answer=624\n"
     ]
    },
    {
     "name": "stderr",
     "output_type": "stream",
     "text": [
      " 50%|█████     | 5/10 [00:25<00:22,  4.58s/it]"
     ]
    },
    {
     "name": "stdout",
     "output_type": "stream",
     "text": [
      "k=4: gpt_answer=312  true_answer=624\n"
     ]
    },
    {
     "name": "stderr",
     "output_type": "stream",
     "text": [
      " 60%|██████    | 6/10 [00:30<00:19,  4.90s/it]"
     ]
    },
    {
     "name": "stdout",
     "output_type": "stream",
     "text": [
      "k=5: gpt_answer=312  true_answer=624\n"
     ]
    },
    {
     "name": "stderr",
     "output_type": "stream",
     "text": [
      " 70%|███████   | 7/10 [00:34<00:13,  4.53s/it]"
     ]
    },
    {
     "name": "stdout",
     "output_type": "stream",
     "text": [
      "k=6: gpt_answer=624  true_answer=624\n"
     ]
    },
    {
     "name": "stderr",
     "output_type": "stream",
     "text": [
      " 80%|████████  | 8/10 [00:37<00:08,  4.21s/it]"
     ]
    },
    {
     "name": "stdout",
     "output_type": "stream",
     "text": [
      "k=7: gpt_answer=312  true_answer=624\n"
     ]
    },
    {
     "name": "stderr",
     "output_type": "stream",
     "text": [
      " 90%|█████████ | 9/10 [00:41<00:03,  3.94s/it]"
     ]
    },
    {
     "name": "stdout",
     "output_type": "stream",
     "text": [
      "k=8: gpt_answer=312  true_answer=624\n"
     ]
    },
    {
     "name": "stderr",
     "output_type": "stream",
     "text": [
      "100%|██████████| 10/10 [00:48<00:00,  4.84s/it]\n"
     ]
    },
    {
     "name": "stdout",
     "output_type": "stream",
     "text": [
      "k=9: gpt_answer=624  true_answer=624\n",
      "accuracy=0.50\n",
      "\n"
     ]
    },
    {
     "name": "stderr",
     "output_type": "stream",
     "text": [
      " 10%|█         | 1/10 [00:07<01:08,  7.66s/it]"
     ]
    },
    {
     "name": "stdout",
     "output_type": "stream",
     "text": [
      "k=0: gpt_answer=35  true_answer=35\n"
     ]
    },
    {
     "name": "stderr",
     "output_type": "stream",
     "text": [
      " 20%|██        | 2/10 [00:13<00:51,  6.39s/it]"
     ]
    },
    {
     "name": "stdout",
     "output_type": "stream",
     "text": [
      "k=1: gpt_answer=35  true_answer=35\n"
     ]
    },
    {
     "name": "stderr",
     "output_type": "stream",
     "text": [
      " 30%|███       | 3/10 [00:19<00:42,  6.14s/it]"
     ]
    },
    {
     "name": "stdout",
     "output_type": "stream",
     "text": [
      "k=2: gpt_answer=35  true_answer=35\n"
     ]
    },
    {
     "name": "stderr",
     "output_type": "stream",
     "text": [
      " 40%|████      | 4/10 [00:23<00:32,  5.36s/it]"
     ]
    },
    {
     "name": "stdout",
     "output_type": "stream",
     "text": [
      "k=3: gpt_answer=35  true_answer=35\n"
     ]
    },
    {
     "name": "stderr",
     "output_type": "stream",
     "text": [
      " 50%|█████     | 5/10 [00:45<00:57, 11.46s/it]"
     ]
    },
    {
     "name": "stdout",
     "output_type": "stream",
     "text": [
      "k=4: gpt_answer=35  true_answer=35\n"
     ]
    },
    {
     "name": "stderr",
     "output_type": "stream",
     "text": [
      " 60%|██████    | 6/10 [00:50<00:37,  9.44s/it]"
     ]
    },
    {
     "name": "stdout",
     "output_type": "stream",
     "text": [
      "k=5: gpt_answer=35  true_answer=35\n"
     ]
    },
    {
     "name": "stderr",
     "output_type": "stream",
     "text": [
      " 70%|███████   | 7/10 [00:55<00:23,  7.86s/it]"
     ]
    },
    {
     "name": "stdout",
     "output_type": "stream",
     "text": [
      "k=6: gpt_answer=35  true_answer=35\n"
     ]
    },
    {
     "name": "stderr",
     "output_type": "stream",
     "text": [
      " 80%|████████  | 8/10 [01:00<00:13,  6.93s/it]"
     ]
    },
    {
     "name": "stdout",
     "output_type": "stream",
     "text": [
      "k=7: gpt_answer=35  true_answer=35\n"
     ]
    },
    {
     "name": "stderr",
     "output_type": "stream",
     "text": [
      " 90%|█████████ | 9/10 [01:07<00:06,  6.94s/it]"
     ]
    },
    {
     "name": "stdout",
     "output_type": "stream",
     "text": [
      "k=8: gpt_answer=35  true_answer=35\n"
     ]
    },
    {
     "name": "stderr",
     "output_type": "stream",
     "text": [
      "100%|██████████| 10/10 [01:15<00:00,  7.54s/it]\n"
     ]
    },
    {
     "name": "stdout",
     "output_type": "stream",
     "text": [
      "k=9: gpt_answer=35  true_answer=35\n",
      "accuracy=1.00\n",
      "\n"
     ]
    },
    {
     "name": "stderr",
     "output_type": "stream",
     "text": [
      " 10%|█         | 1/10 [00:03<00:35,  3.98s/it]"
     ]
    },
    {
     "name": "stdout",
     "output_type": "stream",
     "text": [
      "k=0: gpt_answer=48  true_answer=48\n"
     ]
    }
   ],
   "source": [
    "def evaluate_fewshots(data, temperature,num_shots):\n",
    "    num_corrects=0\n",
    "    for k in  tqdm(range(len(data))):\n",
    "        gpt_answer=answer_from_gpt(data[k]['problem'],temperature=temperature,num_shots=num_shots)\n",
    "        true_answer= data[k]['result']\n",
    "        print(f'k={k}: gpt_answer={gpt_answer}  true_answer={true_answer}')   # this is for debug only\n",
    "        if float(gpt_answer) == float(true_answer):\n",
    "            num_corrects += 1\n",
    "    print(f'accuracy={num_corrects/len(data):0.2f}')\n",
    "\n",
    "temperature = 0\n",
    "num_shots = 0\n",
    "\n",
    "print(f'=== temperature={temperature} num_shots={num_shots} ===')\n",
    "for i in range(len(ablated_dataset)):\n",
    "    curr_ablation = ablated_dataset[i]\n",
    "\n",
    "    print(\"Question \", i)\n",
    "    evaluate_fewshots(curr_ablation, temperature,num_shots)\n",
    "    print()"
   ]
  }
 ],
 "metadata": {
  "kernelspec": {
   "display_name": "venv",
   "language": "python",
   "name": "python3"
  },
  "language_info": {
   "codemirror_mode": {
    "name": "ipython",
    "version": 3
   },
   "file_extension": ".py",
   "mimetype": "text/x-python",
   "name": "python",
   "nbconvert_exporter": "python",
   "pygments_lexer": "ipython3",
   "version": "3.9.13"
  }
 },
 "nbformat": 4,
 "nbformat_minor": 4
}
