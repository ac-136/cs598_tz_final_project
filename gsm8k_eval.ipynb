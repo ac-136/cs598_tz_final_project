{
 "cells": [
  {
   "cell_type": "markdown",
   "metadata": {},
   "source": [
    "Code from A3 problem1-prompt.ipynb and https://github.com/SewoongLee/reproduce-llama3-arithmetic/blob/main/llama3-tutorial-gsm8k.ipynb"
   ]
  },
  {
   "cell_type": "markdown",
   "metadata": {},
   "source": [
    "You need to set your OPENAI_API_KEY environment variable in .env"
   ]
  },
  {
   "cell_type": "code",
   "execution_count": 1,
   "metadata": {},
   "outputs": [
    {
     "name": "stdout",
     "output_type": "stream",
     "text": [
      "cannot find .env file\n"
     ]
    }
   ],
   "source": [
    "from openai import OpenAI\n",
    "from tqdm import tqdm\n",
    "import textwrap\n",
    "import dotenv\n",
    "import os\n",
    "%load_ext dotenv\n",
    "%dotenv\n",
    "\n",
    "client=OpenAI(api_key=os.environ.get(\"OPENAI_API_KEY\"))\n",
    "\n",
    "# we use gpt-4o-mini as default: current pricing is \n",
    "# $0.150 / 1M input tokens, $0.600 / 1M output tokens\n",
    "def generate_gpt_response(prompt,messages=[], model=\"gpt-4o-mini\", temperature=0.7):\n",
    "    messages.append({\"role\": \"user\", \"content\": prompt})\n",
    "            \n",
    "    response = client.chat.completions.create(\n",
    "        model=model,\n",
    "        messages=messages,\n",
    "        temperature = temperature\n",
    "    )\n",
    "    content=response.choices[0].message.content\n",
    "    messages.append({'role': 'assistant', 'content': content})\n",
    "    return messages\n",
    "\n",
    "\n",
    "def print_message(message, width=80):\n",
    "    text=message[\"role\"]+\": \" + message[\"content\"]\n",
    "    wrapped_text = textwrap.fill(text, width=width)\n",
    "    \n",
    "    for line in wrapped_text.split('\\n'):\n",
    "        print(f\" {line.ljust(width)} \")        \n",
    "    "
   ]
  },
  {
   "cell_type": "markdown",
   "metadata": {},
   "source": [
    "load gsm8k dataset"
   ]
  },
  {
   "cell_type": "code",
   "execution_count": 2,
   "metadata": {},
   "outputs": [
    {
     "name": "stdout",
     "output_type": "stream",
     "text": [
      "Q:\n",
      "Natalia sold clips to 48 of her friends in April, and then she sold half as many clips in May. How many clips did Natalia sell altogether in April and May?\n",
      "\n",
      "Q:\n",
      "Weng earns $12 an hour for babysitting. Yesterday, she just did 50 minutes of babysitting. How much did she earn?\n",
      "\n",
      "Q:\n",
      "Betty is saving money for a new wallet which costs $100. Betty has only half of the money she needs. Her parents decided to give her $15 for that purpose, and her grandparents twice as much as her parents. How much more money does Betty need to buy the wallet?\n",
      "\n",
      "Q:\n",
      "Julie is reading a 120-page book. Yesterday, she was able to read 12 pages and today, she read twice as many pages as yesterday. If she wants to read half of the remaining pages tomorrow, how many pages should she read?\n",
      "\n",
      "Q:\n",
      "James writes a 3-page letter to 2 different friends twice a week.  How many pages does he write a year?\n",
      "\n",
      "Q:\n",
      "Mark has a garden with flowers. He planted plants of three different colors in it. Ten of them are yellow, and there are 80% more of those in purple. There are only 25% as many green flowers as there are yellow and purple flowers. How many flowers does Mark have in his garden?\n",
      "\n",
      "Q:\n",
      "Albert is wondering how much pizza he can eat in one day. He buys 2 large pizzas and 2 small pizzas. A large pizza has 16 slices and a small pizza has 8 slices. If he eats it all, how many pieces does he eat that day?\n",
      "\n",
      "Q:\n",
      "Ken created a care package to send to his brother, who was away at boarding school.  Ken placed a box on a scale, and then he poured into the box enough jelly beans to bring the weight to 2 pounds.  Then, he added enough brownies to cause the weight to triple.  Next, he added another 2 pounds of jelly beans.  And finally, he added enough gummy worms to double the weight once again.  What was the final weight of the box of goodies, in pounds?\n",
      "\n",
      "Q:\n",
      "Alexis is applying for a new job and bought a new set of business clothes to wear to the interview. She went to a department store with a budget of $200 and spent $30 on a button-up shirt, $46 on suit pants, $38 on a suit coat, $11 on socks, and $18 on a belt. She also purchased a pair of shoes, but lost the receipt for them. She has $16 left from her budget. How much did Alexis pay for the shoes?\n",
      "\n",
      "Q:\n",
      "Tina makes $18.00 an hour.  If she works more than 8 hours per shift, she is eligible for overtime, which is paid by your hourly wage + 1/2 your hourly wage.  If she works 10 hours every day for 5 days, how much money does she make?\n",
      "\n"
     ]
    }
   ],
   "source": [
    "from datasets import load_dataset\n",
    "\n",
    "dataset = load_dataset(\"gsm8k\",'main')\n",
    "\n",
    "train_data = dataset['train'].select(range(10))\n",
    "test_data = dataset['test'].select(range(10))\n",
    "\n",
    "for i in range(len(train_data)):\n",
    "    print('Q:')\n",
    "    print(train_data[i]['question'])\n",
    "    print()\n",
    "# print('A:')\n",
    "# print(train_data[0]['answer'])\n"
   ]
  },
  {
   "cell_type": "markdown",
   "metadata": {},
   "source": [
    "We will use the following system prompt"
   ]
  },
  {
   "cell_type": "code",
   "execution_count": 3,
   "metadata": {},
   "outputs": [],
   "source": [
    "system_prompt= \\\n",
    "'''You are an expert math tutor specializing in grade-school-level problems like those in the GSM8K dataset. \n",
    "Solve each problem step by step, explaining the reasoning and calculations clearly and concisely to help the student understand the process. \n",
    "Please return your final answer after the delimiter \\\"####\\\" as a numeric number'''"
   ]
  },
  {
   "cell_type": "markdown",
   "metadata": {},
   "source": [
    "We can answer from gpt api using fewshots in context learning and system prompt"
   ]
  },
  {
   "cell_type": "code",
   "execution_count": 5,
   "metadata": {},
   "outputs": [],
   "source": [
    "import re\n",
    "\n",
    "def extract_ans_from_response(answer: str, eos=None):\n",
    "    if eos:\n",
    "        answer = answer.split(eos)[0].strip()\n",
    "\n",
    "    answer = answer.split('####')[-1].strip()\n",
    "\n",
    "    for remove_char in [',', '$', '%', 'g']:\n",
    "        answer = answer.replace(remove_char, '')\n",
    "\n",
    "    try:\n",
    "        return int(answer)\n",
    "    except ValueError:\n",
    "        return answer\n",
    "\n",
    "def get_num_answer(text):\n",
    "    num_matches = re.findall(r'\\d+\\.?\\d*', text)\n",
    "\n",
    "    if not num_matches:\n",
    "        return None\n",
    "    \n",
    "    final_answer = num_matches[-1]\n",
    "\n",
    "    return final_answer\n",
    "\n",
    "# Implement the function answer_from_gpt(question,temperature,num_shots), which should return the gpt answer as a string\n",
    "# (see how it is called in the function evaluate_fewshots below)\n",
    "# temperature is the temperature parameter passed to gpt api\n",
    "# if num_shots>0, you should use the first num_shots examples in train_data for in-context learning\n",
    "# Please use the system prompt provided above (see lecture10-gpt.ipynb for examples of system prompt usage)\n",
    "#\n",
    "def answer_from_gpt(question, temperature, num_shots):\n",
    "    example = []\n",
    "\n",
    "    if num_shots > 0:\n",
    "        for i in range(num_shots):\n",
    "            curr_ex = train_data[i]\n",
    "            example.append({\"role\": \"user\", \"content\": curr_ex['question']})\n",
    "            example.append({\"role\": \"assistant\", \"content\": curr_ex['answer']})\n",
    "\n",
    "    full_prompt = system_prompt + \"\\n\" + question\n",
    "    # print(\"Q: \", full_prompt)\n",
    "\n",
    "    messages = generate_gpt_response(prompt=full_prompt, messages=example, temperature=temperature)\n",
    "    answer = messages[-1][\"content\"]\n",
    "    # print(\"A: \", answer)\n",
    "    last_token = extract_ans_from_response(answer)\n",
    "    return last_token"
   ]
  },
  {
   "cell_type": "markdown",
   "metadata": {},
   "source": [
    "Evaluate on a small subset of gsm8k test data"
   ]
  },
  {
   "cell_type": "code",
   "execution_count": null,
   "metadata": {},
   "outputs": [
    {
     "name": "stdout",
     "output_type": "stream",
     "text": [
      "=== temperature=0 num_shots=0 ===\n"
     ]
    },
    {
     "name": "stderr",
     "output_type": "stream",
     "text": [
      " 10%|█         | 1/10 [00:04<00:40,  4.53s/it]"
     ]
    },
    {
     "name": "stdout",
     "output_type": "stream",
     "text": [
      "k=0: gpt_answer=18  true_answer=18\n"
     ]
    },
    {
     "name": "stderr",
     "output_type": "stream",
     "text": [
      " 20%|██        | 2/10 [00:08<00:33,  4.14s/it]"
     ]
    },
    {
     "name": "stdout",
     "output_type": "stream",
     "text": [
      "k=1: gpt_answer=3  true_answer=3\n"
     ]
    },
    {
     "name": "stderr",
     "output_type": "stream",
     "text": [
      " 30%|███       | 3/10 [00:13<00:31,  4.56s/it]"
     ]
    },
    {
     "name": "stdout",
     "output_type": "stream",
     "text": [
      "k=2: gpt_answer=70000  true_answer=70000\n"
     ]
    },
    {
     "name": "stderr",
     "output_type": "stream",
     "text": [
      " 40%|████      | 4/10 [00:15<00:20,  3.47s/it]"
     ]
    },
    {
     "name": "stdout",
     "output_type": "stream",
     "text": [
      "k=3: gpt_answer=540  true_answer=540\n"
     ]
    },
    {
     "name": "stderr",
     "output_type": "stream",
     "text": [
      " 50%|█████     | 5/10 [00:25<00:29,  5.89s/it]"
     ]
    },
    {
     "name": "stdout",
     "output_type": "stream",
     "text": [
      "k=4: gpt_answer=20  true_answer=20\n"
     ]
    },
    {
     "name": "stderr",
     "output_type": "stream",
     "text": [
      " 60%|██████    | 6/10 [00:33<00:26,  6.50s/it]"
     ]
    },
    {
     "name": "stdout",
     "output_type": "stream",
     "text": [
      "k=5: gpt_answer=64  true_answer=64\n"
     ]
    },
    {
     "name": "stderr",
     "output_type": "stream",
     "text": [
      " 70%|███████   | 7/10 [00:36<00:16,  5.53s/it]"
     ]
    },
    {
     "name": "stdout",
     "output_type": "stream",
     "text": [
      "k=6: gpt_answer=260  true_answer=260\n"
     ]
    },
    {
     "name": "stderr",
     "output_type": "stream",
     "text": [
      " 80%|████████  | 8/10 [00:42<00:11,  5.76s/it]"
     ]
    },
    {
     "name": "stdout",
     "output_type": "stream",
     "text": [
      "k=7: gpt_answer=120  true_answer=160\n"
     ]
    },
    {
     "name": "stderr",
     "output_type": "stream",
     "text": [
      " 90%|█████████ | 9/10 [00:51<00:06,  6.50s/it]"
     ]
    },
    {
     "name": "stdout",
     "output_type": "stream",
     "text": [
      "k=8: gpt_answer=45  true_answer=45\n"
     ]
    },
    {
     "name": "stderr",
     "output_type": "stream",
     "text": [
      "100%|██████████| 10/10 [00:55<00:00,  5.50s/it]"
     ]
    },
    {
     "name": "stdout",
     "output_type": "stream",
     "text": [
      "k=9: gpt_answer=460  true_answer=460\n",
      "accuracy=0.90\n"
     ]
    },
    {
     "name": "stderr",
     "output_type": "stream",
     "text": [
      "\n"
     ]
    }
   ],
   "source": [
    "def evaluate_fewshots(temperature,num_shots):\n",
    "    num_corrects=0\n",
    "    for k in  tqdm(range(len(train_data))):\n",
    "        gpt_answer=answer_from_gpt(train_data[k]['question'],temperature=temperature,num_shots=num_shots)\n",
    "        true_answer= train_data[k]['answer'].split()[-1]\n",
    "        print(f'k={k}: gpt_answer={gpt_answer}  true_answer={true_answer}')   # this is for debug only\n",
    "        if float(gpt_answer) == float(true_answer):\n",
    "            num_corrects += 1\n",
    "    print(f'accuracy={num_corrects/len(train_data):0.2f}')\n",
    "\n",
    "temperature = 0\n",
    "num_shots = 0\n",
    "\n",
    "print(f'=== temperature={temperature} num_shots={num_shots} ===')\n",
    "evaluate_fewshots(temperature,num_shots)"
   ]
  }
 ],
 "metadata": {
  "kernelspec": {
   "display_name": "venv",
   "language": "python",
   "name": "python3"
  },
  "language_info": {
   "codemirror_mode": {
    "name": "ipython",
    "version": 3
   },
   "file_extension": ".py",
   "mimetype": "text/x-python",
   "name": "python",
   "nbconvert_exporter": "python",
   "pygments_lexer": "ipython3",
   "version": "3.9.13"
  }
 },
 "nbformat": 4,
 "nbformat_minor": 4
}
