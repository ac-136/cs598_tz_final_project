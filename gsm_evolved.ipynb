{
 "cells": [
  {
   "cell_type": "code",
   "execution_count": 1,
   "metadata": {},
   "outputs": [
    {
     "data": {
      "application/vnd.jupyter.widget-view+json": {
       "model_id": "01013ad88d76441cb0da696b33977ed2",
       "version_major": 2,
       "version_minor": 0
      },
      "text/plain": [
       "Resolving data files:   0%|          | 0/7473 [00:00<?, ?it/s]"
      ]
     },
     "metadata": {},
     "output_type": "display_data"
    },
    {
     "data": {
      "application/vnd.jupyter.widget-view+json": {
       "model_id": "1e83aeeb22ee4876afdf57c2d5381cd5",
       "version_major": 2,
       "version_minor": 0
      },
      "text/plain": [
       "Resolving data files:   0%|          | 0/1000 [00:00<?, ?it/s]"
      ]
     },
     "metadata": {},
     "output_type": "display_data"
    }
   ],
   "source": [
    "from datasets import load_dataset\n",
    "\n",
    "dataset = load_dataset(\"math-ai/TemplateGSM\", \"templategsm-1000-1k\")[\"train\"]"
   ]
  },
  {
   "cell_type": "markdown",
   "metadata": {},
   "source": [
    "Get 10 random template indices"
   ]
  },
  {
   "cell_type": "code",
   "execution_count": 65,
   "metadata": {},
   "outputs": [
    {
     "name": "stdout",
     "output_type": "stream",
     "text": [
      "[0, 4, 7, 9, 12, 14, 15, 19, 24, 26, 29, 31, 32, 33, 34, 39, 44, 46, 47, 48]\n",
      "20\n"
     ]
    },
    {
     "name": "stderr",
     "output_type": "stream",
     "text": [
      "C:\\Users\\ashle\\AppData\\Local\\Temp\\ipykernel_23004\\1203988708.py:8: DeprecationWarning: Sampling from a set deprecated\n",
      "since Python 3.9 and will be removed in a subsequent version.\n",
      "  random_ints = random.sample(available_numbers, 20)\n"
     ]
    }
   ],
   "source": [
    "import random\n",
    "\n",
    "random.seed(72)\n",
    "\n",
    "# Pick 10 random integers between 0 and 50\n",
    "exclude_numbers = [10, 11, 13, 16, 22, 23, 30, 21, 28, 45, 36, 49, 42, 43, 37, 41]\n",
    "available_numbers = set(range(50)) - set(exclude_numbers)\n",
    "random_ints = random.sample(available_numbers, 20)\n",
    "\n",
    "print(sorted(random_ints))\n",
    "print(len(random_ints))"
   ]
  },
  {
   "cell_type": "code",
   "execution_count": 64,
   "metadata": {},
   "outputs": [],
   "source": [
    "import pandas as pd\n",
    "import random\n",
    "\n",
    "col_to_include = ['problem', 'result', 'template_id', 'problem_id']\n",
    "\n",
    "df = dataset.to_pandas()\n",
    "\n",
    "df = df[col_to_include]\n",
    "\n",
    "filter_df = df[df['template_id'].isin(random_ints)]\n",
    "\n",
    "sampled_df = []\n",
    "\n",
    "for v, g in filter_df.groupby('template_id'):\n",
    "    sampled_group = g.sample(n=min(1, len(g)), random_state=72)\n",
    "    sampled_df.append(sampled_group)\n",
    "\n",
    "final_df = pd.concat(sampled_df, ignore_index=True)\n",
    "\n",
    "final_df.info\n",
    "\n",
    "final_df.to_json('gsm_evolved_20.jsonl', orient='records', lines=True)"
   ]
  },
  {
   "cell_type": "code",
   "execution_count": 62,
   "metadata": {},
   "outputs": [
    {
     "data": {
      "text/plain": [
       "template_id\n",
       "0     1\n",
       "4     1\n",
       "7     1\n",
       "11    1\n",
       "12    1\n",
       "13    1\n",
       "15    1\n",
       "24    1\n",
       "26    1\n",
       "27    1\n",
       "29    1\n",
       "31    1\n",
       "32    1\n",
       "33    1\n",
       "34    1\n",
       "38    1\n",
       "40    1\n",
       "44    1\n",
       "46    1\n",
       "48    1\n",
       "Name: count, dtype: int64"
      ]
     },
     "execution_count": 62,
     "metadata": {},
     "output_type": "execute_result"
    }
   ],
   "source": [
    "value_counts = final_df[\"template_id\"].value_counts()\n",
    "value_counts"
   ]
  }
 ],
 "metadata": {
  "kernelspec": {
   "display_name": "venv",
   "language": "python",
   "name": "python3"
  },
  "language_info": {
   "codemirror_mode": {
    "name": "ipython",
    "version": 3
   },
   "file_extension": ".py",
   "mimetype": "text/x-python",
   "name": "python",
   "nbconvert_exporter": "python",
   "pygments_lexer": "ipython3",
   "version": "3.9.13"
  }
 },
 "nbformat": 4,
 "nbformat_minor": 2
}
